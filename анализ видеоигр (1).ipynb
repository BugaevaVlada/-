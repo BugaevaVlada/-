{
 "cells": [
  {
   "cell_type": "markdown",
   "metadata": {},
   "source": [
    "Описание проекта\n",
    "Вы работаете в интернет-магазине «Стримчик», который продаёт по всему миру компьютерные игры. Из открытых источников доступны исторические данные о продажах игр, оценки пользователей и экспертов, жанры и платформы (например, Xbox или PlayStation). Вам нужно выявить определяющие успешность игры закономерности. Это позволит сделать ставку на потенциально популярный продукт и спланировать рекламные кампании.\n",
    "Перед вами данные до 2016 года. Представим, что сейчас декабрь 2016 г., и вы планируете кампанию на 2017-й. Нужно отработать принцип работы с данными. Неважно, прогнозируете ли вы продажи на 2017 год по данным 2016-го или же 2027-й — по данным 2026 года.\n",
    "В наборе данных попадается аббревиатура ESRB (Entertainment Software Rating Board) — это ассоциация, определяющая возрастной рейтинг компьютерных игр. ESRB оценивает игровой контент и присваивает ему подходящую возрастную категорию, например, «Для взрослых», «Для детей младшего возраста» или «Для подростков»."
   ]
  },
  {
   "cell_type": "markdown",
   "metadata": {},
   "source": [
    "Откроем файл и изучим информацию:"
   ]
  },
  {
   "cell_type": "code",
   "execution_count": 1,
   "metadata": {},
   "outputs": [
    {
     "name": "stdout",
     "output_type": "stream",
     "text": [
      "<class 'pandas.core.frame.DataFrame'>\n",
      "RangeIndex: 16715 entries, 0 to 16714\n",
      "Data columns (total 11 columns):\n",
      " #   Column           Non-Null Count  Dtype  \n",
      "---  ------           --------------  -----  \n",
      " 0   Name             16713 non-null  object \n",
      " 1   Platform         16715 non-null  object \n",
      " 2   Year_of_Release  16446 non-null  float64\n",
      " 3   Genre            16713 non-null  object \n",
      " 4   NA_sales         16715 non-null  float64\n",
      " 5   EU_sales         16715 non-null  float64\n",
      " 6   JP_sales         16715 non-null  float64\n",
      " 7   Other_sales      16715 non-null  float64\n",
      " 8   Critic_Score     8137 non-null   float64\n",
      " 9   User_Score       10014 non-null  object \n",
      " 10  Rating           9949 non-null   object \n",
      "dtypes: float64(6), object(5)\n",
      "memory usage: 1.4+ MB\n"
     ]
    }
   ],
   "source": [
    "import pandas as pd\n",
    "data=pd.read_csv('/datasets/games.csv')\n",
    "data.info()"
   ]
  },
  {
   "cell_type": "markdown",
   "metadata": {},
   "source": [
    "В данных много пропуском. Посмотрим их подробнее и выведим 10 строк"
   ]
  },
  {
   "cell_type": "code",
   "execution_count": 2,
   "metadata": {},
   "outputs": [
    {
     "data": {
      "text/html": [
       "<div>\n",
       "<style scoped>\n",
       "    .dataframe tbody tr th:only-of-type {\n",
       "        vertical-align: middle;\n",
       "    }\n",
       "\n",
       "    .dataframe tbody tr th {\n",
       "        vertical-align: top;\n",
       "    }\n",
       "\n",
       "    .dataframe thead th {\n",
       "        text-align: right;\n",
       "    }\n",
       "</style>\n",
       "<table border=\"1\" class=\"dataframe\">\n",
       "  <thead>\n",
       "    <tr style=\"text-align: right;\">\n",
       "      <th></th>\n",
       "      <th>Name</th>\n",
       "      <th>Platform</th>\n",
       "      <th>Year_of_Release</th>\n",
       "      <th>Genre</th>\n",
       "      <th>NA_sales</th>\n",
       "      <th>EU_sales</th>\n",
       "      <th>JP_sales</th>\n",
       "      <th>Other_sales</th>\n",
       "      <th>Critic_Score</th>\n",
       "      <th>User_Score</th>\n",
       "      <th>Rating</th>\n",
       "    </tr>\n",
       "  </thead>\n",
       "  <tbody>\n",
       "    <tr>\n",
       "      <th>0</th>\n",
       "      <td>Wii Sports</td>\n",
       "      <td>Wii</td>\n",
       "      <td>2006.0</td>\n",
       "      <td>Sports</td>\n",
       "      <td>41.36</td>\n",
       "      <td>28.96</td>\n",
       "      <td>3.77</td>\n",
       "      <td>8.45</td>\n",
       "      <td>76.0</td>\n",
       "      <td>8</td>\n",
       "      <td>E</td>\n",
       "    </tr>\n",
       "    <tr>\n",
       "      <th>1</th>\n",
       "      <td>Super Mario Bros.</td>\n",
       "      <td>NES</td>\n",
       "      <td>1985.0</td>\n",
       "      <td>Platform</td>\n",
       "      <td>29.08</td>\n",
       "      <td>3.58</td>\n",
       "      <td>6.81</td>\n",
       "      <td>0.77</td>\n",
       "      <td>NaN</td>\n",
       "      <td>NaN</td>\n",
       "      <td>NaN</td>\n",
       "    </tr>\n",
       "    <tr>\n",
       "      <th>2</th>\n",
       "      <td>Mario Kart Wii</td>\n",
       "      <td>Wii</td>\n",
       "      <td>2008.0</td>\n",
       "      <td>Racing</td>\n",
       "      <td>15.68</td>\n",
       "      <td>12.76</td>\n",
       "      <td>3.79</td>\n",
       "      <td>3.29</td>\n",
       "      <td>82.0</td>\n",
       "      <td>8.3</td>\n",
       "      <td>E</td>\n",
       "    </tr>\n",
       "    <tr>\n",
       "      <th>3</th>\n",
       "      <td>Wii Sports Resort</td>\n",
       "      <td>Wii</td>\n",
       "      <td>2009.0</td>\n",
       "      <td>Sports</td>\n",
       "      <td>15.61</td>\n",
       "      <td>10.93</td>\n",
       "      <td>3.28</td>\n",
       "      <td>2.95</td>\n",
       "      <td>80.0</td>\n",
       "      <td>8</td>\n",
       "      <td>E</td>\n",
       "    </tr>\n",
       "    <tr>\n",
       "      <th>4</th>\n",
       "      <td>Pokemon Red/Pokemon Blue</td>\n",
       "      <td>GB</td>\n",
       "      <td>1996.0</td>\n",
       "      <td>Role-Playing</td>\n",
       "      <td>11.27</td>\n",
       "      <td>8.89</td>\n",
       "      <td>10.22</td>\n",
       "      <td>1.00</td>\n",
       "      <td>NaN</td>\n",
       "      <td>NaN</td>\n",
       "      <td>NaN</td>\n",
       "    </tr>\n",
       "    <tr>\n",
       "      <th>5</th>\n",
       "      <td>Tetris</td>\n",
       "      <td>GB</td>\n",
       "      <td>1989.0</td>\n",
       "      <td>Puzzle</td>\n",
       "      <td>23.20</td>\n",
       "      <td>2.26</td>\n",
       "      <td>4.22</td>\n",
       "      <td>0.58</td>\n",
       "      <td>NaN</td>\n",
       "      <td>NaN</td>\n",
       "      <td>NaN</td>\n",
       "    </tr>\n",
       "    <tr>\n",
       "      <th>6</th>\n",
       "      <td>New Super Mario Bros.</td>\n",
       "      <td>DS</td>\n",
       "      <td>2006.0</td>\n",
       "      <td>Platform</td>\n",
       "      <td>11.28</td>\n",
       "      <td>9.14</td>\n",
       "      <td>6.50</td>\n",
       "      <td>2.88</td>\n",
       "      <td>89.0</td>\n",
       "      <td>8.5</td>\n",
       "      <td>E</td>\n",
       "    </tr>\n",
       "    <tr>\n",
       "      <th>7</th>\n",
       "      <td>Wii Play</td>\n",
       "      <td>Wii</td>\n",
       "      <td>2006.0</td>\n",
       "      <td>Misc</td>\n",
       "      <td>13.96</td>\n",
       "      <td>9.18</td>\n",
       "      <td>2.93</td>\n",
       "      <td>2.84</td>\n",
       "      <td>58.0</td>\n",
       "      <td>6.6</td>\n",
       "      <td>E</td>\n",
       "    </tr>\n",
       "    <tr>\n",
       "      <th>8</th>\n",
       "      <td>New Super Mario Bros. Wii</td>\n",
       "      <td>Wii</td>\n",
       "      <td>2009.0</td>\n",
       "      <td>Platform</td>\n",
       "      <td>14.44</td>\n",
       "      <td>6.94</td>\n",
       "      <td>4.70</td>\n",
       "      <td>2.24</td>\n",
       "      <td>87.0</td>\n",
       "      <td>8.4</td>\n",
       "      <td>E</td>\n",
       "    </tr>\n",
       "    <tr>\n",
       "      <th>9</th>\n",
       "      <td>Duck Hunt</td>\n",
       "      <td>NES</td>\n",
       "      <td>1984.0</td>\n",
       "      <td>Shooter</td>\n",
       "      <td>26.93</td>\n",
       "      <td>0.63</td>\n",
       "      <td>0.28</td>\n",
       "      <td>0.47</td>\n",
       "      <td>NaN</td>\n",
       "      <td>NaN</td>\n",
       "      <td>NaN</td>\n",
       "    </tr>\n",
       "    <tr>\n",
       "      <th>10</th>\n",
       "      <td>Nintendogs</td>\n",
       "      <td>DS</td>\n",
       "      <td>2005.0</td>\n",
       "      <td>Simulation</td>\n",
       "      <td>9.05</td>\n",
       "      <td>10.95</td>\n",
       "      <td>1.93</td>\n",
       "      <td>2.74</td>\n",
       "      <td>NaN</td>\n",
       "      <td>NaN</td>\n",
       "      <td>NaN</td>\n",
       "    </tr>\n",
       "    <tr>\n",
       "      <th>11</th>\n",
       "      <td>Mario Kart DS</td>\n",
       "      <td>DS</td>\n",
       "      <td>2005.0</td>\n",
       "      <td>Racing</td>\n",
       "      <td>9.71</td>\n",
       "      <td>7.47</td>\n",
       "      <td>4.13</td>\n",
       "      <td>1.90</td>\n",
       "      <td>91.0</td>\n",
       "      <td>8.6</td>\n",
       "      <td>E</td>\n",
       "    </tr>\n",
       "    <tr>\n",
       "      <th>12</th>\n",
       "      <td>Pokemon Gold/Pokemon Silver</td>\n",
       "      <td>GB</td>\n",
       "      <td>1999.0</td>\n",
       "      <td>Role-Playing</td>\n",
       "      <td>9.00</td>\n",
       "      <td>6.18</td>\n",
       "      <td>7.20</td>\n",
       "      <td>0.71</td>\n",
       "      <td>NaN</td>\n",
       "      <td>NaN</td>\n",
       "      <td>NaN</td>\n",
       "    </tr>\n",
       "    <tr>\n",
       "      <th>13</th>\n",
       "      <td>Wii Fit</td>\n",
       "      <td>Wii</td>\n",
       "      <td>2007.0</td>\n",
       "      <td>Sports</td>\n",
       "      <td>8.92</td>\n",
       "      <td>8.03</td>\n",
       "      <td>3.60</td>\n",
       "      <td>2.15</td>\n",
       "      <td>80.0</td>\n",
       "      <td>7.7</td>\n",
       "      <td>E</td>\n",
       "    </tr>\n",
       "    <tr>\n",
       "      <th>14</th>\n",
       "      <td>Kinect Adventures!</td>\n",
       "      <td>X360</td>\n",
       "      <td>2010.0</td>\n",
       "      <td>Misc</td>\n",
       "      <td>15.00</td>\n",
       "      <td>4.89</td>\n",
       "      <td>0.24</td>\n",
       "      <td>1.69</td>\n",
       "      <td>61.0</td>\n",
       "      <td>6.3</td>\n",
       "      <td>E</td>\n",
       "    </tr>\n",
       "    <tr>\n",
       "      <th>15</th>\n",
       "      <td>Wii Fit Plus</td>\n",
       "      <td>Wii</td>\n",
       "      <td>2009.0</td>\n",
       "      <td>Sports</td>\n",
       "      <td>9.01</td>\n",
       "      <td>8.49</td>\n",
       "      <td>2.53</td>\n",
       "      <td>1.77</td>\n",
       "      <td>80.0</td>\n",
       "      <td>7.4</td>\n",
       "      <td>E</td>\n",
       "    </tr>\n",
       "    <tr>\n",
       "      <th>16</th>\n",
       "      <td>Grand Theft Auto V</td>\n",
       "      <td>PS3</td>\n",
       "      <td>2013.0</td>\n",
       "      <td>Action</td>\n",
       "      <td>7.02</td>\n",
       "      <td>9.09</td>\n",
       "      <td>0.98</td>\n",
       "      <td>3.96</td>\n",
       "      <td>97.0</td>\n",
       "      <td>8.2</td>\n",
       "      <td>M</td>\n",
       "    </tr>\n",
       "    <tr>\n",
       "      <th>17</th>\n",
       "      <td>Grand Theft Auto: San Andreas</td>\n",
       "      <td>PS2</td>\n",
       "      <td>2004.0</td>\n",
       "      <td>Action</td>\n",
       "      <td>9.43</td>\n",
       "      <td>0.40</td>\n",
       "      <td>0.41</td>\n",
       "      <td>10.57</td>\n",
       "      <td>95.0</td>\n",
       "      <td>9</td>\n",
       "      <td>M</td>\n",
       "    </tr>\n",
       "    <tr>\n",
       "      <th>18</th>\n",
       "      <td>Super Mario World</td>\n",
       "      <td>SNES</td>\n",
       "      <td>1990.0</td>\n",
       "      <td>Platform</td>\n",
       "      <td>12.78</td>\n",
       "      <td>3.75</td>\n",
       "      <td>3.54</td>\n",
       "      <td>0.55</td>\n",
       "      <td>NaN</td>\n",
       "      <td>NaN</td>\n",
       "      <td>NaN</td>\n",
       "    </tr>\n",
       "    <tr>\n",
       "      <th>19</th>\n",
       "      <td>Brain Age: Train Your Brain in Minutes a Day</td>\n",
       "      <td>DS</td>\n",
       "      <td>2005.0</td>\n",
       "      <td>Misc</td>\n",
       "      <td>4.74</td>\n",
       "      <td>9.20</td>\n",
       "      <td>4.16</td>\n",
       "      <td>2.04</td>\n",
       "      <td>77.0</td>\n",
       "      <td>7.9</td>\n",
       "      <td>E</td>\n",
       "    </tr>\n",
       "    <tr>\n",
       "      <th>20</th>\n",
       "      <td>Pokemon Diamond/Pokemon Pearl</td>\n",
       "      <td>DS</td>\n",
       "      <td>2006.0</td>\n",
       "      <td>Role-Playing</td>\n",
       "      <td>6.38</td>\n",
       "      <td>4.46</td>\n",
       "      <td>6.04</td>\n",
       "      <td>1.36</td>\n",
       "      <td>NaN</td>\n",
       "      <td>NaN</td>\n",
       "      <td>NaN</td>\n",
       "    </tr>\n",
       "    <tr>\n",
       "      <th>21</th>\n",
       "      <td>Super Mario Land</td>\n",
       "      <td>GB</td>\n",
       "      <td>1989.0</td>\n",
       "      <td>Platform</td>\n",
       "      <td>10.83</td>\n",
       "      <td>2.71</td>\n",
       "      <td>4.18</td>\n",
       "      <td>0.42</td>\n",
       "      <td>NaN</td>\n",
       "      <td>NaN</td>\n",
       "      <td>NaN</td>\n",
       "    </tr>\n",
       "    <tr>\n",
       "      <th>22</th>\n",
       "      <td>Super Mario Bros. 3</td>\n",
       "      <td>NES</td>\n",
       "      <td>1988.0</td>\n",
       "      <td>Platform</td>\n",
       "      <td>9.54</td>\n",
       "      <td>3.44</td>\n",
       "      <td>3.84</td>\n",
       "      <td>0.46</td>\n",
       "      <td>NaN</td>\n",
       "      <td>NaN</td>\n",
       "      <td>NaN</td>\n",
       "    </tr>\n",
       "    <tr>\n",
       "      <th>23</th>\n",
       "      <td>Grand Theft Auto V</td>\n",
       "      <td>X360</td>\n",
       "      <td>2013.0</td>\n",
       "      <td>Action</td>\n",
       "      <td>9.66</td>\n",
       "      <td>5.14</td>\n",
       "      <td>0.06</td>\n",
       "      <td>1.41</td>\n",
       "      <td>97.0</td>\n",
       "      <td>8.1</td>\n",
       "      <td>M</td>\n",
       "    </tr>\n",
       "    <tr>\n",
       "      <th>24</th>\n",
       "      <td>Grand Theft Auto: Vice City</td>\n",
       "      <td>PS2</td>\n",
       "      <td>2002.0</td>\n",
       "      <td>Action</td>\n",
       "      <td>8.41</td>\n",
       "      <td>5.49</td>\n",
       "      <td>0.47</td>\n",
       "      <td>1.78</td>\n",
       "      <td>95.0</td>\n",
       "      <td>8.7</td>\n",
       "      <td>M</td>\n",
       "    </tr>\n",
       "    <tr>\n",
       "      <th>25</th>\n",
       "      <td>Pokemon Ruby/Pokemon Sapphire</td>\n",
       "      <td>GBA</td>\n",
       "      <td>2002.0</td>\n",
       "      <td>Role-Playing</td>\n",
       "      <td>6.06</td>\n",
       "      <td>3.90</td>\n",
       "      <td>5.38</td>\n",
       "      <td>0.50</td>\n",
       "      <td>NaN</td>\n",
       "      <td>NaN</td>\n",
       "      <td>NaN</td>\n",
       "    </tr>\n",
       "    <tr>\n",
       "      <th>26</th>\n",
       "      <td>Brain Age 2: More Training in Minutes a Day</td>\n",
       "      <td>DS</td>\n",
       "      <td>2005.0</td>\n",
       "      <td>Puzzle</td>\n",
       "      <td>3.43</td>\n",
       "      <td>5.35</td>\n",
       "      <td>5.32</td>\n",
       "      <td>1.18</td>\n",
       "      <td>77.0</td>\n",
       "      <td>7.1</td>\n",
       "      <td>E</td>\n",
       "    </tr>\n",
       "    <tr>\n",
       "      <th>27</th>\n",
       "      <td>Pokemon Black/Pokemon White</td>\n",
       "      <td>DS</td>\n",
       "      <td>2010.0</td>\n",
       "      <td>Role-Playing</td>\n",
       "      <td>5.51</td>\n",
       "      <td>3.17</td>\n",
       "      <td>5.65</td>\n",
       "      <td>0.80</td>\n",
       "      <td>NaN</td>\n",
       "      <td>NaN</td>\n",
       "      <td>NaN</td>\n",
       "    </tr>\n",
       "    <tr>\n",
       "      <th>28</th>\n",
       "      <td>Gran Turismo 3: A-Spec</td>\n",
       "      <td>PS2</td>\n",
       "      <td>2001.0</td>\n",
       "      <td>Racing</td>\n",
       "      <td>6.85</td>\n",
       "      <td>5.09</td>\n",
       "      <td>1.87</td>\n",
       "      <td>1.16</td>\n",
       "      <td>95.0</td>\n",
       "      <td>8.4</td>\n",
       "      <td>E</td>\n",
       "    </tr>\n",
       "    <tr>\n",
       "      <th>29</th>\n",
       "      <td>Call of Duty: Modern Warfare 3</td>\n",
       "      <td>X360</td>\n",
       "      <td>2011.0</td>\n",
       "      <td>Shooter</td>\n",
       "      <td>9.04</td>\n",
       "      <td>4.24</td>\n",
       "      <td>0.13</td>\n",
       "      <td>1.32</td>\n",
       "      <td>88.0</td>\n",
       "      <td>3.4</td>\n",
       "      <td>M</td>\n",
       "    </tr>\n",
       "    <tr>\n",
       "      <th>30</th>\n",
       "      <td>Pokémon Yellow: Special Pikachu Edition</td>\n",
       "      <td>GB</td>\n",
       "      <td>1998.0</td>\n",
       "      <td>Role-Playing</td>\n",
       "      <td>5.89</td>\n",
       "      <td>5.04</td>\n",
       "      <td>3.12</td>\n",
       "      <td>0.59</td>\n",
       "      <td>NaN</td>\n",
       "      <td>NaN</td>\n",
       "      <td>NaN</td>\n",
       "    </tr>\n",
       "    <tr>\n",
       "      <th>31</th>\n",
       "      <td>Call of Duty: Black Ops 3</td>\n",
       "      <td>PS4</td>\n",
       "      <td>2015.0</td>\n",
       "      <td>Shooter</td>\n",
       "      <td>6.03</td>\n",
       "      <td>5.86</td>\n",
       "      <td>0.36</td>\n",
       "      <td>2.38</td>\n",
       "      <td>NaN</td>\n",
       "      <td>NaN</td>\n",
       "      <td>NaN</td>\n",
       "    </tr>\n",
       "    <tr>\n",
       "      <th>32</th>\n",
       "      <td>Call of Duty: Black Ops</td>\n",
       "      <td>X360</td>\n",
       "      <td>2010.0</td>\n",
       "      <td>Shooter</td>\n",
       "      <td>9.70</td>\n",
       "      <td>3.68</td>\n",
       "      <td>0.11</td>\n",
       "      <td>1.13</td>\n",
       "      <td>87.0</td>\n",
       "      <td>6.3</td>\n",
       "      <td>M</td>\n",
       "    </tr>\n",
       "    <tr>\n",
       "      <th>33</th>\n",
       "      <td>Pokemon X/Pokemon Y</td>\n",
       "      <td>3DS</td>\n",
       "      <td>2013.0</td>\n",
       "      <td>Role-Playing</td>\n",
       "      <td>5.28</td>\n",
       "      <td>4.19</td>\n",
       "      <td>4.35</td>\n",
       "      <td>0.78</td>\n",
       "      <td>NaN</td>\n",
       "      <td>NaN</td>\n",
       "      <td>NaN</td>\n",
       "    </tr>\n",
       "    <tr>\n",
       "      <th>34</th>\n",
       "      <td>Call of Duty: Black Ops II</td>\n",
       "      <td>PS3</td>\n",
       "      <td>2012.0</td>\n",
       "      <td>Shooter</td>\n",
       "      <td>4.99</td>\n",
       "      <td>5.73</td>\n",
       "      <td>0.65</td>\n",
       "      <td>2.42</td>\n",
       "      <td>83.0</td>\n",
       "      <td>5.3</td>\n",
       "      <td>M</td>\n",
       "    </tr>\n",
       "    <tr>\n",
       "      <th>35</th>\n",
       "      <td>Call of Duty: Black Ops II</td>\n",
       "      <td>X360</td>\n",
       "      <td>2012.0</td>\n",
       "      <td>Shooter</td>\n",
       "      <td>8.25</td>\n",
       "      <td>4.24</td>\n",
       "      <td>0.07</td>\n",
       "      <td>1.12</td>\n",
       "      <td>83.0</td>\n",
       "      <td>4.8</td>\n",
       "      <td>M</td>\n",
       "    </tr>\n",
       "    <tr>\n",
       "      <th>36</th>\n",
       "      <td>Call of Duty: Modern Warfare 2</td>\n",
       "      <td>X360</td>\n",
       "      <td>2009.0</td>\n",
       "      <td>Shooter</td>\n",
       "      <td>8.52</td>\n",
       "      <td>3.59</td>\n",
       "      <td>0.08</td>\n",
       "      <td>1.28</td>\n",
       "      <td>94.0</td>\n",
       "      <td>6.3</td>\n",
       "      <td>M</td>\n",
       "    </tr>\n",
       "    <tr>\n",
       "      <th>37</th>\n",
       "      <td>Call of Duty: Modern Warfare 3</td>\n",
       "      <td>PS3</td>\n",
       "      <td>2011.0</td>\n",
       "      <td>Shooter</td>\n",
       "      <td>5.54</td>\n",
       "      <td>5.73</td>\n",
       "      <td>0.49</td>\n",
       "      <td>1.57</td>\n",
       "      <td>88.0</td>\n",
       "      <td>3.2</td>\n",
       "      <td>M</td>\n",
       "    </tr>\n",
       "    <tr>\n",
       "      <th>38</th>\n",
       "      <td>Grand Theft Auto III</td>\n",
       "      <td>PS2</td>\n",
       "      <td>2001.0</td>\n",
       "      <td>Action</td>\n",
       "      <td>6.99</td>\n",
       "      <td>4.51</td>\n",
       "      <td>0.30</td>\n",
       "      <td>1.30</td>\n",
       "      <td>97.0</td>\n",
       "      <td>8.5</td>\n",
       "      <td>M</td>\n",
       "    </tr>\n",
       "    <tr>\n",
       "      <th>39</th>\n",
       "      <td>Super Smash Bros. Brawl</td>\n",
       "      <td>Wii</td>\n",
       "      <td>2008.0</td>\n",
       "      <td>Fighting</td>\n",
       "      <td>6.62</td>\n",
       "      <td>2.55</td>\n",
       "      <td>2.66</td>\n",
       "      <td>1.01</td>\n",
       "      <td>93.0</td>\n",
       "      <td>8.9</td>\n",
       "      <td>T</td>\n",
       "    </tr>\n",
       "    <tr>\n",
       "      <th>40</th>\n",
       "      <td>Mario Kart 7</td>\n",
       "      <td>3DS</td>\n",
       "      <td>2011.0</td>\n",
       "      <td>Racing</td>\n",
       "      <td>5.03</td>\n",
       "      <td>4.02</td>\n",
       "      <td>2.69</td>\n",
       "      <td>0.91</td>\n",
       "      <td>85.0</td>\n",
       "      <td>8.2</td>\n",
       "      <td>E</td>\n",
       "    </tr>\n",
       "    <tr>\n",
       "      <th>41</th>\n",
       "      <td>Call of Duty: Black Ops</td>\n",
       "      <td>PS3</td>\n",
       "      <td>2010.0</td>\n",
       "      <td>Shooter</td>\n",
       "      <td>5.99</td>\n",
       "      <td>4.37</td>\n",
       "      <td>0.48</td>\n",
       "      <td>1.79</td>\n",
       "      <td>88.0</td>\n",
       "      <td>6.4</td>\n",
       "      <td>M</td>\n",
       "    </tr>\n",
       "    <tr>\n",
       "      <th>42</th>\n",
       "      <td>Grand Theft Auto V</td>\n",
       "      <td>PS4</td>\n",
       "      <td>2014.0</td>\n",
       "      <td>Action</td>\n",
       "      <td>3.96</td>\n",
       "      <td>6.31</td>\n",
       "      <td>0.38</td>\n",
       "      <td>1.97</td>\n",
       "      <td>97.0</td>\n",
       "      <td>8.3</td>\n",
       "      <td>M</td>\n",
       "    </tr>\n",
       "    <tr>\n",
       "      <th>43</th>\n",
       "      <td>Animal Crossing: Wild World</td>\n",
       "      <td>DS</td>\n",
       "      <td>2005.0</td>\n",
       "      <td>Simulation</td>\n",
       "      <td>2.50</td>\n",
       "      <td>3.45</td>\n",
       "      <td>5.33</td>\n",
       "      <td>0.86</td>\n",
       "      <td>86.0</td>\n",
       "      <td>8.7</td>\n",
       "      <td>E</td>\n",
       "    </tr>\n",
       "    <tr>\n",
       "      <th>44</th>\n",
       "      <td>Halo 3</td>\n",
       "      <td>X360</td>\n",
       "      <td>2007.0</td>\n",
       "      <td>Shooter</td>\n",
       "      <td>7.97</td>\n",
       "      <td>2.81</td>\n",
       "      <td>0.13</td>\n",
       "      <td>1.21</td>\n",
       "      <td>94.0</td>\n",
       "      <td>7.8</td>\n",
       "      <td>M</td>\n",
       "    </tr>\n",
       "    <tr>\n",
       "      <th>45</th>\n",
       "      <td>Super Mario 64</td>\n",
       "      <td>N64</td>\n",
       "      <td>1996.0</td>\n",
       "      <td>Platform</td>\n",
       "      <td>6.91</td>\n",
       "      <td>2.85</td>\n",
       "      <td>1.91</td>\n",
       "      <td>0.23</td>\n",
       "      <td>NaN</td>\n",
       "      <td>NaN</td>\n",
       "      <td>NaN</td>\n",
       "    </tr>\n",
       "    <tr>\n",
       "      <th>46</th>\n",
       "      <td>Pokemon HeartGold/Pokemon SoulSilver</td>\n",
       "      <td>DS</td>\n",
       "      <td>2009.0</td>\n",
       "      <td>Action</td>\n",
       "      <td>4.34</td>\n",
       "      <td>2.71</td>\n",
       "      <td>3.96</td>\n",
       "      <td>0.76</td>\n",
       "      <td>NaN</td>\n",
       "      <td>NaN</td>\n",
       "      <td>NaN</td>\n",
       "    </tr>\n",
       "    <tr>\n",
       "      <th>47</th>\n",
       "      <td>Pokemon Omega Ruby/Pokemon Alpha Sapphire</td>\n",
       "      <td>3DS</td>\n",
       "      <td>2014.0</td>\n",
       "      <td>Role-Playing</td>\n",
       "      <td>4.35</td>\n",
       "      <td>3.49</td>\n",
       "      <td>3.10</td>\n",
       "      <td>0.74</td>\n",
       "      <td>NaN</td>\n",
       "      <td>NaN</td>\n",
       "      <td>NaN</td>\n",
       "    </tr>\n",
       "    <tr>\n",
       "      <th>48</th>\n",
       "      <td>Gran Turismo 4</td>\n",
       "      <td>PS2</td>\n",
       "      <td>2004.0</td>\n",
       "      <td>Racing</td>\n",
       "      <td>3.01</td>\n",
       "      <td>0.01</td>\n",
       "      <td>1.10</td>\n",
       "      <td>7.53</td>\n",
       "      <td>89.0</td>\n",
       "      <td>8.5</td>\n",
       "      <td>E</td>\n",
       "    </tr>\n",
       "    <tr>\n",
       "      <th>49</th>\n",
       "      <td>Super Mario Galaxy</td>\n",
       "      <td>Wii</td>\n",
       "      <td>2007.0</td>\n",
       "      <td>Platform</td>\n",
       "      <td>6.06</td>\n",
       "      <td>3.35</td>\n",
       "      <td>1.20</td>\n",
       "      <td>0.74</td>\n",
       "      <td>97.0</td>\n",
       "      <td>8.9</td>\n",
       "      <td>E</td>\n",
       "    </tr>\n",
       "  </tbody>\n",
       "</table>\n",
       "</div>"
      ],
      "text/plain": [
       "                                            Name Platform  Year_of_Release  \\\n",
       "0                                     Wii Sports      Wii           2006.0   \n",
       "1                              Super Mario Bros.      NES           1985.0   \n",
       "2                                 Mario Kart Wii      Wii           2008.0   \n",
       "3                              Wii Sports Resort      Wii           2009.0   \n",
       "4                       Pokemon Red/Pokemon Blue       GB           1996.0   \n",
       "5                                         Tetris       GB           1989.0   \n",
       "6                          New Super Mario Bros.       DS           2006.0   \n",
       "7                                       Wii Play      Wii           2006.0   \n",
       "8                      New Super Mario Bros. Wii      Wii           2009.0   \n",
       "9                                      Duck Hunt      NES           1984.0   \n",
       "10                                    Nintendogs       DS           2005.0   \n",
       "11                                 Mario Kart DS       DS           2005.0   \n",
       "12                   Pokemon Gold/Pokemon Silver       GB           1999.0   \n",
       "13                                       Wii Fit      Wii           2007.0   \n",
       "14                            Kinect Adventures!     X360           2010.0   \n",
       "15                                  Wii Fit Plus      Wii           2009.0   \n",
       "16                            Grand Theft Auto V      PS3           2013.0   \n",
       "17                 Grand Theft Auto: San Andreas      PS2           2004.0   \n",
       "18                             Super Mario World     SNES           1990.0   \n",
       "19  Brain Age: Train Your Brain in Minutes a Day       DS           2005.0   \n",
       "20                 Pokemon Diamond/Pokemon Pearl       DS           2006.0   \n",
       "21                              Super Mario Land       GB           1989.0   \n",
       "22                           Super Mario Bros. 3      NES           1988.0   \n",
       "23                            Grand Theft Auto V     X360           2013.0   \n",
       "24                   Grand Theft Auto: Vice City      PS2           2002.0   \n",
       "25                 Pokemon Ruby/Pokemon Sapphire      GBA           2002.0   \n",
       "26   Brain Age 2: More Training in Minutes a Day       DS           2005.0   \n",
       "27                   Pokemon Black/Pokemon White       DS           2010.0   \n",
       "28                        Gran Turismo 3: A-Spec      PS2           2001.0   \n",
       "29                Call of Duty: Modern Warfare 3     X360           2011.0   \n",
       "30       Pokémon Yellow: Special Pikachu Edition       GB           1998.0   \n",
       "31                     Call of Duty: Black Ops 3      PS4           2015.0   \n",
       "32                       Call of Duty: Black Ops     X360           2010.0   \n",
       "33                           Pokemon X/Pokemon Y      3DS           2013.0   \n",
       "34                    Call of Duty: Black Ops II      PS3           2012.0   \n",
       "35                    Call of Duty: Black Ops II     X360           2012.0   \n",
       "36                Call of Duty: Modern Warfare 2     X360           2009.0   \n",
       "37                Call of Duty: Modern Warfare 3      PS3           2011.0   \n",
       "38                          Grand Theft Auto III      PS2           2001.0   \n",
       "39                       Super Smash Bros. Brawl      Wii           2008.0   \n",
       "40                                  Mario Kart 7      3DS           2011.0   \n",
       "41                       Call of Duty: Black Ops      PS3           2010.0   \n",
       "42                            Grand Theft Auto V      PS4           2014.0   \n",
       "43                   Animal Crossing: Wild World       DS           2005.0   \n",
       "44                                        Halo 3     X360           2007.0   \n",
       "45                                Super Mario 64      N64           1996.0   \n",
       "46          Pokemon HeartGold/Pokemon SoulSilver       DS           2009.0   \n",
       "47     Pokemon Omega Ruby/Pokemon Alpha Sapphire      3DS           2014.0   \n",
       "48                                Gran Turismo 4      PS2           2004.0   \n",
       "49                            Super Mario Galaxy      Wii           2007.0   \n",
       "\n",
       "           Genre  NA_sales  EU_sales  JP_sales  Other_sales  Critic_Score  \\\n",
       "0         Sports     41.36     28.96      3.77         8.45          76.0   \n",
       "1       Platform     29.08      3.58      6.81         0.77           NaN   \n",
       "2         Racing     15.68     12.76      3.79         3.29          82.0   \n",
       "3         Sports     15.61     10.93      3.28         2.95          80.0   \n",
       "4   Role-Playing     11.27      8.89     10.22         1.00           NaN   \n",
       "5         Puzzle     23.20      2.26      4.22         0.58           NaN   \n",
       "6       Platform     11.28      9.14      6.50         2.88          89.0   \n",
       "7           Misc     13.96      9.18      2.93         2.84          58.0   \n",
       "8       Platform     14.44      6.94      4.70         2.24          87.0   \n",
       "9        Shooter     26.93      0.63      0.28         0.47           NaN   \n",
       "10    Simulation      9.05     10.95      1.93         2.74           NaN   \n",
       "11        Racing      9.71      7.47      4.13         1.90          91.0   \n",
       "12  Role-Playing      9.00      6.18      7.20         0.71           NaN   \n",
       "13        Sports      8.92      8.03      3.60         2.15          80.0   \n",
       "14          Misc     15.00      4.89      0.24         1.69          61.0   \n",
       "15        Sports      9.01      8.49      2.53         1.77          80.0   \n",
       "16        Action      7.02      9.09      0.98         3.96          97.0   \n",
       "17        Action      9.43      0.40      0.41        10.57          95.0   \n",
       "18      Platform     12.78      3.75      3.54         0.55           NaN   \n",
       "19          Misc      4.74      9.20      4.16         2.04          77.0   \n",
       "20  Role-Playing      6.38      4.46      6.04         1.36           NaN   \n",
       "21      Platform     10.83      2.71      4.18         0.42           NaN   \n",
       "22      Platform      9.54      3.44      3.84         0.46           NaN   \n",
       "23        Action      9.66      5.14      0.06         1.41          97.0   \n",
       "24        Action      8.41      5.49      0.47         1.78          95.0   \n",
       "25  Role-Playing      6.06      3.90      5.38         0.50           NaN   \n",
       "26        Puzzle      3.43      5.35      5.32         1.18          77.0   \n",
       "27  Role-Playing      5.51      3.17      5.65         0.80           NaN   \n",
       "28        Racing      6.85      5.09      1.87         1.16          95.0   \n",
       "29       Shooter      9.04      4.24      0.13         1.32          88.0   \n",
       "30  Role-Playing      5.89      5.04      3.12         0.59           NaN   \n",
       "31       Shooter      6.03      5.86      0.36         2.38           NaN   \n",
       "32       Shooter      9.70      3.68      0.11         1.13          87.0   \n",
       "33  Role-Playing      5.28      4.19      4.35         0.78           NaN   \n",
       "34       Shooter      4.99      5.73      0.65         2.42          83.0   \n",
       "35       Shooter      8.25      4.24      0.07         1.12          83.0   \n",
       "36       Shooter      8.52      3.59      0.08         1.28          94.0   \n",
       "37       Shooter      5.54      5.73      0.49         1.57          88.0   \n",
       "38        Action      6.99      4.51      0.30         1.30          97.0   \n",
       "39      Fighting      6.62      2.55      2.66         1.01          93.0   \n",
       "40        Racing      5.03      4.02      2.69         0.91          85.0   \n",
       "41       Shooter      5.99      4.37      0.48         1.79          88.0   \n",
       "42        Action      3.96      6.31      0.38         1.97          97.0   \n",
       "43    Simulation      2.50      3.45      5.33         0.86          86.0   \n",
       "44       Shooter      7.97      2.81      0.13         1.21          94.0   \n",
       "45      Platform      6.91      2.85      1.91         0.23           NaN   \n",
       "46        Action      4.34      2.71      3.96         0.76           NaN   \n",
       "47  Role-Playing      4.35      3.49      3.10         0.74           NaN   \n",
       "48        Racing      3.01      0.01      1.10         7.53          89.0   \n",
       "49      Platform      6.06      3.35      1.20         0.74          97.0   \n",
       "\n",
       "   User_Score Rating  \n",
       "0           8      E  \n",
       "1         NaN    NaN  \n",
       "2         8.3      E  \n",
       "3           8      E  \n",
       "4         NaN    NaN  \n",
       "5         NaN    NaN  \n",
       "6         8.5      E  \n",
       "7         6.6      E  \n",
       "8         8.4      E  \n",
       "9         NaN    NaN  \n",
       "10        NaN    NaN  \n",
       "11        8.6      E  \n",
       "12        NaN    NaN  \n",
       "13        7.7      E  \n",
       "14        6.3      E  \n",
       "15        7.4      E  \n",
       "16        8.2      M  \n",
       "17          9      M  \n",
       "18        NaN    NaN  \n",
       "19        7.9      E  \n",
       "20        NaN    NaN  \n",
       "21        NaN    NaN  \n",
       "22        NaN    NaN  \n",
       "23        8.1      M  \n",
       "24        8.7      M  \n",
       "25        NaN    NaN  \n",
       "26        7.1      E  \n",
       "27        NaN    NaN  \n",
       "28        8.4      E  \n",
       "29        3.4      M  \n",
       "30        NaN    NaN  \n",
       "31        NaN    NaN  \n",
       "32        6.3      M  \n",
       "33        NaN    NaN  \n",
       "34        5.3      M  \n",
       "35        4.8      M  \n",
       "36        6.3      M  \n",
       "37        3.2      M  \n",
       "38        8.5      M  \n",
       "39        8.9      T  \n",
       "40        8.2      E  \n",
       "41        6.4      M  \n",
       "42        8.3      M  \n",
       "43        8.7      E  \n",
       "44        7.8      M  \n",
       "45        NaN    NaN  \n",
       "46        NaN    NaN  \n",
       "47        NaN    NaN  \n",
       "48        8.5      E  \n",
       "49        8.9      E  "
      ]
     },
     "execution_count": 2,
     "metadata": {},
     "output_type": "execute_result"
    }
   ],
   "source": [
    "data.head(50)"
   ]
  },
  {
   "cell_type": "markdown",
   "metadata": {},
   "source": [
    "# Шаг 2. Подготовка данных"
   ]
  },
  {
   "cell_type": "markdown",
   "metadata": {},
   "source": [
    "Для удобства заменим названния - приведем к одному единому виду и проверим:"
   ]
  },
  {
   "cell_type": "code",
   "execution_count": 3,
   "metadata": {},
   "outputs": [],
   "source": [
    "data.columns = data.columns.str.lower()"
   ]
  },
  {
   "cell_type": "code",
   "execution_count": 4,
   "metadata": {},
   "outputs": [
    {
     "data": {
      "text/html": [
       "<div>\n",
       "<style scoped>\n",
       "    .dataframe tbody tr th:only-of-type {\n",
       "        vertical-align: middle;\n",
       "    }\n",
       "\n",
       "    .dataframe tbody tr th {\n",
       "        vertical-align: top;\n",
       "    }\n",
       "\n",
       "    .dataframe thead th {\n",
       "        text-align: right;\n",
       "    }\n",
       "</style>\n",
       "<table border=\"1\" class=\"dataframe\">\n",
       "  <thead>\n",
       "    <tr style=\"text-align: right;\">\n",
       "      <th></th>\n",
       "      <th>name</th>\n",
       "      <th>platform</th>\n",
       "      <th>year_of_release</th>\n",
       "      <th>genre</th>\n",
       "      <th>na_sales</th>\n",
       "      <th>eu_sales</th>\n",
       "      <th>jp_sales</th>\n",
       "      <th>other_sales</th>\n",
       "      <th>critic_score</th>\n",
       "      <th>user_score</th>\n",
       "      <th>rating</th>\n",
       "    </tr>\n",
       "  </thead>\n",
       "  <tbody>\n",
       "    <tr>\n",
       "      <th>0</th>\n",
       "      <td>Wii Sports</td>\n",
       "      <td>Wii</td>\n",
       "      <td>2006.0</td>\n",
       "      <td>Sports</td>\n",
       "      <td>41.36</td>\n",
       "      <td>28.96</td>\n",
       "      <td>3.77</td>\n",
       "      <td>8.45</td>\n",
       "      <td>76.0</td>\n",
       "      <td>8</td>\n",
       "      <td>E</td>\n",
       "    </tr>\n",
       "    <tr>\n",
       "      <th>1</th>\n",
       "      <td>Super Mario Bros.</td>\n",
       "      <td>NES</td>\n",
       "      <td>1985.0</td>\n",
       "      <td>Platform</td>\n",
       "      <td>29.08</td>\n",
       "      <td>3.58</td>\n",
       "      <td>6.81</td>\n",
       "      <td>0.77</td>\n",
       "      <td>NaN</td>\n",
       "      <td>NaN</td>\n",
       "      <td>NaN</td>\n",
       "    </tr>\n",
       "    <tr>\n",
       "      <th>2</th>\n",
       "      <td>Mario Kart Wii</td>\n",
       "      <td>Wii</td>\n",
       "      <td>2008.0</td>\n",
       "      <td>Racing</td>\n",
       "      <td>15.68</td>\n",
       "      <td>12.76</td>\n",
       "      <td>3.79</td>\n",
       "      <td>3.29</td>\n",
       "      <td>82.0</td>\n",
       "      <td>8.3</td>\n",
       "      <td>E</td>\n",
       "    </tr>\n",
       "    <tr>\n",
       "      <th>3</th>\n",
       "      <td>Wii Sports Resort</td>\n",
       "      <td>Wii</td>\n",
       "      <td>2009.0</td>\n",
       "      <td>Sports</td>\n",
       "      <td>15.61</td>\n",
       "      <td>10.93</td>\n",
       "      <td>3.28</td>\n",
       "      <td>2.95</td>\n",
       "      <td>80.0</td>\n",
       "      <td>8</td>\n",
       "      <td>E</td>\n",
       "    </tr>\n",
       "    <tr>\n",
       "      <th>4</th>\n",
       "      <td>Pokemon Red/Pokemon Blue</td>\n",
       "      <td>GB</td>\n",
       "      <td>1996.0</td>\n",
       "      <td>Role-Playing</td>\n",
       "      <td>11.27</td>\n",
       "      <td>8.89</td>\n",
       "      <td>10.22</td>\n",
       "      <td>1.00</td>\n",
       "      <td>NaN</td>\n",
       "      <td>NaN</td>\n",
       "      <td>NaN</td>\n",
       "    </tr>\n",
       "    <tr>\n",
       "      <th>5</th>\n",
       "      <td>Tetris</td>\n",
       "      <td>GB</td>\n",
       "      <td>1989.0</td>\n",
       "      <td>Puzzle</td>\n",
       "      <td>23.20</td>\n",
       "      <td>2.26</td>\n",
       "      <td>4.22</td>\n",
       "      <td>0.58</td>\n",
       "      <td>NaN</td>\n",
       "      <td>NaN</td>\n",
       "      <td>NaN</td>\n",
       "    </tr>\n",
       "    <tr>\n",
       "      <th>6</th>\n",
       "      <td>New Super Mario Bros.</td>\n",
       "      <td>DS</td>\n",
       "      <td>2006.0</td>\n",
       "      <td>Platform</td>\n",
       "      <td>11.28</td>\n",
       "      <td>9.14</td>\n",
       "      <td>6.50</td>\n",
       "      <td>2.88</td>\n",
       "      <td>89.0</td>\n",
       "      <td>8.5</td>\n",
       "      <td>E</td>\n",
       "    </tr>\n",
       "    <tr>\n",
       "      <th>7</th>\n",
       "      <td>Wii Play</td>\n",
       "      <td>Wii</td>\n",
       "      <td>2006.0</td>\n",
       "      <td>Misc</td>\n",
       "      <td>13.96</td>\n",
       "      <td>9.18</td>\n",
       "      <td>2.93</td>\n",
       "      <td>2.84</td>\n",
       "      <td>58.0</td>\n",
       "      <td>6.6</td>\n",
       "      <td>E</td>\n",
       "    </tr>\n",
       "    <tr>\n",
       "      <th>8</th>\n",
       "      <td>New Super Mario Bros. Wii</td>\n",
       "      <td>Wii</td>\n",
       "      <td>2009.0</td>\n",
       "      <td>Platform</td>\n",
       "      <td>14.44</td>\n",
       "      <td>6.94</td>\n",
       "      <td>4.70</td>\n",
       "      <td>2.24</td>\n",
       "      <td>87.0</td>\n",
       "      <td>8.4</td>\n",
       "      <td>E</td>\n",
       "    </tr>\n",
       "    <tr>\n",
       "      <th>9</th>\n",
       "      <td>Duck Hunt</td>\n",
       "      <td>NES</td>\n",
       "      <td>1984.0</td>\n",
       "      <td>Shooter</td>\n",
       "      <td>26.93</td>\n",
       "      <td>0.63</td>\n",
       "      <td>0.28</td>\n",
       "      <td>0.47</td>\n",
       "      <td>NaN</td>\n",
       "      <td>NaN</td>\n",
       "      <td>NaN</td>\n",
       "    </tr>\n",
       "    <tr>\n",
       "      <th>10</th>\n",
       "      <td>Nintendogs</td>\n",
       "      <td>DS</td>\n",
       "      <td>2005.0</td>\n",
       "      <td>Simulation</td>\n",
       "      <td>9.05</td>\n",
       "      <td>10.95</td>\n",
       "      <td>1.93</td>\n",
       "      <td>2.74</td>\n",
       "      <td>NaN</td>\n",
       "      <td>NaN</td>\n",
       "      <td>NaN</td>\n",
       "    </tr>\n",
       "    <tr>\n",
       "      <th>11</th>\n",
       "      <td>Mario Kart DS</td>\n",
       "      <td>DS</td>\n",
       "      <td>2005.0</td>\n",
       "      <td>Racing</td>\n",
       "      <td>9.71</td>\n",
       "      <td>7.47</td>\n",
       "      <td>4.13</td>\n",
       "      <td>1.90</td>\n",
       "      <td>91.0</td>\n",
       "      <td>8.6</td>\n",
       "      <td>E</td>\n",
       "    </tr>\n",
       "    <tr>\n",
       "      <th>12</th>\n",
       "      <td>Pokemon Gold/Pokemon Silver</td>\n",
       "      <td>GB</td>\n",
       "      <td>1999.0</td>\n",
       "      <td>Role-Playing</td>\n",
       "      <td>9.00</td>\n",
       "      <td>6.18</td>\n",
       "      <td>7.20</td>\n",
       "      <td>0.71</td>\n",
       "      <td>NaN</td>\n",
       "      <td>NaN</td>\n",
       "      <td>NaN</td>\n",
       "    </tr>\n",
       "    <tr>\n",
       "      <th>13</th>\n",
       "      <td>Wii Fit</td>\n",
       "      <td>Wii</td>\n",
       "      <td>2007.0</td>\n",
       "      <td>Sports</td>\n",
       "      <td>8.92</td>\n",
       "      <td>8.03</td>\n",
       "      <td>3.60</td>\n",
       "      <td>2.15</td>\n",
       "      <td>80.0</td>\n",
       "      <td>7.7</td>\n",
       "      <td>E</td>\n",
       "    </tr>\n",
       "    <tr>\n",
       "      <th>14</th>\n",
       "      <td>Kinect Adventures!</td>\n",
       "      <td>X360</td>\n",
       "      <td>2010.0</td>\n",
       "      <td>Misc</td>\n",
       "      <td>15.00</td>\n",
       "      <td>4.89</td>\n",
       "      <td>0.24</td>\n",
       "      <td>1.69</td>\n",
       "      <td>61.0</td>\n",
       "      <td>6.3</td>\n",
       "      <td>E</td>\n",
       "    </tr>\n",
       "    <tr>\n",
       "      <th>15</th>\n",
       "      <td>Wii Fit Plus</td>\n",
       "      <td>Wii</td>\n",
       "      <td>2009.0</td>\n",
       "      <td>Sports</td>\n",
       "      <td>9.01</td>\n",
       "      <td>8.49</td>\n",
       "      <td>2.53</td>\n",
       "      <td>1.77</td>\n",
       "      <td>80.0</td>\n",
       "      <td>7.4</td>\n",
       "      <td>E</td>\n",
       "    </tr>\n",
       "    <tr>\n",
       "      <th>16</th>\n",
       "      <td>Grand Theft Auto V</td>\n",
       "      <td>PS3</td>\n",
       "      <td>2013.0</td>\n",
       "      <td>Action</td>\n",
       "      <td>7.02</td>\n",
       "      <td>9.09</td>\n",
       "      <td>0.98</td>\n",
       "      <td>3.96</td>\n",
       "      <td>97.0</td>\n",
       "      <td>8.2</td>\n",
       "      <td>M</td>\n",
       "    </tr>\n",
       "    <tr>\n",
       "      <th>17</th>\n",
       "      <td>Grand Theft Auto: San Andreas</td>\n",
       "      <td>PS2</td>\n",
       "      <td>2004.0</td>\n",
       "      <td>Action</td>\n",
       "      <td>9.43</td>\n",
       "      <td>0.40</td>\n",
       "      <td>0.41</td>\n",
       "      <td>10.57</td>\n",
       "      <td>95.0</td>\n",
       "      <td>9</td>\n",
       "      <td>M</td>\n",
       "    </tr>\n",
       "    <tr>\n",
       "      <th>18</th>\n",
       "      <td>Super Mario World</td>\n",
       "      <td>SNES</td>\n",
       "      <td>1990.0</td>\n",
       "      <td>Platform</td>\n",
       "      <td>12.78</td>\n",
       "      <td>3.75</td>\n",
       "      <td>3.54</td>\n",
       "      <td>0.55</td>\n",
       "      <td>NaN</td>\n",
       "      <td>NaN</td>\n",
       "      <td>NaN</td>\n",
       "    </tr>\n",
       "    <tr>\n",
       "      <th>19</th>\n",
       "      <td>Brain Age: Train Your Brain in Minutes a Day</td>\n",
       "      <td>DS</td>\n",
       "      <td>2005.0</td>\n",
       "      <td>Misc</td>\n",
       "      <td>4.74</td>\n",
       "      <td>9.20</td>\n",
       "      <td>4.16</td>\n",
       "      <td>2.04</td>\n",
       "      <td>77.0</td>\n",
       "      <td>7.9</td>\n",
       "      <td>E</td>\n",
       "    </tr>\n",
       "    <tr>\n",
       "      <th>20</th>\n",
       "      <td>Pokemon Diamond/Pokemon Pearl</td>\n",
       "      <td>DS</td>\n",
       "      <td>2006.0</td>\n",
       "      <td>Role-Playing</td>\n",
       "      <td>6.38</td>\n",
       "      <td>4.46</td>\n",
       "      <td>6.04</td>\n",
       "      <td>1.36</td>\n",
       "      <td>NaN</td>\n",
       "      <td>NaN</td>\n",
       "      <td>NaN</td>\n",
       "    </tr>\n",
       "    <tr>\n",
       "      <th>21</th>\n",
       "      <td>Super Mario Land</td>\n",
       "      <td>GB</td>\n",
       "      <td>1989.0</td>\n",
       "      <td>Platform</td>\n",
       "      <td>10.83</td>\n",
       "      <td>2.71</td>\n",
       "      <td>4.18</td>\n",
       "      <td>0.42</td>\n",
       "      <td>NaN</td>\n",
       "      <td>NaN</td>\n",
       "      <td>NaN</td>\n",
       "    </tr>\n",
       "    <tr>\n",
       "      <th>22</th>\n",
       "      <td>Super Mario Bros. 3</td>\n",
       "      <td>NES</td>\n",
       "      <td>1988.0</td>\n",
       "      <td>Platform</td>\n",
       "      <td>9.54</td>\n",
       "      <td>3.44</td>\n",
       "      <td>3.84</td>\n",
       "      <td>0.46</td>\n",
       "      <td>NaN</td>\n",
       "      <td>NaN</td>\n",
       "      <td>NaN</td>\n",
       "    </tr>\n",
       "    <tr>\n",
       "      <th>23</th>\n",
       "      <td>Grand Theft Auto V</td>\n",
       "      <td>X360</td>\n",
       "      <td>2013.0</td>\n",
       "      <td>Action</td>\n",
       "      <td>9.66</td>\n",
       "      <td>5.14</td>\n",
       "      <td>0.06</td>\n",
       "      <td>1.41</td>\n",
       "      <td>97.0</td>\n",
       "      <td>8.1</td>\n",
       "      <td>M</td>\n",
       "    </tr>\n",
       "    <tr>\n",
       "      <th>24</th>\n",
       "      <td>Grand Theft Auto: Vice City</td>\n",
       "      <td>PS2</td>\n",
       "      <td>2002.0</td>\n",
       "      <td>Action</td>\n",
       "      <td>8.41</td>\n",
       "      <td>5.49</td>\n",
       "      <td>0.47</td>\n",
       "      <td>1.78</td>\n",
       "      <td>95.0</td>\n",
       "      <td>8.7</td>\n",
       "      <td>M</td>\n",
       "    </tr>\n",
       "    <tr>\n",
       "      <th>25</th>\n",
       "      <td>Pokemon Ruby/Pokemon Sapphire</td>\n",
       "      <td>GBA</td>\n",
       "      <td>2002.0</td>\n",
       "      <td>Role-Playing</td>\n",
       "      <td>6.06</td>\n",
       "      <td>3.90</td>\n",
       "      <td>5.38</td>\n",
       "      <td>0.50</td>\n",
       "      <td>NaN</td>\n",
       "      <td>NaN</td>\n",
       "      <td>NaN</td>\n",
       "    </tr>\n",
       "    <tr>\n",
       "      <th>26</th>\n",
       "      <td>Brain Age 2: More Training in Minutes a Day</td>\n",
       "      <td>DS</td>\n",
       "      <td>2005.0</td>\n",
       "      <td>Puzzle</td>\n",
       "      <td>3.43</td>\n",
       "      <td>5.35</td>\n",
       "      <td>5.32</td>\n",
       "      <td>1.18</td>\n",
       "      <td>77.0</td>\n",
       "      <td>7.1</td>\n",
       "      <td>E</td>\n",
       "    </tr>\n",
       "    <tr>\n",
       "      <th>27</th>\n",
       "      <td>Pokemon Black/Pokemon White</td>\n",
       "      <td>DS</td>\n",
       "      <td>2010.0</td>\n",
       "      <td>Role-Playing</td>\n",
       "      <td>5.51</td>\n",
       "      <td>3.17</td>\n",
       "      <td>5.65</td>\n",
       "      <td>0.80</td>\n",
       "      <td>NaN</td>\n",
       "      <td>NaN</td>\n",
       "      <td>NaN</td>\n",
       "    </tr>\n",
       "    <tr>\n",
       "      <th>28</th>\n",
       "      <td>Gran Turismo 3: A-Spec</td>\n",
       "      <td>PS2</td>\n",
       "      <td>2001.0</td>\n",
       "      <td>Racing</td>\n",
       "      <td>6.85</td>\n",
       "      <td>5.09</td>\n",
       "      <td>1.87</td>\n",
       "      <td>1.16</td>\n",
       "      <td>95.0</td>\n",
       "      <td>8.4</td>\n",
       "      <td>E</td>\n",
       "    </tr>\n",
       "    <tr>\n",
       "      <th>29</th>\n",
       "      <td>Call of Duty: Modern Warfare 3</td>\n",
       "      <td>X360</td>\n",
       "      <td>2011.0</td>\n",
       "      <td>Shooter</td>\n",
       "      <td>9.04</td>\n",
       "      <td>4.24</td>\n",
       "      <td>0.13</td>\n",
       "      <td>1.32</td>\n",
       "      <td>88.0</td>\n",
       "      <td>3.4</td>\n",
       "      <td>M</td>\n",
       "    </tr>\n",
       "    <tr>\n",
       "      <th>30</th>\n",
       "      <td>Pokémon Yellow: Special Pikachu Edition</td>\n",
       "      <td>GB</td>\n",
       "      <td>1998.0</td>\n",
       "      <td>Role-Playing</td>\n",
       "      <td>5.89</td>\n",
       "      <td>5.04</td>\n",
       "      <td>3.12</td>\n",
       "      <td>0.59</td>\n",
       "      <td>NaN</td>\n",
       "      <td>NaN</td>\n",
       "      <td>NaN</td>\n",
       "    </tr>\n",
       "    <tr>\n",
       "      <th>31</th>\n",
       "      <td>Call of Duty: Black Ops 3</td>\n",
       "      <td>PS4</td>\n",
       "      <td>2015.0</td>\n",
       "      <td>Shooter</td>\n",
       "      <td>6.03</td>\n",
       "      <td>5.86</td>\n",
       "      <td>0.36</td>\n",
       "      <td>2.38</td>\n",
       "      <td>NaN</td>\n",
       "      <td>NaN</td>\n",
       "      <td>NaN</td>\n",
       "    </tr>\n",
       "    <tr>\n",
       "      <th>32</th>\n",
       "      <td>Call of Duty: Black Ops</td>\n",
       "      <td>X360</td>\n",
       "      <td>2010.0</td>\n",
       "      <td>Shooter</td>\n",
       "      <td>9.70</td>\n",
       "      <td>3.68</td>\n",
       "      <td>0.11</td>\n",
       "      <td>1.13</td>\n",
       "      <td>87.0</td>\n",
       "      <td>6.3</td>\n",
       "      <td>M</td>\n",
       "    </tr>\n",
       "    <tr>\n",
       "      <th>33</th>\n",
       "      <td>Pokemon X/Pokemon Y</td>\n",
       "      <td>3DS</td>\n",
       "      <td>2013.0</td>\n",
       "      <td>Role-Playing</td>\n",
       "      <td>5.28</td>\n",
       "      <td>4.19</td>\n",
       "      <td>4.35</td>\n",
       "      <td>0.78</td>\n",
       "      <td>NaN</td>\n",
       "      <td>NaN</td>\n",
       "      <td>NaN</td>\n",
       "    </tr>\n",
       "    <tr>\n",
       "      <th>34</th>\n",
       "      <td>Call of Duty: Black Ops II</td>\n",
       "      <td>PS3</td>\n",
       "      <td>2012.0</td>\n",
       "      <td>Shooter</td>\n",
       "      <td>4.99</td>\n",
       "      <td>5.73</td>\n",
       "      <td>0.65</td>\n",
       "      <td>2.42</td>\n",
       "      <td>83.0</td>\n",
       "      <td>5.3</td>\n",
       "      <td>M</td>\n",
       "    </tr>\n",
       "    <tr>\n",
       "      <th>35</th>\n",
       "      <td>Call of Duty: Black Ops II</td>\n",
       "      <td>X360</td>\n",
       "      <td>2012.0</td>\n",
       "      <td>Shooter</td>\n",
       "      <td>8.25</td>\n",
       "      <td>4.24</td>\n",
       "      <td>0.07</td>\n",
       "      <td>1.12</td>\n",
       "      <td>83.0</td>\n",
       "      <td>4.8</td>\n",
       "      <td>M</td>\n",
       "    </tr>\n",
       "    <tr>\n",
       "      <th>36</th>\n",
       "      <td>Call of Duty: Modern Warfare 2</td>\n",
       "      <td>X360</td>\n",
       "      <td>2009.0</td>\n",
       "      <td>Shooter</td>\n",
       "      <td>8.52</td>\n",
       "      <td>3.59</td>\n",
       "      <td>0.08</td>\n",
       "      <td>1.28</td>\n",
       "      <td>94.0</td>\n",
       "      <td>6.3</td>\n",
       "      <td>M</td>\n",
       "    </tr>\n",
       "    <tr>\n",
       "      <th>37</th>\n",
       "      <td>Call of Duty: Modern Warfare 3</td>\n",
       "      <td>PS3</td>\n",
       "      <td>2011.0</td>\n",
       "      <td>Shooter</td>\n",
       "      <td>5.54</td>\n",
       "      <td>5.73</td>\n",
       "      <td>0.49</td>\n",
       "      <td>1.57</td>\n",
       "      <td>88.0</td>\n",
       "      <td>3.2</td>\n",
       "      <td>M</td>\n",
       "    </tr>\n",
       "    <tr>\n",
       "      <th>38</th>\n",
       "      <td>Grand Theft Auto III</td>\n",
       "      <td>PS2</td>\n",
       "      <td>2001.0</td>\n",
       "      <td>Action</td>\n",
       "      <td>6.99</td>\n",
       "      <td>4.51</td>\n",
       "      <td>0.30</td>\n",
       "      <td>1.30</td>\n",
       "      <td>97.0</td>\n",
       "      <td>8.5</td>\n",
       "      <td>M</td>\n",
       "    </tr>\n",
       "    <tr>\n",
       "      <th>39</th>\n",
       "      <td>Super Smash Bros. Brawl</td>\n",
       "      <td>Wii</td>\n",
       "      <td>2008.0</td>\n",
       "      <td>Fighting</td>\n",
       "      <td>6.62</td>\n",
       "      <td>2.55</td>\n",
       "      <td>2.66</td>\n",
       "      <td>1.01</td>\n",
       "      <td>93.0</td>\n",
       "      <td>8.9</td>\n",
       "      <td>T</td>\n",
       "    </tr>\n",
       "  </tbody>\n",
       "</table>\n",
       "</div>"
      ],
      "text/plain": [
       "                                            name platform  year_of_release  \\\n",
       "0                                     Wii Sports      Wii           2006.0   \n",
       "1                              Super Mario Bros.      NES           1985.0   \n",
       "2                                 Mario Kart Wii      Wii           2008.0   \n",
       "3                              Wii Sports Resort      Wii           2009.0   \n",
       "4                       Pokemon Red/Pokemon Blue       GB           1996.0   \n",
       "5                                         Tetris       GB           1989.0   \n",
       "6                          New Super Mario Bros.       DS           2006.0   \n",
       "7                                       Wii Play      Wii           2006.0   \n",
       "8                      New Super Mario Bros. Wii      Wii           2009.0   \n",
       "9                                      Duck Hunt      NES           1984.0   \n",
       "10                                    Nintendogs       DS           2005.0   \n",
       "11                                 Mario Kart DS       DS           2005.0   \n",
       "12                   Pokemon Gold/Pokemon Silver       GB           1999.0   \n",
       "13                                       Wii Fit      Wii           2007.0   \n",
       "14                            Kinect Adventures!     X360           2010.0   \n",
       "15                                  Wii Fit Plus      Wii           2009.0   \n",
       "16                            Grand Theft Auto V      PS3           2013.0   \n",
       "17                 Grand Theft Auto: San Andreas      PS2           2004.0   \n",
       "18                             Super Mario World     SNES           1990.0   \n",
       "19  Brain Age: Train Your Brain in Minutes a Day       DS           2005.0   \n",
       "20                 Pokemon Diamond/Pokemon Pearl       DS           2006.0   \n",
       "21                              Super Mario Land       GB           1989.0   \n",
       "22                           Super Mario Bros. 3      NES           1988.0   \n",
       "23                            Grand Theft Auto V     X360           2013.0   \n",
       "24                   Grand Theft Auto: Vice City      PS2           2002.0   \n",
       "25                 Pokemon Ruby/Pokemon Sapphire      GBA           2002.0   \n",
       "26   Brain Age 2: More Training in Minutes a Day       DS           2005.0   \n",
       "27                   Pokemon Black/Pokemon White       DS           2010.0   \n",
       "28                        Gran Turismo 3: A-Spec      PS2           2001.0   \n",
       "29                Call of Duty: Modern Warfare 3     X360           2011.0   \n",
       "30       Pokémon Yellow: Special Pikachu Edition       GB           1998.0   \n",
       "31                     Call of Duty: Black Ops 3      PS4           2015.0   \n",
       "32                       Call of Duty: Black Ops     X360           2010.0   \n",
       "33                           Pokemon X/Pokemon Y      3DS           2013.0   \n",
       "34                    Call of Duty: Black Ops II      PS3           2012.0   \n",
       "35                    Call of Duty: Black Ops II     X360           2012.0   \n",
       "36                Call of Duty: Modern Warfare 2     X360           2009.0   \n",
       "37                Call of Duty: Modern Warfare 3      PS3           2011.0   \n",
       "38                          Grand Theft Auto III      PS2           2001.0   \n",
       "39                       Super Smash Bros. Brawl      Wii           2008.0   \n",
       "\n",
       "           genre  na_sales  eu_sales  jp_sales  other_sales  critic_score  \\\n",
       "0         Sports     41.36     28.96      3.77         8.45          76.0   \n",
       "1       Platform     29.08      3.58      6.81         0.77           NaN   \n",
       "2         Racing     15.68     12.76      3.79         3.29          82.0   \n",
       "3         Sports     15.61     10.93      3.28         2.95          80.0   \n",
       "4   Role-Playing     11.27      8.89     10.22         1.00           NaN   \n",
       "5         Puzzle     23.20      2.26      4.22         0.58           NaN   \n",
       "6       Platform     11.28      9.14      6.50         2.88          89.0   \n",
       "7           Misc     13.96      9.18      2.93         2.84          58.0   \n",
       "8       Platform     14.44      6.94      4.70         2.24          87.0   \n",
       "9        Shooter     26.93      0.63      0.28         0.47           NaN   \n",
       "10    Simulation      9.05     10.95      1.93         2.74           NaN   \n",
       "11        Racing      9.71      7.47      4.13         1.90          91.0   \n",
       "12  Role-Playing      9.00      6.18      7.20         0.71           NaN   \n",
       "13        Sports      8.92      8.03      3.60         2.15          80.0   \n",
       "14          Misc     15.00      4.89      0.24         1.69          61.0   \n",
       "15        Sports      9.01      8.49      2.53         1.77          80.0   \n",
       "16        Action      7.02      9.09      0.98         3.96          97.0   \n",
       "17        Action      9.43      0.40      0.41        10.57          95.0   \n",
       "18      Platform     12.78      3.75      3.54         0.55           NaN   \n",
       "19          Misc      4.74      9.20      4.16         2.04          77.0   \n",
       "20  Role-Playing      6.38      4.46      6.04         1.36           NaN   \n",
       "21      Platform     10.83      2.71      4.18         0.42           NaN   \n",
       "22      Platform      9.54      3.44      3.84         0.46           NaN   \n",
       "23        Action      9.66      5.14      0.06         1.41          97.0   \n",
       "24        Action      8.41      5.49      0.47         1.78          95.0   \n",
       "25  Role-Playing      6.06      3.90      5.38         0.50           NaN   \n",
       "26        Puzzle      3.43      5.35      5.32         1.18          77.0   \n",
       "27  Role-Playing      5.51      3.17      5.65         0.80           NaN   \n",
       "28        Racing      6.85      5.09      1.87         1.16          95.0   \n",
       "29       Shooter      9.04      4.24      0.13         1.32          88.0   \n",
       "30  Role-Playing      5.89      5.04      3.12         0.59           NaN   \n",
       "31       Shooter      6.03      5.86      0.36         2.38           NaN   \n",
       "32       Shooter      9.70      3.68      0.11         1.13          87.0   \n",
       "33  Role-Playing      5.28      4.19      4.35         0.78           NaN   \n",
       "34       Shooter      4.99      5.73      0.65         2.42          83.0   \n",
       "35       Shooter      8.25      4.24      0.07         1.12          83.0   \n",
       "36       Shooter      8.52      3.59      0.08         1.28          94.0   \n",
       "37       Shooter      5.54      5.73      0.49         1.57          88.0   \n",
       "38        Action      6.99      4.51      0.30         1.30          97.0   \n",
       "39      Fighting      6.62      2.55      2.66         1.01          93.0   \n",
       "\n",
       "   user_score rating  \n",
       "0           8      E  \n",
       "1         NaN    NaN  \n",
       "2         8.3      E  \n",
       "3           8      E  \n",
       "4         NaN    NaN  \n",
       "5         NaN    NaN  \n",
       "6         8.5      E  \n",
       "7         6.6      E  \n",
       "8         8.4      E  \n",
       "9         NaN    NaN  \n",
       "10        NaN    NaN  \n",
       "11        8.6      E  \n",
       "12        NaN    NaN  \n",
       "13        7.7      E  \n",
       "14        6.3      E  \n",
       "15        7.4      E  \n",
       "16        8.2      M  \n",
       "17          9      M  \n",
       "18        NaN    NaN  \n",
       "19        7.9      E  \n",
       "20        NaN    NaN  \n",
       "21        NaN    NaN  \n",
       "22        NaN    NaN  \n",
       "23        8.1      M  \n",
       "24        8.7      M  \n",
       "25        NaN    NaN  \n",
       "26        7.1      E  \n",
       "27        NaN    NaN  \n",
       "28        8.4      E  \n",
       "29        3.4      M  \n",
       "30        NaN    NaN  \n",
       "31        NaN    NaN  \n",
       "32        6.3      M  \n",
       "33        NaN    NaN  \n",
       "34        5.3      M  \n",
       "35        4.8      M  \n",
       "36        6.3      M  \n",
       "37        3.2      M  \n",
       "38        8.5      M  \n",
       "39        8.9      T  "
      ]
     },
     "execution_count": 4,
     "metadata": {},
     "output_type": "execute_result"
    }
   ],
   "source": [
    "data.head(40)"
   ]
  },
  {
   "cell_type": "markdown",
   "metadata": {},
   "source": [
    "Далее поменяем типы данных:"
   ]
  },
  {
   "cell_type": "code",
   "execution_count": 5,
   "metadata": {},
   "outputs": [
    {
     "name": "stdout",
     "output_type": "stream",
     "text": [
      "<class 'pandas.core.frame.DataFrame'>\n",
      "RangeIndex: 16715 entries, 0 to 16714\n",
      "Data columns (total 11 columns):\n",
      " #   Column           Non-Null Count  Dtype  \n",
      "---  ------           --------------  -----  \n",
      " 0   name             16713 non-null  object \n",
      " 1   platform         16715 non-null  object \n",
      " 2   year_of_release  16446 non-null  float64\n",
      " 3   genre            16713 non-null  object \n",
      " 4   na_sales         16715 non-null  float64\n",
      " 5   eu_sales         16715 non-null  float64\n",
      " 6   jp_sales         16715 non-null  float64\n",
      " 7   other_sales      16715 non-null  float64\n",
      " 8   critic_score     8137 non-null   float64\n",
      " 9   user_score       10014 non-null  object \n",
      " 10  rating           9949 non-null   object \n",
      "dtypes: float64(6), object(5)\n",
      "memory usage: 1.4+ MB\n"
     ]
    }
   ],
   "source": [
    "data.info()"
   ]
  },
  {
   "cell_type": "markdown",
   "metadata": {},
   "source": [
    "аббревиатура от To Be Determined. Пишется тогда, когда игра имеет недостаточное количество отзывов для подсчета рейтинга пользователей, по сути это тот же NAN"
   ]
  },
  {
   "cell_type": "code",
   "execution_count": 6,
   "metadata": {},
   "outputs": [],
   "source": [
    "import numpy as np\n",
    "data['user_score'] = data['user_score'].replace('tbd', np.nan, regex=True)"
   ]
  },
  {
   "cell_type": "code",
   "execution_count": 7,
   "metadata": {},
   "outputs": [
    {
     "data": {
      "text/plain": [
       "dtype('float64')"
      ]
     },
     "execution_count": 7,
     "metadata": {},
     "output_type": "execute_result"
    }
   ],
   "source": [
    "data['user_score'] = data['user_score'].astype(float)\n",
    "data['user_score'].dtype"
   ]
  },
  {
   "cell_type": "markdown",
   "metadata": {},
   "source": [
    "Для аналитики не нужны игры без года создания, т.к. данные не могут быть актуальными на выбранный поздний период."
   ]
  },
  {
   "cell_type": "code",
   "execution_count": 8,
   "metadata": {},
   "outputs": [
    {
     "name": "stdout",
     "output_type": "stream",
     "text": [
      "<class 'pandas.core.frame.DataFrame'>\n",
      "Int64Index: 16446 entries, 0 to 16714\n",
      "Data columns (total 11 columns):\n",
      " #   Column           Non-Null Count  Dtype  \n",
      "---  ------           --------------  -----  \n",
      " 0   name             16444 non-null  object \n",
      " 1   platform         16446 non-null  object \n",
      " 2   year_of_release  16446 non-null  int16  \n",
      " 3   genre            16444 non-null  object \n",
      " 4   na_sales         16446 non-null  float64\n",
      " 5   eu_sales         16446 non-null  float64\n",
      " 6   jp_sales         16446 non-null  float64\n",
      " 7   other_sales      16446 non-null  float64\n",
      " 8   critic_score     7983 non-null   float64\n",
      " 9   user_score       7463 non-null   float64\n",
      " 10  rating           9768 non-null   object \n",
      "dtypes: float64(6), int16(1), object(4)\n",
      "memory usage: 1.4+ MB\n"
     ]
    }
   ],
   "source": [
    "data.drop(data[data['year_of_release'].isna()].index,inplace=True)\n",
    "data['year_of_release'] = pd.to_numeric(data['year_of_release'], downcast='integer')\n",
    "data.info()"
   ]
  },
  {
   "cell_type": "markdown",
   "metadata": {},
   "source": [
    " Думаю, пропуски можно заменить игровой константой tbd, потому что Помимо ESRB, существуют и другие рейтинговые системы оценки игр\n",
    " Критику заменим на ноль "
   ]
  },
  {
   "cell_type": "code",
   "execution_count": 9,
   "metadata": {},
   "outputs": [
    {
     "data": {
      "image/png": "[encoded data removed]",
      "text/plain": [
       "<Figure size 432x288 with 1 Axes>"
      ]
     },
     "metadata": {
      "needs_background": "light"
     },
     "output_type": "display_data"
    }
   ],
   "source": [
    "#так как столбец рейтинг ESRB категориальный, то лучшей заменой будет проставнока игровой константы - tbd\n",
    "data['rating'].fillna('tbd', inplace=True)\n",
    "data['critic_score'].fillna(0, inplace=True)\n",
    "\n",
    "#games_table.loc[games_table['rating'] == 'None', 'rating'] = 'tbd'\n",
    "data['rating'].value_counts().plot(kind='barh');"
   ]
  },
  {
   "cell_type": "markdown",
   "metadata": {},
   "source": [
    "Пропуски в столбце rating были замененны на tbd, что означает что рейтинга нет или он ожидается\n",
    "Пропуски в столбцах critic_score были заменены на нулевые, что означает, что нет оценки. Сделать замену на медианное или какое-либо иное значение на текущем этапе нельзя, т.к. будет смещение в данных"
   ]
  },
  {
   "cell_type": "markdown",
   "metadata": {},
   "source": [
    "Посчитаю суммарные продажи во всех регионах и запишу их в отдельный столбец."
   ]
  },
  {
   "cell_type": "code",
   "execution_count": 10,
   "metadata": {},
   "outputs": [],
   "source": [
    "data['sales_total'] = data['na_sales'] + data['eu_sales'] + data['jp_sales'] + data['other_sales']"
   ]
  },
  {
   "cell_type": "code",
   "execution_count": 11,
   "metadata": {},
   "outputs": [
    {
     "data": {
      "text/html": [
       "<div>\n",
       "<style scoped>\n",
       "    .dataframe tbody tr th:only-of-type {\n",
       "        vertical-align: middle;\n",
       "    }\n",
       "\n",
       "    .dataframe tbody tr th {\n",
       "        vertical-align: top;\n",
       "    }\n",
       "\n",
       "    .dataframe thead th {\n",
       "        text-align: right;\n",
       "    }\n",
       "</style>\n",
       "<table border=\"1\" class=\"dataframe\">\n",
       "  <thead>\n",
       "    <tr style=\"text-align: right;\">\n",
       "      <th></th>\n",
       "      <th>name</th>\n",
       "      <th>platform</th>\n",
       "      <th>year_of_release</th>\n",
       "      <th>genre</th>\n",
       "      <th>na_sales</th>\n",
       "      <th>eu_sales</th>\n",
       "      <th>jp_sales</th>\n",
       "      <th>other_sales</th>\n",
       "      <th>critic_score</th>\n",
       "      <th>user_score</th>\n",
       "      <th>rating</th>\n",
       "      <th>sales_total</th>\n",
       "    </tr>\n",
       "  </thead>\n",
       "  <tbody>\n",
       "    <tr>\n",
       "      <th>0</th>\n",
       "      <td>Wii Sports</td>\n",
       "      <td>Wii</td>\n",
       "      <td>2006</td>\n",
       "      <td>Sports</td>\n",
       "      <td>41.36</td>\n",
       "      <td>28.96</td>\n",
       "      <td>3.77</td>\n",
       "      <td>8.45</td>\n",
       "      <td>76.0</td>\n",
       "      <td>8.0</td>\n",
       "      <td>E</td>\n",
       "      <td>82.54</td>\n",
       "    </tr>\n",
       "    <tr>\n",
       "      <th>1</th>\n",
       "      <td>Super Mario Bros.</td>\n",
       "      <td>NES</td>\n",
       "      <td>1985</td>\n",
       "      <td>Platform</td>\n",
       "      <td>29.08</td>\n",
       "      <td>3.58</td>\n",
       "      <td>6.81</td>\n",
       "      <td>0.77</td>\n",
       "      <td>0.0</td>\n",
       "      <td>NaN</td>\n",
       "      <td>tbd</td>\n",
       "      <td>40.24</td>\n",
       "    </tr>\n",
       "    <tr>\n",
       "      <th>2</th>\n",
       "      <td>Mario Kart Wii</td>\n",
       "      <td>Wii</td>\n",
       "      <td>2008</td>\n",
       "      <td>Racing</td>\n",
       "      <td>15.68</td>\n",
       "      <td>12.76</td>\n",
       "      <td>3.79</td>\n",
       "      <td>3.29</td>\n",
       "      <td>82.0</td>\n",
       "      <td>8.3</td>\n",
       "      <td>E</td>\n",
       "      <td>35.52</td>\n",
       "    </tr>\n",
       "    <tr>\n",
       "      <th>3</th>\n",
       "      <td>Wii Sports Resort</td>\n",
       "      <td>Wii</td>\n",
       "      <td>2009</td>\n",
       "      <td>Sports</td>\n",
       "      <td>15.61</td>\n",
       "      <td>10.93</td>\n",
       "      <td>3.28</td>\n",
       "      <td>2.95</td>\n",
       "      <td>80.0</td>\n",
       "      <td>8.0</td>\n",
       "      <td>E</td>\n",
       "      <td>32.77</td>\n",
       "    </tr>\n",
       "    <tr>\n",
       "      <th>4</th>\n",
       "      <td>Pokemon Red/Pokemon Blue</td>\n",
       "      <td>GB</td>\n",
       "      <td>1996</td>\n",
       "      <td>Role-Playing</td>\n",
       "      <td>11.27</td>\n",
       "      <td>8.89</td>\n",
       "      <td>10.22</td>\n",
       "      <td>1.00</td>\n",
       "      <td>0.0</td>\n",
       "      <td>NaN</td>\n",
       "      <td>tbd</td>\n",
       "      <td>31.38</td>\n",
       "    </tr>\n",
       "    <tr>\n",
       "      <th>5</th>\n",
       "      <td>Tetris</td>\n",
       "      <td>GB</td>\n",
       "      <td>1989</td>\n",
       "      <td>Puzzle</td>\n",
       "      <td>23.20</td>\n",
       "      <td>2.26</td>\n",
       "      <td>4.22</td>\n",
       "      <td>0.58</td>\n",
       "      <td>0.0</td>\n",
       "      <td>NaN</td>\n",
       "      <td>tbd</td>\n",
       "      <td>30.26</td>\n",
       "    </tr>\n",
       "    <tr>\n",
       "      <th>6</th>\n",
       "      <td>New Super Mario Bros.</td>\n",
       "      <td>DS</td>\n",
       "      <td>2006</td>\n",
       "      <td>Platform</td>\n",
       "      <td>11.28</td>\n",
       "      <td>9.14</td>\n",
       "      <td>6.50</td>\n",
       "      <td>2.88</td>\n",
       "      <td>89.0</td>\n",
       "      <td>8.5</td>\n",
       "      <td>E</td>\n",
       "      <td>29.80</td>\n",
       "    </tr>\n",
       "    <tr>\n",
       "      <th>7</th>\n",
       "      <td>Wii Play</td>\n",
       "      <td>Wii</td>\n",
       "      <td>2006</td>\n",
       "      <td>Misc</td>\n",
       "      <td>13.96</td>\n",
       "      <td>9.18</td>\n",
       "      <td>2.93</td>\n",
       "      <td>2.84</td>\n",
       "      <td>58.0</td>\n",
       "      <td>6.6</td>\n",
       "      <td>E</td>\n",
       "      <td>28.91</td>\n",
       "    </tr>\n",
       "    <tr>\n",
       "      <th>8</th>\n",
       "      <td>New Super Mario Bros. Wii</td>\n",
       "      <td>Wii</td>\n",
       "      <td>2009</td>\n",
       "      <td>Platform</td>\n",
       "      <td>14.44</td>\n",
       "      <td>6.94</td>\n",
       "      <td>4.70</td>\n",
       "      <td>2.24</td>\n",
       "      <td>87.0</td>\n",
       "      <td>8.4</td>\n",
       "      <td>E</td>\n",
       "      <td>28.32</td>\n",
       "    </tr>\n",
       "    <tr>\n",
       "      <th>9</th>\n",
       "      <td>Duck Hunt</td>\n",
       "      <td>NES</td>\n",
       "      <td>1984</td>\n",
       "      <td>Shooter</td>\n",
       "      <td>26.93</td>\n",
       "      <td>0.63</td>\n",
       "      <td>0.28</td>\n",
       "      <td>0.47</td>\n",
       "      <td>0.0</td>\n",
       "      <td>NaN</td>\n",
       "      <td>tbd</td>\n",
       "      <td>28.31</td>\n",
       "    </tr>\n",
       "  </tbody>\n",
       "</table>\n",
       "</div>"
      ],
      "text/plain": [
       "                        name platform  year_of_release         genre  \\\n",
       "0                 Wii Sports      Wii             2006        Sports   \n",
       "1          Super Mario Bros.      NES             1985      Platform   \n",
       "2             Mario Kart Wii      Wii             2008        Racing   \n",
       "3          Wii Sports Resort      Wii             2009        Sports   \n",
       "4   Pokemon Red/Pokemon Blue       GB             1996  Role-Playing   \n",
       "5                     Tetris       GB             1989        Puzzle   \n",
       "6      New Super Mario Bros.       DS             2006      Platform   \n",
       "7                   Wii Play      Wii             2006          Misc   \n",
       "8  New Super Mario Bros. Wii      Wii             2009      Platform   \n",
       "9                  Duck Hunt      NES             1984       Shooter   \n",
       "\n",
       "   na_sales  eu_sales  jp_sales  other_sales  critic_score  user_score rating  \\\n",
       "0     41.36     28.96      3.77         8.45          76.0         8.0      E   \n",
       "1     29.08      3.58      6.81         0.77           0.0         NaN    tbd   \n",
       "2     15.68     12.76      3.79         3.29          82.0         8.3      E   \n",
       "3     15.61     10.93      3.28         2.95          80.0         8.0      E   \n",
       "4     11.27      8.89     10.22         1.00           0.0         NaN    tbd   \n",
       "5     23.20      2.26      4.22         0.58           0.0         NaN    tbd   \n",
       "6     11.28      9.14      6.50         2.88          89.0         8.5      E   \n",
       "7     13.96      9.18      2.93         2.84          58.0         6.6      E   \n",
       "8     14.44      6.94      4.70         2.24          87.0         8.4      E   \n",
       "9     26.93      0.63      0.28         0.47           0.0         NaN    tbd   \n",
       "\n",
       "   sales_total  \n",
       "0        82.54  \n",
       "1        40.24  \n",
       "2        35.52  \n",
       "3        32.77  \n",
       "4        31.38  \n",
       "5        30.26  \n",
       "6        29.80  \n",
       "7        28.91  \n",
       "8        28.32  \n",
       "9        28.31  "
      ]
     },
     "execution_count": 11,
     "metadata": {},
     "output_type": "execute_result"
    }
   ],
   "source": [
    "data.head(10)"
   ]
  },
  {
   "cell_type": "markdown",
   "metadata": {},
   "source": [
    "Вывод: при подготовке данных к анализу были заполненны пропуски, заменено значение TBD на Nan в колонке 'user_score', во всех клонках установлен правильный тип данных, также были посчитаны суммарные мировые продажи."
   ]
  },
  {
   "cell_type": "markdown",
   "metadata": {},
   "source": [
    "# Шаг 3. Исследовательский анализ данных"
   ]
  },
  {
   "cell_type": "markdown",
   "metadata": {},
   "source": [
    "Посмотрим, сколько игр выпускалось в каждый год"
   ]
  },
  {
   "cell_type": "code",
   "execution_count": 12,
   "metadata": {},
   "outputs": [
    {
     "data": {
      "image/png": "[encoded data removed]",
      "text/plain": [
       "<Figure size 1440x720 with 1 Axes>"
      ]
     },
     "metadata": {
      "needs_background": "light"
     },
     "output_type": "display_data"
    }
   ],
   "source": [
    "ax = data['year_of_release'].hist(bins=100, range=(1975, 2022), figsize=(20,10))\\\n",
    "    .set(title = 'Года выпуска игр', xlabel = 'год', ylabel = 'Кол-во игр')"
   ]
  },
  {
   "cell_type": "markdown",
   "metadata": {},
   "source": [
    "Первые игры появиоист в 1980, и количество в течение 10 лет было примерно одинаковое. Резкий скачок по количеству игр, выпущенных в год, произошел в 2002 году. Пик - 2008-2009 года. "
   ]
  },
  {
   "cell_type": "code",
   "execution_count": 13,
   "metadata": {},
   "outputs": [
    {
     "data": {
      "image/png": "[encoded data removed]",
      "text/plain": [
       "<Figure size 1440x720 with 1 Axes>"
      ]
     },
     "metadata": {
      "needs_background": "light"
     },
     "output_type": "display_data"
    }
   ],
   "source": [
    "ax = data['platform'].hist(bins=200, range=(1, 20), figsize=(20,10))\\\n",
    "    .set(title = 'Платформы игр', xlabel = 'платформа', ylabel = 'Кол-во игр')"
   ]
  },
  {
   "cell_type": "markdown",
   "metadata": {},
   "source": [
    " Для нашего прогноза целесообразно рассмотреть период за последние 5 лет, т.е те платформы которые набирают популярность, либо находятся на пике."
   ]
  },
  {
   "cell_type": "code",
   "execution_count": 14,
   "metadata": {},
   "outputs": [
    {
     "data": {
      "text/html": [
       "<div>\n",
       "<style scoped>\n",
       "    .dataframe tbody tr th:only-of-type {\n",
       "        vertical-align: middle;\n",
       "    }\n",
       "\n",
       "    .dataframe tbody tr th {\n",
       "        vertical-align: top;\n",
       "    }\n",
       "\n",
       "    .dataframe thead th {\n",
       "        text-align: right;\n",
       "    }\n",
       "</style>\n",
       "<table border=\"1\" class=\"dataframe\">\n",
       "  <thead>\n",
       "    <tr style=\"text-align: right;\">\n",
       "      <th></th>\n",
       "      <th>platform</th>\n",
       "      <th>sales_total</th>\n",
       "    </tr>\n",
       "  </thead>\n",
       "  <tbody>\n",
       "    <tr>\n",
       "      <th>4</th>\n",
       "      <td>PS4</td>\n",
       "      <td>314.14</td>\n",
       "    </tr>\n",
       "    <tr>\n",
       "      <th>3</th>\n",
       "      <td>PS3</td>\n",
       "      <td>288.79</td>\n",
       "    </tr>\n",
       "    <tr>\n",
       "      <th>9</th>\n",
       "      <td>X360</td>\n",
       "      <td>236.54</td>\n",
       "    </tr>\n",
       "    <tr>\n",
       "      <th>0</th>\n",
       "      <td>3DS</td>\n",
       "      <td>194.61</td>\n",
       "    </tr>\n",
       "    <tr>\n",
       "      <th>10</th>\n",
       "      <td>XOne</td>\n",
       "      <td>159.32</td>\n",
       "    </tr>\n",
       "    <tr>\n",
       "      <th>8</th>\n",
       "      <td>WiiU</td>\n",
       "      <td>82.19</td>\n",
       "    </tr>\n",
       "    <tr>\n",
       "      <th>2</th>\n",
       "      <td>PC</td>\n",
       "      <td>62.65</td>\n",
       "    </tr>\n",
       "    <tr>\n",
       "      <th>6</th>\n",
       "      <td>PSV</td>\n",
       "      <td>49.18</td>\n",
       "    </tr>\n",
       "    <tr>\n",
       "      <th>7</th>\n",
       "      <td>Wii</td>\n",
       "      <td>35.37</td>\n",
       "    </tr>\n",
       "    <tr>\n",
       "      <th>1</th>\n",
       "      <td>DS</td>\n",
       "      <td>12.55</td>\n",
       "    </tr>\n",
       "    <tr>\n",
       "      <th>5</th>\n",
       "      <td>PSP</td>\n",
       "      <td>11.19</td>\n",
       "    </tr>\n",
       "  </tbody>\n",
       "</table>\n",
       "</div>"
      ],
      "text/plain": [
       "   platform  sales_total\n",
       "4       PS4       314.14\n",
       "3       PS3       288.79\n",
       "9      X360       236.54\n",
       "0       3DS       194.61\n",
       "10     XOne       159.32\n",
       "8      WiiU        82.19\n",
       "2        PC        62.65\n",
       "6       PSV        49.18\n",
       "7       Wii        35.37\n",
       "1        DS        12.55\n",
       "5       PSP        11.19"
      ]
     },
     "execution_count": 14,
     "metadata": {},
     "output_type": "execute_result"
    }
   ],
   "source": [
    "actual_platforms = data.query('year_of_release >= 2012')\n",
    "actual_platforms_search = (actual_platforms.groupby(['platform'],as_index = False)['sales_total'].sum()\n",
    "                                 .sort_values('sales_total',ascending = False)\n",
    "                           )\n",
    "actual_platforms_search"
   ]
  },
  {
   "cell_type": "code",
   "execution_count": 15,
   "metadata": {},
   "outputs": [
    {
     "data": {
      "image/png": "[encoded data removed]",
      "text/plain": [
       "<Figure size 720x360 with 1 Axes>"
      ]
     },
     "metadata": {
      "needs_background": "light"
     },
     "output_type": "display_data"
    }
   ],
   "source": [
    "import seaborn as sns\n",
    "import numpy as np\n",
    "import matplotlib.pyplot as plt\n",
    "\n",
    "(actual_platforms_search.plot(kind='bar',x='platform', y='sales_total',figsize=(10, 5),legend=False)\n",
    "                         .set(xlabel='Платформа', ylabel='Глобальные продажи')\n",
    ")\n",
    "plt.show()"
   ]
  },
  {
   "cell_type": "code",
   "execution_count": 16,
   "metadata": {},
   "outputs": [
    {
     "data": {
      "text/plain": [
       "['PS4', 'PS3', 'X360', '3DS', 'XOne', 'WiiU', 'PC', 'PSV', 'Wii', 'DS', 'PSP']"
      ]
     },
     "execution_count": 16,
     "metadata": {},
     "output_type": "execute_result"
    }
   ],
   "source": [
    "top_now = actual_platforms_search['platform'].tolist()\n",
    "top_now"
   ]
  },
  {
   "cell_type": "code",
   "execution_count": 17,
   "metadata": {},
   "outputs": [
    {
     "data": {
      "image/png": "[encoded data removed]",
      "text/plain": [
       "<Figure size 720x360 with 1 Axes>"
      ]
     },
     "metadata": {
      "needs_background": "light"
     },
     "output_type": "display_data"
    }
   ],
   "source": [
    "for name in top_now:\n",
    "    actual_platforms.query('platform == @name').pivot_table(index = 'year_of_release',\n",
    "                        values = 'sales_total', aggfunc = 'sum').sort_values('year_of_release',\n",
    "                                                    ascending = False)['sales_total'].plot(figsize=(10, 5), label = name)\n",
    "    \n",
    "    plt.xticks(np.arange(2012, 2017, step=1))\n",
    "    plt.xlabel('Дата релиза', labelpad = 10)\n",
    "    plt.ylabel('Продажи', labelpad = 10)\n",
    "    plt.legend()"
   ]
  },
  {
   "cell_type": "markdown",
   "metadata": {},
   "source": [
    "Продажи падают на всех платформах.\n",
    "Неплохие продажи показывают только PS4 от Sony и XOne от Microsoft."
   ]
  },
  {
   "cell_type": "code",
   "execution_count": 18,
   "metadata": {},
   "outputs": [
    {
     "data": {
      "text/html": [
       "<div>\n",
       "<style scoped>\n",
       "    .dataframe tbody tr th:only-of-type {\n",
       "        vertical-align: middle;\n",
       "    }\n",
       "\n",
       "    .dataframe tbody tr th {\n",
       "        vertical-align: top;\n",
       "    }\n",
       "\n",
       "    .dataframe thead th {\n",
       "        text-align: right;\n",
       "    }\n",
       "</style>\n",
       "<table border=\"1\" class=\"dataframe\">\n",
       "  <thead>\n",
       "    <tr style=\"text-align: right;\">\n",
       "      <th></th>\n",
       "      <th>platform</th>\n",
       "      <th>year_of_release</th>\n",
       "      <th>sales_total</th>\n",
       "    </tr>\n",
       "  </thead>\n",
       "  <tbody>\n",
       "    <tr>\n",
       "      <th>4</th>\n",
       "      <td>XOne</td>\n",
       "      <td>2013</td>\n",
       "      <td>18.96</td>\n",
       "    </tr>\n",
       "    <tr>\n",
       "      <th>5</th>\n",
       "      <td>XOne</td>\n",
       "      <td>2014</td>\n",
       "      <td>54.07</td>\n",
       "    </tr>\n",
       "    <tr>\n",
       "      <th>6</th>\n",
       "      <td>XOne</td>\n",
       "      <td>2015</td>\n",
       "      <td>60.14</td>\n",
       "    </tr>\n",
       "    <tr>\n",
       "      <th>7</th>\n",
       "      <td>XOne</td>\n",
       "      <td>2016</td>\n",
       "      <td>26.15</td>\n",
       "    </tr>\n",
       "    <tr>\n",
       "      <th>0</th>\n",
       "      <td>PS4</td>\n",
       "      <td>2013</td>\n",
       "      <td>25.99</td>\n",
       "    </tr>\n",
       "    <tr>\n",
       "      <th>1</th>\n",
       "      <td>PS4</td>\n",
       "      <td>2014</td>\n",
       "      <td>100.00</td>\n",
       "    </tr>\n",
       "    <tr>\n",
       "      <th>2</th>\n",
       "      <td>PS4</td>\n",
       "      <td>2015</td>\n",
       "      <td>118.90</td>\n",
       "    </tr>\n",
       "    <tr>\n",
       "      <th>3</th>\n",
       "      <td>PS4</td>\n",
       "      <td>2016</td>\n",
       "      <td>69.25</td>\n",
       "    </tr>\n",
       "  </tbody>\n",
       "</table>\n",
       "</div>"
      ],
      "text/plain": [
       "  platform  year_of_release  sales_total\n",
       "4     XOne             2013        18.96\n",
       "5     XOne             2014        54.07\n",
       "6     XOne             2015        60.14\n",
       "7     XOne             2016        26.15\n",
       "0      PS4             2013        25.99\n",
       "1      PS4             2014       100.00\n",
       "2      PS4             2015       118.90\n",
       "3      PS4             2016        69.25"
      ]
     },
     "execution_count": 18,
     "metadata": {},
     "output_type": "execute_result"
    }
   ],
   "source": [
    "promising_platforms = actual_platforms.query('platform == \"PS4\" or platform == \"XOne\"')\n",
    "promising_platforms_stats = (promising_platforms.groupby(['platform','year_of_release'],as_index = False)['sales_total'].sum()\n",
    "                                 .sort_values('platform',ascending = False)\n",
    "                           )\n",
    "promising_platforms_stats"
   ]
  },
  {
   "cell_type": "markdown",
   "metadata": {},
   "source": [
    "Для актуального рейтинга необходимо выбрать современные платформы: "
   ]
  },
  {
   "cell_type": "markdown",
   "metadata": {},
   "source": [
    "Итак для дальнейшего исследования оставляем PS4 от Sony и XOne от Microsoft\n",
    "\n",
    "Постройте график «ящик с усами» по глобальным продажам каждой игры и разбивкой по платформам. Велика ли разница в продажах? А в средних продажах на разных платформах? Опишите результат"
   ]
  },
  {
   "cell_type": "code",
   "execution_count": 19,
   "metadata": {},
   "outputs": [
    {
     "data": {
      "text/plain": [
       "[(0.0, 5.0)]"
      ]
     },
     "execution_count": 19,
     "metadata": {},
     "output_type": "execute_result"
    },
    {
     "data": {
      "image/png": "[encoded data removed]",
      "text/plain": [
       "<Figure size 1080x648 with 1 Axes>"
      ]
     },
     "metadata": {},
     "output_type": "display_data"
    }
   ],
   "source": [
    "sns.set(rc={'figure.figsize':(15,9)}) # здесь я настраиваю размер самого графика в jupyter\n",
    "ax = sns.boxplot(x=\"platform\", y=\"sales_total\", data= promising_platforms, palette=\"Set3\")\n",
    "ax.set(ylim=(0,5))"
   ]
  },
  {
   "cell_type": "code",
   "execution_count": 20,
   "metadata": {},
   "outputs": [
    {
     "data": {
      "text/html": [
       "<div>\n",
       "<style scoped>\n",
       "    .dataframe tbody tr th:only-of-type {\n",
       "        vertical-align: middle;\n",
       "    }\n",
       "\n",
       "    .dataframe tbody tr th {\n",
       "        vertical-align: top;\n",
       "    }\n",
       "\n",
       "    .dataframe thead tr th {\n",
       "        text-align: left;\n",
       "    }\n",
       "\n",
       "    .dataframe thead tr:last-of-type th {\n",
       "        text-align: right;\n",
       "    }\n",
       "</style>\n",
       "<table border=\"1\" class=\"dataframe\">\n",
       "  <thead>\n",
       "    <tr>\n",
       "      <th></th>\n",
       "      <th>mean</th>\n",
       "      <th>median</th>\n",
       "    </tr>\n",
       "    <tr>\n",
       "      <th></th>\n",
       "      <th>sales_total</th>\n",
       "      <th>sales_total</th>\n",
       "    </tr>\n",
       "    <tr>\n",
       "      <th>platform</th>\n",
       "      <th></th>\n",
       "      <th></th>\n",
       "    </tr>\n",
       "  </thead>\n",
       "  <tbody>\n",
       "    <tr>\n",
       "      <th>PS4</th>\n",
       "      <td>0.801378</td>\n",
       "      <td>0.20</td>\n",
       "    </tr>\n",
       "    <tr>\n",
       "      <th>XOne</th>\n",
       "      <td>0.645020</td>\n",
       "      <td>0.22</td>\n",
       "    </tr>\n",
       "  </tbody>\n",
       "</table>\n",
       "</div>"
      ],
      "text/plain": [
       "                mean      median\n",
       "         sales_total sales_total\n",
       "platform                        \n",
       "PS4         0.801378        0.20\n",
       "XOne        0.645020        0.22"
      ]
     },
     "execution_count": 20,
     "metadata": {},
     "output_type": "execute_result"
    }
   ],
   "source": [
    "promising_platforms_mean_median_sale = (promising_platforms.pivot_table(index = 'platform'\n",
    "                                                                 ,values='sales_total'\n",
    "                                                                 ,aggfunc = ['mean','median']) \n",
    "                                )\n",
    "promising_platforms_mean_median_sale"
   ]
  },
  {
   "cell_type": "markdown",
   "metadata": {},
   "source": [
    "Видим, что в среднем одна игра выпущенная на платформе приносит порядка 1 млн долларов"
   ]
  },
  {
   "cell_type": "markdown",
   "metadata": {},
   "source": [
    "Можно сделать вывод, что  игровые платформы в среднем существуют примерно по 10 лет. \n",
    " Cамые продаваемые это PS2 и X360 \n",
    " Самый пик наступает примерно через 5 лет после выхода.\n",
    " На конец 2016 года лидируют по продажам следующие платформы:\n",
    "\n",
    "PS3;\n",
    "Wii;\n",
    "Х360.\n",
    "Это топ-3. Причем, исходя из данных, количество продаж игр, выпущенных на каждую из этих платформ, снижается. Таким образом, можно сказать, что весь рынок игр падает.\n",
    "Топ который подойдет для современного анализа рынка игр:\n"
   ]
  },
  {
   "cell_type": "code",
   "execution_count": 21,
   "metadata": {},
   "outputs": [],
   "source": [
    "def create_any_sales_boxplot(title=None, query_condition = None, ylims=None):\n",
    "    %matplotlib inline\n",
    "    if query_condition == None:\n",
    "        ax = data.boxplot(column='sales_total', fontsize=25, figsize=(25,10),\n",
    "                                         boxprops=dict(linestyle='-', linewidth=5),\n",
    "                                         medianprops=dict(linestyle='-', linewidth=5),\n",
    "                                         whiskerprops=dict(linestyle='-', linewidth=5),\n",
    "                                         capprops=dict(linestyle='-', linewidth=5), \n",
    "                                         notch=True)\n",
    "    else:\n",
    "        df_query = data.query(query_condition)\n",
    "        by_column = query_condition.split()[0]\n",
    "        ax = df_query.boxplot(column='sales_total', by=by_column, fontsize=25, figsize=(25,10),\n",
    "                                         boxprops=dict(linestyle='-', linewidth=5),\n",
    "                                         medianprops=dict(linestyle='-', linewidth=5),\n",
    "                                         whiskerprops=dict(linestyle='-', linewidth=5),\n",
    "                                         capprops=dict(linestyle='-', linewidth=5),\n",
    "                                         notch=True)\n",
    "        ax.set_xlabel('')\n",
    "        ax.set_title('')\n",
    "    if ylims != None:\n",
    "        ax.set_ylim(ylims)\n",
    "    if title != None:\n",
    "        plt.suptitle(title, y=0.94, fontsize=25, fontweight='bold')\n",
    "        create_any_sales_boxplot('Boxplot по глобальным продажам игр')"
   ]
  },
  {
   "cell_type": "markdown",
   "metadata": {},
   "source": [
    "Посмотрим, как влияют на продажи внутри одной популярной платформы отзывы пользователей и критиков. Построем диаграмму рассеяния и посчитаем корреляцию между отзывами и продажами"
   ]
  },
  {
   "cell_type": "code",
   "execution_count": 22,
   "metadata": {},
   "outputs": [],
   "source": [
    "games_ps3 = data[(data['platform'] == 'PS3') & (data['critic_score'] > 0)].copy()"
   ]
  },
  {
   "cell_type": "code",
   "execution_count": 23,
   "metadata": {},
   "outputs": [
    {
     "data": {
      "text/plain": [
       "<AxesSubplot:xlabel='critic_score', ylabel='sales_total'>"
      ]
     },
     "execution_count": 23,
     "metadata": {},
     "output_type": "execute_result"
    },
    {
     "data": {
      "image/png": "[encoded data removed]",
      "text/plain": [
       "<Figure size 720x432 with 1 Axes>"
      ]
     },
     "metadata": {},
     "output_type": "display_data"
    }
   ],
   "source": [
    "from matplotlib.axes._axes import _log as matplotlib_axes_logger\n",
    "matplotlib_axes_logger.setLevel('ERROR')\n",
    "\n",
    "games_ps3 = data[(data['platform'] == 'PS3') & (data['critic_score'] > 0)].copy()\n",
    "games_ps3.plot(kind='scatter', x='critic_score', y='sales_total', ec='black', figsize=(10,6))\n"
   ]
  },
  {
   "cell_type": "code",
   "execution_count": 24,
   "metadata": {},
   "outputs": [
    {
     "data": {
      "text/plain": [
       "0.4327589578997135"
      ]
     },
     "execution_count": 24,
     "metadata": {},
     "output_type": "execute_result"
    }
   ],
   "source": [
    "games_ps3['critic_score'].corr(games_ps3['sales_total'])"
   ]
  },
  {
   "cell_type": "markdown",
   "metadata": {},
   "source": [
    "С увеличением среднего рейтинга критиков увеличивается и средний уровень выручки с продажи игр, что логично: чем качественнее игра, тем больше денег она приносит разработчику."
   ]
  },
  {
   "cell_type": "code",
   "execution_count": 25,
   "metadata": {},
   "outputs": [
    {
     "data": {
      "text/plain": [
       "<AxesSubplot:xlabel='user_score', ylabel='sales_total'>"
      ]
     },
     "execution_count": 25,
     "metadata": {},
     "output_type": "execute_result"
    },
    {
     "data": {
      "image/png": "[encoded data removed]",
      "text/plain": [
       "<Figure size 720x432 with 1 Axes>"
      ]
     },
     "metadata": {},
     "output_type": "display_data"
    }
   ],
   "source": [
    "from matplotlib.axes._axes import _log as matplotlib_axes_logger\n",
    "matplotlib_axes_logger.setLevel('ERROR')\n",
    "games_ps3 = data[(data['platform'] == 'PS3') & (data['user_score'] > 0)].copy()\n",
    "games_ps3.plot(kind='scatter', x='user_score', y='sales_total', ec='black', figsize=(10,6))"
   ]
  },
  {
   "cell_type": "code",
   "execution_count": 26,
   "metadata": {},
   "outputs": [
    {
     "data": {
      "text/plain": [
       "0.12841562938563006"
      ]
     },
     "execution_count": 26,
     "metadata": {},
     "output_type": "execute_result"
    }
   ],
   "source": [
    "games_ps3['user_score'].corr(games_ps3['sales_total'])"
   ]
  },
  {
   "cell_type": "markdown",
   "metadata": {},
   "source": [
    "Такая же картина, правда так называемых выбросов больше - когда рейтинг пользователей не велик, но тем не менее игра собирает большие деньги"
   ]
  },
  {
   "cell_type": "markdown",
   "metadata": {},
   "source": [
    "Посмотри корреляцию"
   ]
  },
  {
   "cell_type": "code",
   "execution_count": 27,
   "metadata": {},
   "outputs": [
    {
     "data": {
      "text/plain": [
       "<AxesSubplot:>"
      ]
     },
     "execution_count": 27,
     "metadata": {},
     "output_type": "execute_result"
    },
    {
     "data": {
      "image/png": "[encoded data removed]",
      "text/plain": [
       "<Figure size 648x648 with 2 Axes>"
      ]
     },
     "metadata": {},
     "output_type": "display_data"
    }
   ],
   "source": [
    "plt.figure(figsize=(9,9))\n",
    "sns.heatmap(games_ps3.corr(), annot=True, cmap=\"Greens\", fmt='.2f', annot_kws={'size':16})"
   ]
  },
  {
   "cell_type": "code",
   "execution_count": 28,
   "metadata": {},
   "outputs": [],
   "source": [
    "games_ps3_filtered = games_ps3[['sales_total' ,'critic_score', 'user_score']]"
   ]
  },
  {
   "cell_type": "code",
   "execution_count": 29,
   "metadata": {},
   "outputs": [
    {
     "data": {
      "text/plain": [
       "<AxesSubplot:>"
      ]
     },
     "execution_count": 29,
     "metadata": {},
     "output_type": "execute_result"
    },
    {
     "data": {
      "image/png": "[encoded data removed]",
      "text/plain": [
       "<Figure size 72x216 with 2 Axes>"
      ]
     },
     "metadata": {},
     "output_type": "display_data"
    }
   ],
   "source": [
    "plt.figure(figsize=(1,3))\n",
    "sns.heatmap(games_ps3_filtered.corr()[['sales_total']].sort_values(by='sales_total', ascending=False), cmap=\"Greens\", \n",
    "            annot=True, annot_kws={'size':15})"
   ]
  },
  {
   "cell_type": "markdown",
   "metadata": {},
   "source": [
    "Сильнее всего на конечную стоимость влияет оценка критиков"
   ]
  },
  {
   "cell_type": "code",
   "execution_count": 30,
   "metadata": {},
   "outputs": [
    {
     "data": {
      "image/png": "[encoded data removed]",
      "text/plain": [
       "<Figure size 1080x612 with 12 Axes>"
      ]
     },
     "metadata": {},
     "output_type": "display_data"
    }
   ],
   "source": [
    "top_platforms = ['PS2', 'X360', 'PS3', 'Wii', 'DS', 'PS', 'PS4']\n",
    "\n",
    "rows = len(top_platforms) // 2\n",
    "cols = 2\n",
    "fig, axes = plt.subplots(rows, cols, figsize=(15,8.5))\n",
    "count = 0\n",
    "for r in range(rows):\n",
    "    for c in range(cols):\n",
    "        curr_platform = top_platforms[count]\n",
    "        df_prep = data[(data['platform'] == curr_platform) & (data['user_score'] > 0)].copy()\n",
    "        \n",
    "        df_filtered = df_prep[['sales_total' ,'critic_score', 'user_score']]\n",
    "        sns.set(font_scale=1.0)\n",
    "        ax = sns.heatmap(df_filtered.corr()[['sales_total']].sort_values(by='sales_total', ascending=False), \n",
    "                         cmap=\"Greens\", annot=True, annot_kws={'size':15}, ax=axes[r,c])\n",
    "        ax.set_title(curr_platform, fontsize=20)\n",
    "        ax.set_yticklabels(ax.get_yticklabels(), rotation=0)\n",
    "        plt.tight_layout(pad=3)\n",
    "        count += 1"
   ]
  },
  {
   "cell_type": "markdown",
   "metadata": {},
   "source": [
    "Данные по корреляции между выручкой и оценкой по платформам PS2, X360, PS3, PS  более или менее совпадает с общими данными по датафрейму.\n",
    "Выделяются Wii и DS, по которым зависимость не такая большая."
   ]
  },
  {
   "cell_type": "code",
   "execution_count": 31,
   "metadata": {},
   "outputs": [
    {
     "data": {
      "image/png": "[encoded data removed]",
      "text/plain": [
       "<Figure size 720x360 with 1 Axes>"
      ]
     },
     "metadata": {},
     "output_type": "display_data"
    }
   ],
   "source": [
    "(promising_platforms\n",
    "    .pivot_table(index='genre', values='sales_total')\n",
    "    .sort_values('sales_total', ascending=False)\n",
    "    .plot(kind='bar', y='sales_total', figsize=(10, 5), legend=False,title = 'Перспективные платформы')\n",
    "    .set(xlabel='Жанр', ylabel='Глобальные продажи'))\n",
    "\n",
    "plt.show()"
   ]
  },
  {
   "cell_type": "code",
   "execution_count": 32,
   "metadata": {},
   "outputs": [
    {
     "data": {
      "image/png": "[encoded data removed]",
      "text/plain": [
       "<Figure size 720x360 with 1 Axes>"
      ]
     },
     "metadata": {},
     "output_type": "display_data"
    }
   ],
   "source": [
    "(actual_platforms\n",
    "    .pivot_table(index='genre', values='sales_total')\n",
    "    .sort_values('sales_total', ascending=False)\n",
    "    .plot(kind='bar', y='sales_total', figsize=(10, 5), legend=False,title = 'Все платформы с 2012 года')\n",
    "    .set(xlabel='Жанр', ylabel='Глобальные продажи'))\n",
    "\n",
    "plt.show()"
   ]
  },
  {
   "cell_type": "markdown",
   "metadata": {},
   "source": [
    "Самые популярные жанры ожидаемо - шутеры, спорт, гонки и рпг. Хуже всего продаются стратегии и квесты.\n",
    "\n",
    "Если брать все платформы, то также популярен жанр \"платформеры\".\n",
    "Далее рассмотрим более подробно в разрезе регионов."
   ]
  },
  {
   "cell_type": "markdown",
   "metadata": {},
   "source": [
    "# Шаг 4. Портрет пользователя каждого региона"
   ]
  },
  {
   "cell_type": "markdown",
   "metadata": {},
   "source": [
    "Рассмотрим самые популярные платформы в каждом регионе:"
   ]
  },
  {
   "cell_type": "code",
   "execution_count": 33,
   "metadata": {
    "scrolled": true
   },
   "outputs": [
    {
     "data": {
      "text/plain": [
       "<AxesSubplot:xlabel='platform'>"
      ]
     },
     "execution_count": 33,
     "metadata": {},
     "output_type": "execute_result"
    },
    {
     "data": {
      "image/png": "[encoded data removed]",
      "text/plain": [
       "<Figure size 1080x648 with 1 Axes>"
      ]
     },
     "metadata": {},
     "output_type": "display_data"
    },
    {
     "data": {
      "image/png": "[encoded data removed]",
      "text/plain": [
       "<Figure size 1080x648 with 1 Axes>"
      ]
     },
     "metadata": {},
     "output_type": "display_data"
    },
    {
     "data": {
      "image/png": "[encoded data removed]",
      "text/plain": [
       "<Figure size 1080x648 with 1 Axes>"
      ]
     },
     "metadata": {},
     "output_type": "display_data"
    }
   ],
   "source": [
    "data.groupby(by='platform').agg({'na_sales':'sum'}).sort_values(by='na_sales', ascending=False).head(5).plot(kind='bar')\n",
    "data.groupby(by='platform').agg({'eu_sales':'sum'}).sort_values(by='eu_sales', ascending=False).head(5).plot(kind='bar')\n",
    "data.groupby(by='platform').agg({'jp_sales':'sum'}).sort_values(by='jp_sales', ascending=False).head(5).plot(kind='bar')"
   ]
  },
  {
   "cell_type": "markdown",
   "metadata": {},
   "source": [
    "Если в Европе и Америке платформы по популярности практически идентичны, то Япония явно выделяется своей платформой DS "
   ]
  },
  {
   "cell_type": "markdown",
   "metadata": {},
   "source": [
    "определим самые популярные жанры"
   ]
  },
  {
   "cell_type": "code",
   "execution_count": 34,
   "metadata": {},
   "outputs": [
    {
     "data": {
      "text/plain": [
       "<AxesSubplot:xlabel='genre'>"
      ]
     },
     "execution_count": 34,
     "metadata": {},
     "output_type": "execute_result"
    },
    {
     "data": {
      "image/png": "[encoded data removed]",
      "text/plain": [
       "<Figure size 1080x648 with 1 Axes>"
      ]
     },
     "metadata": {},
     "output_type": "display_data"
    },
    {
     "data": {
      "image/png": "[encoded data removed]",
      "text/plain": [
       "<Figure size 1080x648 with 1 Axes>"
      ]
     },
     "metadata": {},
     "output_type": "display_data"
    },
    {
     "data": {
      "image/png": "[encoded data removed]",
      "text/plain": [
       "<Figure size 1080x648 with 1 Axes>"
      ]
     },
     "metadata": {},
     "output_type": "display_data"
    }
   ],
   "source": [
    "data.groupby(by='genre').agg({'na_sales':'sum'}).sort_values(by='na_sales', ascending=False).head(5).plot(kind='bar')\n",
    "data.groupby(by='genre').agg({'eu_sales':'sum'}).sort_values(by='eu_sales', ascending=False).head(5).plot(kind='bar')\n",
    "data.groupby(by='genre').agg({'jp_sales':'sum'}).sort_values(by='jp_sales', ascending=False).head(5).plot(kind='bar')"
   ]
  },
  {
   "cell_type": "markdown",
   "metadata": {},
   "source": [
    " В жанрах Япония  выделяется, у них \"Ролевые игры\" удерживают 1 место, хотя в Европе и Америке они не попали даже в топ-5 - здесь Экшин в номер 1."
   ]
  },
  {
   "cell_type": "code",
   "execution_count": 35,
   "metadata": {},
   "outputs": [
    {
     "data": {
      "text/plain": [
       "<AxesSubplot:xlabel='rating'>"
      ]
     },
     "execution_count": 35,
     "metadata": {},
     "output_type": "execute_result"
    },
    {
     "data": {
      "image/png": "[encoded data removed]",
      "text/plain": [
       "<Figure size 1080x648 with 1 Axes>"
      ]
     },
     "metadata": {},
     "output_type": "display_data"
    },
    {
     "data": {
      "image/png": "[encoded data removed]",
      "text/plain": [
       "<Figure size 1080x648 with 1 Axes>"
      ]
     },
     "metadata": {},
     "output_type": "display_data"
    },
    {
     "data": {
      "image/png": "[encoded data removed]",
      "text/plain": [
       "<Figure size 1080x648 with 1 Axes>"
      ]
     },
     "metadata": {},
     "output_type": "display_data"
    }
   ],
   "source": [
    "games_with_rating = data.loc[data['rating'] != 'out of rating']\n",
    "games_with_rating.groupby(by='rating').agg({'na_sales':'sum'}).sort_values(by='na_sales', ascending=False).head(5).plot(kind='bar')\n",
    "games_with_rating.groupby(by='rating').agg({'eu_sales':'sum'}).sort_values(by='eu_sales', ascending=False).head(5).plot(kind='bar')\n",
    "games_with_rating.groupby(by='rating').agg({'jp_sales':'sum'}).sort_values(by='jp_sales', ascending=False).head(5).plot(kind='bar')"
   ]
  },
  {
   "cell_type": "markdown",
   "metadata": {},
   "source": [
    "Первое место во всех регионах занимают игры без ограничений по возрасту('E'), второе и третье место делять игры для подростков('T') и для взрослых('M')"
   ]
  },
  {
   "cell_type": "markdown",
   "metadata": {},
   "source": [
    "# 5. Проверка гипотез"
   ]
  },
  {
   "cell_type": "markdown",
   "metadata": {},
   "source": [
    " Средние пользовательские рейтинги платформ Xbox One и PC одинаковые;\n",
    "- Средние пользовательские рейтинги жанров Action (англ. «действие») и Sports (англ. «виды спорта») разные.\n",
    "Средние пользовательские рейтинги платформ Xbox One и PC одинаковые\n",
    "H0: Средние пользовательские рейтинги платформ Xbox One и PC одинаковые.\n",
    "H1: Средние пользовательские рейтинги платформ Xbox One и PC различаются."
   ]
  },
  {
   "cell_type": "markdown",
   "metadata": {},
   "source": [
    "Подготовим данные по первой гипотезе. Не будем учитывать игры с пустым рейтингом."
   ]
  },
  {
   "cell_type": "code",
   "execution_count": 36,
   "metadata": {},
   "outputs": [],
   "source": [
    "def stat_info(serie, bins=0):\n",
    "    serie_description = serie.describe()\n",
    "    mean = serie_description[1]\n",
    "    std = serie_description[2]\n",
    "    d_min = serie_description[3]\n",
    "    q1 = serie_description[4]\n",
    "    median = serie_description[5]\n",
    "    q3 = serie_description[6]\n",
    "    d_max = serie_description[7]\n",
    "    left_border = d_min\n",
    "    right_border = d_max\n",
    "    if bins == 0:\n",
    "        bins = right_border - left_border\n",
    "        if bins>100:\n",
    "            bins = 100\n",
    "        elif bins < 1:\n",
    "            bins = abs(bins*10)+1\n",
    "        bins = int(bins)\n",
    "    else:\n",
    "        bins = bins\n",
    "    serie.hist(bins=bins, range=(left_border, right_border))\n",
    "    print(serie_description)\n",
    "    variance_estimate = np.var(serie, ddof=1)\n",
    "    standart_dev = np.std(serie, ddof=1)\n",
    "    print('Среднее значение: {:.2f}'.format(mean))\n",
    "    print('Дисперсия: {:.2f}'.format(variance_estimate))\n",
    "    print('Стандартное отклонение: {:.2f}'.format(standart_dev))\n",
    "    return [mean, variance_estimate, standart_dev]"
   ]
  },
  {
   "cell_type": "markdown",
   "metadata": {},
   "source": [
    "06.11\n",
    "Средние пользовательские рейтинги платформ Xbox One и PC одинаковые\n",
    "Сформулируем нулевые гипотезы:\n",
    "\n",
    "Нулевая гипотеза H₀: Средние пользовательские рейтинги платформ Xbox One и PC одинаковые;\n",
    "Альтернативная гипотеза H₁: Средние пользовательские рейтинги платформ Xbox One и PC различаются"
   ]
  },
  {
   "cell_type": "code",
   "execution_count": 37,
   "metadata": {},
   "outputs": [
    {
     "name": "stdout",
     "output_type": "stream",
     "text": [
      "count    182.000000\n",
      "mean       6.521429\n",
      "std        1.380941\n",
      "min        1.600000\n",
      "25%        5.800000\n",
      "50%        6.800000\n",
      "75%        7.500000\n",
      "max        9.200000\n",
      "Name: user_score, dtype: float64\n",
      "Среднее значение: 6.52\n",
      "Дисперсия: 1.91\n",
      "Стандартное отклонение: 1.38\n"
     ]
    },
    {
     "data": {
      "text/plain": [
       "[6.521428571428572, 1.9069968429360695, 1.380940564592144]"
      ]
     },
     "execution_count": 37,
     "metadata": {},
     "output_type": "execute_result"
    },
    {
     "data": {
      "image/png": "[encoded data removed]",
      "text/plain": [
       "<Figure size 1080x648 with 1 Axes>"
      ]
     },
     "metadata": {},
     "output_type": "display_data"
    }
   ],
   "source": [
    "from scipy import stats as st\n",
    "import numpy as np\n",
    "user_rating_XOne =actual_platforms.query('platform == \"XOne\"')['user_score'].dropna()\n",
    "stat_info(user_rating_XOne)"
   ]
  },
  {
   "cell_type": "code",
   "execution_count": 38,
   "metadata": {},
   "outputs": [
    {
     "name": "stdout",
     "output_type": "stream",
     "text": [
      "count    206.000000\n",
      "mean       6.428641\n",
      "std        1.664465\n",
      "min        1.400000\n",
      "25%        5.500000\n",
      "50%        6.800000\n",
      "75%        7.700000\n",
      "max        9.300000\n",
      "Name: user_score, dtype: float64\n",
      "Среднее значение: 6.43\n",
      "Дисперсия: 2.77\n",
      "Стандартное отклонение: 1.66\n"
     ]
    },
    {
     "data": {
      "text/plain": [
       "[6.4286407766990274, 2.770443997158418, 1.6644650783835682]"
      ]
     },
     "execution_count": 38,
     "metadata": {},
     "output_type": "execute_result"
    },
    {
     "data": {
      "image/png": "[encoded data removed]",
      "text/plain": [
       "<Figure size 1080x648 with 1 Axes>"
      ]
     },
     "metadata": {},
     "output_type": "display_data"
    }
   ],
   "source": [
    "user_rating_PC =actual_platforms.query('platform == \"PC\"')['user_score'].dropna()\n",
    "stat_info(user_rating_PC)"
   ]
  },
  {
   "cell_type": "code",
   "execution_count": 39,
   "metadata": {},
   "outputs": [
    {
     "name": "stdout",
     "output_type": "stream",
     "text": [
      "0.5535080500643661\n",
      "Не получилось отвергнуть нулевую гипотезу\n"
     ]
    }
   ],
   "source": [
    "from scipy import stats as st\n",
    "import numpy as np\n",
    "\n",
    "alpha = .01\n",
    "results = st.ttest_ind(user_rating_XOne, user_rating_PC)\n",
    "print( results.pvalue)\n",
    "\n",
    "if (results.pvalue < alpha):\n",
    "    print(\"Отвергаем нулевую гипотезу\")\n",
    "else:\n",
    "    print(\"Не получилось отвергнуть нулевую гипотезу\")"
   ]
  },
  {
   "cell_type": "markdown",
   "metadata": {},
   "source": [
    "06.11 Сформулируем нулевые гипотезы:\n",
    "\n",
    "Нулевая гипотеза H₀: Средние пользовательские рейтинги жанров Action и Sports одинаковые.\n",
    "Альтернативная гипотеза H₁: Средние пользовательские рейтинги жанров Action и Sports различаются."
   ]
  },
  {
   "cell_type": "markdown",
   "metadata": {},
   "source": [
    "Средние пользовательские рейтинги жанров Action (англ. «действие», экшен-игры) и Sports (англ. «спортивные соревнования») разные.\n",
    " Подготовим данные"
   ]
  },
  {
   "cell_type": "code",
   "execution_count": 40,
   "metadata": {},
   "outputs": [
    {
     "name": "stdout",
     "output_type": "stream",
     "text": [
      "count    523.000000\n",
      "mean       6.825048\n",
      "std        1.374440\n",
      "min        1.600000\n",
      "25%        6.250000\n",
      "50%        7.100000\n",
      "75%        7.800000\n",
      "max        9.100000\n",
      "Name: user_score, dtype: float64\n",
      "Среднее значение: 6.83\n",
      "Дисперсия: 1.89\n",
      "Стандартное отклонение: 1.37\n"
     ]
    },
    {
     "data": {
      "text/plain": [
       "[6.825047801147227, 1.8890840494348111, 1.3744395401161926]"
      ]
     },
     "execution_count": 40,
     "metadata": {},
     "output_type": "execute_result"
    },
    {
     "data": {
      "image/png": "[encoded data removed]",
      "text/plain": [
       "<Figure size 1080x648 with 1 Axes>"
      ]
     },
     "metadata": {},
     "output_type": "display_data"
    }
   ],
   "source": [
    "user_rating_Action = actual_platforms.query('genre == \"Action\"')['user_score'].dropna()\n",
    "stat_info(user_rating_Action)"
   ]
  },
  {
   "cell_type": "code",
   "execution_count": 41,
   "metadata": {},
   "outputs": [
    {
     "name": "stdout",
     "output_type": "stream",
     "text": [
      "count    195.000000\n",
      "mean       5.455897\n",
      "std        1.738646\n",
      "min        0.200000\n",
      "25%        4.300000\n",
      "50%        5.700000\n",
      "75%        6.800000\n",
      "max        8.800000\n",
      "Name: user_score, dtype: float64\n",
      "Среднее значение: 5.46\n",
      "Дисперсия: 3.02\n",
      "Стандартное отклонение: 1.74\n"
     ]
    },
    {
     "data": {
      "text/plain": [
       "[5.455897435897437, 3.022890298704732, 1.7386461108301285]"
      ]
     },
     "execution_count": 41,
     "metadata": {},
     "output_type": "execute_result"
    },
    {
     "data": {
      "image/png": "[encoded data removed]",
      "text/plain": [
       "<Figure size 1080x648 with 1 Axes>"
      ]
     },
     "metadata": {},
     "output_type": "display_data"
    }
   ],
   "source": [
    "user_rating_Sports = actual_platforms.query('genre == \"Sports\"')['user_score'].dropna()\n",
    "stat_info(user_rating_Sports)"
   ]
  },
  {
   "cell_type": "code",
   "execution_count": 42,
   "metadata": {},
   "outputs": [
    {
     "name": "stdout",
     "output_type": "stream",
     "text": [
      "p-значение: 3.7163089460934874e-26\n",
      "Отвергаем нулевую гипотезу\n"
     ]
    }
   ],
   "source": [
    "alpha = .01\n",
    "\n",
    "results = st.ttest_ind(user_rating_Action, user_rating_Sports)\n",
    "\n",
    "print('p-значение:', results.pvalue)\n",
    "\n",
    "if (results.pvalue < alpha):\n",
    "    print(\"Отвергаем нулевую гипотезу\")\n",
    "else:\n",
    "    print(\"Не получилось отвергнуть нулевую гипотезу\")"
   ]
  },
  {
   "cell_type": "markdown",
   "metadata": {},
   "source": [
    "При получении ответа \"Отвергаем нулевую гипотезу\" это говорит о том, что гипотеза противоречит эмпирическим данным и скорей всего наше предположение неверно. Значит данные различаются."
   ]
  },
  {
   "cell_type": "markdown",
   "metadata": {},
   "source": [
    "Общий вывод по анализу данных:"
   ]
  },
  {
   "cell_type": "markdown",
   "metadata": {},
   "source": [
    "\n",
    "С 2010 года наблюдается спад продаж в игровой индустрии.\n",
    "Платформы появляются и умирают в течение 10 лет.\n",
    "Наиболее популярные и перспективные на данный момент платформы – это Sony PlayStation 4 и Xbox One.\n",
    "В среднем одна игра выпущенная на платформе приносит прибыль около 300 тысяч долларов.\n",
    "В США и Европе лучше всего продаются шутеры и экшены.\n",
    "Больше всего продаж приходится на игры с рейтингом для взрослых и для всех.\n",
    "Япония – отдельный рынок с уклоном в портативные консоли и ролевые игры. Объём продаж в этой стране в 2.5 раза меньше покаталей Европы и Америки.\n",
    "Потенциально выгодно разработать игру для рынка Европы и Америки на перспективных платформах Sony PlayStation 4 и Xbox One в жанре Shooter/Action. Японский рынок имеет свою специфику по платформам и жанрам, кроме того не слишком обширен."
   ]
  }
 ],
 "metadata": {
  "ExecuteTimeLog": [
   {
    "duration": 640,
    "start_time": "2022-11-02T17:55:13.917Z"
   },
   {
    "duration": 113,
    "start_time": "2022-11-02T17:56:16.887Z"
   },
   {
    "duration": 125,
    "start_time": "2022-11-02T17:56:30.345Z"
   },
   {
    "duration": 50,
    "start_time": "2022-11-02T17:56:33.232Z"
   },
   {
    "duration": 186,
    "start_time": "2022-11-02T17:56:58.641Z"
   },
   {
    "duration": 7,
    "start_time": "2022-11-02T17:57:17.143Z"
   },
   {
    "duration": 27,
    "start_time": "2022-11-02T17:57:25.437Z"
   },
   {
    "duration": 8,
    "start_time": "2022-11-02T18:10:12.539Z"
   },
   {
    "duration": 4,
    "start_time": "2022-11-02T18:10:27.660Z"
   },
   {
    "duration": 18,
    "start_time": "2022-11-02T18:11:01.996Z"
   },
   {
    "duration": 10,
    "start_time": "2022-11-02T18:13:34.821Z"
   },
   {
    "duration": 11,
    "start_time": "2022-11-02T18:13:46.651Z"
   },
   {
    "duration": 8,
    "start_time": "2022-11-02T18:14:00.046Z"
   },
   {
    "duration": 20,
    "start_time": "2022-11-02T18:14:57.694Z"
   },
   {
    "duration": 11,
    "start_time": "2022-11-02T18:14:58.720Z"
   },
   {
    "duration": 11,
    "start_time": "2022-11-02T18:15:10.767Z"
   },
   {
    "duration": 8,
    "start_time": "2022-11-02T18:15:56.573Z"
   },
   {
    "duration": 9,
    "start_time": "2022-11-02T18:16:35.461Z"
   },
   {
    "duration": 11,
    "start_time": "2022-11-02T19:34:43.383Z"
   },
   {
    "duration": 51,
    "start_time": "2022-11-03T08:11:38.649Z"
   },
   {
    "duration": 8,
    "start_time": "2022-11-03T08:11:48.893Z"
   },
   {
    "duration": 83,
    "start_time": "2022-11-03T08:11:57.973Z"
   },
   {
    "duration": 0,
    "start_time": "2022-11-03T08:11:58.058Z"
   },
   {
    "duration": 0,
    "start_time": "2022-11-03T08:11:58.060Z"
   },
   {
    "duration": 0,
    "start_time": "2022-11-03T08:11:58.061Z"
   },
   {
    "duration": 0,
    "start_time": "2022-11-03T08:11:58.062Z"
   },
   {
    "duration": 0,
    "start_time": "2022-11-03T08:11:58.063Z"
   },
   {
    "duration": 647,
    "start_time": "2022-11-03T08:12:20.549Z"
   },
   {
    "duration": 25,
    "start_time": "2022-11-03T08:12:21.355Z"
   },
   {
    "duration": 4,
    "start_time": "2022-11-03T08:12:22.608Z"
   },
   {
    "duration": 17,
    "start_time": "2022-11-03T08:12:23.030Z"
   },
   {
    "duration": 99,
    "start_time": "2022-11-03T08:12:24.061Z"
   },
   {
    "duration": 16,
    "start_time": "2022-11-03T08:12:24.537Z"
   },
   {
    "duration": 46,
    "start_time": "2022-11-03T12:16:17.663Z"
   },
   {
    "duration": 528,
    "start_time": "2022-11-03T12:16:25.132Z"
   },
   {
    "duration": 22,
    "start_time": "2022-11-03T12:16:25.895Z"
   },
   {
    "duration": 4,
    "start_time": "2022-11-03T12:16:26.381Z"
   },
   {
    "duration": 19,
    "start_time": "2022-11-03T12:16:26.556Z"
   },
   {
    "duration": 29,
    "start_time": "2022-11-03T12:16:26.945Z"
   },
   {
    "duration": 16,
    "start_time": "2022-11-03T12:16:28.248Z"
   },
   {
    "duration": 4,
    "start_time": "2022-11-03T12:17:04.616Z"
   },
   {
    "duration": 27,
    "start_time": "2022-11-03T12:17:06.820Z"
   },
   {
    "duration": 9,
    "start_time": "2022-11-03T12:52:32.473Z"
   },
   {
    "duration": 10,
    "start_time": "2022-11-03T12:54:02.673Z"
   },
   {
    "duration": 4,
    "start_time": "2022-11-03T12:54:06.468Z"
   },
   {
    "duration": 8,
    "start_time": "2022-11-03T12:54:06.961Z"
   },
   {
    "duration": 11,
    "start_time": "2022-11-03T12:54:10.414Z"
   },
   {
    "duration": 5,
    "start_time": "2022-11-03T12:54:11.806Z"
   },
   {
    "duration": 13,
    "start_time": "2022-11-03T12:54:12.390Z"
   },
   {
    "duration": 23,
    "start_time": "2022-11-03T12:54:18.733Z"
   },
   {
    "duration": 18,
    "start_time": "2022-11-03T12:54:47.384Z"
   },
   {
    "duration": 4,
    "start_time": "2022-11-03T12:54:56.306Z"
   },
   {
    "duration": 14,
    "start_time": "2022-11-03T12:54:56.687Z"
   },
   {
    "duration": 17,
    "start_time": "2022-11-03T12:54:57.672Z"
   },
   {
    "duration": 6,
    "start_time": "2022-11-03T12:55:02.644Z"
   },
   {
    "duration": 16,
    "start_time": "2022-11-03T12:55:03.156Z"
   },
   {
    "duration": 17,
    "start_time": "2022-11-03T12:57:12.610Z"
   },
   {
    "duration": 472,
    "start_time": "2022-11-03T12:58:34.211Z"
   },
   {
    "duration": 22,
    "start_time": "2022-11-03T12:58:34.685Z"
   },
   {
    "duration": 3,
    "start_time": "2022-11-03T12:58:34.708Z"
   },
   {
    "duration": 31,
    "start_time": "2022-11-03T12:58:34.713Z"
   },
   {
    "duration": 5,
    "start_time": "2022-11-03T12:58:34.748Z"
   },
   {
    "duration": 15,
    "start_time": "2022-11-03T12:58:34.754Z"
   },
   {
    "duration": 18,
    "start_time": "2022-11-03T12:58:34.770Z"
   },
   {
    "duration": 14,
    "start_time": "2022-11-03T12:58:46.758Z"
   },
   {
    "duration": 19,
    "start_time": "2022-11-03T12:58:48.963Z"
   },
   {
    "duration": 70,
    "start_time": "2022-11-03T13:00:09.258Z"
   },
   {
    "duration": 21,
    "start_time": "2022-11-03T13:00:21.631Z"
   },
   {
    "duration": 13,
    "start_time": "2022-11-03T13:00:24.834Z"
   },
   {
    "duration": 22,
    "start_time": "2022-11-03T13:00:25.235Z"
   },
   {
    "duration": 17,
    "start_time": "2022-11-03T13:00:27.282Z"
   },
   {
    "duration": 7,
    "start_time": "2022-11-03T13:00:35.093Z"
   },
   {
    "duration": 7,
    "start_time": "2022-11-03T13:00:36.967Z"
   },
   {
    "duration": 11,
    "start_time": "2022-11-03T13:00:49.579Z"
   },
   {
    "duration": 7,
    "start_time": "2022-11-03T13:01:46.260Z"
   },
   {
    "duration": 24,
    "start_time": "2022-11-03T13:02:10.642Z"
   },
   {
    "duration": 831,
    "start_time": "2022-11-03T13:04:56.144Z"
   },
   {
    "duration": 332,
    "start_time": "2022-11-03T13:05:25.251Z"
   },
   {
    "duration": 395,
    "start_time": "2022-11-03T13:05:32.059Z"
   },
   {
    "duration": 7,
    "start_time": "2022-11-03T13:06:11.057Z"
   },
   {
    "duration": 8,
    "start_time": "2022-11-03T13:06:21.251Z"
   },
   {
    "duration": 387,
    "start_time": "2022-11-03T13:13:27.626Z"
   },
   {
    "duration": 204,
    "start_time": "2022-11-03T13:13:45.497Z"
   },
   {
    "duration": 222,
    "start_time": "2022-11-03T13:13:53.305Z"
   },
   {
    "duration": 226,
    "start_time": "2022-11-03T13:13:59.950Z"
   },
   {
    "duration": 216,
    "start_time": "2022-11-03T13:14:05.615Z"
   },
   {
    "duration": 43,
    "start_time": "2022-11-03T13:14:12.360Z"
   },
   {
    "duration": 71,
    "start_time": "2022-11-03T13:14:19.501Z"
   },
   {
    "duration": 318,
    "start_time": "2022-11-03T13:16:06.894Z"
   },
   {
    "duration": 425,
    "start_time": "2022-11-03T13:16:18.169Z"
   },
   {
    "duration": 342,
    "start_time": "2022-11-03T13:16:32.004Z"
   },
   {
    "duration": 327,
    "start_time": "2022-11-03T13:16:40.852Z"
   },
   {
    "duration": 332,
    "start_time": "2022-11-03T13:16:45.573Z"
   },
   {
    "duration": 331,
    "start_time": "2022-11-03T13:16:55.871Z"
   },
   {
    "duration": 315,
    "start_time": "2022-11-03T13:17:35.367Z"
   },
   {
    "duration": 493,
    "start_time": "2022-11-03T13:17:38.148Z"
   },
   {
    "duration": 328,
    "start_time": "2022-11-03T13:17:43.494Z"
   },
   {
    "duration": 328,
    "start_time": "2022-11-03T13:18:02.098Z"
   },
   {
    "duration": 19,
    "start_time": "2022-11-03T13:20:26.228Z"
   },
   {
    "duration": 417,
    "start_time": "2022-11-03T13:21:25.392Z"
   },
   {
    "duration": 424,
    "start_time": "2022-11-03T13:21:30.906Z"
   },
   {
    "duration": 387,
    "start_time": "2022-11-03T13:21:36.777Z"
   },
   {
    "duration": 319,
    "start_time": "2022-11-03T13:21:42.801Z"
   },
   {
    "duration": 400,
    "start_time": "2022-11-03T13:21:48.274Z"
   },
   {
    "duration": 393,
    "start_time": "2022-11-03T13:22:05.954Z"
   },
   {
    "duration": 494,
    "start_time": "2022-11-03T13:22:47.469Z"
   },
   {
    "duration": 13,
    "start_time": "2022-11-03T13:36:36.310Z"
   },
   {
    "duration": 14,
    "start_time": "2022-11-03T13:36:58.813Z"
   },
   {
    "duration": 9,
    "start_time": "2022-11-03T13:38:22.552Z"
   },
   {
    "duration": 10,
    "start_time": "2022-11-03T13:38:49.111Z"
   },
   {
    "duration": 573,
    "start_time": "2022-11-03T13:38:56.122Z"
   },
   {
    "duration": 26,
    "start_time": "2022-11-03T13:38:56.697Z"
   },
   {
    "duration": 3,
    "start_time": "2022-11-03T13:38:56.725Z"
   },
   {
    "duration": 24,
    "start_time": "2022-11-03T13:38:56.730Z"
   },
   {
    "duration": 9,
    "start_time": "2022-11-03T13:38:56.755Z"
   },
   {
    "duration": 18,
    "start_time": "2022-11-03T13:38:56.765Z"
   },
   {
    "duration": 7,
    "start_time": "2022-11-03T13:38:56.785Z"
   },
   {
    "duration": 20,
    "start_time": "2022-11-03T13:38:56.793Z"
   },
   {
    "duration": 576,
    "start_time": "2022-11-03T13:38:56.815Z"
   },
   {
    "duration": 504,
    "start_time": "2022-11-03T13:38:57.394Z"
   },
   {
    "duration": 12,
    "start_time": "2022-11-03T13:38:57.900Z"
   },
   {
    "duration": 77,
    "start_time": "2022-11-03T13:40:38.374Z"
   },
   {
    "duration": 9,
    "start_time": "2022-11-03T13:57:44.054Z"
   },
   {
    "duration": 9,
    "start_time": "2022-11-03T13:58:14.979Z"
   },
   {
    "duration": 12,
    "start_time": "2022-11-03T13:58:55.007Z"
   },
   {
    "duration": 14,
    "start_time": "2022-11-03T13:59:03.057Z"
   },
   {
    "duration": 10,
    "start_time": "2022-11-03T14:01:26.262Z"
   },
   {
    "duration": 18,
    "start_time": "2022-11-03T14:01:36.361Z"
   },
   {
    "duration": 11,
    "start_time": "2022-11-03T14:01:37.028Z"
   },
   {
    "duration": 8,
    "start_time": "2022-11-03T14:01:45.298Z"
   },
   {
    "duration": 11,
    "start_time": "2022-11-03T14:02:05.766Z"
   },
   {
    "duration": 13,
    "start_time": "2022-11-03T14:02:13.460Z"
   },
   {
    "duration": 19,
    "start_time": "2022-11-03T14:02:29.161Z"
   },
   {
    "duration": 15,
    "start_time": "2022-11-03T14:02:40.954Z"
   },
   {
    "duration": 14,
    "start_time": "2022-11-03T14:02:55.655Z"
   },
   {
    "duration": 214,
    "start_time": "2022-11-03T14:03:55.114Z"
   },
   {
    "duration": 183,
    "start_time": "2022-11-03T14:04:09.023Z"
   },
   {
    "duration": 713,
    "start_time": "2022-11-03T14:04:31.496Z"
   },
   {
    "duration": 3,
    "start_time": "2022-11-03T14:05:25.878Z"
   },
   {
    "duration": 246,
    "start_time": "2022-11-03T14:05:28.832Z"
   },
   {
    "duration": 348,
    "start_time": "2022-11-03T14:05:42.761Z"
   },
   {
    "duration": 503,
    "start_time": "2022-11-03T14:17:44.133Z"
   },
   {
    "duration": 13,
    "start_time": "2022-11-03T14:20:29.246Z"
   },
   {
    "duration": 102,
    "start_time": "2022-11-03T14:20:44.153Z"
   },
   {
    "duration": 49,
    "start_time": "2022-11-03T14:20:48.902Z"
   },
   {
    "duration": 73,
    "start_time": "2022-11-03T14:20:59.748Z"
   },
   {
    "duration": 10,
    "start_time": "2022-11-03T14:21:18.117Z"
   },
   {
    "duration": 53,
    "start_time": "2022-11-03T14:22:01.786Z"
   },
   {
    "duration": 11,
    "start_time": "2022-11-03T14:22:05.712Z"
   },
   {
    "duration": 13,
    "start_time": "2022-11-03T14:22:12.065Z"
   },
   {
    "duration": 181,
    "start_time": "2022-11-03T14:22:28.646Z"
   },
   {
    "duration": 13,
    "start_time": "2022-11-03T14:22:55.070Z"
   },
   {
    "duration": 187,
    "start_time": "2022-11-03T14:22:59.837Z"
   },
   {
    "duration": 272,
    "start_time": "2022-11-03T14:23:50.119Z"
   },
   {
    "duration": 13,
    "start_time": "2022-11-03T14:25:58.341Z"
   },
   {
    "duration": 15,
    "start_time": "2022-11-03T14:26:03.525Z"
   },
   {
    "duration": 180,
    "start_time": "2022-11-03T14:26:08.242Z"
   },
   {
    "duration": 176,
    "start_time": "2022-11-03T14:26:40.579Z"
   },
   {
    "duration": 223,
    "start_time": "2022-11-03T14:27:06.239Z"
   },
   {
    "duration": 192,
    "start_time": "2022-11-03T14:27:23.726Z"
   },
   {
    "duration": 173,
    "start_time": "2022-11-03T14:27:53.973Z"
   },
   {
    "duration": 372,
    "start_time": "2022-11-03T14:28:03.553Z"
   },
   {
    "duration": 180,
    "start_time": "2022-11-03T14:28:07.295Z"
   },
   {
    "duration": 14,
    "start_time": "2022-11-03T14:28:52.939Z"
   },
   {
    "duration": 13,
    "start_time": "2022-11-03T14:29:02.845Z"
   },
   {
    "duration": 13,
    "start_time": "2022-11-03T14:29:09.393Z"
   },
   {
    "duration": 19,
    "start_time": "2022-11-03T14:29:18.192Z"
   },
   {
    "duration": 14,
    "start_time": "2022-11-03T14:29:28.105Z"
   },
   {
    "duration": 808,
    "start_time": "2022-11-03T14:29:44.511Z"
   },
   {
    "duration": 29,
    "start_time": "2022-11-03T14:29:56.275Z"
   },
   {
    "duration": 23,
    "start_time": "2022-11-03T14:30:23.779Z"
   },
   {
    "duration": 17,
    "start_time": "2022-11-03T14:30:41.458Z"
   },
   {
    "duration": 16,
    "start_time": "2022-11-03T14:31:26.282Z"
   },
   {
    "duration": 11,
    "start_time": "2022-11-03T14:32:29.543Z"
   },
   {
    "duration": 13,
    "start_time": "2022-11-03T14:32:45.100Z"
   },
   {
    "duration": 7,
    "start_time": "2022-11-03T14:32:54.711Z"
   },
   {
    "duration": 9,
    "start_time": "2022-11-03T14:33:28.535Z"
   },
   {
    "duration": 5,
    "start_time": "2022-11-03T14:34:32.683Z"
   },
   {
    "duration": 9,
    "start_time": "2022-11-03T14:34:33.150Z"
   },
   {
    "duration": 8,
    "start_time": "2022-11-03T14:34:35.709Z"
   },
   {
    "duration": 484,
    "start_time": "2022-11-03T14:34:42.819Z"
   },
   {
    "duration": 24,
    "start_time": "2022-11-03T14:34:43.305Z"
   },
   {
    "duration": 3,
    "start_time": "2022-11-03T14:34:43.330Z"
   },
   {
    "duration": 19,
    "start_time": "2022-11-03T14:34:43.336Z"
   },
   {
    "duration": 7,
    "start_time": "2022-11-03T14:34:43.357Z"
   },
   {
    "duration": 17,
    "start_time": "2022-11-03T14:34:43.365Z"
   },
   {
    "duration": 5,
    "start_time": "2022-11-03T14:34:43.384Z"
   },
   {
    "duration": 21,
    "start_time": "2022-11-03T14:34:43.391Z"
   },
   {
    "duration": 560,
    "start_time": "2022-11-03T14:34:43.413Z"
   },
   {
    "duration": 539,
    "start_time": "2022-11-03T14:34:43.975Z"
   },
   {
    "duration": 27,
    "start_time": "2022-11-03T14:34:44.515Z"
   },
   {
    "duration": 3,
    "start_time": "2022-11-03T14:34:44.544Z"
   },
   {
    "duration": 872,
    "start_time": "2022-11-03T14:34:44.549Z"
   },
   {
    "duration": 13,
    "start_time": "2022-11-03T14:34:45.430Z"
   },
   {
    "duration": 5,
    "start_time": "2022-11-03T14:34:45.446Z"
   },
   {
    "duration": 8,
    "start_time": "2022-11-03T14:34:45.805Z"
   },
   {
    "duration": 4,
    "start_time": "2022-11-03T14:35:52.931Z"
   },
   {
    "duration": 8,
    "start_time": "2022-11-03T14:35:53.366Z"
   },
   {
    "duration": 11,
    "start_time": "2022-11-03T14:35:58.735Z"
   },
   {
    "duration": 107,
    "start_time": "2022-11-03T14:36:18.235Z"
   },
   {
    "duration": 14,
    "start_time": "2022-11-03T14:36:29.379Z"
   },
   {
    "duration": 249,
    "start_time": "2022-11-03T14:36:40.601Z"
   },
   {
    "duration": 11,
    "start_time": "2022-11-03T14:37:01.314Z"
   },
   {
    "duration": 26,
    "start_time": "2022-11-03T14:37:37.915Z"
   },
   {
    "duration": 17,
    "start_time": "2022-11-03T14:37:49.014Z"
   },
   {
    "duration": 178,
    "start_time": "2022-11-03T14:37:53.418Z"
   },
   {
    "duration": 173,
    "start_time": "2022-11-03T14:38:23.092Z"
   },
   {
    "duration": 13,
    "start_time": "2022-11-03T14:39:29.603Z"
   },
   {
    "duration": 688,
    "start_time": "2022-11-03T14:39:40.566Z"
   },
   {
    "duration": 17,
    "start_time": "2022-11-03T14:40:05.749Z"
   },
   {
    "duration": 16,
    "start_time": "2022-11-03T14:40:10.393Z"
   },
   {
    "duration": 205,
    "start_time": "2022-11-03T14:40:21.968Z"
   },
   {
    "duration": 15,
    "start_time": "2022-11-03T14:41:33.035Z"
   },
   {
    "duration": 235,
    "start_time": "2022-11-03T14:41:37.431Z"
   },
   {
    "duration": 10,
    "start_time": "2022-11-03T14:53:12.400Z"
   },
   {
    "duration": 9,
    "start_time": "2022-11-03T14:53:19.110Z"
   },
   {
    "duration": 10,
    "start_time": "2022-11-03T14:54:02.663Z"
   },
   {
    "duration": 9,
    "start_time": "2022-11-03T14:54:08.221Z"
   },
   {
    "duration": 6,
    "start_time": "2022-11-03T14:55:12.979Z"
   },
   {
    "duration": 15,
    "start_time": "2022-11-03T14:55:29.811Z"
   },
   {
    "duration": 220,
    "start_time": "2022-11-03T14:55:56.202Z"
   },
   {
    "duration": 166,
    "start_time": "2022-11-03T14:58:53.700Z"
   },
   {
    "duration": 231,
    "start_time": "2022-11-03T14:59:14.959Z"
   },
   {
    "duration": 15,
    "start_time": "2022-11-03T15:02:28.511Z"
   },
   {
    "duration": 22,
    "start_time": "2022-11-03T15:03:04.266Z"
   },
   {
    "duration": 27,
    "start_time": "2022-11-03T15:03:11.152Z"
   },
   {
    "duration": 38,
    "start_time": "2022-11-03T15:03:17.233Z"
   },
   {
    "duration": 41,
    "start_time": "2022-11-03T15:03:23.250Z"
   },
   {
    "duration": 21,
    "start_time": "2022-11-03T15:03:39.093Z"
   },
   {
    "duration": 6,
    "start_time": "2022-11-03T15:03:40.286Z"
   },
   {
    "duration": 27,
    "start_time": "2022-11-03T15:03:40.500Z"
   },
   {
    "duration": 446,
    "start_time": "2022-11-03T15:03:41.989Z"
   },
   {
    "duration": 521,
    "start_time": "2022-11-03T15:03:43.403Z"
   },
   {
    "duration": 17,
    "start_time": "2022-11-03T15:03:44.053Z"
   },
   {
    "duration": 5,
    "start_time": "2022-11-03T15:03:44.223Z"
   },
   {
    "duration": 318,
    "start_time": "2022-11-03T15:03:44.638Z"
   },
   {
    "duration": 194,
    "start_time": "2022-11-03T15:03:48.810Z"
   },
   {
    "duration": 247,
    "start_time": "2022-11-03T15:03:52.263Z"
   },
   {
    "duration": 7,
    "start_time": "2022-11-03T15:03:54.263Z"
   },
   {
    "duration": 158,
    "start_time": "2022-11-03T15:03:54.694Z"
   },
   {
    "duration": 140,
    "start_time": "2022-11-03T15:03:55.871Z"
   },
   {
    "duration": 436,
    "start_time": "2022-11-03T15:04:48.684Z"
   },
   {
    "duration": 65,
    "start_time": "2022-11-03T15:04:49.122Z"
   },
   {
    "duration": 4,
    "start_time": "2022-11-03T15:04:49.189Z"
   },
   {
    "duration": 63,
    "start_time": "2022-11-03T15:04:49.196Z"
   },
   {
    "duration": 17,
    "start_time": "2022-11-03T15:04:49.261Z"
   },
   {
    "duration": 6,
    "start_time": "2022-11-03T15:04:49.280Z"
   },
   {
    "duration": 19,
    "start_time": "2022-11-03T15:04:49.287Z"
   },
   {
    "duration": 601,
    "start_time": "2022-11-03T15:04:49.332Z"
   },
   {
    "duration": 644,
    "start_time": "2022-11-03T15:04:49.935Z"
   },
   {
    "duration": 16,
    "start_time": "2022-11-03T15:04:50.583Z"
   },
   {
    "duration": 15,
    "start_time": "2022-11-03T15:04:50.601Z"
   },
   {
    "duration": 914,
    "start_time": "2022-11-03T15:04:50.619Z"
   },
   {
    "duration": 201,
    "start_time": "2022-11-03T15:04:51.535Z"
   },
   {
    "duration": 7,
    "start_time": "2022-11-03T15:04:51.738Z"
   },
   {
    "duration": 239,
    "start_time": "2022-11-03T15:04:51.746Z"
   },
   {
    "duration": 359,
    "start_time": "2022-11-03T15:04:51.988Z"
   },
   {
    "duration": 12,
    "start_time": "2022-11-03T15:13:48.944Z"
   },
   {
    "duration": 26,
    "start_time": "2022-11-03T15:14:23.801Z"
   },
   {
    "duration": 16,
    "start_time": "2022-11-03T15:14:28.940Z"
   },
   {
    "duration": 17,
    "start_time": "2022-11-03T15:14:29.388Z"
   },
   {
    "duration": 326,
    "start_time": "2022-11-03T15:14:33.517Z"
   },
   {
    "duration": 534,
    "start_time": "2022-11-03T15:14:33.863Z"
   },
   {
    "duration": 16,
    "start_time": "2022-11-03T15:14:34.519Z"
   },
   {
    "duration": 5,
    "start_time": "2022-11-03T15:14:34.715Z"
   },
   {
    "duration": 377,
    "start_time": "2022-11-03T15:14:35.135Z"
   },
   {
    "duration": 252,
    "start_time": "2022-11-03T15:14:36.386Z"
   },
   {
    "duration": 190,
    "start_time": "2022-11-03T15:14:39.004Z"
   },
   {
    "duration": 6,
    "start_time": "2022-11-03T15:14:41.291Z"
   },
   {
    "duration": 232,
    "start_time": "2022-11-03T15:14:41.890Z"
   },
   {
    "duration": 263,
    "start_time": "2022-11-03T15:14:42.891Z"
   },
   {
    "duration": 11,
    "start_time": "2022-11-03T15:15:46.761Z"
   },
   {
    "duration": 5,
    "start_time": "2022-11-03T15:15:48.926Z"
   },
   {
    "duration": 7,
    "start_time": "2022-11-03T15:15:49.824Z"
   },
   {
    "duration": 29,
    "start_time": "2022-11-03T15:15:50.209Z"
   },
   {
    "duration": 322,
    "start_time": "2022-11-03T15:15:50.893Z"
   },
   {
    "duration": 511,
    "start_time": "2022-11-03T15:15:51.219Z"
   },
   {
    "duration": 16,
    "start_time": "2022-11-03T15:15:51.733Z"
   },
   {
    "duration": 4,
    "start_time": "2022-11-03T15:15:51.862Z"
   },
   {
    "duration": 363,
    "start_time": "2022-11-03T15:15:52.198Z"
   },
   {
    "duration": 182,
    "start_time": "2022-11-03T15:15:52.713Z"
   },
   {
    "duration": 7,
    "start_time": "2022-11-03T15:15:53.580Z"
   },
   {
    "duration": 159,
    "start_time": "2022-11-03T15:15:54.012Z"
   },
   {
    "duration": 257,
    "start_time": "2022-11-03T15:15:54.902Z"
   },
   {
    "duration": 179,
    "start_time": "2022-11-03T15:17:21.525Z"
   },
   {
    "duration": 5,
    "start_time": "2022-11-03T15:26:11.177Z"
   },
   {
    "duration": 4,
    "start_time": "2022-11-03T15:26:14.343Z"
   },
   {
    "duration": 5,
    "start_time": "2022-11-03T15:26:40.591Z"
   },
   {
    "duration": 4,
    "start_time": "2022-11-03T15:26:51.991Z"
   },
   {
    "duration": 5,
    "start_time": "2022-11-03T15:27:12.070Z"
   },
   {
    "duration": 5,
    "start_time": "2022-11-03T15:27:14.923Z"
   },
   {
    "duration": 48,
    "start_time": "2022-11-03T15:27:17.346Z"
   },
   {
    "duration": 4,
    "start_time": "2022-11-03T15:27:24.992Z"
   },
   {
    "duration": 4,
    "start_time": "2022-11-03T15:27:34.276Z"
   },
   {
    "duration": 5,
    "start_time": "2022-11-03T15:27:50.766Z"
   },
   {
    "duration": 41,
    "start_time": "2022-11-03T15:27:57.459Z"
   },
   {
    "duration": 7,
    "start_time": "2022-11-03T15:28:20.251Z"
   },
   {
    "duration": 199,
    "start_time": "2022-11-03T15:51:18.550Z"
   },
   {
    "duration": 182,
    "start_time": "2022-11-03T15:52:25.872Z"
   },
   {
    "duration": 171,
    "start_time": "2022-11-03T15:52:49.951Z"
   },
   {
    "duration": 175,
    "start_time": "2022-11-03T15:55:07.944Z"
   },
   {
    "duration": 174,
    "start_time": "2022-11-03T15:55:19.370Z"
   },
   {
    "duration": 167,
    "start_time": "2022-11-03T15:55:29.117Z"
   },
   {
    "duration": 167,
    "start_time": "2022-11-03T15:55:59.343Z"
   },
   {
    "duration": 166,
    "start_time": "2022-11-03T15:56:21.815Z"
   },
   {
    "duration": 10,
    "start_time": "2022-11-03T15:57:36.112Z"
   },
   {
    "duration": 15,
    "start_time": "2022-11-03T15:57:54.029Z"
   },
   {
    "duration": 11,
    "start_time": "2022-11-03T15:58:13.774Z"
   },
   {
    "duration": 11,
    "start_time": "2022-11-03T15:58:15.718Z"
   },
   {
    "duration": 740,
    "start_time": "2022-11-03T15:59:03.159Z"
   },
   {
    "duration": 49,
    "start_time": "2022-11-03T15:59:33.505Z"
   },
   {
    "duration": 53,
    "start_time": "2022-11-03T15:59:39.634Z"
   },
   {
    "duration": 69,
    "start_time": "2022-11-03T15:59:42.696Z"
   },
   {
    "duration": 761,
    "start_time": "2022-11-03T15:59:46.543Z"
   },
   {
    "duration": 1045,
    "start_time": "2022-11-03T16:00:12.007Z"
   },
   {
    "duration": 21,
    "start_time": "2022-11-03T16:00:53.304Z"
   },
   {
    "duration": 19,
    "start_time": "2022-11-03T16:01:02.270Z"
   },
   {
    "duration": 157,
    "start_time": "2022-11-03T16:02:04.866Z"
   },
   {
    "duration": 181,
    "start_time": "2022-11-03T16:02:13.178Z"
   },
   {
    "duration": 148,
    "start_time": "2022-11-03T16:02:17.546Z"
   },
   {
    "duration": 257,
    "start_time": "2022-11-03T16:02:29.278Z"
   },
   {
    "duration": 5,
    "start_time": "2022-11-03T16:04:23.560Z"
   },
   {
    "duration": 5,
    "start_time": "2022-11-03T16:04:27.053Z"
   },
   {
    "duration": 744,
    "start_time": "2022-11-03T17:08:27.149Z"
   },
   {
    "duration": 5,
    "start_time": "2022-11-03T17:09:07.349Z"
   },
   {
    "duration": 297,
    "start_time": "2022-11-03T17:09:16.804Z"
   },
   {
    "duration": 629,
    "start_time": "2022-11-03T17:19:34.604Z"
   },
   {
    "duration": 667,
    "start_time": "2022-11-03T17:19:58.248Z"
   },
   {
    "duration": 1648,
    "start_time": "2022-11-03T17:20:14.723Z"
   },
   {
    "duration": 630,
    "start_time": "2022-11-03T17:21:21.347Z"
   },
   {
    "duration": 1464,
    "start_time": "2022-11-03T17:21:26.728Z"
   },
   {
    "duration": 1616,
    "start_time": "2022-11-03T17:22:55.101Z"
   },
   {
    "duration": 1669,
    "start_time": "2022-11-03T17:22:59.286Z"
   },
   {
    "duration": 9,
    "start_time": "2022-11-03T17:24:20.569Z"
   },
   {
    "duration": 14,
    "start_time": "2022-11-03T17:24:24.256Z"
   },
   {
    "duration": 13,
    "start_time": "2022-11-03T17:24:39.584Z"
   },
   {
    "duration": 9,
    "start_time": "2022-11-03T17:25:00.471Z"
   },
   {
    "duration": 866,
    "start_time": "2022-11-03T17:25:10.422Z"
   },
   {
    "duration": 836,
    "start_time": "2022-11-03T17:25:53.306Z"
   },
   {
    "duration": 49,
    "start_time": "2022-11-03T17:26:34.469Z"
   },
   {
    "duration": 1324,
    "start_time": "2022-11-03T17:26:50.228Z"
   },
   {
    "duration": 906,
    "start_time": "2022-11-03T17:27:24.567Z"
   },
   {
    "duration": 900,
    "start_time": "2022-11-03T17:27:46.874Z"
   },
   {
    "duration": 486,
    "start_time": "2022-11-03T17:28:01.347Z"
   },
   {
    "duration": 43,
    "start_time": "2022-11-03T17:28:01.836Z"
   },
   {
    "duration": 3,
    "start_time": "2022-11-03T17:28:01.881Z"
   },
   {
    "duration": 53,
    "start_time": "2022-11-03T17:28:01.887Z"
   },
   {
    "duration": 31,
    "start_time": "2022-11-03T17:28:01.942Z"
   },
   {
    "duration": 25,
    "start_time": "2022-11-03T17:28:01.975Z"
   },
   {
    "duration": 13,
    "start_time": "2022-11-03T17:28:02.002Z"
   },
   {
    "duration": 38,
    "start_time": "2022-11-03T17:28:02.017Z"
   },
   {
    "duration": 35,
    "start_time": "2022-11-03T17:28:02.057Z"
   },
   {
    "duration": 603,
    "start_time": "2022-11-03T17:28:02.096Z"
   },
   {
    "duration": 528,
    "start_time": "2022-11-03T17:28:02.701Z"
   },
   {
    "duration": 17,
    "start_time": "2022-11-03T17:28:03.230Z"
   },
   {
    "duration": 7,
    "start_time": "2022-11-03T17:28:03.249Z"
   },
   {
    "duration": 907,
    "start_time": "2022-11-03T17:28:03.258Z"
   },
   {
    "duration": 164,
    "start_time": "2022-11-03T17:28:04.167Z"
   },
   {
    "duration": 8,
    "start_time": "2022-11-03T17:28:04.333Z"
   },
   {
    "duration": 232,
    "start_time": "2022-11-03T17:28:04.343Z"
   },
   {
    "duration": 6,
    "start_time": "2022-11-03T17:28:04.577Z"
   },
   {
    "duration": 176,
    "start_time": "2022-11-03T17:28:04.585Z"
   },
   {
    "duration": 6,
    "start_time": "2022-11-03T17:28:04.764Z"
   },
   {
    "duration": 819,
    "start_time": "2022-11-03T17:28:04.771Z"
   },
   {
    "duration": 4,
    "start_time": "2022-11-03T17:28:05.592Z"
   },
   {
    "duration": 310,
    "start_time": "2022-11-03T17:28:05.598Z"
   },
   {
    "duration": 16,
    "start_time": "2022-11-03T17:28:06.503Z"
   },
   {
    "duration": 619,
    "start_time": "2022-11-03T17:28:06.533Z"
   },
   {
    "duration": 512,
    "start_time": "2022-11-03T17:28:51.423Z"
   },
   {
    "duration": 131,
    "start_time": "2022-11-03T17:30:59.663Z"
   },
   {
    "duration": 485,
    "start_time": "2022-11-03T17:31:00.466Z"
   },
   {
    "duration": 452,
    "start_time": "2022-11-03T17:31:24.888Z"
   },
   {
    "duration": 814,
    "start_time": "2022-11-03T17:33:10.309Z"
   },
   {
    "duration": 852,
    "start_time": "2022-11-03T17:33:18.020Z"
   },
   {
    "duration": 707,
    "start_time": "2022-11-03T17:33:29.662Z"
   },
   {
    "duration": 10,
    "start_time": "2022-11-03T17:34:29.145Z"
   },
   {
    "duration": 10,
    "start_time": "2022-11-03T17:34:44.856Z"
   },
   {
    "duration": 11,
    "start_time": "2022-11-03T17:34:46.536Z"
   },
   {
    "duration": 13,
    "start_time": "2022-11-03T17:35:04.508Z"
   },
   {
    "duration": 47,
    "start_time": "2022-11-03T17:36:12.437Z"
   },
   {
    "duration": 12,
    "start_time": "2022-11-03T17:36:17.042Z"
   },
   {
    "duration": 13,
    "start_time": "2022-11-03T17:36:42.774Z"
   },
   {
    "duration": 13,
    "start_time": "2022-11-03T17:36:50.214Z"
   },
   {
    "duration": 13,
    "start_time": "2022-11-03T17:37:01.159Z"
   },
   {
    "duration": 12,
    "start_time": "2022-11-03T17:38:06.430Z"
   },
   {
    "duration": 14,
    "start_time": "2022-11-03T17:38:17.077Z"
   },
   {
    "duration": 17,
    "start_time": "2022-11-03T17:38:31.559Z"
   },
   {
    "duration": 13,
    "start_time": "2022-11-03T17:38:34.568Z"
   },
   {
    "duration": 9,
    "start_time": "2022-11-03T17:41:11.972Z"
   },
   {
    "duration": 9,
    "start_time": "2022-11-03T17:41:37.799Z"
   },
   {
    "duration": 15,
    "start_time": "2022-11-03T17:41:46.161Z"
   },
   {
    "duration": 8,
    "start_time": "2022-11-03T17:42:05.172Z"
   },
   {
    "duration": 12,
    "start_time": "2022-11-03T17:42:08.236Z"
   },
   {
    "duration": 8,
    "start_time": "2022-11-03T17:42:17.453Z"
   },
   {
    "duration": 13,
    "start_time": "2022-11-03T17:42:18.073Z"
   },
   {
    "duration": 12,
    "start_time": "2022-11-03T17:44:50.248Z"
   },
   {
    "duration": 13,
    "start_time": "2022-11-03T17:45:26.377Z"
   },
   {
    "duration": 9,
    "start_time": "2022-11-03T17:45:31.594Z"
   },
   {
    "duration": 685,
    "start_time": "2022-11-03T17:46:34.250Z"
   },
   {
    "duration": 13,
    "start_time": "2022-11-03T17:49:24.291Z"
   },
   {
    "duration": 10,
    "start_time": "2022-11-03T17:49:32.256Z"
   },
   {
    "duration": 10,
    "start_time": "2022-11-03T17:49:50.213Z"
   },
   {
    "duration": 611,
    "start_time": "2022-11-03T17:50:37.635Z"
   },
   {
    "duration": 722,
    "start_time": "2022-11-03T17:51:11.869Z"
   },
   {
    "duration": 115,
    "start_time": "2022-11-03T17:55:10.594Z"
   },
   {
    "duration": 108,
    "start_time": "2022-11-03T17:55:23.034Z"
   },
   {
    "duration": 11,
    "start_time": "2022-11-03T17:59:33.613Z"
   },
   {
    "duration": 9,
    "start_time": "2022-11-03T17:59:45.994Z"
   },
   {
    "duration": 13,
    "start_time": "2022-11-03T18:01:21.240Z"
   },
   {
    "duration": 12,
    "start_time": "2022-11-03T18:01:48.926Z"
   },
   {
    "duration": 479,
    "start_time": "2022-11-03T18:04:46.951Z"
   },
   {
    "duration": 45,
    "start_time": "2022-11-03T18:04:47.432Z"
   },
   {
    "duration": 3,
    "start_time": "2022-11-03T18:04:47.479Z"
   },
   {
    "duration": 30,
    "start_time": "2022-11-03T18:04:47.484Z"
   },
   {
    "duration": 38,
    "start_time": "2022-11-03T18:04:47.516Z"
   },
   {
    "duration": 16,
    "start_time": "2022-11-03T18:04:47.556Z"
   },
   {
    "duration": 11,
    "start_time": "2022-11-03T18:04:47.573Z"
   },
   {
    "duration": 11,
    "start_time": "2022-11-03T18:04:47.585Z"
   },
   {
    "duration": 37,
    "start_time": "2022-11-03T18:04:47.597Z"
   },
   {
    "duration": 603,
    "start_time": "2022-11-03T18:04:47.640Z"
   },
   {
    "duration": 546,
    "start_time": "2022-11-03T18:04:48.245Z"
   },
   {
    "duration": 17,
    "start_time": "2022-11-03T18:04:48.793Z"
   },
   {
    "duration": 4,
    "start_time": "2022-11-03T18:04:48.811Z"
   },
   {
    "duration": 931,
    "start_time": "2022-11-03T18:04:48.834Z"
   },
   {
    "duration": 162,
    "start_time": "2022-11-03T18:04:49.768Z"
   },
   {
    "duration": 80,
    "start_time": "2022-11-03T18:04:49.931Z"
   },
   {
    "duration": 15,
    "start_time": "2022-11-03T18:04:50.012Z"
   },
   {
    "duration": 163,
    "start_time": "2022-11-03T18:04:50.028Z"
   },
   {
    "duration": 5,
    "start_time": "2022-11-03T18:04:50.193Z"
   },
   {
    "duration": 175,
    "start_time": "2022-11-03T18:04:50.200Z"
   },
   {
    "duration": 6,
    "start_time": "2022-11-03T18:04:50.377Z"
   },
   {
    "duration": 783,
    "start_time": "2022-11-03T18:04:50.385Z"
   },
   {
    "duration": 4,
    "start_time": "2022-11-03T18:04:51.170Z"
   },
   {
    "duration": 229,
    "start_time": "2022-11-03T18:04:51.176Z"
   },
   {
    "duration": 2594,
    "start_time": "2022-11-03T18:04:51.434Z"
   },
   {
    "duration": 123,
    "start_time": "2022-11-03T18:04:54.030Z"
   },
   {
    "duration": 0,
    "start_time": "2022-11-03T18:04:54.155Z"
   },
   {
    "duration": 230,
    "start_time": "2022-11-03T18:04:54.350Z"
   },
   {
    "duration": 275,
    "start_time": "2022-11-03T18:05:06.861Z"
   },
   {
    "duration": 8,
    "start_time": "2022-11-03T18:05:12.956Z"
   },
   {
    "duration": 10,
    "start_time": "2022-11-03T18:05:14.790Z"
   },
   {
    "duration": 176,
    "start_time": "2022-11-03T18:05:15.400Z"
   },
   {
    "duration": 6,
    "start_time": "2022-11-03T18:05:16.115Z"
   },
   {
    "duration": 193,
    "start_time": "2022-11-03T18:05:17.160Z"
   },
   {
    "duration": 5,
    "start_time": "2022-11-03T18:05:17.918Z"
   },
   {
    "duration": 761,
    "start_time": "2022-11-03T18:05:19.349Z"
   },
   {
    "duration": 3,
    "start_time": "2022-11-03T18:05:20.713Z"
   },
   {
    "duration": 290,
    "start_time": "2022-11-03T18:05:21.197Z"
   },
   {
    "duration": 23,
    "start_time": "2022-11-03T18:07:38.160Z"
   },
   {
    "duration": 236,
    "start_time": "2022-11-03T18:07:45.682Z"
   },
   {
    "duration": 2324,
    "start_time": "2022-11-03T18:10:44.373Z"
   },
   {
    "duration": 6,
    "start_time": "2022-11-03T18:17:49.597Z"
   },
   {
    "duration": 580,
    "start_time": "2022-11-03T18:18:00.350Z"
   },
   {
    "duration": 7,
    "start_time": "2022-11-03T18:18:55.205Z"
   },
   {
    "duration": 402,
    "start_time": "2022-11-03T18:18:56.512Z"
   },
   {
    "duration": 487,
    "start_time": "2022-11-03T18:19:13.995Z"
   },
   {
    "duration": 53,
    "start_time": "2022-11-03T18:19:14.485Z"
   },
   {
    "duration": 3,
    "start_time": "2022-11-03T18:19:14.540Z"
   },
   {
    "duration": 30,
    "start_time": "2022-11-03T18:19:14.546Z"
   },
   {
    "duration": 22,
    "start_time": "2022-11-03T18:19:14.578Z"
   },
   {
    "duration": 39,
    "start_time": "2022-11-03T18:19:14.602Z"
   },
   {
    "duration": 9,
    "start_time": "2022-11-03T18:19:14.643Z"
   },
   {
    "duration": 8,
    "start_time": "2022-11-03T18:19:14.654Z"
   },
   {
    "duration": 23,
    "start_time": "2022-11-03T18:19:14.663Z"
   },
   {
    "duration": 558,
    "start_time": "2022-11-03T18:19:14.689Z"
   },
   {
    "duration": 533,
    "start_time": "2022-11-03T18:19:15.248Z"
   },
   {
    "duration": 17,
    "start_time": "2022-11-03T18:19:15.783Z"
   },
   {
    "duration": 4,
    "start_time": "2022-11-03T18:19:15.802Z"
   },
   {
    "duration": 949,
    "start_time": "2022-11-03T18:19:15.808Z"
   },
   {
    "duration": 164,
    "start_time": "2022-11-03T18:19:16.759Z"
   },
   {
    "duration": 84,
    "start_time": "2022-11-03T18:19:16.924Z"
   },
   {
    "duration": 11,
    "start_time": "2022-11-03T18:19:17.009Z"
   },
   {
    "duration": 160,
    "start_time": "2022-11-03T18:19:17.022Z"
   },
   {
    "duration": 6,
    "start_time": "2022-11-03T18:19:17.183Z"
   },
   {
    "duration": 149,
    "start_time": "2022-11-03T18:19:17.190Z"
   },
   {
    "duration": 6,
    "start_time": "2022-11-03T18:19:17.341Z"
   },
   {
    "duration": 694,
    "start_time": "2022-11-03T18:19:17.349Z"
   },
   {
    "duration": 4,
    "start_time": "2022-11-03T18:19:18.045Z"
   },
   {
    "duration": 254,
    "start_time": "2022-11-03T18:19:18.051Z"
   },
   {
    "duration": 1808,
    "start_time": "2022-11-03T18:19:18.307Z"
   },
   {
    "duration": 236,
    "start_time": "2022-11-03T18:19:20.116Z"
   },
   {
    "duration": 239,
    "start_time": "2022-11-03T18:19:20.354Z"
   },
   {
    "duration": 0,
    "start_time": "2022-11-03T18:19:21.197Z"
   },
   {
    "duration": 0,
    "start_time": "2022-11-03T18:19:21.199Z"
   },
   {
    "duration": 5,
    "start_time": "2022-11-03T18:19:25.490Z"
   },
   {
    "duration": 517,
    "start_time": "2022-11-03T18:19:26.085Z"
   },
   {
    "duration": 380,
    "start_time": "2022-11-03T18:19:34.737Z"
   },
   {
    "duration": 15,
    "start_time": "2022-11-03T18:22:02.168Z"
   },
   {
    "duration": 523,
    "start_time": "2022-11-03T18:22:16.923Z"
   },
   {
    "duration": 11,
    "start_time": "2022-11-03T18:33:14.854Z"
   },
   {
    "duration": 467,
    "start_time": "2022-11-03T18:33:26.416Z"
   },
   {
    "duration": 520,
    "start_time": "2022-11-03T18:34:59.004Z"
   },
   {
    "duration": 10,
    "start_time": "2022-11-03T18:40:55.308Z"
   },
   {
    "duration": 13,
    "start_time": "2022-11-03T18:41:20.546Z"
   },
   {
    "duration": 11,
    "start_time": "2022-11-03T18:41:33.665Z"
   },
   {
    "duration": 11,
    "start_time": "2022-11-03T18:41:45.344Z"
   },
   {
    "duration": 10,
    "start_time": "2022-11-03T18:41:45.768Z"
   },
   {
    "duration": 14,
    "start_time": "2022-11-03T18:41:58.888Z"
   },
   {
    "duration": 488,
    "start_time": "2022-11-03T18:42:37.928Z"
   },
   {
    "duration": 46,
    "start_time": "2022-11-03T18:42:38.418Z"
   },
   {
    "duration": 4,
    "start_time": "2022-11-03T18:42:38.465Z"
   },
   {
    "duration": 30,
    "start_time": "2022-11-03T18:42:38.471Z"
   },
   {
    "duration": 33,
    "start_time": "2022-11-03T18:42:38.502Z"
   },
   {
    "duration": 16,
    "start_time": "2022-11-03T18:42:38.537Z"
   },
   {
    "duration": 9,
    "start_time": "2022-11-03T18:42:38.555Z"
   },
   {
    "duration": 9,
    "start_time": "2022-11-03T18:42:38.566Z"
   },
   {
    "duration": 22,
    "start_time": "2022-11-03T18:42:38.576Z"
   },
   {
    "duration": 581,
    "start_time": "2022-11-03T18:42:38.602Z"
   },
   {
    "duration": 493,
    "start_time": "2022-11-03T18:42:39.185Z"
   },
   {
    "duration": 16,
    "start_time": "2022-11-03T18:42:39.681Z"
   },
   {
    "duration": 8,
    "start_time": "2022-11-03T18:42:39.699Z"
   },
   {
    "duration": 892,
    "start_time": "2022-11-03T18:42:39.709Z"
   },
   {
    "duration": 151,
    "start_time": "2022-11-03T18:42:40.603Z"
   },
   {
    "duration": 82,
    "start_time": "2022-11-03T18:42:40.756Z"
   },
   {
    "duration": 14,
    "start_time": "2022-11-03T18:42:40.840Z"
   },
   {
    "duration": 142,
    "start_time": "2022-11-03T18:42:40.856Z"
   },
   {
    "duration": 6,
    "start_time": "2022-11-03T18:42:41.000Z"
   },
   {
    "duration": 142,
    "start_time": "2022-11-03T18:42:41.007Z"
   },
   {
    "duration": 6,
    "start_time": "2022-11-03T18:42:41.151Z"
   },
   {
    "duration": 714,
    "start_time": "2022-11-03T18:42:41.159Z"
   },
   {
    "duration": 4,
    "start_time": "2022-11-03T18:42:41.875Z"
   },
   {
    "duration": 278,
    "start_time": "2022-11-03T18:42:41.881Z"
   },
   {
    "duration": 1747,
    "start_time": "2022-11-03T18:42:42.160Z"
   },
   {
    "duration": 208,
    "start_time": "2022-11-03T18:42:43.908Z"
   },
   {
    "duration": 224,
    "start_time": "2022-11-03T18:42:44.118Z"
   },
   {
    "duration": 526,
    "start_time": "2022-11-03T18:42:44.345Z"
   },
   {
    "duration": 425,
    "start_time": "2022-11-03T18:42:44.873Z"
   },
   {
    "duration": 471,
    "start_time": "2022-11-03T18:42:45.299Z"
   },
   {
    "duration": 0,
    "start_time": "2022-11-03T18:42:45.898Z"
   },
   {
    "duration": 0,
    "start_time": "2022-11-03T18:42:45.899Z"
   },
   {
    "duration": 10,
    "start_time": "2022-11-03T18:42:49.050Z"
   },
   {
    "duration": 10,
    "start_time": "2022-11-03T18:42:49.643Z"
   },
   {
    "duration": 10,
    "start_time": "2022-11-03T18:42:57.562Z"
   },
   {
    "duration": 12,
    "start_time": "2022-11-03T18:43:00.062Z"
   },
   {
    "duration": 11,
    "start_time": "2022-11-03T18:43:06.941Z"
   },
   {
    "duration": 84,
    "start_time": "2022-11-03T18:43:34.769Z"
   },
   {
    "duration": 9,
    "start_time": "2022-11-03T18:43:41.361Z"
   },
   {
    "duration": 10,
    "start_time": "2022-11-03T18:43:47.570Z"
   },
   {
    "duration": 10,
    "start_time": "2022-11-03T18:43:52.463Z"
   },
   {
    "duration": 13,
    "start_time": "2022-11-03T18:44:16.097Z"
   },
   {
    "duration": 10,
    "start_time": "2022-11-03T18:45:22.304Z"
   },
   {
    "duration": 9,
    "start_time": "2022-11-03T18:45:34.860Z"
   },
   {
    "duration": 12,
    "start_time": "2022-11-03T18:45:38.092Z"
   },
   {
    "duration": 44,
    "start_time": "2022-11-03T18:48:19.222Z"
   },
   {
    "duration": 17,
    "start_time": "2022-11-03T18:48:24.606Z"
   },
   {
    "duration": 19,
    "start_time": "2022-11-03T18:48:46.174Z"
   },
   {
    "duration": 17,
    "start_time": "2022-11-03T18:48:49.539Z"
   },
   {
    "duration": 20,
    "start_time": "2022-11-03T18:53:22.242Z"
   },
   {
    "duration": 17,
    "start_time": "2022-11-03T18:53:24.726Z"
   },
   {
    "duration": 18,
    "start_time": "2022-11-03T18:53:28.499Z"
   },
   {
    "duration": 18,
    "start_time": "2022-11-03T18:53:38.866Z"
   },
   {
    "duration": 17,
    "start_time": "2022-11-03T18:54:50.331Z"
   },
   {
    "duration": 24,
    "start_time": "2022-11-03T18:55:17.932Z"
   },
   {
    "duration": 492,
    "start_time": "2022-11-03T18:55:33.620Z"
   },
   {
    "duration": 37,
    "start_time": "2022-11-03T18:55:34.114Z"
   },
   {
    "duration": 4,
    "start_time": "2022-11-03T18:55:34.153Z"
   },
   {
    "duration": 52,
    "start_time": "2022-11-03T18:55:34.159Z"
   },
   {
    "duration": 54,
    "start_time": "2022-11-03T18:55:34.213Z"
   },
   {
    "duration": 33,
    "start_time": "2022-11-03T18:55:34.268Z"
   },
   {
    "duration": 8,
    "start_time": "2022-11-03T18:55:34.302Z"
   },
   {
    "duration": 15,
    "start_time": "2022-11-03T18:55:34.311Z"
   },
   {
    "duration": 21,
    "start_time": "2022-11-03T18:55:34.328Z"
   },
   {
    "duration": 549,
    "start_time": "2022-11-03T18:55:34.352Z"
   },
   {
    "duration": 551,
    "start_time": "2022-11-03T18:55:34.903Z"
   },
   {
    "duration": 16,
    "start_time": "2022-11-03T18:55:35.456Z"
   },
   {
    "duration": 5,
    "start_time": "2022-11-03T18:55:35.473Z"
   },
   {
    "duration": 1013,
    "start_time": "2022-11-03T18:55:35.480Z"
   },
   {
    "duration": 198,
    "start_time": "2022-11-03T18:55:36.496Z"
   },
   {
    "duration": 84,
    "start_time": "2022-11-03T18:55:36.696Z"
   },
   {
    "duration": 18,
    "start_time": "2022-11-03T18:55:36.782Z"
   },
   {
    "duration": 155,
    "start_time": "2022-11-03T18:55:36.802Z"
   },
   {
    "duration": 6,
    "start_time": "2022-11-03T18:55:36.958Z"
   },
   {
    "duration": 152,
    "start_time": "2022-11-03T18:55:36.966Z"
   },
   {
    "duration": 14,
    "start_time": "2022-11-03T18:55:37.119Z"
   },
   {
    "duration": 756,
    "start_time": "2022-11-03T18:55:37.135Z"
   },
   {
    "duration": 4,
    "start_time": "2022-11-03T18:55:37.892Z"
   },
   {
    "duration": 323,
    "start_time": "2022-11-03T18:55:37.898Z"
   },
   {
    "duration": 1858,
    "start_time": "2022-11-03T18:55:38.222Z"
   },
   {
    "duration": 222,
    "start_time": "2022-11-03T18:55:40.081Z"
   },
   {
    "duration": 216,
    "start_time": "2022-11-03T18:55:40.304Z"
   },
   {
    "duration": 534,
    "start_time": "2022-11-03T18:55:40.525Z"
   },
   {
    "duration": 445,
    "start_time": "2022-11-03T18:55:41.062Z"
   },
   {
    "duration": 516,
    "start_time": "2022-11-03T18:55:41.509Z"
   },
   {
    "duration": 112,
    "start_time": "2022-11-03T18:55:42.027Z"
   },
   {
    "duration": 18,
    "start_time": "2022-11-03T18:58:23.948Z"
   },
   {
    "duration": 17,
    "start_time": "2022-11-03T18:58:44.003Z"
   },
   {
    "duration": 18,
    "start_time": "2022-11-03T18:58:52.463Z"
   },
   {
    "duration": 17,
    "start_time": "2022-11-03T19:00:14.077Z"
   },
   {
    "duration": 4,
    "start_time": "2022-11-03T19:01:17.350Z"
   },
   {
    "duration": 4,
    "start_time": "2022-11-03T19:01:28.396Z"
   },
   {
    "duration": 25,
    "start_time": "2022-11-03T19:01:41.432Z"
   },
   {
    "duration": 13,
    "start_time": "2022-11-03T19:01:55.685Z"
   },
   {
    "duration": 15,
    "start_time": "2022-11-03T19:02:13.598Z"
   },
   {
    "duration": 15,
    "start_time": "2022-11-03T19:02:41.454Z"
   },
   {
    "duration": 22,
    "start_time": "2022-11-03T19:03:11.529Z"
   },
   {
    "duration": 14,
    "start_time": "2022-11-03T19:03:21.214Z"
   },
   {
    "duration": 491,
    "start_time": "2022-11-03T19:04:20.070Z"
   },
   {
    "duration": 50,
    "start_time": "2022-11-03T19:04:20.563Z"
   },
   {
    "duration": 2,
    "start_time": "2022-11-03T19:04:20.615Z"
   },
   {
    "duration": 37,
    "start_time": "2022-11-03T19:04:20.633Z"
   },
   {
    "duration": 19,
    "start_time": "2022-11-03T19:04:20.672Z"
   },
   {
    "duration": 18,
    "start_time": "2022-11-03T19:04:20.693Z"
   },
   {
    "duration": 30,
    "start_time": "2022-11-03T19:04:20.713Z"
   },
   {
    "duration": 32,
    "start_time": "2022-11-03T19:04:20.745Z"
   },
   {
    "duration": 24,
    "start_time": "2022-11-03T19:04:20.779Z"
   },
   {
    "duration": 606,
    "start_time": "2022-11-03T19:04:20.808Z"
   },
   {
    "duration": 557,
    "start_time": "2022-11-03T19:04:21.415Z"
   },
   {
    "duration": 16,
    "start_time": "2022-11-03T19:04:21.974Z"
   },
   {
    "duration": 4,
    "start_time": "2022-11-03T19:04:21.992Z"
   },
   {
    "duration": 924,
    "start_time": "2022-11-03T19:04:21.997Z"
   },
   {
    "duration": 182,
    "start_time": "2022-11-03T19:04:22.923Z"
   },
   {
    "duration": 90,
    "start_time": "2022-11-03T19:04:23.107Z"
   },
   {
    "duration": 9,
    "start_time": "2022-11-03T19:04:23.198Z"
   },
   {
    "duration": 173,
    "start_time": "2022-11-03T19:04:23.208Z"
   },
   {
    "duration": 6,
    "start_time": "2022-11-03T19:04:23.382Z"
   },
   {
    "duration": 173,
    "start_time": "2022-11-03T19:04:23.390Z"
   },
   {
    "duration": 7,
    "start_time": "2022-11-03T19:04:23.565Z"
   },
   {
    "duration": 811,
    "start_time": "2022-11-03T19:04:23.574Z"
   },
   {
    "duration": 3,
    "start_time": "2022-11-03T19:04:24.387Z"
   },
   {
    "duration": 305,
    "start_time": "2022-11-03T19:04:24.392Z"
   },
   {
    "duration": 2212,
    "start_time": "2022-11-03T19:04:24.700Z"
   },
   {
    "duration": 277,
    "start_time": "2022-11-03T19:04:26.914Z"
   },
   {
    "duration": 302,
    "start_time": "2022-11-03T19:04:27.194Z"
   },
   {
    "duration": 714,
    "start_time": "2022-11-03T19:04:27.500Z"
   },
   {
    "duration": 549,
    "start_time": "2022-11-03T19:04:28.221Z"
   },
   {
    "duration": 514,
    "start_time": "2022-11-03T19:04:28.772Z"
   },
   {
    "duration": 121,
    "start_time": "2022-11-03T19:04:29.287Z"
   },
   {
    "duration": 14,
    "start_time": "2022-11-03T19:04:40.297Z"
   },
   {
    "duration": 11,
    "start_time": "2022-11-03T19:06:33.147Z"
   },
   {
    "duration": 9,
    "start_time": "2022-11-03T19:06:56.672Z"
   },
   {
    "duration": 5,
    "start_time": "2022-11-03T19:07:31.881Z"
   },
   {
    "duration": 9,
    "start_time": "2022-11-03T19:07:44.073Z"
   },
   {
    "duration": 554,
    "start_time": "2022-11-03T19:07:55.627Z"
   },
   {
    "duration": 51,
    "start_time": "2022-11-03T19:07:56.184Z"
   },
   {
    "duration": 4,
    "start_time": "2022-11-03T19:07:56.238Z"
   },
   {
    "duration": 42,
    "start_time": "2022-11-03T19:07:56.245Z"
   },
   {
    "duration": 29,
    "start_time": "2022-11-03T19:07:56.289Z"
   },
   {
    "duration": 32,
    "start_time": "2022-11-03T19:07:56.320Z"
   },
   {
    "duration": 8,
    "start_time": "2022-11-03T19:07:56.355Z"
   },
   {
    "duration": 23,
    "start_time": "2022-11-03T19:07:56.365Z"
   },
   {
    "duration": 26,
    "start_time": "2022-11-03T19:07:56.391Z"
   },
   {
    "duration": 582,
    "start_time": "2022-11-03T19:07:56.421Z"
   },
   {
    "duration": 515,
    "start_time": "2022-11-03T19:07:57.005Z"
   },
   {
    "duration": 23,
    "start_time": "2022-11-03T19:07:57.522Z"
   },
   {
    "duration": 4,
    "start_time": "2022-11-03T19:07:57.547Z"
   },
   {
    "duration": 887,
    "start_time": "2022-11-03T19:07:57.554Z"
   },
   {
    "duration": 171,
    "start_time": "2022-11-03T19:07:58.444Z"
   },
   {
    "duration": 88,
    "start_time": "2022-11-03T19:07:58.617Z"
   },
   {
    "duration": 19,
    "start_time": "2022-11-03T19:07:58.707Z"
   },
   {
    "duration": 185,
    "start_time": "2022-11-03T19:07:58.728Z"
   },
   {
    "duration": 5,
    "start_time": "2022-11-03T19:07:58.915Z"
   },
   {
    "duration": 166,
    "start_time": "2022-11-03T19:07:58.922Z"
   },
   {
    "duration": 5,
    "start_time": "2022-11-03T19:07:59.090Z"
   },
   {
    "duration": 785,
    "start_time": "2022-11-03T19:07:59.097Z"
   },
   {
    "duration": 4,
    "start_time": "2022-11-03T19:07:59.884Z"
   },
   {
    "duration": 329,
    "start_time": "2022-11-03T19:07:59.890Z"
   },
   {
    "duration": 1937,
    "start_time": "2022-11-03T19:08:00.221Z"
   },
   {
    "duration": 241,
    "start_time": "2022-11-03T19:08:02.160Z"
   },
   {
    "duration": 220,
    "start_time": "2022-11-03T19:08:02.402Z"
   },
   {
    "duration": 558,
    "start_time": "2022-11-03T19:08:02.625Z"
   },
   {
    "duration": 467,
    "start_time": "2022-11-03T19:08:03.185Z"
   },
   {
    "duration": 489,
    "start_time": "2022-11-03T19:08:03.654Z"
   },
   {
    "duration": 126,
    "start_time": "2022-11-03T19:08:04.144Z"
   },
   {
    "duration": 0,
    "start_time": "2022-11-03T19:08:04.272Z"
   },
   {
    "duration": 0,
    "start_time": "2022-11-03T19:08:04.273Z"
   },
   {
    "duration": 0,
    "start_time": "2022-11-03T19:08:04.274Z"
   },
   {
    "duration": 9,
    "start_time": "2022-11-03T19:08:11.219Z"
   },
   {
    "duration": 4,
    "start_time": "2022-11-03T19:08:11.869Z"
   },
   {
    "duration": 9,
    "start_time": "2022-11-03T19:08:12.417Z"
   },
   {
    "duration": 11,
    "start_time": "2022-11-03T19:11:21.007Z"
   },
   {
    "duration": 10,
    "start_time": "2022-11-03T19:11:48.620Z"
   },
   {
    "duration": 11,
    "start_time": "2022-11-03T19:11:58.804Z"
   },
   {
    "duration": 10,
    "start_time": "2022-11-03T19:12:14.051Z"
   },
   {
    "duration": 10,
    "start_time": "2022-11-03T19:12:17.172Z"
   },
   {
    "duration": 676,
    "start_time": "2022-11-04T08:21:32.825Z"
   },
   {
    "duration": 8,
    "start_time": "2022-11-04T08:22:45.540Z"
   },
   {
    "duration": 727,
    "start_time": "2022-11-05T11:13:39.003Z"
   },
   {
    "duration": 9,
    "start_time": "2022-11-05T11:36:46.995Z"
   },
   {
    "duration": 8,
    "start_time": "2022-11-05T11:39:31.657Z"
   },
   {
    "duration": 8,
    "start_time": "2022-11-05T11:40:50.799Z"
   },
   {
    "duration": 8,
    "start_time": "2022-11-05T11:41:14.782Z"
   },
   {
    "duration": 7,
    "start_time": "2022-11-05T11:41:22.461Z"
   },
   {
    "duration": 5,
    "start_time": "2022-11-05T11:42:35.283Z"
   },
   {
    "duration": 7,
    "start_time": "2022-11-05T11:42:49.754Z"
   },
   {
    "duration": 6,
    "start_time": "2022-11-05T11:42:59.525Z"
   },
   {
    "duration": 7,
    "start_time": "2022-11-05T11:43:33.536Z"
   },
   {
    "duration": 6,
    "start_time": "2022-11-05T11:44:29.842Z"
   },
   {
    "duration": 7,
    "start_time": "2022-11-05T11:54:58.644Z"
   },
   {
    "duration": 8,
    "start_time": "2022-11-05T11:59:24.488Z"
   },
   {
    "duration": 8,
    "start_time": "2022-11-05T11:59:34.605Z"
   },
   {
    "duration": 8,
    "start_time": "2022-11-05T11:59:39.168Z"
   },
   {
    "duration": 693,
    "start_time": "2022-11-05T12:00:10.974Z"
   },
   {
    "duration": 466,
    "start_time": "2022-11-05T12:00:27.151Z"
   },
   {
    "duration": 38,
    "start_time": "2022-11-05T12:00:27.619Z"
   },
   {
    "duration": 3,
    "start_time": "2022-11-05T12:00:27.659Z"
   },
   {
    "duration": 30,
    "start_time": "2022-11-05T12:00:27.664Z"
   },
   {
    "duration": 13,
    "start_time": "2022-11-05T12:00:27.708Z"
   },
   {
    "duration": 26,
    "start_time": "2022-11-05T12:00:27.722Z"
   },
   {
    "duration": 7,
    "start_time": "2022-11-05T12:00:27.750Z"
   },
   {
    "duration": 8,
    "start_time": "2022-11-05T12:00:27.759Z"
   },
   {
    "duration": 27,
    "start_time": "2022-11-05T12:00:27.768Z"
   },
   {
    "duration": 539,
    "start_time": "2022-11-05T12:00:27.811Z"
   },
   {
    "duration": 444,
    "start_time": "2022-11-05T12:00:28.352Z"
   },
   {
    "duration": 20,
    "start_time": "2022-11-05T12:00:28.798Z"
   },
   {
    "duration": 3,
    "start_time": "2022-11-05T12:00:28.821Z"
   },
   {
    "duration": 827,
    "start_time": "2022-11-05T12:00:28.826Z"
   },
   {
    "duration": 163,
    "start_time": "2022-11-05T12:00:29.654Z"
   },
   {
    "duration": 63,
    "start_time": "2022-11-05T12:00:29.819Z"
   },
   {
    "duration": 14,
    "start_time": "2022-11-05T12:00:29.884Z"
   },
   {
    "duration": 138,
    "start_time": "2022-11-05T12:00:29.899Z"
   },
   {
    "duration": 6,
    "start_time": "2022-11-05T12:00:30.039Z"
   },
   {
    "duration": 169,
    "start_time": "2022-11-05T12:00:30.046Z"
   },
   {
    "duration": 6,
    "start_time": "2022-11-05T12:00:30.216Z"
   },
   {
    "duration": 703,
    "start_time": "2022-11-05T12:00:30.224Z"
   },
   {
    "duration": 3,
    "start_time": "2022-11-05T12:00:30.929Z"
   },
   {
    "duration": 295,
    "start_time": "2022-11-05T12:00:30.934Z"
   },
   {
    "duration": 1743,
    "start_time": "2022-11-05T12:00:31.230Z"
   },
   {
    "duration": 203,
    "start_time": "2022-11-05T12:00:32.974Z"
   },
   {
    "duration": 201,
    "start_time": "2022-11-05T12:00:33.179Z"
   },
   {
    "duration": 512,
    "start_time": "2022-11-05T12:00:33.383Z"
   },
   {
    "duration": 414,
    "start_time": "2022-11-05T12:00:33.896Z"
   },
   {
    "duration": 406,
    "start_time": "2022-11-05T12:00:34.311Z"
   },
   {
    "duration": 122,
    "start_time": "2022-11-05T12:00:34.718Z"
   },
   {
    "duration": 13,
    "start_time": "2022-11-05T12:01:16.601Z"
   },
   {
    "duration": 14,
    "start_time": "2022-11-05T12:01:35.033Z"
   },
   {
    "duration": 9,
    "start_time": "2022-11-05T12:02:38.025Z"
   },
   {
    "duration": 9,
    "start_time": "2022-11-05T12:03:16.964Z"
   },
   {
    "duration": 9,
    "start_time": "2022-11-05T12:03:21.013Z"
   },
   {
    "duration": 10,
    "start_time": "2022-11-05T12:03:43.715Z"
   },
   {
    "duration": 9,
    "start_time": "2022-11-05T12:04:20.706Z"
   },
   {
    "duration": 442,
    "start_time": "2022-11-05T12:04:29.330Z"
   },
   {
    "duration": 37,
    "start_time": "2022-11-05T12:04:29.774Z"
   },
   {
    "duration": 4,
    "start_time": "2022-11-05T12:04:29.812Z"
   },
   {
    "duration": 28,
    "start_time": "2022-11-05T12:04:29.818Z"
   },
   {
    "duration": 14,
    "start_time": "2022-11-05T12:04:29.847Z"
   },
   {
    "duration": 17,
    "start_time": "2022-11-05T12:04:29.863Z"
   },
   {
    "duration": 30,
    "start_time": "2022-11-05T12:04:29.882Z"
   },
   {
    "duration": 6,
    "start_time": "2022-11-05T12:04:29.914Z"
   },
   {
    "duration": 16,
    "start_time": "2022-11-05T12:04:29.921Z"
   },
   {
    "duration": 520,
    "start_time": "2022-11-05T12:04:29.940Z"
   },
   {
    "duration": 464,
    "start_time": "2022-11-05T12:04:30.461Z"
   },
   {
    "duration": 14,
    "start_time": "2022-11-05T12:04:30.926Z"
   },
   {
    "duration": 14,
    "start_time": "2022-11-05T12:04:30.942Z"
   },
   {
    "duration": 804,
    "start_time": "2022-11-05T12:04:30.957Z"
   },
   {
    "duration": 142,
    "start_time": "2022-11-05T12:04:31.762Z"
   },
   {
    "duration": 63,
    "start_time": "2022-11-05T12:04:31.905Z"
   },
   {
    "duration": 42,
    "start_time": "2022-11-05T12:04:31.969Z"
   },
   {
    "duration": 146,
    "start_time": "2022-11-05T12:04:32.012Z"
   },
   {
    "duration": 5,
    "start_time": "2022-11-05T12:04:32.159Z"
   },
   {
    "duration": 149,
    "start_time": "2022-11-05T12:04:32.165Z"
   },
   {
    "duration": 5,
    "start_time": "2022-11-05T12:04:32.315Z"
   },
   {
    "duration": 709,
    "start_time": "2022-11-05T12:04:32.321Z"
   },
   {
    "duration": 4,
    "start_time": "2022-11-05T12:04:33.031Z"
   },
   {
    "duration": 223,
    "start_time": "2022-11-05T12:04:33.036Z"
   },
   {
    "duration": 1688,
    "start_time": "2022-11-05T12:04:33.260Z"
   },
   {
    "duration": 194,
    "start_time": "2022-11-05T12:04:34.950Z"
   },
   {
    "duration": 200,
    "start_time": "2022-11-05T12:04:35.146Z"
   },
   {
    "duration": 492,
    "start_time": "2022-11-05T12:04:35.349Z"
   },
   {
    "duration": 411,
    "start_time": "2022-11-05T12:04:35.843Z"
   },
   {
    "duration": 425,
    "start_time": "2022-11-05T12:04:36.256Z"
   },
   {
    "duration": 10,
    "start_time": "2022-11-05T12:04:36.683Z"
   },
   {
    "duration": 115,
    "start_time": "2022-11-05T12:05:28.130Z"
   },
   {
    "duration": 156,
    "start_time": "2022-11-05T12:05:34.507Z"
   },
   {
    "duration": 9,
    "start_time": "2022-11-05T12:05:53.671Z"
   },
   {
    "duration": 8,
    "start_time": "2022-11-05T12:06:40.788Z"
   },
   {
    "duration": 150,
    "start_time": "2022-11-05T12:06:46.394Z"
   },
   {
    "duration": 8,
    "start_time": "2022-11-05T12:07:30.315Z"
   },
   {
    "duration": 8,
    "start_time": "2022-11-05T12:07:56.531Z"
   },
   {
    "duration": 9,
    "start_time": "2022-11-05T12:07:57.032Z"
   },
   {
    "duration": 139,
    "start_time": "2022-11-05T12:08:06.624Z"
   },
   {
    "duration": 9,
    "start_time": "2022-11-05T12:08:09.147Z"
   },
   {
    "duration": 459,
    "start_time": "2022-11-05T12:08:23.872Z"
   },
   {
    "duration": 38,
    "start_time": "2022-11-05T12:08:24.333Z"
   },
   {
    "duration": 3,
    "start_time": "2022-11-05T12:08:24.372Z"
   },
   {
    "duration": 40,
    "start_time": "2022-11-05T12:08:24.378Z"
   },
   {
    "duration": 21,
    "start_time": "2022-11-05T12:08:24.420Z"
   },
   {
    "duration": 19,
    "start_time": "2022-11-05T12:08:24.443Z"
   },
   {
    "duration": 9,
    "start_time": "2022-11-05T12:08:24.464Z"
   },
   {
    "duration": 8,
    "start_time": "2022-11-05T12:08:24.475Z"
   },
   {
    "duration": 26,
    "start_time": "2022-11-05T12:08:24.484Z"
   },
   {
    "duration": 503,
    "start_time": "2022-11-05T12:08:24.514Z"
   },
   {
    "duration": 440,
    "start_time": "2022-11-05T12:08:25.019Z"
   },
   {
    "duration": 14,
    "start_time": "2022-11-05T12:08:25.460Z"
   },
   {
    "duration": 3,
    "start_time": "2022-11-05T12:08:25.475Z"
   },
   {
    "duration": 789,
    "start_time": "2022-11-05T12:08:25.480Z"
   },
   {
    "duration": 142,
    "start_time": "2022-11-05T12:08:26.270Z"
   },
   {
    "duration": 62,
    "start_time": "2022-11-05T12:08:26.414Z"
   },
   {
    "duration": 29,
    "start_time": "2022-11-05T12:08:26.477Z"
   },
   {
    "duration": 151,
    "start_time": "2022-11-05T12:08:26.508Z"
   },
   {
    "duration": 5,
    "start_time": "2022-11-05T12:08:26.661Z"
   },
   {
    "duration": 149,
    "start_time": "2022-11-05T12:08:26.667Z"
   },
   {
    "duration": 5,
    "start_time": "2022-11-05T12:08:26.818Z"
   },
   {
    "duration": 641,
    "start_time": "2022-11-05T12:08:26.825Z"
   },
   {
    "duration": 4,
    "start_time": "2022-11-05T12:08:27.467Z"
   },
   {
    "duration": 289,
    "start_time": "2022-11-05T12:08:27.473Z"
   },
   {
    "duration": 1634,
    "start_time": "2022-11-05T12:08:27.764Z"
   },
   {
    "duration": 190,
    "start_time": "2022-11-05T12:08:29.400Z"
   },
   {
    "duration": 194,
    "start_time": "2022-11-05T12:08:29.591Z"
   },
   {
    "duration": 491,
    "start_time": "2022-11-05T12:08:29.788Z"
   },
   {
    "duration": 410,
    "start_time": "2022-11-05T12:08:30.281Z"
   },
   {
    "duration": 404,
    "start_time": "2022-11-05T12:08:30.693Z"
   },
   {
    "duration": 14,
    "start_time": "2022-11-05T12:08:31.098Z"
   },
   {
    "duration": 165,
    "start_time": "2022-11-05T12:08:31.114Z"
   },
   {
    "duration": 115,
    "start_time": "2022-11-05T12:08:31.281Z"
   },
   {
    "duration": 0,
    "start_time": "2022-11-05T12:08:31.398Z"
   },
   {
    "duration": 1,
    "start_time": "2022-11-05T12:08:31.398Z"
   },
   {
    "duration": 136,
    "start_time": "2022-11-05T12:08:36.452Z"
   },
   {
    "duration": 10,
    "start_time": "2022-11-05T12:08:37.397Z"
   },
   {
    "duration": 9,
    "start_time": "2022-11-05T12:08:59.247Z"
   },
   {
    "duration": 155,
    "start_time": "2022-11-05T12:09:08.068Z"
   },
   {
    "duration": 9,
    "start_time": "2022-11-05T12:09:10.211Z"
   },
   {
    "duration": 9,
    "start_time": "2022-11-05T12:09:36.676Z"
   },
   {
    "duration": 137,
    "start_time": "2022-11-05T12:09:44.257Z"
   },
   {
    "duration": 5,
    "start_time": "2022-11-05T12:09:46.446Z"
   },
   {
    "duration": 9,
    "start_time": "2022-11-05T12:10:10.697Z"
   },
   {
    "duration": 142,
    "start_time": "2022-11-05T12:10:36.206Z"
   },
   {
    "duration": 233,
    "start_time": "2022-11-05T12:10:36.994Z"
   },
   {
    "duration": 5,
    "start_time": "2022-11-05T12:10:37.629Z"
   },
   {
    "duration": 5,
    "start_time": "2022-11-05T12:10:39.922Z"
   },
   {
    "duration": 5,
    "start_time": "2022-11-05T12:12:08.904Z"
   },
   {
    "duration": 5,
    "start_time": "2022-11-05T12:12:13.503Z"
   },
   {
    "duration": 57,
    "start_time": "2022-11-06T13:11:13.862Z"
   },
   {
    "duration": 6,
    "start_time": "2022-11-06T13:11:18.106Z"
   },
   {
    "duration": 1279,
    "start_time": "2022-11-06T13:11:19.068Z"
   },
   {
    "duration": 629,
    "start_time": "2022-11-06T13:11:27.000Z"
   },
   {
    "duration": 44,
    "start_time": "2022-11-06T13:11:27.631Z"
   },
   {
    "duration": 3,
    "start_time": "2022-11-06T13:11:27.677Z"
   },
   {
    "duration": 30,
    "start_time": "2022-11-06T13:11:27.681Z"
   },
   {
    "duration": 15,
    "start_time": "2022-11-06T13:11:27.712Z"
   },
   {
    "duration": 16,
    "start_time": "2022-11-06T13:11:27.728Z"
   },
   {
    "duration": 13,
    "start_time": "2022-11-06T13:11:27.745Z"
   },
   {
    "duration": 10,
    "start_time": "2022-11-06T13:11:27.759Z"
   },
   {
    "duration": 36,
    "start_time": "2022-11-06T13:11:27.770Z"
   },
   {
    "duration": 530,
    "start_time": "2022-11-06T13:11:27.810Z"
   },
   {
    "duration": 462,
    "start_time": "2022-11-06T13:11:28.342Z"
   },
   {
    "duration": 13,
    "start_time": "2022-11-06T13:11:28.806Z"
   },
   {
    "duration": 3,
    "start_time": "2022-11-06T13:11:28.821Z"
   },
   {
    "duration": 798,
    "start_time": "2022-11-06T13:11:28.825Z"
   },
   {
    "duration": 150,
    "start_time": "2022-11-06T13:11:29.625Z"
   },
   {
    "duration": 78,
    "start_time": "2022-11-06T13:11:29.776Z"
   },
   {
    "duration": 13,
    "start_time": "2022-11-06T13:11:29.855Z"
   },
   {
    "duration": 135,
    "start_time": "2022-11-06T13:11:29.870Z"
   },
   {
    "duration": 5,
    "start_time": "2022-11-06T13:11:30.007Z"
   },
   {
    "duration": 146,
    "start_time": "2022-11-06T13:11:30.014Z"
   },
   {
    "duration": 5,
    "start_time": "2022-11-06T13:11:30.162Z"
   },
   {
    "duration": 700,
    "start_time": "2022-11-06T13:11:30.168Z"
   },
   {
    "duration": 4,
    "start_time": "2022-11-06T13:11:30.869Z"
   },
   {
    "duration": 271,
    "start_time": "2022-11-06T13:11:30.874Z"
   },
   {
    "duration": 1704,
    "start_time": "2022-11-06T13:11:31.146Z"
   },
   {
    "duration": 199,
    "start_time": "2022-11-06T13:11:32.852Z"
   },
   {
    "duration": 229,
    "start_time": "2022-11-06T13:11:33.054Z"
   },
   {
    "duration": 529,
    "start_time": "2022-11-06T13:11:33.286Z"
   },
   {
    "duration": 422,
    "start_time": "2022-11-06T13:11:33.816Z"
   },
   {
    "duration": 420,
    "start_time": "2022-11-06T13:11:34.240Z"
   },
   {
    "duration": 14,
    "start_time": "2022-11-06T13:11:34.661Z"
   },
   {
    "duration": 18,
    "start_time": "2022-11-06T13:11:34.677Z"
   },
   {
    "duration": 104,
    "start_time": "2022-11-06T13:11:34.697Z"
   },
   {
    "duration": 0,
    "start_time": "2022-11-06T13:11:34.803Z"
   },
   {
    "duration": 0,
    "start_time": "2022-11-06T13:11:34.805Z"
   },
   {
    "duration": 17,
    "start_time": "2022-11-06T13:11:45.738Z"
   },
   {
    "duration": 9,
    "start_time": "2022-11-06T13:11:46.693Z"
   },
   {
    "duration": 12,
    "start_time": "2022-11-06T13:13:05.032Z"
   },
   {
    "duration": 12,
    "start_time": "2022-11-06T13:13:12.578Z"
   },
   {
    "duration": 6,
    "start_time": "2022-11-06T13:13:13.563Z"
   },
   {
    "duration": 6,
    "start_time": "2022-11-06T13:13:24.031Z"
   },
   {
    "duration": 5,
    "start_time": "2022-11-06T13:13:34.023Z"
   },
   {
    "duration": 9,
    "start_time": "2022-11-06T13:15:17.870Z"
   },
   {
    "duration": 12,
    "start_time": "2022-11-06T13:15:27.730Z"
   },
   {
    "duration": 7,
    "start_time": "2022-11-06T13:15:41.385Z"
   },
   {
    "duration": 6,
    "start_time": "2022-11-06T13:15:46.578Z"
   },
   {
    "duration": 13,
    "start_time": "2022-11-06T13:16:05.217Z"
   },
   {
    "duration": 77,
    "start_time": "2022-11-06T13:16:27.035Z"
   },
   {
    "duration": 17,
    "start_time": "2022-11-06T13:16:29.795Z"
   },
   {
    "duration": 439,
    "start_time": "2022-11-06T13:16:45.514Z"
   },
   {
    "duration": 34,
    "start_time": "2022-11-06T13:16:45.955Z"
   },
   {
    "duration": 2,
    "start_time": "2022-11-06T13:16:45.991Z"
   },
   {
    "duration": 28,
    "start_time": "2022-11-06T13:16:45.995Z"
   },
   {
    "duration": 15,
    "start_time": "2022-11-06T13:16:46.025Z"
   },
   {
    "duration": 15,
    "start_time": "2022-11-06T13:16:46.042Z"
   },
   {
    "duration": 7,
    "start_time": "2022-11-06T13:16:46.059Z"
   },
   {
    "duration": 6,
    "start_time": "2022-11-06T13:16:46.067Z"
   },
   {
    "duration": 32,
    "start_time": "2022-11-06T13:16:46.074Z"
   },
   {
    "duration": 496,
    "start_time": "2022-11-06T13:16:46.109Z"
   },
   {
    "duration": 446,
    "start_time": "2022-11-06T13:16:46.606Z"
   },
   {
    "duration": 14,
    "start_time": "2022-11-06T13:16:47.054Z"
   },
   {
    "duration": 3,
    "start_time": "2022-11-06T13:16:47.069Z"
   },
   {
    "duration": 842,
    "start_time": "2022-11-06T13:16:47.073Z"
   },
   {
    "duration": 162,
    "start_time": "2022-11-06T13:16:47.917Z"
   },
   {
    "duration": 72,
    "start_time": "2022-11-06T13:16:48.082Z"
   },
   {
    "duration": 15,
    "start_time": "2022-11-06T13:16:48.156Z"
   },
   {
    "duration": 144,
    "start_time": "2022-11-06T13:16:48.172Z"
   },
   {
    "duration": 5,
    "start_time": "2022-11-06T13:16:48.318Z"
   },
   {
    "duration": 137,
    "start_time": "2022-11-06T13:16:48.324Z"
   },
   {
    "duration": 4,
    "start_time": "2022-11-06T13:16:48.463Z"
   },
   {
    "duration": 681,
    "start_time": "2022-11-06T13:16:48.468Z"
   },
   {
    "duration": 5,
    "start_time": "2022-11-06T13:16:49.151Z"
   },
   {
    "duration": 275,
    "start_time": "2022-11-06T13:16:49.157Z"
   },
   {
    "duration": 1637,
    "start_time": "2022-11-06T13:16:49.433Z"
   },
   {
    "duration": 193,
    "start_time": "2022-11-06T13:16:51.071Z"
   },
   {
    "duration": 194,
    "start_time": "2022-11-06T13:16:51.265Z"
   },
   {
    "duration": 488,
    "start_time": "2022-11-06T13:16:51.462Z"
   },
   {
    "duration": 412,
    "start_time": "2022-11-06T13:16:51.951Z"
   },
   {
    "duration": 403,
    "start_time": "2022-11-06T13:16:52.364Z"
   },
   {
    "duration": 9,
    "start_time": "2022-11-06T13:16:52.768Z"
   },
   {
    "duration": 104,
    "start_time": "2022-11-06T13:16:52.779Z"
   },
   {
    "duration": 0,
    "start_time": "2022-11-06T13:16:52.884Z"
   },
   {
    "duration": 9,
    "start_time": "2022-11-06T13:17:49.854Z"
   },
   {
    "duration": 12,
    "start_time": "2022-11-06T13:17:57.811Z"
   },
   {
    "duration": 11,
    "start_time": "2022-11-06T13:18:06.563Z"
   },
   {
    "duration": 10,
    "start_time": "2022-11-06T13:18:11.783Z"
   },
   {
    "duration": 11,
    "start_time": "2022-11-06T13:18:12.347Z"
   },
   {
    "duration": 12,
    "start_time": "2022-11-06T13:18:14.174Z"
   },
   {
    "duration": 9,
    "start_time": "2022-11-06T13:18:14.368Z"
   },
   {
    "duration": 425,
    "start_time": "2022-11-06T13:18:19.728Z"
   },
   {
    "duration": 33,
    "start_time": "2022-11-06T13:18:20.155Z"
   },
   {
    "duration": 3,
    "start_time": "2022-11-06T13:18:20.190Z"
   },
   {
    "duration": 29,
    "start_time": "2022-11-06T13:18:20.194Z"
   },
   {
    "duration": 18,
    "start_time": "2022-11-06T13:18:20.224Z"
   },
   {
    "duration": 19,
    "start_time": "2022-11-06T13:18:20.244Z"
   },
   {
    "duration": 8,
    "start_time": "2022-11-06T13:18:20.264Z"
   },
   {
    "duration": 7,
    "start_time": "2022-11-06T13:18:20.274Z"
   },
   {
    "duration": 32,
    "start_time": "2022-11-06T13:18:20.283Z"
   },
   {
    "duration": 500,
    "start_time": "2022-11-06T13:18:20.319Z"
   },
   {
    "duration": 487,
    "start_time": "2022-11-06T13:18:20.821Z"
   },
   {
    "duration": 14,
    "start_time": "2022-11-06T13:18:21.310Z"
   },
   {
    "duration": 3,
    "start_time": "2022-11-06T13:18:21.326Z"
   },
   {
    "duration": 794,
    "start_time": "2022-11-06T13:18:21.330Z"
   },
   {
    "duration": 137,
    "start_time": "2022-11-06T13:18:22.126Z"
   },
   {
    "duration": 74,
    "start_time": "2022-11-06T13:18:22.265Z"
   },
   {
    "duration": 10,
    "start_time": "2022-11-06T13:18:22.341Z"
   },
   {
    "duration": 131,
    "start_time": "2022-11-06T13:18:22.352Z"
   },
   {
    "duration": 6,
    "start_time": "2022-11-06T13:18:22.484Z"
   },
   {
    "duration": 140,
    "start_time": "2022-11-06T13:18:22.492Z"
   },
   {
    "duration": 5,
    "start_time": "2022-11-06T13:18:22.634Z"
   },
   {
    "duration": 623,
    "start_time": "2022-11-06T13:18:22.641Z"
   },
   {
    "duration": 3,
    "start_time": "2022-11-06T13:18:23.266Z"
   },
   {
    "duration": 259,
    "start_time": "2022-11-06T13:18:23.271Z"
   },
   {
    "duration": 1662,
    "start_time": "2022-11-06T13:18:23.531Z"
   },
   {
    "duration": 199,
    "start_time": "2022-11-06T13:18:25.194Z"
   },
   {
    "duration": 206,
    "start_time": "2022-11-06T13:18:25.395Z"
   },
   {
    "duration": 494,
    "start_time": "2022-11-06T13:18:25.607Z"
   },
   {
    "duration": 439,
    "start_time": "2022-11-06T13:18:26.102Z"
   },
   {
    "duration": 406,
    "start_time": "2022-11-06T13:18:26.543Z"
   },
   {
    "duration": 9,
    "start_time": "2022-11-06T13:18:26.951Z"
   },
   {
    "duration": 155,
    "start_time": "2022-11-06T13:18:26.962Z"
   },
   {
    "duration": 0,
    "start_time": "2022-11-06T13:18:27.118Z"
   },
   {
    "duration": 0,
    "start_time": "2022-11-06T13:18:27.119Z"
   },
   {
    "duration": 27,
    "start_time": "2022-11-06T13:21:25.613Z"
   },
   {
    "duration": 71,
    "start_time": "2022-11-06T13:21:56.003Z"
   },
   {
    "duration": 89,
    "start_time": "2022-11-06T13:22:02.560Z"
   },
   {
    "duration": 72,
    "start_time": "2022-11-06T13:22:13.622Z"
   },
   {
    "duration": 84,
    "start_time": "2022-11-06T13:22:34.181Z"
   },
   {
    "duration": 433,
    "start_time": "2022-11-06T13:22:41.153Z"
   },
   {
    "duration": 42,
    "start_time": "2022-11-06T13:22:41.588Z"
   },
   {
    "duration": 4,
    "start_time": "2022-11-06T13:22:41.632Z"
   },
   {
    "duration": 32,
    "start_time": "2022-11-06T13:22:41.637Z"
   },
   {
    "duration": 15,
    "start_time": "2022-11-06T13:22:41.671Z"
   },
   {
    "duration": 30,
    "start_time": "2022-11-06T13:22:41.688Z"
   },
   {
    "duration": 10,
    "start_time": "2022-11-06T13:22:41.719Z"
   },
   {
    "duration": 5,
    "start_time": "2022-11-06T13:22:41.731Z"
   },
   {
    "duration": 20,
    "start_time": "2022-11-06T13:22:41.738Z"
   },
   {
    "duration": 531,
    "start_time": "2022-11-06T13:22:41.762Z"
   },
   {
    "duration": 471,
    "start_time": "2022-11-06T13:22:42.295Z"
   },
   {
    "duration": 18,
    "start_time": "2022-11-06T13:22:42.768Z"
   },
   {
    "duration": 4,
    "start_time": "2022-11-06T13:22:42.787Z"
   },
   {
    "duration": 808,
    "start_time": "2022-11-06T13:22:42.807Z"
   },
   {
    "duration": 25,
    "start_time": "2022-11-06T13:22:43.618Z"
   },
   {
    "duration": 79,
    "start_time": "2022-11-06T13:22:43.645Z"
   },
   {
    "duration": 0,
    "start_time": "2022-11-06T13:22:43.725Z"
   },
   {
    "duration": 0,
    "start_time": "2022-11-06T13:22:43.727Z"
   },
   {
    "duration": 0,
    "start_time": "2022-11-06T13:22:43.728Z"
   },
   {
    "duration": 0,
    "start_time": "2022-11-06T13:22:43.729Z"
   },
   {
    "duration": 0,
    "start_time": "2022-11-06T13:22:43.730Z"
   },
   {
    "duration": 0,
    "start_time": "2022-11-06T13:22:43.731Z"
   },
   {
    "duration": 0,
    "start_time": "2022-11-06T13:22:43.732Z"
   },
   {
    "duration": 0,
    "start_time": "2022-11-06T13:22:43.733Z"
   },
   {
    "duration": 0,
    "start_time": "2022-11-06T13:22:43.734Z"
   },
   {
    "duration": 0,
    "start_time": "2022-11-06T13:22:43.735Z"
   },
   {
    "duration": 0,
    "start_time": "2022-11-06T13:22:43.736Z"
   },
   {
    "duration": 0,
    "start_time": "2022-11-06T13:22:43.737Z"
   },
   {
    "duration": 0,
    "start_time": "2022-11-06T13:22:43.739Z"
   },
   {
    "duration": 0,
    "start_time": "2022-11-06T13:22:43.740Z"
   },
   {
    "duration": 0,
    "start_time": "2022-11-06T13:22:43.741Z"
   },
   {
    "duration": 0,
    "start_time": "2022-11-06T13:22:43.742Z"
   },
   {
    "duration": 0,
    "start_time": "2022-11-06T13:22:43.743Z"
   },
   {
    "duration": 0,
    "start_time": "2022-11-06T13:22:43.744Z"
   },
   {
    "duration": 0,
    "start_time": "2022-11-06T13:22:43.745Z"
   },
   {
    "duration": 0,
    "start_time": "2022-11-06T13:22:43.746Z"
   },
   {
    "duration": 179,
    "start_time": "2022-11-06T13:22:57.062Z"
   },
   {
    "duration": 82,
    "start_time": "2022-11-06T13:23:06.332Z"
   },
   {
    "duration": 6,
    "start_time": "2022-11-06T13:23:07.315Z"
   },
   {
    "duration": 139,
    "start_time": "2022-11-06T13:23:07.600Z"
   },
   {
    "duration": 5,
    "start_time": "2022-11-06T13:23:07.974Z"
   },
   {
    "duration": 128,
    "start_time": "2022-11-06T13:23:08.547Z"
   },
   {
    "duration": 5,
    "start_time": "2022-11-06T13:23:08.729Z"
   },
   {
    "duration": 654,
    "start_time": "2022-11-06T13:23:09.721Z"
   },
   {
    "duration": 5,
    "start_time": "2022-11-06T13:23:10.390Z"
   },
   {
    "duration": 243,
    "start_time": "2022-11-06T13:23:10.397Z"
   },
   {
    "duration": 1715,
    "start_time": "2022-11-06T13:23:10.642Z"
   },
   {
    "duration": 196,
    "start_time": "2022-11-06T13:23:12.359Z"
   },
   {
    "duration": 206,
    "start_time": "2022-11-06T13:23:12.556Z"
   },
   {
    "duration": 499,
    "start_time": "2022-11-06T13:23:12.764Z"
   },
   {
    "duration": 405,
    "start_time": "2022-11-06T13:23:13.424Z"
   },
   {
    "duration": 397,
    "start_time": "2022-11-06T13:23:14.832Z"
   },
   {
    "duration": 8,
    "start_time": "2022-11-06T13:23:15.932Z"
   },
   {
    "duration": 98,
    "start_time": "2022-11-06T13:23:16.315Z"
   },
   {
    "duration": 16,
    "start_time": "2022-11-06T13:23:17.192Z"
   },
   {
    "duration": 9,
    "start_time": "2022-11-06T13:23:17.745Z"
   },
   {
    "duration": 15,
    "start_time": "2022-11-06T13:24:35.613Z"
   },
   {
    "duration": 10,
    "start_time": "2022-11-06T13:24:36.105Z"
   },
   {
    "duration": 14,
    "start_time": "2022-11-06T13:24:47.534Z"
   },
   {
    "duration": 10,
    "start_time": "2022-11-06T13:25:55.948Z"
   },
   {
    "duration": 5,
    "start_time": "2022-11-06T13:26:08.977Z"
   },
   {
    "duration": 400,
    "start_time": "2022-11-06T13:26:35.857Z"
   },
   {
    "duration": 39,
    "start_time": "2022-11-06T13:26:36.259Z"
   },
   {
    "duration": 3,
    "start_time": "2022-11-06T13:26:36.300Z"
   },
   {
    "duration": 27,
    "start_time": "2022-11-06T13:26:36.306Z"
   },
   {
    "duration": 16,
    "start_time": "2022-11-06T13:26:36.334Z"
   },
   {
    "duration": 15,
    "start_time": "2022-11-06T13:26:36.352Z"
   },
   {
    "duration": 9,
    "start_time": "2022-11-06T13:26:36.369Z"
   },
   {
    "duration": 25,
    "start_time": "2022-11-06T13:26:36.380Z"
   },
   {
    "duration": 18,
    "start_time": "2022-11-06T13:26:36.407Z"
   },
   {
    "duration": 488,
    "start_time": "2022-11-06T13:26:36.429Z"
   },
   {
    "duration": 464,
    "start_time": "2022-11-06T13:26:36.919Z"
   },
   {
    "duration": 27,
    "start_time": "2022-11-06T13:26:37.385Z"
   },
   {
    "duration": 4,
    "start_time": "2022-11-06T13:26:37.414Z"
   },
   {
    "duration": 843,
    "start_time": "2022-11-06T13:26:37.420Z"
   },
   {
    "duration": 26,
    "start_time": "2022-11-06T13:26:38.265Z"
   },
   {
    "duration": 181,
    "start_time": "2022-11-06T13:26:38.293Z"
   },
   {
    "duration": 79,
    "start_time": "2022-11-06T13:26:38.476Z"
   },
   {
    "duration": 10,
    "start_time": "2022-11-06T13:26:38.557Z"
   },
   {
    "duration": 130,
    "start_time": "2022-11-06T13:26:38.568Z"
   },
   {
    "duration": 10,
    "start_time": "2022-11-06T13:26:38.699Z"
   },
   {
    "duration": 144,
    "start_time": "2022-11-06T13:26:38.710Z"
   },
   {
    "duration": 5,
    "start_time": "2022-11-06T13:26:38.856Z"
   },
   {
    "duration": 667,
    "start_time": "2022-11-06T13:26:38.863Z"
   },
   {
    "duration": 4,
    "start_time": "2022-11-06T13:26:39.532Z"
   },
   {
    "duration": 219,
    "start_time": "2022-11-06T13:26:39.537Z"
   },
   {
    "duration": 1651,
    "start_time": "2022-11-06T13:26:39.758Z"
   },
   {
    "duration": 217,
    "start_time": "2022-11-06T13:26:41.411Z"
   },
   {
    "duration": 249,
    "start_time": "2022-11-06T13:26:41.632Z"
   },
   {
    "duration": 509,
    "start_time": "2022-11-06T13:26:41.882Z"
   },
   {
    "duration": 423,
    "start_time": "2022-11-06T13:26:42.393Z"
   },
   {
    "duration": 415,
    "start_time": "2022-11-06T13:26:42.817Z"
   },
   {
    "duration": 7,
    "start_time": "2022-11-06T13:26:43.234Z"
   },
   {
    "duration": 7,
    "start_time": "2022-11-06T13:26:43.242Z"
   },
   {
    "duration": 9,
    "start_time": "2022-11-06T13:26:43.250Z"
   },
   {
    "duration": 111,
    "start_time": "2022-11-06T13:26:43.260Z"
   },
   {
    "duration": 0,
    "start_time": "2022-11-06T13:26:43.373Z"
   },
   {
    "duration": 19,
    "start_time": "2022-11-06T13:30:01.823Z"
   },
   {
    "duration": 5,
    "start_time": "2022-11-06T13:30:07.556Z"
   },
   {
    "duration": 16,
    "start_time": "2022-11-06T13:30:07.779Z"
   },
   {
    "duration": 311,
    "start_time": "2022-11-06T13:30:08.564Z"
   },
   {
    "duration": 493,
    "start_time": "2022-11-06T13:30:08.933Z"
   },
   {
    "duration": 12,
    "start_time": "2022-11-06T13:30:09.635Z"
   },
   {
    "duration": 4,
    "start_time": "2022-11-06T13:30:09.823Z"
   },
   {
    "duration": 417,
    "start_time": "2022-11-06T13:30:10.200Z"
   },
   {
    "duration": 25,
    "start_time": "2022-11-06T13:30:11.246Z"
   },
   {
    "duration": 182,
    "start_time": "2022-11-06T13:30:13.135Z"
   },
   {
    "duration": 8,
    "start_time": "2022-11-06T13:30:13.376Z"
   },
   {
    "duration": 6,
    "start_time": "2022-11-06T13:30:13.933Z"
   },
   {
    "duration": 153,
    "start_time": "2022-11-06T13:30:14.118Z"
   },
   {
    "duration": 5,
    "start_time": "2022-11-06T13:30:14.288Z"
   },
   {
    "duration": 149,
    "start_time": "2022-11-06T13:30:14.659Z"
   },
   {
    "duration": 5,
    "start_time": "2022-11-06T13:30:14.823Z"
   },
   {
    "duration": 662,
    "start_time": "2022-11-06T13:30:15.409Z"
   },
   {
    "duration": 4,
    "start_time": "2022-11-06T13:30:16.073Z"
   },
   {
    "duration": 284,
    "start_time": "2022-11-06T13:30:16.079Z"
   },
   {
    "duration": 1972,
    "start_time": "2022-11-06T13:30:16.366Z"
   },
   {
    "duration": 315,
    "start_time": "2022-11-06T13:30:18.341Z"
   },
   {
    "duration": 199,
    "start_time": "2022-11-06T13:30:18.658Z"
   },
   {
    "duration": 403,
    "start_time": "2022-11-06T13:30:18.860Z"
   },
   {
    "duration": 402,
    "start_time": "2022-11-06T13:30:19.264Z"
   },
   {
    "duration": 407,
    "start_time": "2022-11-06T13:30:19.668Z"
   },
   {
    "duration": 7,
    "start_time": "2022-11-06T13:30:20.077Z"
   },
   {
    "duration": 8,
    "start_time": "2022-11-06T13:30:20.085Z"
   },
   {
    "duration": 9,
    "start_time": "2022-11-06T13:30:20.105Z"
   },
   {
    "duration": 14,
    "start_time": "2022-11-06T13:30:22.058Z"
   },
   {
    "duration": 10,
    "start_time": "2022-11-06T13:30:22.644Z"
   },
   {
    "duration": 10,
    "start_time": "2022-11-06T13:32:13.768Z"
   },
   {
    "duration": 25,
    "start_time": "2022-11-06T13:32:21.477Z"
   },
   {
    "duration": 20,
    "start_time": "2022-11-06T13:33:41.821Z"
   },
   {
    "duration": 1088,
    "start_time": "2022-11-06T13:33:45.949Z"
   },
   {
    "duration": 0,
    "start_time": "2022-11-06T13:33:47.039Z"
   },
   {
    "duration": 18,
    "start_time": "2022-11-06T13:33:59.650Z"
   },
   {
    "duration": 17,
    "start_time": "2022-11-06T13:34:00.386Z"
   },
   {
    "duration": 1072,
    "start_time": "2022-11-06T13:34:02.117Z"
   },
   {
    "duration": 0,
    "start_time": "2022-11-06T13:34:03.191Z"
   },
   {
    "duration": 320,
    "start_time": "2022-11-06T13:34:05.314Z"
   },
   {
    "duration": 610,
    "start_time": "2022-11-06T13:34:06.589Z"
   },
   {
    "duration": 11,
    "start_time": "2022-11-06T13:34:08.687Z"
   },
   {
    "duration": 1079,
    "start_time": "2022-11-06T13:34:18.729Z"
   },
   {
    "duration": 17,
    "start_time": "2022-11-06T13:34:30.954Z"
   },
   {
    "duration": 1110,
    "start_time": "2022-11-06T13:34:37.624Z"
   },
   {
    "duration": 444,
    "start_time": "2022-11-06T13:34:46.996Z"
   },
   {
    "duration": 33,
    "start_time": "2022-11-06T13:34:47.442Z"
   },
   {
    "duration": 3,
    "start_time": "2022-11-06T13:34:47.476Z"
   },
   {
    "duration": 39,
    "start_time": "2022-11-06T13:34:47.480Z"
   },
   {
    "duration": 14,
    "start_time": "2022-11-06T13:34:47.520Z"
   },
   {
    "duration": 14,
    "start_time": "2022-11-06T13:34:47.535Z"
   },
   {
    "duration": 14,
    "start_time": "2022-11-06T13:34:47.550Z"
   },
   {
    "duration": 14,
    "start_time": "2022-11-06T13:34:47.565Z"
   },
   {
    "duration": 28,
    "start_time": "2022-11-06T13:34:47.581Z"
   },
   {
    "duration": 572,
    "start_time": "2022-11-06T13:34:47.614Z"
   },
   {
    "duration": 444,
    "start_time": "2022-11-06T13:34:48.188Z"
   },
   {
    "duration": 16,
    "start_time": "2022-11-06T13:34:48.633Z"
   },
   {
    "duration": 3,
    "start_time": "2022-11-06T13:34:48.651Z"
   },
   {
    "duration": 772,
    "start_time": "2022-11-06T13:34:48.655Z"
   },
   {
    "duration": 24,
    "start_time": "2022-11-06T13:34:49.429Z"
   },
   {
    "duration": 174,
    "start_time": "2022-11-06T13:34:49.454Z"
   },
   {
    "duration": 82,
    "start_time": "2022-11-06T13:34:49.629Z"
   },
   {
    "duration": 11,
    "start_time": "2022-11-06T13:34:49.712Z"
   },
   {
    "duration": 136,
    "start_time": "2022-11-06T13:34:49.725Z"
   },
   {
    "duration": 5,
    "start_time": "2022-11-06T13:34:49.862Z"
   },
   {
    "duration": 140,
    "start_time": "2022-11-06T13:34:49.869Z"
   },
   {
    "duration": 5,
    "start_time": "2022-11-06T13:34:50.011Z"
   },
   {
    "duration": 652,
    "start_time": "2022-11-06T13:34:50.018Z"
   },
   {
    "duration": 4,
    "start_time": "2022-11-06T13:34:50.671Z"
   },
   {
    "duration": 261,
    "start_time": "2022-11-06T13:34:50.676Z"
   },
   {
    "duration": 1653,
    "start_time": "2022-11-06T13:34:50.938Z"
   },
   {
    "duration": 197,
    "start_time": "2022-11-06T13:34:52.592Z"
   },
   {
    "duration": 203,
    "start_time": "2022-11-06T13:34:52.792Z"
   },
   {
    "duration": 508,
    "start_time": "2022-11-06T13:34:52.997Z"
   },
   {
    "duration": 404,
    "start_time": "2022-11-06T13:34:53.507Z"
   },
   {
    "duration": 396,
    "start_time": "2022-11-06T13:34:53.912Z"
   },
   {
    "duration": 7,
    "start_time": "2022-11-06T13:34:54.309Z"
   },
   {
    "duration": 7,
    "start_time": "2022-11-06T13:34:54.317Z"
   },
   {
    "duration": 18,
    "start_time": "2022-11-06T13:34:54.326Z"
   },
   {
    "duration": 93,
    "start_time": "2022-11-06T13:34:54.346Z"
   },
   {
    "duration": 0,
    "start_time": "2022-11-06T13:34:54.441Z"
   },
   {
    "duration": 8,
    "start_time": "2022-11-06T13:36:50.365Z"
   },
   {
    "duration": 4,
    "start_time": "2022-11-06T13:36:50.914Z"
   },
   {
    "duration": 9,
    "start_time": "2022-11-06T13:36:52.021Z"
   },
   {
    "duration": 6,
    "start_time": "2022-11-06T13:37:14.561Z"
   },
   {
    "duration": 9,
    "start_time": "2022-11-06T13:37:23.832Z"
   },
   {
    "duration": 157,
    "start_time": "2022-11-06T13:37:30.229Z"
   },
   {
    "duration": 67,
    "start_time": "2022-11-06T13:37:51.387Z"
   },
   {
    "duration": 72,
    "start_time": "2022-11-06T13:38:08.514Z"
   },
   {
    "duration": 74,
    "start_time": "2022-11-06T13:38:15.733Z"
   },
   {
    "duration": 9,
    "start_time": "2022-11-06T13:43:33.839Z"
   },
   {
    "duration": 9,
    "start_time": "2022-11-06T13:43:41.700Z"
   },
   {
    "duration": 9,
    "start_time": "2022-11-06T13:43:46.700Z"
   },
   {
    "duration": 9,
    "start_time": "2022-11-06T13:44:02.800Z"
   },
   {
    "duration": 88,
    "start_time": "2022-11-06T13:44:45.268Z"
   },
   {
    "duration": 8,
    "start_time": "2022-11-06T13:45:14.328Z"
   },
   {
    "duration": 149,
    "start_time": "2022-11-06T13:45:21.858Z"
   },
   {
    "duration": 6,
    "start_time": "2022-11-06T13:45:28.026Z"
   },
   {
    "duration": 9,
    "start_time": "2022-11-06T13:58:43.982Z"
   },
   {
    "duration": 9,
    "start_time": "2022-11-06T13:58:50.339Z"
   },
   {
    "duration": 3,
    "start_time": "2022-11-06T13:59:06.341Z"
   },
   {
    "duration": 6,
    "start_time": "2022-11-06T13:59:06.616Z"
   },
   {
    "duration": 164,
    "start_time": "2022-11-06T13:59:07.005Z"
   },
   {
    "duration": 154,
    "start_time": "2022-11-06T13:59:07.677Z"
   },
   {
    "duration": 5,
    "start_time": "2022-11-06T13:59:08.091Z"
   },
   {
    "duration": 8,
    "start_time": "2022-11-06T13:59:09.005Z"
   },
   {
    "duration": 8,
    "start_time": "2022-11-06T13:59:24.088Z"
   },
   {
    "duration": 9,
    "start_time": "2022-11-06T13:59:27.042Z"
   },
   {
    "duration": 9,
    "start_time": "2022-11-06T13:59:36.969Z"
   },
   {
    "duration": 11,
    "start_time": "2022-11-06T13:59:47.599Z"
   },
   {
    "duration": 461,
    "start_time": "2022-11-06T14:00:26.383Z"
   },
   {
    "duration": 34,
    "start_time": "2022-11-06T14:00:26.846Z"
   },
   {
    "duration": 3,
    "start_time": "2022-11-06T14:00:26.881Z"
   },
   {
    "duration": 42,
    "start_time": "2022-11-06T14:00:26.886Z"
   },
   {
    "duration": 18,
    "start_time": "2022-11-06T14:00:26.930Z"
   },
   {
    "duration": 23,
    "start_time": "2022-11-06T14:00:26.949Z"
   },
   {
    "duration": 7,
    "start_time": "2022-11-06T14:00:26.973Z"
   },
   {
    "duration": 6,
    "start_time": "2022-11-06T14:00:26.982Z"
   },
   {
    "duration": 19,
    "start_time": "2022-11-06T14:00:26.989Z"
   },
   {
    "duration": 562,
    "start_time": "2022-11-06T14:00:27.011Z"
   },
   {
    "duration": 469,
    "start_time": "2022-11-06T14:00:27.576Z"
   },
   {
    "duration": 15,
    "start_time": "2022-11-06T14:00:28.047Z"
   },
   {
    "duration": 4,
    "start_time": "2022-11-06T14:00:28.063Z"
   },
   {
    "duration": 779,
    "start_time": "2022-11-06T14:00:28.068Z"
   },
   {
    "duration": 24,
    "start_time": "2022-11-06T14:00:28.849Z"
   },
   {
    "duration": 179,
    "start_time": "2022-11-06T14:00:28.874Z"
   },
   {
    "duration": 76,
    "start_time": "2022-11-06T14:00:29.055Z"
   },
   {
    "duration": 8,
    "start_time": "2022-11-06T14:00:29.133Z"
   },
   {
    "duration": 132,
    "start_time": "2022-11-06T14:00:29.142Z"
   },
   {
    "duration": 4,
    "start_time": "2022-11-06T14:00:29.276Z"
   },
   {
    "duration": 132,
    "start_time": "2022-11-06T14:00:29.281Z"
   },
   {
    "duration": 5,
    "start_time": "2022-11-06T14:00:29.414Z"
   },
   {
    "duration": 632,
    "start_time": "2022-11-06T14:00:29.421Z"
   },
   {
    "duration": 3,
    "start_time": "2022-11-06T14:00:30.055Z"
   },
   {
    "duration": 280,
    "start_time": "2022-11-06T14:00:30.059Z"
   },
   {
    "duration": 1648,
    "start_time": "2022-11-06T14:00:30.341Z"
   },
   {
    "duration": 196,
    "start_time": "2022-11-06T14:00:31.991Z"
   },
   {
    "duration": 203,
    "start_time": "2022-11-06T14:00:32.190Z"
   },
   {
    "duration": 502,
    "start_time": "2022-11-06T14:00:32.394Z"
   },
   {
    "duration": 385,
    "start_time": "2022-11-06T14:00:32.898Z"
   },
   {
    "duration": 412,
    "start_time": "2022-11-06T14:00:33.284Z"
   },
   {
    "duration": 8,
    "start_time": "2022-11-06T14:00:33.697Z"
   },
   {
    "duration": 5,
    "start_time": "2022-11-06T14:00:33.707Z"
   },
   {
    "duration": 158,
    "start_time": "2022-11-06T14:00:33.713Z"
   },
   {
    "duration": 162,
    "start_time": "2022-11-06T14:00:33.873Z"
   },
   {
    "duration": 5,
    "start_time": "2022-11-06T14:00:34.037Z"
   },
   {
    "duration": 101,
    "start_time": "2022-11-06T14:00:34.043Z"
   },
   {
    "duration": 0,
    "start_time": "2022-11-06T14:00:34.146Z"
   },
   {
    "duration": 192,
    "start_time": "2022-11-06T14:05:37.366Z"
   },
   {
    "duration": 9,
    "start_time": "2022-11-06T14:05:42.000Z"
   },
   {
    "duration": 9,
    "start_time": "2022-11-06T14:05:46.261Z"
   },
   {
    "duration": 9,
    "start_time": "2022-11-06T14:05:52.836Z"
   },
   {
    "duration": 8,
    "start_time": "2022-11-06T14:05:59.185Z"
   },
   {
    "duration": 145,
    "start_time": "2022-11-06T14:06:19.739Z"
   },
   {
    "duration": 5,
    "start_time": "2022-11-06T14:06:23.185Z"
   },
   {
    "duration": 407,
    "start_time": "2022-11-06T14:07:03.348Z"
   },
   {
    "duration": 36,
    "start_time": "2022-11-06T14:07:03.757Z"
   },
   {
    "duration": 3,
    "start_time": "2022-11-06T14:07:03.795Z"
   },
   {
    "duration": 28,
    "start_time": "2022-11-06T14:07:03.800Z"
   },
   {
    "duration": 17,
    "start_time": "2022-11-06T14:07:03.829Z"
   },
   {
    "duration": 15,
    "start_time": "2022-11-06T14:07:03.847Z"
   },
   {
    "duration": 9,
    "start_time": "2022-11-06T14:07:03.864Z"
   },
   {
    "duration": 6,
    "start_time": "2022-11-06T14:07:03.875Z"
   },
   {
    "duration": 35,
    "start_time": "2022-11-06T14:07:03.882Z"
   },
   {
    "duration": 562,
    "start_time": "2022-11-06T14:07:03.920Z"
   },
   {
    "duration": 464,
    "start_time": "2022-11-06T14:07:04.484Z"
   },
   {
    "duration": 14,
    "start_time": "2022-11-06T14:07:04.950Z"
   },
   {
    "duration": 3,
    "start_time": "2022-11-06T14:07:04.965Z"
   },
   {
    "duration": 846,
    "start_time": "2022-11-06T14:07:04.970Z"
   },
   {
    "duration": 27,
    "start_time": "2022-11-06T14:07:05.817Z"
   },
   {
    "duration": 182,
    "start_time": "2022-11-06T14:07:05.846Z"
   },
   {
    "duration": 81,
    "start_time": "2022-11-06T14:07:06.030Z"
   },
   {
    "duration": 10,
    "start_time": "2022-11-06T14:07:06.112Z"
   },
   {
    "duration": 159,
    "start_time": "2022-11-06T14:07:06.124Z"
   },
   {
    "duration": 9,
    "start_time": "2022-11-06T14:07:06.285Z"
   },
   {
    "duration": 141,
    "start_time": "2022-11-06T14:07:06.295Z"
   },
   {
    "duration": 5,
    "start_time": "2022-11-06T14:07:06.437Z"
   },
   {
    "duration": 624,
    "start_time": "2022-11-06T14:07:06.444Z"
   },
   {
    "duration": 3,
    "start_time": "2022-11-06T14:07:07.070Z"
   },
   {
    "duration": 269,
    "start_time": "2022-11-06T14:07:07.075Z"
   },
   {
    "duration": 1778,
    "start_time": "2022-11-06T14:07:07.346Z"
   },
   {
    "duration": 202,
    "start_time": "2022-11-06T14:07:09.126Z"
   },
   {
    "duration": 202,
    "start_time": "2022-11-06T14:07:09.331Z"
   },
   {
    "duration": 502,
    "start_time": "2022-11-06T14:07:09.534Z"
   },
   {
    "duration": 415,
    "start_time": "2022-11-06T14:07:10.038Z"
   },
   {
    "duration": 414,
    "start_time": "2022-11-06T14:07:10.454Z"
   },
   {
    "duration": 110,
    "start_time": "2022-11-06T14:07:10.869Z"
   },
   {
    "duration": 0,
    "start_time": "2022-11-06T14:07:10.981Z"
   },
   {
    "duration": 0,
    "start_time": "2022-11-06T14:07:10.982Z"
   },
   {
    "duration": 0,
    "start_time": "2022-11-06T14:07:10.983Z"
   },
   {
    "duration": 0,
    "start_time": "2022-11-06T14:07:10.984Z"
   },
   {
    "duration": 0,
    "start_time": "2022-11-06T14:07:10.985Z"
   },
   {
    "duration": 11,
    "start_time": "2022-11-06T14:20:24.844Z"
   },
   {
    "duration": 13,
    "start_time": "2022-11-06T14:20:25.839Z"
   },
   {
    "duration": 9,
    "start_time": "2022-11-06T14:20:26.544Z"
   },
   {
    "duration": 13,
    "start_time": "2022-11-06T14:20:27.645Z"
   },
   {
    "duration": 15,
    "start_time": "2022-11-06T14:20:28.280Z"
   },
   {
    "duration": 5,
    "start_time": "2022-11-06T14:20:28.944Z"
   },
   {
    "duration": 6,
    "start_time": "2022-11-06T14:20:55.262Z"
   },
   {
    "duration": 183,
    "start_time": "2022-11-06T14:20:56.062Z"
   },
   {
    "duration": 166,
    "start_time": "2022-11-06T14:20:56.804Z"
   },
   {
    "duration": 7,
    "start_time": "2022-11-06T14:20:57.321Z"
   },
   {
    "duration": 200,
    "start_time": "2022-11-06T14:20:58.163Z"
   },
   {
    "duration": 154,
    "start_time": "2022-11-06T14:20:58.648Z"
   },
   {
    "duration": 5,
    "start_time": "2022-11-06T14:20:59.087Z"
   },
   {
    "duration": 409,
    "start_time": "2022-11-06T14:24:25.751Z"
   },
   {
    "duration": 36,
    "start_time": "2022-11-06T14:24:26.162Z"
   },
   {
    "duration": 3,
    "start_time": "2022-11-06T14:24:26.199Z"
   },
   {
    "duration": 30,
    "start_time": "2022-11-06T14:24:26.204Z"
   },
   {
    "duration": 23,
    "start_time": "2022-11-06T14:24:26.236Z"
   },
   {
    "duration": 16,
    "start_time": "2022-11-06T14:24:26.261Z"
   },
   {
    "duration": 12,
    "start_time": "2022-11-06T14:24:26.279Z"
   },
   {
    "duration": 14,
    "start_time": "2022-11-06T14:24:26.292Z"
   },
   {
    "duration": 16,
    "start_time": "2022-11-06T14:24:26.307Z"
   },
   {
    "duration": 537,
    "start_time": "2022-11-06T14:24:26.327Z"
   },
   {
    "duration": 447,
    "start_time": "2022-11-06T14:24:26.866Z"
   },
   {
    "duration": 14,
    "start_time": "2022-11-06T14:24:27.315Z"
   },
   {
    "duration": 3,
    "start_time": "2022-11-06T14:24:27.331Z"
   },
   {
    "duration": 924,
    "start_time": "2022-11-06T14:24:27.335Z"
   },
   {
    "duration": 25,
    "start_time": "2022-11-06T14:24:28.261Z"
   },
   {
    "duration": 179,
    "start_time": "2022-11-06T14:24:28.288Z"
   },
   {
    "duration": 77,
    "start_time": "2022-11-06T14:24:28.468Z"
   },
   {
    "duration": 19,
    "start_time": "2022-11-06T14:24:28.547Z"
   },
   {
    "duration": 141,
    "start_time": "2022-11-06T14:24:28.567Z"
   },
   {
    "duration": 6,
    "start_time": "2022-11-06T14:24:28.710Z"
   },
   {
    "duration": 155,
    "start_time": "2022-11-06T14:24:28.718Z"
   },
   {
    "duration": 5,
    "start_time": "2022-11-06T14:24:28.875Z"
   },
   {
    "duration": 664,
    "start_time": "2022-11-06T14:24:28.881Z"
   },
   {
    "duration": 4,
    "start_time": "2022-11-06T14:24:29.546Z"
   },
   {
    "duration": 209,
    "start_time": "2022-11-06T14:24:29.552Z"
   },
   {
    "duration": 1760,
    "start_time": "2022-11-06T14:24:29.804Z"
   },
   {
    "duration": 198,
    "start_time": "2022-11-06T14:24:31.566Z"
   },
   {
    "duration": 213,
    "start_time": "2022-11-06T14:24:31.767Z"
   },
   {
    "duration": 531,
    "start_time": "2022-11-06T14:24:31.982Z"
   },
   {
    "duration": 418,
    "start_time": "2022-11-06T14:24:32.514Z"
   },
   {
    "duration": 406,
    "start_time": "2022-11-06T14:24:32.934Z"
   },
   {
    "duration": 5,
    "start_time": "2022-11-06T14:24:33.342Z"
   },
   {
    "duration": 176,
    "start_time": "2022-11-06T14:24:33.348Z"
   },
   {
    "duration": 167,
    "start_time": "2022-11-06T14:24:33.526Z"
   },
   {
    "duration": 91,
    "start_time": "2022-11-06T14:24:33.695Z"
   },
   {
    "duration": 0,
    "start_time": "2022-11-06T14:24:33.788Z"
   },
   {
    "duration": 0,
    "start_time": "2022-11-06T14:24:33.790Z"
   },
   {
    "duration": 0,
    "start_time": "2022-11-06T14:24:33.791Z"
   },
   {
    "duration": 150,
    "start_time": "2022-11-06T14:25:00.351Z"
   },
   {
    "duration": 143,
    "start_time": "2022-11-06T14:25:01.227Z"
   },
   {
    "duration": 6,
    "start_time": "2022-11-06T14:25:04.233Z"
   },
   {
    "duration": 4,
    "start_time": "2022-11-06T14:25:30.012Z"
   },
   {
    "duration": 617,
    "start_time": "2022-11-06T16:32:22.246Z"
   },
   {
    "duration": 54,
    "start_time": "2022-11-06T16:32:22.865Z"
   },
   {
    "duration": 4,
    "start_time": "2022-11-06T16:32:22.920Z"
   },
   {
    "duration": 55,
    "start_time": "2022-11-06T16:32:22.927Z"
   },
   {
    "duration": 18,
    "start_time": "2022-11-06T16:32:22.984Z"
   },
   {
    "duration": 27,
    "start_time": "2022-11-06T16:32:23.004Z"
   },
   {
    "duration": 11,
    "start_time": "2022-11-06T16:32:23.033Z"
   },
   {
    "duration": 61,
    "start_time": "2022-11-06T16:32:23.045Z"
   },
   {
    "duration": 76,
    "start_time": "2022-11-06T16:32:23.108Z"
   },
   {
    "duration": 706,
    "start_time": "2022-11-06T16:32:23.188Z"
   },
   {
    "duration": 541,
    "start_time": "2022-11-06T16:32:23.896Z"
   },
   {
    "duration": 13,
    "start_time": "2022-11-06T16:32:24.439Z"
   },
   {
    "duration": 3,
    "start_time": "2022-11-06T16:32:24.454Z"
   },
   {
    "duration": 828,
    "start_time": "2022-11-06T16:32:24.459Z"
   },
   {
    "duration": 31,
    "start_time": "2022-11-06T16:32:25.289Z"
   },
   {
    "duration": 211,
    "start_time": "2022-11-06T16:32:25.322Z"
   },
   {
    "duration": 61,
    "start_time": "2022-11-06T16:32:25.535Z"
   },
   {
    "duration": 45,
    "start_time": "2022-11-06T16:32:25.597Z"
   },
   {
    "duration": 144,
    "start_time": "2022-11-06T16:32:25.644Z"
   },
   {
    "duration": 5,
    "start_time": "2022-11-06T16:32:25.789Z"
   },
   {
    "duration": 158,
    "start_time": "2022-11-06T16:32:25.795Z"
   },
   {
    "duration": 5,
    "start_time": "2022-11-06T16:32:25.954Z"
   },
   {
    "duration": 711,
    "start_time": "2022-11-06T16:32:25.961Z"
   },
   {
    "duration": 4,
    "start_time": "2022-11-06T16:32:26.674Z"
   },
   {
    "duration": 273,
    "start_time": "2022-11-06T16:32:26.680Z"
   },
   {
    "duration": 1777,
    "start_time": "2022-11-06T16:32:26.955Z"
   },
   {
    "duration": 219,
    "start_time": "2022-11-06T16:32:28.734Z"
   },
   {
    "duration": 222,
    "start_time": "2022-11-06T16:32:28.957Z"
   },
   {
    "duration": 525,
    "start_time": "2022-11-06T16:32:29.181Z"
   },
   {
    "duration": 507,
    "start_time": "2022-11-06T16:32:29.711Z"
   },
   {
    "duration": 478,
    "start_time": "2022-11-06T16:32:30.220Z"
   },
   {
    "duration": 10,
    "start_time": "2022-11-06T16:32:30.700Z"
   },
   {
    "duration": 357,
    "start_time": "2022-11-06T16:32:30.712Z"
   },
   {
    "duration": 177,
    "start_time": "2022-11-06T16:32:31.071Z"
   },
   {
    "duration": 135,
    "start_time": "2022-11-06T16:32:31.250Z"
   },
   {
    "duration": 0,
    "start_time": "2022-11-06T16:32:31.386Z"
   },
   {
    "duration": 0,
    "start_time": "2022-11-06T16:32:31.388Z"
   },
   {
    "duration": 0,
    "start_time": "2022-11-06T16:32:31.389Z"
   },
   {
    "duration": 5,
    "start_time": "2022-11-06T16:33:45.561Z"
   },
   {
    "duration": 199,
    "start_time": "2022-11-06T16:33:46.966Z"
   },
   {
    "duration": 171,
    "start_time": "2022-11-06T16:33:47.361Z"
   },
   {
    "duration": 5,
    "start_time": "2022-11-06T16:33:47.979Z"
   },
   {
    "duration": 52,
    "start_time": "2022-11-06T16:56:47.570Z"
   },
   {
    "duration": 48,
    "start_time": "2022-11-06T16:57:20.994Z"
   },
   {
    "duration": 9,
    "start_time": "2022-11-06T17:23:31.555Z"
   },
   {
    "duration": 1452,
    "start_time": "2022-11-06T17:23:34.671Z"
   },
   {
    "duration": 710,
    "start_time": "2022-11-06T17:24:02.326Z"
   },
   {
    "duration": 34,
    "start_time": "2022-11-06T17:24:03.039Z"
   },
   {
    "duration": 3,
    "start_time": "2022-11-06T17:24:03.075Z"
   },
   {
    "duration": 29,
    "start_time": "2022-11-06T17:24:03.081Z"
   },
   {
    "duration": 17,
    "start_time": "2022-11-06T17:24:03.111Z"
   },
   {
    "duration": 15,
    "start_time": "2022-11-06T17:24:03.129Z"
   },
   {
    "duration": 9,
    "start_time": "2022-11-06T17:24:03.145Z"
   },
   {
    "duration": 22,
    "start_time": "2022-11-06T17:24:03.155Z"
   },
   {
    "duration": 20,
    "start_time": "2022-11-06T17:24:03.179Z"
   },
   {
    "duration": 501,
    "start_time": "2022-11-06T17:24:03.202Z"
   },
   {
    "duration": 494,
    "start_time": "2022-11-06T17:24:03.705Z"
   },
   {
    "duration": 15,
    "start_time": "2022-11-06T17:24:04.202Z"
   },
   {
    "duration": 4,
    "start_time": "2022-11-06T17:24:04.219Z"
   },
   {
    "duration": 1902,
    "start_time": "2022-11-06T17:24:04.225Z"
   },
   {
    "duration": 0,
    "start_time": "2022-11-06T17:24:06.129Z"
   },
   {
    "duration": 0,
    "start_time": "2022-11-06T17:24:06.130Z"
   },
   {
    "duration": 0,
    "start_time": "2022-11-06T17:24:06.131Z"
   },
   {
    "duration": 0,
    "start_time": "2022-11-06T17:24:06.132Z"
   },
   {
    "duration": 0,
    "start_time": "2022-11-06T17:24:06.134Z"
   },
   {
    "duration": 0,
    "start_time": "2022-11-06T17:24:06.135Z"
   },
   {
    "duration": 0,
    "start_time": "2022-11-06T17:24:06.136Z"
   },
   {
    "duration": 0,
    "start_time": "2022-11-06T17:24:06.137Z"
   },
   {
    "duration": 0,
    "start_time": "2022-11-06T17:24:06.138Z"
   },
   {
    "duration": 0,
    "start_time": "2022-11-06T17:24:06.139Z"
   },
   {
    "duration": 0,
    "start_time": "2022-11-06T17:24:06.140Z"
   },
   {
    "duration": 0,
    "start_time": "2022-11-06T17:24:06.141Z"
   },
   {
    "duration": 0,
    "start_time": "2022-11-06T17:24:06.142Z"
   },
   {
    "duration": 0,
    "start_time": "2022-11-06T17:24:06.143Z"
   },
   {
    "duration": 0,
    "start_time": "2022-11-06T17:24:06.144Z"
   },
   {
    "duration": 0,
    "start_time": "2022-11-06T17:24:06.145Z"
   },
   {
    "duration": 0,
    "start_time": "2022-11-06T17:24:06.146Z"
   },
   {
    "duration": 0,
    "start_time": "2022-11-06T17:24:06.147Z"
   },
   {
    "duration": 0,
    "start_time": "2022-11-06T17:24:06.148Z"
   },
   {
    "duration": 0,
    "start_time": "2022-11-06T17:24:06.149Z"
   },
   {
    "duration": 0,
    "start_time": "2022-11-06T17:24:06.177Z"
   },
   {
    "duration": 0,
    "start_time": "2022-11-06T17:24:06.178Z"
   },
   {
    "duration": 0,
    "start_time": "2022-11-06T17:24:06.179Z"
   },
   {
    "duration": 0,
    "start_time": "2022-11-06T17:24:06.181Z"
   },
   {
    "duration": 4,
    "start_time": "2022-11-06T17:24:19.183Z"
   },
   {
    "duration": 1206,
    "start_time": "2022-11-06T17:24:21.004Z"
   },
   {
    "duration": 3,
    "start_time": "2022-11-06T17:24:54.210Z"
   },
   {
    "duration": 374,
    "start_time": "2022-11-06T17:24:56.516Z"
   },
   {
    "duration": 4,
    "start_time": "2022-11-06T17:25:11.868Z"
   },
   {
    "duration": 1299,
    "start_time": "2022-11-06T17:25:15.349Z"
   },
   {
    "duration": 4,
    "start_time": "2022-11-06T17:25:21.563Z"
   },
   {
    "duration": 1219,
    "start_time": "2022-11-06T17:25:24.459Z"
   },
   {
    "duration": 3,
    "start_time": "2022-11-06T17:25:34.461Z"
   },
   {
    "duration": 277,
    "start_time": "2022-11-06T17:25:37.485Z"
   },
   {
    "duration": 4,
    "start_time": "2022-11-06T17:26:01.228Z"
   },
   {
    "duration": 1260,
    "start_time": "2022-11-06T17:26:03.034Z"
   },
   {
    "duration": 4,
    "start_time": "2022-11-06T17:26:13.435Z"
   },
   {
    "duration": 290,
    "start_time": "2022-11-06T17:26:18.808Z"
   },
   {
    "duration": 11,
    "start_time": "2022-11-06T17:42:35.588Z"
   },
   {
    "duration": 22,
    "start_time": "2022-11-06T17:42:43.244Z"
   },
   {
    "duration": 31,
    "start_time": "2022-11-06T17:42:51.855Z"
   },
   {
    "duration": 471,
    "start_time": "2022-11-06T17:45:16.308Z"
   },
   {
    "duration": 40,
    "start_time": "2022-11-06T17:45:16.781Z"
   },
   {
    "duration": 4,
    "start_time": "2022-11-06T17:45:16.823Z"
   },
   {
    "duration": 49,
    "start_time": "2022-11-06T17:45:16.829Z"
   },
   {
    "duration": 23,
    "start_time": "2022-11-06T17:45:16.880Z"
   },
   {
    "duration": 18,
    "start_time": "2022-11-06T17:45:16.905Z"
   },
   {
    "duration": 16,
    "start_time": "2022-11-06T17:45:16.925Z"
   },
   {
    "duration": 30,
    "start_time": "2022-11-06T17:45:16.947Z"
   },
   {
    "duration": 30,
    "start_time": "2022-11-06T17:45:16.978Z"
   },
   {
    "duration": 554,
    "start_time": "2022-11-06T17:45:17.012Z"
   },
   {
    "duration": 562,
    "start_time": "2022-11-06T17:45:17.568Z"
   },
   {
    "duration": 14,
    "start_time": "2022-11-06T17:45:18.132Z"
   },
   {
    "duration": 104,
    "start_time": "2022-11-06T17:45:18.147Z"
   },
   {
    "duration": 1158,
    "start_time": "2022-11-06T17:45:18.252Z"
   },
   {
    "duration": 0,
    "start_time": "2022-11-06T17:45:19.413Z"
   },
   {
    "duration": 0,
    "start_time": "2022-11-06T17:45:19.414Z"
   },
   {
    "duration": 0,
    "start_time": "2022-11-06T17:45:19.415Z"
   },
   {
    "duration": 0,
    "start_time": "2022-11-06T17:45:19.416Z"
   },
   {
    "duration": 0,
    "start_time": "2022-11-06T17:45:19.417Z"
   },
   {
    "duration": 0,
    "start_time": "2022-11-06T17:45:19.418Z"
   },
   {
    "duration": 0,
    "start_time": "2022-11-06T17:45:19.421Z"
   },
   {
    "duration": 0,
    "start_time": "2022-11-06T17:45:19.423Z"
   },
   {
    "duration": 0,
    "start_time": "2022-11-06T17:45:19.424Z"
   },
   {
    "duration": 0,
    "start_time": "2022-11-06T17:45:19.425Z"
   },
   {
    "duration": 0,
    "start_time": "2022-11-06T17:45:19.426Z"
   },
   {
    "duration": 0,
    "start_time": "2022-11-06T17:45:19.428Z"
   },
   {
    "duration": 0,
    "start_time": "2022-11-06T17:45:19.429Z"
   },
   {
    "duration": 0,
    "start_time": "2022-11-06T17:45:19.430Z"
   },
   {
    "duration": 0,
    "start_time": "2022-11-06T17:45:19.432Z"
   },
   {
    "duration": 0,
    "start_time": "2022-11-06T17:45:19.434Z"
   },
   {
    "duration": 0,
    "start_time": "2022-11-06T17:45:19.436Z"
   },
   {
    "duration": 0,
    "start_time": "2022-11-06T17:45:19.439Z"
   },
   {
    "duration": 0,
    "start_time": "2022-11-06T17:45:19.440Z"
   },
   {
    "duration": 0,
    "start_time": "2022-11-06T17:45:19.441Z"
   },
   {
    "duration": 0,
    "start_time": "2022-11-06T17:45:19.442Z"
   },
   {
    "duration": 0,
    "start_time": "2022-11-06T17:45:19.443Z"
   },
   {
    "duration": 0,
    "start_time": "2022-11-06T17:45:19.445Z"
   },
   {
    "duration": 0,
    "start_time": "2022-11-06T17:45:19.446Z"
   },
   {
    "duration": 0,
    "start_time": "2022-11-06T17:45:19.447Z"
   },
   {
    "duration": 0,
    "start_time": "2022-11-06T17:45:19.448Z"
   },
   {
    "duration": 0,
    "start_time": "2022-11-06T17:45:19.449Z"
   },
   {
    "duration": 0,
    "start_time": "2022-11-06T17:45:19.450Z"
   },
   {
    "duration": 0,
    "start_time": "2022-11-06T17:45:19.451Z"
   },
   {
    "duration": 1092,
    "start_time": "2022-11-06T17:45:36.147Z"
   },
   {
    "duration": 5,
    "start_time": "2022-11-06T17:45:45.743Z"
   },
   {
    "duration": 1438,
    "start_time": "2022-11-06T17:45:48.295Z"
   },
   {
    "duration": 0,
    "start_time": "2022-11-06T17:45:49.734Z"
   },
   {
    "duration": 0,
    "start_time": "2022-11-06T17:45:49.736Z"
   },
   {
    "duration": 8,
    "start_time": "2022-11-06T17:46:00.632Z"
   },
   {
    "duration": 10,
    "start_time": "2022-11-06T17:46:02.554Z"
   },
   {
    "duration": 10,
    "start_time": "2022-11-06T17:46:04.994Z"
   },
   {
    "duration": 3,
    "start_time": "2022-11-06T17:46:05.914Z"
   },
   {
    "duration": 5,
    "start_time": "2022-11-06T17:46:10.293Z"
   },
   {
    "duration": 12,
    "start_time": "2022-11-06T17:46:19.111Z"
   },
   {
    "duration": 4,
    "start_time": "2022-11-06T17:48:15.963Z"
   },
   {
    "duration": 9,
    "start_time": "2022-11-06T17:48:16.483Z"
   },
   {
    "duration": 12,
    "start_time": "2022-11-06T17:48:40.136Z"
   },
   {
    "duration": 12,
    "start_time": "2022-11-06T17:48:49.493Z"
   },
   {
    "duration": 453,
    "start_time": "2022-11-06T17:49:00.095Z"
   },
   {
    "duration": 35,
    "start_time": "2022-11-06T17:49:00.550Z"
   },
   {
    "duration": 31,
    "start_time": "2022-11-06T17:49:00.586Z"
   },
   {
    "duration": 54,
    "start_time": "2022-11-06T17:49:00.620Z"
   },
   {
    "duration": 35,
    "start_time": "2022-11-06T17:49:00.677Z"
   },
   {
    "duration": 33,
    "start_time": "2022-11-06T17:49:00.715Z"
   },
   {
    "duration": 34,
    "start_time": "2022-11-06T17:49:00.750Z"
   },
   {
    "duration": 41,
    "start_time": "2022-11-06T17:49:00.786Z"
   },
   {
    "duration": 44,
    "start_time": "2022-11-06T17:49:00.828Z"
   },
   {
    "duration": 524,
    "start_time": "2022-11-06T17:49:00.875Z"
   },
   {
    "duration": 444,
    "start_time": "2022-11-06T17:49:01.401Z"
   },
   {
    "duration": 14,
    "start_time": "2022-11-06T17:49:01.846Z"
   },
   {
    "duration": 127,
    "start_time": "2022-11-06T17:49:01.862Z"
   },
   {
    "duration": 66,
    "start_time": "2022-11-06T17:49:01.991Z"
   },
   {
    "duration": 0,
    "start_time": "2022-11-06T17:49:02.059Z"
   },
   {
    "duration": 0,
    "start_time": "2022-11-06T17:49:02.060Z"
   },
   {
    "duration": 0,
    "start_time": "2022-11-06T17:49:02.061Z"
   },
   {
    "duration": 0,
    "start_time": "2022-11-06T17:49:02.062Z"
   },
   {
    "duration": 0,
    "start_time": "2022-11-06T17:49:02.077Z"
   },
   {
    "duration": 0,
    "start_time": "2022-11-06T17:49:02.078Z"
   },
   {
    "duration": 0,
    "start_time": "2022-11-06T17:49:02.079Z"
   },
   {
    "duration": 0,
    "start_time": "2022-11-06T17:49:02.080Z"
   },
   {
    "duration": 0,
    "start_time": "2022-11-06T17:49:02.081Z"
   },
   {
    "duration": 0,
    "start_time": "2022-11-06T17:49:02.082Z"
   },
   {
    "duration": 0,
    "start_time": "2022-11-06T17:49:02.083Z"
   },
   {
    "duration": 0,
    "start_time": "2022-11-06T17:49:02.084Z"
   },
   {
    "duration": 0,
    "start_time": "2022-11-06T17:49:02.085Z"
   },
   {
    "duration": 0,
    "start_time": "2022-11-06T17:49:02.086Z"
   },
   {
    "duration": 0,
    "start_time": "2022-11-06T17:49:02.087Z"
   },
   {
    "duration": 0,
    "start_time": "2022-11-06T17:49:02.088Z"
   },
   {
    "duration": 0,
    "start_time": "2022-11-06T17:49:02.089Z"
   },
   {
    "duration": 0,
    "start_time": "2022-11-06T17:49:02.090Z"
   },
   {
    "duration": 0,
    "start_time": "2022-11-06T17:49:02.090Z"
   },
   {
    "duration": 0,
    "start_time": "2022-11-06T17:49:02.091Z"
   },
   {
    "duration": 0,
    "start_time": "2022-11-06T17:49:02.092Z"
   },
   {
    "duration": 0,
    "start_time": "2022-11-06T17:49:02.093Z"
   },
   {
    "duration": 0,
    "start_time": "2022-11-06T17:49:02.095Z"
   },
   {
    "duration": 0,
    "start_time": "2022-11-06T17:49:02.096Z"
   },
   {
    "duration": 0,
    "start_time": "2022-11-06T17:49:02.097Z"
   },
   {
    "duration": 0,
    "start_time": "2022-11-06T17:49:02.098Z"
   },
   {
    "duration": 3,
    "start_time": "2022-11-06T17:49:42.684Z"
   },
   {
    "duration": 9,
    "start_time": "2022-11-06T17:49:43.144Z"
   },
   {
    "duration": 3,
    "start_time": "2022-11-06T17:50:00.864Z"
   },
   {
    "duration": 10,
    "start_time": "2022-11-06T17:50:02.637Z"
   },
   {
    "duration": 454,
    "start_time": "2022-11-06T17:50:09.067Z"
   },
   {
    "duration": 41,
    "start_time": "2022-11-06T17:50:09.523Z"
   },
   {
    "duration": 3,
    "start_time": "2022-11-06T17:50:09.566Z"
   },
   {
    "duration": 24,
    "start_time": "2022-11-06T17:50:09.577Z"
   },
   {
    "duration": 14,
    "start_time": "2022-11-06T17:50:09.603Z"
   },
   {
    "duration": 15,
    "start_time": "2022-11-06T17:50:09.618Z"
   },
   {
    "duration": 9,
    "start_time": "2022-11-06T17:50:09.634Z"
   },
   {
    "duration": 33,
    "start_time": "2022-11-06T17:50:09.644Z"
   },
   {
    "duration": 16,
    "start_time": "2022-11-06T17:50:09.679Z"
   },
   {
    "duration": 512,
    "start_time": "2022-11-06T17:50:09.698Z"
   },
   {
    "duration": 447,
    "start_time": "2022-11-06T17:50:10.212Z"
   },
   {
    "duration": 19,
    "start_time": "2022-11-06T17:50:10.661Z"
   },
   {
    "duration": 79,
    "start_time": "2022-11-06T17:50:10.682Z"
   },
   {
    "duration": 4,
    "start_time": "2022-11-06T17:50:10.776Z"
   },
   {
    "duration": 70,
    "start_time": "2022-11-06T17:50:10.782Z"
   },
   {
    "duration": 0,
    "start_time": "2022-11-06T17:50:10.854Z"
   },
   {
    "duration": 0,
    "start_time": "2022-11-06T17:50:10.856Z"
   },
   {
    "duration": 0,
    "start_time": "2022-11-06T17:50:10.857Z"
   },
   {
    "duration": 0,
    "start_time": "2022-11-06T17:50:10.858Z"
   },
   {
    "duration": 0,
    "start_time": "2022-11-06T17:50:10.877Z"
   },
   {
    "duration": 0,
    "start_time": "2022-11-06T17:50:10.878Z"
   },
   {
    "duration": 0,
    "start_time": "2022-11-06T17:50:10.879Z"
   },
   {
    "duration": 0,
    "start_time": "2022-11-06T17:50:10.880Z"
   },
   {
    "duration": 0,
    "start_time": "2022-11-06T17:50:10.881Z"
   },
   {
    "duration": 0,
    "start_time": "2022-11-06T17:50:10.882Z"
   },
   {
    "duration": 0,
    "start_time": "2022-11-06T17:50:10.883Z"
   },
   {
    "duration": 0,
    "start_time": "2022-11-06T17:50:10.885Z"
   },
   {
    "duration": 0,
    "start_time": "2022-11-06T17:50:10.885Z"
   },
   {
    "duration": 0,
    "start_time": "2022-11-06T17:50:10.886Z"
   },
   {
    "duration": 0,
    "start_time": "2022-11-06T17:50:10.887Z"
   },
   {
    "duration": 0,
    "start_time": "2022-11-06T17:50:10.888Z"
   },
   {
    "duration": 0,
    "start_time": "2022-11-06T17:50:10.889Z"
   },
   {
    "duration": 0,
    "start_time": "2022-11-06T17:50:10.890Z"
   },
   {
    "duration": 0,
    "start_time": "2022-11-06T17:50:10.891Z"
   },
   {
    "duration": 0,
    "start_time": "2022-11-06T17:50:10.892Z"
   },
   {
    "duration": 0,
    "start_time": "2022-11-06T17:50:10.893Z"
   },
   {
    "duration": 0,
    "start_time": "2022-11-06T17:50:10.894Z"
   },
   {
    "duration": 0,
    "start_time": "2022-11-06T17:50:10.895Z"
   },
   {
    "duration": 0,
    "start_time": "2022-11-06T17:50:10.896Z"
   },
   {
    "duration": 0,
    "start_time": "2022-11-06T17:50:10.897Z"
   },
   {
    "duration": 4,
    "start_time": "2022-11-06T17:50:16.931Z"
   },
   {
    "duration": 11,
    "start_time": "2022-11-06T17:50:17.480Z"
   },
   {
    "duration": 456,
    "start_time": "2022-11-06T17:50:29.639Z"
   },
   {
    "duration": 42,
    "start_time": "2022-11-06T17:50:31.019Z"
   },
   {
    "duration": 451,
    "start_time": "2022-11-06T17:50:35.078Z"
   },
   {
    "duration": 33,
    "start_time": "2022-11-06T17:50:35.531Z"
   },
   {
    "duration": 3,
    "start_time": "2022-11-06T17:50:35.565Z"
   },
   {
    "duration": 28,
    "start_time": "2022-11-06T17:50:35.570Z"
   },
   {
    "duration": 15,
    "start_time": "2022-11-06T17:50:35.600Z"
   },
   {
    "duration": 16,
    "start_time": "2022-11-06T17:50:35.616Z"
   },
   {
    "duration": 13,
    "start_time": "2022-11-06T17:50:35.634Z"
   },
   {
    "duration": 6,
    "start_time": "2022-11-06T17:50:35.648Z"
   },
   {
    "duration": 33,
    "start_time": "2022-11-06T17:50:35.656Z"
   },
   {
    "duration": 533,
    "start_time": "2022-11-06T17:50:35.692Z"
   },
   {
    "duration": 474,
    "start_time": "2022-11-06T17:50:36.227Z"
   },
   {
    "duration": 19,
    "start_time": "2022-11-06T17:50:36.702Z"
   },
   {
    "duration": 94,
    "start_time": "2022-11-06T17:50:36.723Z"
   },
   {
    "duration": 434,
    "start_time": "2022-11-06T17:50:36.819Z"
   },
   {
    "duration": 105,
    "start_time": "2022-11-06T17:50:37.255Z"
   },
   {
    "duration": 0,
    "start_time": "2022-11-06T17:50:37.361Z"
   },
   {
    "duration": 0,
    "start_time": "2022-11-06T17:50:37.363Z"
   },
   {
    "duration": 0,
    "start_time": "2022-11-06T17:50:37.364Z"
   },
   {
    "duration": 0,
    "start_time": "2022-11-06T17:50:37.365Z"
   },
   {
    "duration": 0,
    "start_time": "2022-11-06T17:50:37.377Z"
   },
   {
    "duration": 0,
    "start_time": "2022-11-06T17:50:37.379Z"
   },
   {
    "duration": 0,
    "start_time": "2022-11-06T17:50:37.380Z"
   },
   {
    "duration": 0,
    "start_time": "2022-11-06T17:50:37.381Z"
   },
   {
    "duration": 0,
    "start_time": "2022-11-06T17:50:37.382Z"
   },
   {
    "duration": 0,
    "start_time": "2022-11-06T17:50:37.383Z"
   },
   {
    "duration": 0,
    "start_time": "2022-11-06T17:50:37.384Z"
   },
   {
    "duration": 0,
    "start_time": "2022-11-06T17:50:37.384Z"
   },
   {
    "duration": 0,
    "start_time": "2022-11-06T17:50:37.385Z"
   },
   {
    "duration": 0,
    "start_time": "2022-11-06T17:50:37.386Z"
   },
   {
    "duration": 0,
    "start_time": "2022-11-06T17:50:37.388Z"
   },
   {
    "duration": 0,
    "start_time": "2022-11-06T17:50:37.389Z"
   },
   {
    "duration": 0,
    "start_time": "2022-11-06T17:50:37.390Z"
   },
   {
    "duration": 0,
    "start_time": "2022-11-06T17:50:37.391Z"
   },
   {
    "duration": 0,
    "start_time": "2022-11-06T17:50:37.393Z"
   },
   {
    "duration": 0,
    "start_time": "2022-11-06T17:50:37.394Z"
   },
   {
    "duration": 0,
    "start_time": "2022-11-06T17:50:37.395Z"
   },
   {
    "duration": 0,
    "start_time": "2022-11-06T17:50:37.397Z"
   },
   {
    "duration": 0,
    "start_time": "2022-11-06T17:50:37.398Z"
   },
   {
    "duration": 0,
    "start_time": "2022-11-06T17:50:37.399Z"
   },
   {
    "duration": 0,
    "start_time": "2022-11-06T17:50:37.401Z"
   },
   {
    "duration": 300,
    "start_time": "2022-11-06T17:50:57.708Z"
   },
   {
    "duration": 4,
    "start_time": "2022-11-06T17:55:49.695Z"
   },
   {
    "duration": 323,
    "start_time": "2022-11-06T17:55:50.460Z"
   },
   {
    "duration": 4,
    "start_time": "2022-11-06T17:55:55.719Z"
   },
   {
    "duration": 261,
    "start_time": "2022-11-06T17:55:56.332Z"
   },
   {
    "duration": 4,
    "start_time": "2022-11-06T17:56:04.185Z"
   },
   {
    "duration": 269,
    "start_time": "2022-11-06T17:56:05.201Z"
   },
   {
    "duration": 261,
    "start_time": "2022-11-06T17:56:10.155Z"
   },
   {
    "duration": 481,
    "start_time": "2022-11-06T17:56:19.458Z"
   },
   {
    "duration": 34,
    "start_time": "2022-11-06T17:56:19.941Z"
   },
   {
    "duration": 3,
    "start_time": "2022-11-06T17:56:19.977Z"
   },
   {
    "duration": 28,
    "start_time": "2022-11-06T17:56:19.982Z"
   },
   {
    "duration": 23,
    "start_time": "2022-11-06T17:56:20.012Z"
   },
   {
    "duration": 17,
    "start_time": "2022-11-06T17:56:20.037Z"
   },
   {
    "duration": 14,
    "start_time": "2022-11-06T17:56:20.055Z"
   },
   {
    "duration": 15,
    "start_time": "2022-11-06T17:56:20.084Z"
   },
   {
    "duration": 17,
    "start_time": "2022-11-06T17:56:20.101Z"
   },
   {
    "duration": 536,
    "start_time": "2022-11-06T17:56:20.122Z"
   },
   {
    "duration": 448,
    "start_time": "2022-11-06T17:56:20.660Z"
   },
   {
    "duration": 17,
    "start_time": "2022-11-06T17:56:21.110Z"
   },
   {
    "duration": 105,
    "start_time": "2022-11-06T17:56:21.128Z"
   },
   {
    "duration": 472,
    "start_time": "2022-11-06T17:56:21.235Z"
   },
   {
    "duration": 272,
    "start_time": "2022-11-06T17:56:21.708Z"
   },
   {
    "duration": 1370,
    "start_time": "2022-11-06T17:56:21.981Z"
   },
   {
    "duration": 0,
    "start_time": "2022-11-06T17:56:23.352Z"
   },
   {
    "duration": 0,
    "start_time": "2022-11-06T17:56:23.353Z"
   },
   {
    "duration": 0,
    "start_time": "2022-11-06T17:56:23.354Z"
   },
   {
    "duration": 0,
    "start_time": "2022-11-06T17:56:23.355Z"
   },
   {
    "duration": 0,
    "start_time": "2022-11-06T17:56:23.356Z"
   },
   {
    "duration": 0,
    "start_time": "2022-11-06T17:56:23.357Z"
   },
   {
    "duration": 0,
    "start_time": "2022-11-06T17:56:23.358Z"
   },
   {
    "duration": 0,
    "start_time": "2022-11-06T17:56:23.359Z"
   },
   {
    "duration": 0,
    "start_time": "2022-11-06T17:56:23.360Z"
   },
   {
    "duration": 0,
    "start_time": "2022-11-06T17:56:23.361Z"
   },
   {
    "duration": 0,
    "start_time": "2022-11-06T17:56:23.361Z"
   },
   {
    "duration": 0,
    "start_time": "2022-11-06T17:56:23.377Z"
   },
   {
    "duration": 0,
    "start_time": "2022-11-06T17:56:23.378Z"
   },
   {
    "duration": 0,
    "start_time": "2022-11-06T17:56:23.379Z"
   },
   {
    "duration": 0,
    "start_time": "2022-11-06T17:56:23.381Z"
   },
   {
    "duration": 0,
    "start_time": "2022-11-06T17:56:23.381Z"
   },
   {
    "duration": 0,
    "start_time": "2022-11-06T17:56:23.383Z"
   },
   {
    "duration": 0,
    "start_time": "2022-11-06T17:56:23.383Z"
   },
   {
    "duration": 0,
    "start_time": "2022-11-06T17:56:23.384Z"
   },
   {
    "duration": 0,
    "start_time": "2022-11-06T17:56:23.385Z"
   },
   {
    "duration": 0,
    "start_time": "2022-11-06T17:56:23.387Z"
   },
   {
    "duration": 0,
    "start_time": "2022-11-06T17:56:23.387Z"
   },
   {
    "duration": 0,
    "start_time": "2022-11-06T17:56:23.388Z"
   },
   {
    "duration": 0,
    "start_time": "2022-11-06T17:56:23.501Z"
   },
   {
    "duration": 137,
    "start_time": "2022-11-06T17:57:47.448Z"
   },
   {
    "duration": 196,
    "start_time": "2022-11-06T17:59:27.791Z"
   },
   {
    "duration": 470,
    "start_time": "2022-11-06T17:59:54.400Z"
   },
   {
    "duration": 36,
    "start_time": "2022-11-06T17:59:54.872Z"
   },
   {
    "duration": 4,
    "start_time": "2022-11-06T17:59:54.909Z"
   },
   {
    "duration": 28,
    "start_time": "2022-11-06T17:59:54.915Z"
   },
   {
    "duration": 34,
    "start_time": "2022-11-06T17:59:54.945Z"
   },
   {
    "duration": 16,
    "start_time": "2022-11-06T17:59:54.981Z"
   },
   {
    "duration": 10,
    "start_time": "2022-11-06T17:59:54.998Z"
   },
   {
    "duration": 8,
    "start_time": "2022-11-06T17:59:55.010Z"
   },
   {
    "duration": 25,
    "start_time": "2022-11-06T17:59:55.019Z"
   },
   {
    "duration": 524,
    "start_time": "2022-11-06T17:59:55.049Z"
   },
   {
    "duration": 471,
    "start_time": "2022-11-06T17:59:55.577Z"
   },
   {
    "duration": 15,
    "start_time": "2022-11-06T17:59:56.050Z"
   },
   {
    "duration": 80,
    "start_time": "2022-11-06T17:59:56.077Z"
   },
   {
    "duration": 456,
    "start_time": "2022-11-06T17:59:56.158Z"
   },
   {
    "duration": 302,
    "start_time": "2022-11-06T17:59:56.617Z"
   },
   {
    "duration": 251,
    "start_time": "2022-11-06T17:59:56.921Z"
   },
   {
    "duration": 0,
    "start_time": "2022-11-06T17:59:57.174Z"
   },
   {
    "duration": 0,
    "start_time": "2022-11-06T17:59:57.177Z"
   },
   {
    "duration": 0,
    "start_time": "2022-11-06T17:59:57.178Z"
   },
   {
    "duration": 0,
    "start_time": "2022-11-06T17:59:57.179Z"
   },
   {
    "duration": 0,
    "start_time": "2022-11-06T17:59:57.180Z"
   },
   {
    "duration": 0,
    "start_time": "2022-11-06T17:59:57.181Z"
   },
   {
    "duration": 0,
    "start_time": "2022-11-06T17:59:57.182Z"
   },
   {
    "duration": 0,
    "start_time": "2022-11-06T17:59:57.183Z"
   },
   {
    "duration": 0,
    "start_time": "2022-11-06T17:59:57.184Z"
   },
   {
    "duration": 0,
    "start_time": "2022-11-06T17:59:57.185Z"
   },
   {
    "duration": 0,
    "start_time": "2022-11-06T17:59:57.185Z"
   },
   {
    "duration": 0,
    "start_time": "2022-11-06T17:59:57.186Z"
   },
   {
    "duration": 0,
    "start_time": "2022-11-06T17:59:57.187Z"
   },
   {
    "duration": 0,
    "start_time": "2022-11-06T17:59:57.188Z"
   },
   {
    "duration": 0,
    "start_time": "2022-11-06T17:59:57.189Z"
   },
   {
    "duration": 0,
    "start_time": "2022-11-06T17:59:57.190Z"
   },
   {
    "duration": 0,
    "start_time": "2022-11-06T17:59:57.191Z"
   },
   {
    "duration": 0,
    "start_time": "2022-11-06T17:59:57.192Z"
   },
   {
    "duration": 0,
    "start_time": "2022-11-06T17:59:57.192Z"
   },
   {
    "duration": 0,
    "start_time": "2022-11-06T17:59:57.295Z"
   },
   {
    "duration": 0,
    "start_time": "2022-11-06T17:59:57.296Z"
   },
   {
    "duration": 0,
    "start_time": "2022-11-06T17:59:57.297Z"
   },
   {
    "duration": 0,
    "start_time": "2022-11-06T17:59:57.297Z"
   },
   {
    "duration": 0,
    "start_time": "2022-11-06T17:59:57.298Z"
   },
   {
    "duration": 1956,
    "start_time": "2022-11-06T18:00:28.782Z"
   },
   {
    "duration": 1951,
    "start_time": "2022-11-06T18:00:44.216Z"
   },
   {
    "duration": 1847,
    "start_time": "2022-11-06T18:01:01.415Z"
   },
   {
    "duration": 3,
    "start_time": "2022-11-06T18:02:32.782Z"
   },
   {
    "duration": 249,
    "start_time": "2022-11-06T18:02:33.440Z"
   },
   {
    "duration": 1989,
    "start_time": "2022-11-06T18:02:34.757Z"
   },
   {
    "duration": 1763,
    "start_time": "2022-11-06T18:03:30.191Z"
   },
   {
    "duration": 2277,
    "start_time": "2022-11-06T18:03:36.511Z"
   },
   {
    "duration": 1811,
    "start_time": "2022-11-06T18:03:47.020Z"
   },
   {
    "duration": 418,
    "start_time": "2022-11-06T18:04:10.120Z"
   },
   {
    "duration": 37,
    "start_time": "2022-11-06T18:04:10.539Z"
   },
   {
    "duration": 3,
    "start_time": "2022-11-06T18:04:10.577Z"
   },
   {
    "duration": 32,
    "start_time": "2022-11-06T18:04:10.581Z"
   },
   {
    "duration": 14,
    "start_time": "2022-11-06T18:04:10.615Z"
   },
   {
    "duration": 15,
    "start_time": "2022-11-06T18:04:10.631Z"
   },
   {
    "duration": 33,
    "start_time": "2022-11-06T18:04:10.647Z"
   },
   {
    "duration": 10,
    "start_time": "2022-11-06T18:04:10.681Z"
   },
   {
    "duration": 18,
    "start_time": "2022-11-06T18:04:10.692Z"
   },
   {
    "duration": 511,
    "start_time": "2022-11-06T18:04:10.711Z"
   },
   {
    "duration": 485,
    "start_time": "2022-11-06T18:04:11.224Z"
   },
   {
    "duration": 16,
    "start_time": "2022-11-06T18:04:11.711Z"
   },
   {
    "duration": 110,
    "start_time": "2022-11-06T18:04:11.730Z"
   },
   {
    "duration": 473,
    "start_time": "2022-11-06T18:04:11.843Z"
   },
   {
    "duration": 297,
    "start_time": "2022-11-06T18:04:12.317Z"
   },
   {
    "duration": 2024,
    "start_time": "2022-11-06T18:04:12.616Z"
   },
   {
    "duration": 0,
    "start_time": "2022-11-06T18:04:14.641Z"
   },
   {
    "duration": 0,
    "start_time": "2022-11-06T18:04:14.642Z"
   },
   {
    "duration": 0,
    "start_time": "2022-11-06T18:04:14.643Z"
   },
   {
    "duration": 0,
    "start_time": "2022-11-06T18:04:14.645Z"
   },
   {
    "duration": 0,
    "start_time": "2022-11-06T18:04:14.646Z"
   },
   {
    "duration": 0,
    "start_time": "2022-11-06T18:04:14.647Z"
   },
   {
    "duration": 0,
    "start_time": "2022-11-06T18:04:14.648Z"
   },
   {
    "duration": 0,
    "start_time": "2022-11-06T18:04:14.648Z"
   },
   {
    "duration": 0,
    "start_time": "2022-11-06T18:04:14.649Z"
   },
   {
    "duration": 0,
    "start_time": "2022-11-06T18:04:14.650Z"
   },
   {
    "duration": 0,
    "start_time": "2022-11-06T18:04:14.651Z"
   },
   {
    "duration": 0,
    "start_time": "2022-11-06T18:04:14.652Z"
   },
   {
    "duration": 0,
    "start_time": "2022-11-06T18:04:14.653Z"
   },
   {
    "duration": 0,
    "start_time": "2022-11-06T18:04:14.655Z"
   },
   {
    "duration": 0,
    "start_time": "2022-11-06T18:04:14.656Z"
   },
   {
    "duration": 0,
    "start_time": "2022-11-06T18:04:14.658Z"
   },
   {
    "duration": 0,
    "start_time": "2022-11-06T18:04:14.659Z"
   },
   {
    "duration": 0,
    "start_time": "2022-11-06T18:04:14.660Z"
   },
   {
    "duration": 0,
    "start_time": "2022-11-06T18:04:14.677Z"
   },
   {
    "duration": 0,
    "start_time": "2022-11-06T18:04:14.678Z"
   },
   {
    "duration": 0,
    "start_time": "2022-11-06T18:04:14.680Z"
   },
   {
    "duration": 0,
    "start_time": "2022-11-06T18:04:14.681Z"
   },
   {
    "duration": 0,
    "start_time": "2022-11-06T18:04:14.683Z"
   },
   {
    "duration": 0,
    "start_time": "2022-11-06T18:04:14.684Z"
   },
   {
    "duration": 30,
    "start_time": "2022-11-06T18:04:46.476Z"
   },
   {
    "duration": 1740,
    "start_time": "2022-11-06T18:05:04.096Z"
   },
   {
    "duration": 2079,
    "start_time": "2022-11-06T18:05:13.244Z"
   },
   {
    "duration": 215,
    "start_time": "2022-11-06T18:05:57.817Z"
   },
   {
    "duration": 4,
    "start_time": "2022-11-06T18:06:46.078Z"
   },
   {
    "duration": 292,
    "start_time": "2022-11-06T18:06:46.646Z"
   },
   {
    "duration": 501,
    "start_time": "2022-11-06T18:07:05.373Z"
   },
   {
    "duration": 36,
    "start_time": "2022-11-06T18:07:05.876Z"
   },
   {
    "duration": 3,
    "start_time": "2022-11-06T18:07:05.913Z"
   },
   {
    "duration": 29,
    "start_time": "2022-11-06T18:07:05.918Z"
   },
   {
    "duration": 37,
    "start_time": "2022-11-06T18:07:05.948Z"
   },
   {
    "duration": 16,
    "start_time": "2022-11-06T18:07:05.986Z"
   },
   {
    "duration": 9,
    "start_time": "2022-11-06T18:07:06.004Z"
   },
   {
    "duration": 8,
    "start_time": "2022-11-06T18:07:06.014Z"
   },
   {
    "duration": 18,
    "start_time": "2022-11-06T18:07:06.023Z"
   },
   {
    "duration": 539,
    "start_time": "2022-11-06T18:07:06.044Z"
   },
   {
    "duration": 465,
    "start_time": "2022-11-06T18:07:06.584Z"
   },
   {
    "duration": 15,
    "start_time": "2022-11-06T18:07:07.050Z"
   },
   {
    "duration": 85,
    "start_time": "2022-11-06T18:07:07.076Z"
   },
   {
    "duration": 453,
    "start_time": "2022-11-06T18:07:07.162Z"
   },
   {
    "duration": 316,
    "start_time": "2022-11-06T18:07:07.616Z"
   },
   {
    "duration": 459,
    "start_time": "2022-11-06T18:07:39.984Z"
   },
   {
    "duration": 33,
    "start_time": "2022-11-06T18:07:40.445Z"
   },
   {
    "duration": 3,
    "start_time": "2022-11-06T18:07:40.480Z"
   },
   {
    "duration": 33,
    "start_time": "2022-11-06T18:07:40.485Z"
   },
   {
    "duration": 18,
    "start_time": "2022-11-06T18:07:40.520Z"
   },
   {
    "duration": 16,
    "start_time": "2022-11-06T18:07:40.539Z"
   },
   {
    "duration": 7,
    "start_time": "2022-11-06T18:07:40.576Z"
   },
   {
    "duration": 9,
    "start_time": "2022-11-06T18:07:40.585Z"
   },
   {
    "duration": 18,
    "start_time": "2022-11-06T18:07:40.595Z"
   },
   {
    "duration": 518,
    "start_time": "2022-11-06T18:07:40.617Z"
   },
   {
    "duration": 474,
    "start_time": "2022-11-06T18:07:41.137Z"
   },
   {
    "duration": 16,
    "start_time": "2022-11-06T18:07:41.613Z"
   },
   {
    "duration": 111,
    "start_time": "2022-11-06T18:07:41.631Z"
   },
   {
    "duration": 466,
    "start_time": "2022-11-06T18:07:41.744Z"
   },
   {
    "duration": 269,
    "start_time": "2022-11-06T18:07:42.212Z"
   },
   {
    "duration": 430,
    "start_time": "2022-11-06T18:13:33.786Z"
   },
   {
    "duration": 35,
    "start_time": "2022-11-06T18:13:34.218Z"
   },
   {
    "duration": 4,
    "start_time": "2022-11-06T18:13:34.255Z"
   },
   {
    "duration": 37,
    "start_time": "2022-11-06T18:13:34.261Z"
   },
   {
    "duration": 12,
    "start_time": "2022-11-06T18:13:34.300Z"
   },
   {
    "duration": 15,
    "start_time": "2022-11-06T18:13:34.315Z"
   },
   {
    "duration": 7,
    "start_time": "2022-11-06T18:13:34.332Z"
   },
   {
    "duration": 36,
    "start_time": "2022-11-06T18:13:34.341Z"
   },
   {
    "duration": 23,
    "start_time": "2022-11-06T18:13:34.379Z"
   },
   {
    "duration": 506,
    "start_time": "2022-11-06T18:13:34.406Z"
   },
   {
    "duration": 453,
    "start_time": "2022-11-06T18:13:34.914Z"
   },
   {
    "duration": 18,
    "start_time": "2022-11-06T18:13:35.369Z"
   },
   {
    "duration": 100,
    "start_time": "2022-11-06T18:13:35.389Z"
   },
   {
    "duration": 446,
    "start_time": "2022-11-06T18:13:35.490Z"
   },
   {
    "duration": 261,
    "start_time": "2022-11-06T18:13:35.937Z"
   },
   {
    "duration": 226,
    "start_time": "2022-11-06T18:13:36.200Z"
   },
   {
    "duration": 0,
    "start_time": "2022-11-06T18:13:36.428Z"
   },
   {
    "duration": 0,
    "start_time": "2022-11-06T18:13:36.429Z"
   },
   {
    "duration": 0,
    "start_time": "2022-11-06T18:13:36.430Z"
   },
   {
    "duration": 0,
    "start_time": "2022-11-06T18:13:36.433Z"
   },
   {
    "duration": 0,
    "start_time": "2022-11-06T18:13:36.434Z"
   },
   {
    "duration": 0,
    "start_time": "2022-11-06T18:13:36.435Z"
   },
   {
    "duration": 0,
    "start_time": "2022-11-06T18:13:36.436Z"
   },
   {
    "duration": 0,
    "start_time": "2022-11-06T18:13:36.437Z"
   },
   {
    "duration": 0,
    "start_time": "2022-11-06T18:13:36.438Z"
   },
   {
    "duration": 0,
    "start_time": "2022-11-06T18:13:36.439Z"
   },
   {
    "duration": 0,
    "start_time": "2022-11-06T18:13:36.441Z"
   },
   {
    "duration": 0,
    "start_time": "2022-11-06T18:13:36.443Z"
   },
   {
    "duration": 0,
    "start_time": "2022-11-06T18:13:36.444Z"
   },
   {
    "duration": 0,
    "start_time": "2022-11-06T18:13:36.445Z"
   },
   {
    "duration": 0,
    "start_time": "2022-11-06T18:13:36.447Z"
   },
   {
    "duration": 0,
    "start_time": "2022-11-06T18:13:36.448Z"
   },
   {
    "duration": 0,
    "start_time": "2022-11-06T18:13:36.477Z"
   },
   {
    "duration": 0,
    "start_time": "2022-11-06T18:13:36.479Z"
   },
   {
    "duration": 0,
    "start_time": "2022-11-06T18:13:36.480Z"
   },
   {
    "duration": 0,
    "start_time": "2022-11-06T18:13:36.481Z"
   },
   {
    "duration": 0,
    "start_time": "2022-11-06T18:13:36.483Z"
   },
   {
    "duration": 0,
    "start_time": "2022-11-06T18:13:36.484Z"
   },
   {
    "duration": 0,
    "start_time": "2022-11-06T18:13:36.486Z"
   },
   {
    "duration": 0,
    "start_time": "2022-11-06T18:13:36.616Z"
   },
   {
    "duration": 0,
    "start_time": "2022-11-06T18:13:36.617Z"
   },
   {
    "duration": 460,
    "start_time": "2022-11-06T18:16:43.309Z"
   },
   {
    "duration": 34,
    "start_time": "2022-11-06T18:16:43.771Z"
   },
   {
    "duration": 4,
    "start_time": "2022-11-06T18:16:43.807Z"
   },
   {
    "duration": 43,
    "start_time": "2022-11-06T18:16:43.813Z"
   },
   {
    "duration": 28,
    "start_time": "2022-11-06T18:16:43.860Z"
   },
   {
    "duration": 15,
    "start_time": "2022-11-06T18:16:43.890Z"
   },
   {
    "duration": 10,
    "start_time": "2022-11-06T18:16:43.907Z"
   },
   {
    "duration": 9,
    "start_time": "2022-11-06T18:16:43.919Z"
   },
   {
    "duration": 51,
    "start_time": "2022-11-06T18:16:43.929Z"
   },
   {
    "duration": 544,
    "start_time": "2022-11-06T18:16:43.981Z"
   },
   {
    "duration": 540,
    "start_time": "2022-11-06T18:16:44.527Z"
   },
   {
    "duration": 18,
    "start_time": "2022-11-06T18:16:45.069Z"
   },
   {
    "duration": 106,
    "start_time": "2022-11-06T18:16:45.089Z"
   },
   {
    "duration": 492,
    "start_time": "2022-11-06T18:16:45.199Z"
   },
   {
    "duration": 284,
    "start_time": "2022-11-06T18:16:45.693Z"
   },
   {
    "duration": 1363,
    "start_time": "2022-11-06T18:16:45.978Z"
   },
   {
    "duration": 0,
    "start_time": "2022-11-06T18:16:47.343Z"
   },
   {
    "duration": 0,
    "start_time": "2022-11-06T18:16:47.344Z"
   },
   {
    "duration": 0,
    "start_time": "2022-11-06T18:16:47.345Z"
   },
   {
    "duration": 0,
    "start_time": "2022-11-06T18:16:47.346Z"
   },
   {
    "duration": 0,
    "start_time": "2022-11-06T18:16:47.347Z"
   },
   {
    "duration": 0,
    "start_time": "2022-11-06T18:16:47.348Z"
   },
   {
    "duration": 0,
    "start_time": "2022-11-06T18:16:47.349Z"
   },
   {
    "duration": 0,
    "start_time": "2022-11-06T18:16:47.350Z"
   },
   {
    "duration": 0,
    "start_time": "2022-11-06T18:16:47.351Z"
   },
   {
    "duration": 0,
    "start_time": "2022-11-06T18:16:47.352Z"
   },
   {
    "duration": 0,
    "start_time": "2022-11-06T18:16:47.353Z"
   },
   {
    "duration": 0,
    "start_time": "2022-11-06T18:16:47.354Z"
   },
   {
    "duration": 0,
    "start_time": "2022-11-06T18:16:47.378Z"
   },
   {
    "duration": 0,
    "start_time": "2022-11-06T18:16:47.380Z"
   },
   {
    "duration": 0,
    "start_time": "2022-11-06T18:16:47.381Z"
   },
   {
    "duration": 0,
    "start_time": "2022-11-06T18:16:47.383Z"
   },
   {
    "duration": 0,
    "start_time": "2022-11-06T18:16:47.385Z"
   },
   {
    "duration": 0,
    "start_time": "2022-11-06T18:16:47.386Z"
   },
   {
    "duration": 0,
    "start_time": "2022-11-06T18:16:47.388Z"
   },
   {
    "duration": 0,
    "start_time": "2022-11-06T18:16:47.389Z"
   },
   {
    "duration": 0,
    "start_time": "2022-11-06T18:16:47.390Z"
   },
   {
    "duration": 0,
    "start_time": "2022-11-06T18:16:47.391Z"
   },
   {
    "duration": 0,
    "start_time": "2022-11-06T18:16:47.392Z"
   },
   {
    "duration": 0,
    "start_time": "2022-11-06T18:16:47.393Z"
   },
   {
    "duration": 0,
    "start_time": "2022-11-06T18:16:47.395Z"
   },
   {
    "duration": 226,
    "start_time": "2022-11-06T18:17:30.846Z"
   },
   {
    "duration": 249,
    "start_time": "2022-11-06T18:22:42.108Z"
   },
   {
    "duration": 130,
    "start_time": "2022-11-06T18:24:30.414Z"
   },
   {
    "duration": 1277,
    "start_time": "2022-11-06T18:24:39.456Z"
   },
   {
    "duration": 311,
    "start_time": "2022-11-06T18:24:50.882Z"
   },
   {
    "duration": 45,
    "start_time": "2022-11-06T18:46:24.685Z"
   },
   {
    "duration": 7,
    "start_time": "2022-11-06T18:46:44.700Z"
   },
   {
    "duration": 402,
    "start_time": "2022-11-06T18:47:06.841Z"
   },
   {
    "duration": 9,
    "start_time": "2022-11-06T18:47:33.656Z"
   },
   {
    "duration": 1246,
    "start_time": "2022-11-06T18:47:45.753Z"
   },
   {
    "duration": 39,
    "start_time": "2022-11-06T18:47:47.001Z"
   },
   {
    "duration": 3,
    "start_time": "2022-11-06T18:47:47.042Z"
   },
   {
    "duration": 30,
    "start_time": "2022-11-06T18:47:47.048Z"
   },
   {
    "duration": 16,
    "start_time": "2022-11-06T18:47:47.080Z"
   },
   {
    "duration": 16,
    "start_time": "2022-11-06T18:47:47.098Z"
   },
   {
    "duration": 10,
    "start_time": "2022-11-06T18:47:47.116Z"
   },
   {
    "duration": 8,
    "start_time": "2022-11-06T18:47:47.128Z"
   },
   {
    "duration": 43,
    "start_time": "2022-11-06T18:47:47.137Z"
   },
   {
    "duration": 559,
    "start_time": "2022-11-06T18:47:47.182Z"
   },
   {
    "duration": 568,
    "start_time": "2022-11-06T18:47:47.742Z"
   },
   {
    "duration": 30,
    "start_time": "2022-11-06T18:47:48.312Z"
   },
   {
    "duration": 89,
    "start_time": "2022-11-06T18:47:48.344Z"
   },
   {
    "duration": 0,
    "start_time": "2022-11-06T18:47:48.435Z"
   },
   {
    "duration": 0,
    "start_time": "2022-11-06T18:47:48.437Z"
   },
   {
    "duration": 0,
    "start_time": "2022-11-06T18:47:48.439Z"
   },
   {
    "duration": 0,
    "start_time": "2022-11-06T18:47:48.440Z"
   },
   {
    "duration": 0,
    "start_time": "2022-11-06T18:47:48.526Z"
   },
   {
    "duration": 0,
    "start_time": "2022-11-06T18:47:48.527Z"
   },
   {
    "duration": 0,
    "start_time": "2022-11-06T18:47:48.529Z"
   },
   {
    "duration": 0,
    "start_time": "2022-11-06T18:47:48.531Z"
   },
   {
    "duration": 0,
    "start_time": "2022-11-06T18:47:48.533Z"
   },
   {
    "duration": 0,
    "start_time": "2022-11-06T18:47:48.534Z"
   },
   {
    "duration": 0,
    "start_time": "2022-11-06T18:47:48.536Z"
   },
   {
    "duration": 0,
    "start_time": "2022-11-06T18:47:48.537Z"
   },
   {
    "duration": 0,
    "start_time": "2022-11-06T18:47:48.539Z"
   },
   {
    "duration": 0,
    "start_time": "2022-11-06T18:47:48.540Z"
   },
   {
    "duration": 0,
    "start_time": "2022-11-06T18:47:48.542Z"
   },
   {
    "duration": 0,
    "start_time": "2022-11-06T18:47:48.544Z"
   },
   {
    "duration": 0,
    "start_time": "2022-11-06T18:47:48.545Z"
   },
   {
    "duration": 0,
    "start_time": "2022-11-06T18:47:48.577Z"
   },
   {
    "duration": 0,
    "start_time": "2022-11-06T18:47:48.579Z"
   },
   {
    "duration": 0,
    "start_time": "2022-11-06T18:47:48.580Z"
   },
   {
    "duration": 0,
    "start_time": "2022-11-06T18:47:48.581Z"
   },
   {
    "duration": 0,
    "start_time": "2022-11-06T18:47:48.583Z"
   },
   {
    "duration": 0,
    "start_time": "2022-11-06T18:47:48.584Z"
   },
   {
    "duration": 0,
    "start_time": "2022-11-06T18:47:48.585Z"
   },
   {
    "duration": 0,
    "start_time": "2022-11-06T18:47:48.586Z"
   },
   {
    "duration": 0,
    "start_time": "2022-11-06T18:47:48.587Z"
   },
   {
    "duration": 0,
    "start_time": "2022-11-06T18:47:48.588Z"
   },
   {
    "duration": 0,
    "start_time": "2022-11-06T18:47:48.589Z"
   },
   {
    "duration": 449,
    "start_time": "2022-11-06T18:48:06.664Z"
   },
   {
    "duration": 352,
    "start_time": "2022-11-06T18:48:07.773Z"
   },
   {
    "duration": 23,
    "start_time": "2022-11-06T18:48:10.781Z"
   },
   {
    "duration": 22,
    "start_time": "2022-11-06T18:49:53.072Z"
   },
   {
    "duration": 18,
    "start_time": "2022-11-06T18:50:30.408Z"
   },
   {
    "duration": 202,
    "start_time": "2022-11-06T18:51:26.854Z"
   },
   {
    "duration": 1279,
    "start_time": "2022-11-06T18:51:38.771Z"
   },
   {
    "duration": 1232,
    "start_time": "2022-11-06T18:52:25.171Z"
   },
   {
    "duration": 5,
    "start_time": "2022-11-06T18:52:59.152Z"
   },
   {
    "duration": 1323,
    "start_time": "2022-11-06T18:54:51.632Z"
   },
   {
    "duration": 128,
    "start_time": "2022-11-06T18:55:50.810Z"
   },
   {
    "duration": 144,
    "start_time": "2022-11-06T18:56:05.751Z"
   },
   {
    "duration": 68,
    "start_time": "2022-11-06T18:58:52.197Z"
   },
   {
    "duration": 71,
    "start_time": "2022-11-06T18:59:16.360Z"
   },
   {
    "duration": 22,
    "start_time": "2022-11-06T18:59:23.892Z"
   },
   {
    "duration": 137,
    "start_time": "2022-11-06T18:59:57.123Z"
   },
   {
    "duration": 150,
    "start_time": "2022-11-06T19:00:05.849Z"
   },
   {
    "duration": 135,
    "start_time": "2022-11-06T19:00:16.055Z"
   },
   {
    "duration": 150,
    "start_time": "2022-11-06T19:00:38.228Z"
   },
   {
    "duration": 11,
    "start_time": "2022-11-06T19:04:55.800Z"
   },
   {
    "duration": 9,
    "start_time": "2022-11-06T19:05:05.565Z"
   },
   {
    "duration": 16,
    "start_time": "2022-11-06T19:05:41.681Z"
   },
   {
    "duration": 12,
    "start_time": "2022-11-06T19:05:47.281Z"
   },
   {
    "duration": 9,
    "start_time": "2022-11-06T19:06:13.265Z"
   },
   {
    "duration": 135,
    "start_time": "2022-11-06T19:06:52.896Z"
   },
   {
    "duration": 292,
    "start_time": "2022-11-06T19:07:03.586Z"
   },
   {
    "duration": 5,
    "start_time": "2022-11-06T19:08:10.359Z"
   },
   {
    "duration": 68,
    "start_time": "2022-11-06T19:08:17.425Z"
   },
   {
    "duration": 93,
    "start_time": "2022-11-06T19:08:31.162Z"
   },
   {
    "duration": 74,
    "start_time": "2022-11-06T19:09:01.673Z"
   },
   {
    "duration": 11,
    "start_time": "2022-11-06T19:10:25.101Z"
   },
   {
    "duration": 15,
    "start_time": "2022-11-06T19:10:32.617Z"
   },
   {
    "duration": 68,
    "start_time": "2022-11-06T19:11:19.223Z"
   },
   {
    "duration": 12,
    "start_time": "2022-11-06T19:11:37.989Z"
   },
   {
    "duration": 20,
    "start_time": "2022-11-06T19:11:47.779Z"
   },
   {
    "duration": 72,
    "start_time": "2022-11-06T19:11:59.581Z"
   },
   {
    "duration": 71,
    "start_time": "2022-11-06T19:12:05.932Z"
   },
   {
    "duration": 16,
    "start_time": "2022-11-06T19:12:12.759Z"
   },
   {
    "duration": 15,
    "start_time": "2022-11-06T19:12:16.129Z"
   },
   {
    "duration": 13,
    "start_time": "2022-11-06T19:12:55.400Z"
   },
   {
    "duration": 9,
    "start_time": "2022-11-06T19:13:05.299Z"
   },
   {
    "duration": 10,
    "start_time": "2022-11-06T19:15:47.255Z"
   },
   {
    "duration": 9,
    "start_time": "2022-11-06T19:15:53.053Z"
   },
   {
    "duration": 79,
    "start_time": "2022-11-06T19:16:11.264Z"
   },
   {
    "duration": 73,
    "start_time": "2022-11-06T19:16:41.395Z"
   },
   {
    "duration": 69,
    "start_time": "2022-11-06T19:16:46.830Z"
   },
   {
    "duration": 70,
    "start_time": "2022-11-06T19:17:36.941Z"
   },
   {
    "duration": 95,
    "start_time": "2022-11-06T19:17:44.177Z"
   },
   {
    "duration": 73,
    "start_time": "2022-11-06T19:17:54.342Z"
   },
   {
    "duration": 1258,
    "start_time": "2022-11-06T19:18:28.606Z"
   },
   {
    "duration": 11,
    "start_time": "2022-11-06T19:19:08.892Z"
   },
   {
    "duration": 8,
    "start_time": "2022-11-06T19:19:10.546Z"
   },
   {
    "duration": 16,
    "start_time": "2022-11-06T19:19:29.600Z"
   },
   {
    "duration": 292,
    "start_time": "2022-11-06T19:22:04.557Z"
   },
   {
    "duration": 331,
    "start_time": "2022-11-06T19:22:58.055Z"
   },
   {
    "duration": 124,
    "start_time": "2022-11-06T19:23:04.719Z"
   },
   {
    "duration": 127,
    "start_time": "2022-11-06T19:23:21.344Z"
   },
   {
    "duration": 23,
    "start_time": "2022-11-06T19:23:21.697Z"
   },
   {
    "duration": 435,
    "start_time": "2022-11-06T19:24:10.188Z"
   },
   {
    "duration": 34,
    "start_time": "2022-11-06T19:24:10.626Z"
   },
   {
    "duration": 4,
    "start_time": "2022-11-06T19:24:10.662Z"
   },
   {
    "duration": 29,
    "start_time": "2022-11-06T19:24:10.668Z"
   },
   {
    "duration": 15,
    "start_time": "2022-11-06T19:24:10.699Z"
   },
   {
    "duration": 15,
    "start_time": "2022-11-06T19:24:10.716Z"
   },
   {
    "duration": 7,
    "start_time": "2022-11-06T19:24:10.732Z"
   },
   {
    "duration": 8,
    "start_time": "2022-11-06T19:24:10.741Z"
   },
   {
    "duration": 30,
    "start_time": "2022-11-06T19:24:10.750Z"
   },
   {
    "duration": 512,
    "start_time": "2022-11-06T19:24:10.784Z"
   },
   {
    "duration": 493,
    "start_time": "2022-11-06T19:24:11.298Z"
   },
   {
    "duration": 37,
    "start_time": "2022-11-06T19:24:11.793Z"
   },
   {
    "duration": 87,
    "start_time": "2022-11-06T19:24:11.832Z"
   },
   {
    "duration": 0,
    "start_time": "2022-11-06T19:24:11.922Z"
   },
   {
    "duration": 0,
    "start_time": "2022-11-06T19:24:11.923Z"
   },
   {
    "duration": 0,
    "start_time": "2022-11-06T19:24:11.996Z"
   },
   {
    "duration": 0,
    "start_time": "2022-11-06T19:24:11.997Z"
   },
   {
    "duration": 0,
    "start_time": "2022-11-06T19:24:11.998Z"
   },
   {
    "duration": 0,
    "start_time": "2022-11-06T19:24:12.000Z"
   },
   {
    "duration": 0,
    "start_time": "2022-11-06T19:24:12.000Z"
   },
   {
    "duration": 0,
    "start_time": "2022-11-06T19:24:12.001Z"
   },
   {
    "duration": 0,
    "start_time": "2022-11-06T19:24:12.003Z"
   },
   {
    "duration": 0,
    "start_time": "2022-11-06T19:24:12.004Z"
   },
   {
    "duration": 0,
    "start_time": "2022-11-06T19:24:12.006Z"
   },
   {
    "duration": 0,
    "start_time": "2022-11-06T19:24:12.007Z"
   },
   {
    "duration": 0,
    "start_time": "2022-11-06T19:24:12.008Z"
   },
   {
    "duration": 0,
    "start_time": "2022-11-06T19:24:12.009Z"
   },
   {
    "duration": 0,
    "start_time": "2022-11-06T19:24:12.011Z"
   },
   {
    "duration": 0,
    "start_time": "2022-11-06T19:24:12.012Z"
   },
   {
    "duration": 0,
    "start_time": "2022-11-06T19:24:12.014Z"
   },
   {
    "duration": 0,
    "start_time": "2022-11-06T19:24:12.015Z"
   },
   {
    "duration": 0,
    "start_time": "2022-11-06T19:24:12.016Z"
   },
   {
    "duration": 0,
    "start_time": "2022-11-06T19:24:12.018Z"
   },
   {
    "duration": 0,
    "start_time": "2022-11-06T19:24:12.019Z"
   },
   {
    "duration": 0,
    "start_time": "2022-11-06T19:24:12.020Z"
   },
   {
    "duration": 0,
    "start_time": "2022-11-06T19:24:12.022Z"
   },
   {
    "duration": 0,
    "start_time": "2022-11-06T19:24:12.023Z"
   },
   {
    "duration": 0,
    "start_time": "2022-11-06T19:24:12.024Z"
   },
   {
    "duration": 0,
    "start_time": "2022-11-06T19:24:12.025Z"
   },
   {
    "duration": 0,
    "start_time": "2022-11-06T19:24:12.027Z"
   },
   {
    "duration": 0,
    "start_time": "2022-11-06T19:24:12.027Z"
   },
   {
    "duration": 0,
    "start_time": "2022-11-06T19:24:12.028Z"
   },
   {
    "duration": 0,
    "start_time": "2022-11-06T19:24:12.077Z"
   },
   {
    "duration": 0,
    "start_time": "2022-11-06T19:24:12.078Z"
   },
   {
    "duration": 0,
    "start_time": "2022-11-06T19:24:12.079Z"
   },
   {
    "duration": 9,
    "start_time": "2022-11-06T19:24:23.475Z"
   },
   {
    "duration": 8,
    "start_time": "2022-11-06T19:24:24.084Z"
   },
   {
    "duration": 21,
    "start_time": "2022-11-06T19:24:24.835Z"
   },
   {
    "duration": 74,
    "start_time": "2022-11-06T19:24:27.188Z"
   },
   {
    "duration": 14,
    "start_time": "2022-11-06T19:24:33.412Z"
   },
   {
    "duration": 9,
    "start_time": "2022-11-06T19:24:34.208Z"
   },
   {
    "duration": 9,
    "start_time": "2022-11-06T19:24:34.716Z"
   },
   {
    "duration": 1760,
    "start_time": "2022-11-06T19:24:35.337Z"
   },
   {
    "duration": 14,
    "start_time": "2022-11-06T19:25:41.248Z"
   },
   {
    "duration": 3,
    "start_time": "2022-11-06T19:27:53.545Z"
   },
   {
    "duration": 9,
    "start_time": "2022-11-06T19:28:08.371Z"
   },
   {
    "duration": 11,
    "start_time": "2022-11-06T19:28:26.428Z"
   },
   {
    "duration": 11,
    "start_time": "2022-11-06T19:28:53.288Z"
   },
   {
    "duration": 8,
    "start_time": "2022-11-06T19:29:08.211Z"
   },
   {
    "duration": 5,
    "start_time": "2022-11-06T19:29:17.896Z"
   },
   {
    "duration": 11,
    "start_time": "2022-11-06T19:29:18.346Z"
   },
   {
    "duration": 7,
    "start_time": "2022-11-06T19:29:18.987Z"
   },
   {
    "duration": 3,
    "start_time": "2022-11-06T19:29:23.987Z"
   },
   {
    "duration": 10,
    "start_time": "2022-11-06T19:29:24.541Z"
   },
   {
    "duration": 6,
    "start_time": "2022-11-06T19:29:32.956Z"
   },
   {
    "duration": 449,
    "start_time": "2022-11-06T19:29:59.580Z"
   },
   {
    "duration": 36,
    "start_time": "2022-11-06T19:30:00.031Z"
   },
   {
    "duration": 3,
    "start_time": "2022-11-06T19:30:00.069Z"
   },
   {
    "duration": 30,
    "start_time": "2022-11-06T19:30:00.074Z"
   },
   {
    "duration": 14,
    "start_time": "2022-11-06T19:30:00.105Z"
   },
   {
    "duration": 27,
    "start_time": "2022-11-06T19:30:00.121Z"
   },
   {
    "duration": 24,
    "start_time": "2022-11-06T19:30:00.150Z"
   },
   {
    "duration": 11,
    "start_time": "2022-11-06T19:30:00.175Z"
   },
   {
    "duration": 43,
    "start_time": "2022-11-06T19:30:00.187Z"
   },
   {
    "duration": 547,
    "start_time": "2022-11-06T19:30:00.235Z"
   },
   {
    "duration": 458,
    "start_time": "2022-11-06T19:30:00.784Z"
   },
   {
    "duration": 3,
    "start_time": "2022-11-06T19:30:01.244Z"
   },
   {
    "duration": 15,
    "start_time": "2022-11-06T19:30:01.248Z"
   },
   {
    "duration": 17,
    "start_time": "2022-11-06T19:30:01.265Z"
   },
   {
    "duration": 115,
    "start_time": "2022-11-06T19:30:01.283Z"
   },
   {
    "duration": 69,
    "start_time": "2022-11-06T19:30:01.399Z"
   },
   {
    "duration": 0,
    "start_time": "2022-11-06T19:30:01.469Z"
   },
   {
    "duration": 0,
    "start_time": "2022-11-06T19:30:01.477Z"
   },
   {
    "duration": 0,
    "start_time": "2022-11-06T19:30:01.479Z"
   },
   {
    "duration": 0,
    "start_time": "2022-11-06T19:30:01.479Z"
   },
   {
    "duration": 0,
    "start_time": "2022-11-06T19:30:01.480Z"
   },
   {
    "duration": 0,
    "start_time": "2022-11-06T19:30:01.482Z"
   },
   {
    "duration": 0,
    "start_time": "2022-11-06T19:30:01.483Z"
   },
   {
    "duration": 0,
    "start_time": "2022-11-06T19:30:01.484Z"
   },
   {
    "duration": 0,
    "start_time": "2022-11-06T19:30:01.485Z"
   },
   {
    "duration": 0,
    "start_time": "2022-11-06T19:30:01.485Z"
   },
   {
    "duration": 0,
    "start_time": "2022-11-06T19:30:01.486Z"
   },
   {
    "duration": 0,
    "start_time": "2022-11-06T19:30:01.487Z"
   },
   {
    "duration": 0,
    "start_time": "2022-11-06T19:30:01.488Z"
   },
   {
    "duration": 0,
    "start_time": "2022-11-06T19:30:01.489Z"
   },
   {
    "duration": 0,
    "start_time": "2022-11-06T19:30:01.490Z"
   },
   {
    "duration": 0,
    "start_time": "2022-11-06T19:30:01.491Z"
   },
   {
    "duration": 0,
    "start_time": "2022-11-06T19:30:01.492Z"
   },
   {
    "duration": 0,
    "start_time": "2022-11-06T19:30:01.493Z"
   },
   {
    "duration": 0,
    "start_time": "2022-11-06T19:30:01.494Z"
   },
   {
    "duration": 0,
    "start_time": "2022-11-06T19:30:01.495Z"
   },
   {
    "duration": 0,
    "start_time": "2022-11-06T19:30:01.496Z"
   },
   {
    "duration": 0,
    "start_time": "2022-11-06T19:30:01.497Z"
   },
   {
    "duration": 0,
    "start_time": "2022-11-06T19:30:01.498Z"
   },
   {
    "duration": 0,
    "start_time": "2022-11-06T19:30:01.499Z"
   },
   {
    "duration": 0,
    "start_time": "2022-11-06T19:30:01.500Z"
   },
   {
    "duration": 0,
    "start_time": "2022-11-06T19:30:01.501Z"
   },
   {
    "duration": 0,
    "start_time": "2022-11-06T19:30:01.502Z"
   },
   {
    "duration": 0,
    "start_time": "2022-11-06T19:30:01.503Z"
   },
   {
    "duration": 0,
    "start_time": "2022-11-06T19:30:01.504Z"
   },
   {
    "duration": 0,
    "start_time": "2022-11-06T19:30:01.505Z"
   },
   {
    "duration": 0,
    "start_time": "2022-11-06T19:30:01.506Z"
   },
   {
    "duration": 3,
    "start_time": "2022-11-06T19:30:06.070Z"
   },
   {
    "duration": 11,
    "start_time": "2022-11-06T19:30:06.582Z"
   },
   {
    "duration": 7,
    "start_time": "2022-11-06T19:30:07.108Z"
   },
   {
    "duration": 8,
    "start_time": "2022-11-06T19:30:24.472Z"
   },
   {
    "duration": 127,
    "start_time": "2022-11-06T19:30:46.226Z"
   },
   {
    "duration": 126,
    "start_time": "2022-11-06T19:30:58.365Z"
   },
   {
    "duration": 1678,
    "start_time": "2022-11-06T19:31:09.002Z"
   },
   {
    "duration": 1214,
    "start_time": "2022-11-06T19:31:28.848Z"
   },
   {
    "duration": 536,
    "start_time": "2022-11-06T19:31:37.262Z"
   },
   {
    "duration": 56,
    "start_time": "2022-11-06T19:31:37.800Z"
   },
   {
    "duration": 3,
    "start_time": "2022-11-06T19:31:37.858Z"
   },
   {
    "duration": 72,
    "start_time": "2022-11-06T19:31:37.863Z"
   },
   {
    "duration": 22,
    "start_time": "2022-11-06T19:31:37.937Z"
   },
   {
    "duration": 19,
    "start_time": "2022-11-06T19:31:37.961Z"
   },
   {
    "duration": 17,
    "start_time": "2022-11-06T19:31:37.982Z"
   },
   {
    "duration": 8,
    "start_time": "2022-11-06T19:31:38.001Z"
   },
   {
    "duration": 30,
    "start_time": "2022-11-06T19:31:38.011Z"
   },
   {
    "duration": 538,
    "start_time": "2022-11-06T19:31:38.045Z"
   },
   {
    "duration": 455,
    "start_time": "2022-11-06T19:31:38.585Z"
   },
   {
    "duration": 4,
    "start_time": "2022-11-06T19:31:39.042Z"
   },
   {
    "duration": 14,
    "start_time": "2022-11-06T19:31:39.047Z"
   },
   {
    "duration": 17,
    "start_time": "2022-11-06T19:31:39.063Z"
   },
   {
    "duration": 1879,
    "start_time": "2022-11-06T19:31:39.082Z"
   },
   {
    "duration": 0,
    "start_time": "2022-11-06T19:31:40.963Z"
   },
   {
    "duration": 0,
    "start_time": "2022-11-06T19:31:40.964Z"
   },
   {
    "duration": 0,
    "start_time": "2022-11-06T19:31:40.966Z"
   },
   {
    "duration": 0,
    "start_time": "2022-11-06T19:31:40.967Z"
   },
   {
    "duration": 0,
    "start_time": "2022-11-06T19:31:40.968Z"
   },
   {
    "duration": 0,
    "start_time": "2022-11-06T19:31:40.969Z"
   },
   {
    "duration": 0,
    "start_time": "2022-11-06T19:31:40.969Z"
   },
   {
    "duration": 0,
    "start_time": "2022-11-06T19:31:40.970Z"
   },
   {
    "duration": 0,
    "start_time": "2022-11-06T19:31:40.977Z"
   },
   {
    "duration": 0,
    "start_time": "2022-11-06T19:31:40.980Z"
   },
   {
    "duration": 0,
    "start_time": "2022-11-06T19:31:40.981Z"
   },
   {
    "duration": 0,
    "start_time": "2022-11-06T19:31:40.982Z"
   },
   {
    "duration": 0,
    "start_time": "2022-11-06T19:31:40.983Z"
   },
   {
    "duration": 0,
    "start_time": "2022-11-06T19:31:40.984Z"
   },
   {
    "duration": 0,
    "start_time": "2022-11-06T19:31:40.986Z"
   },
   {
    "duration": 0,
    "start_time": "2022-11-06T19:31:40.987Z"
   },
   {
    "duration": 0,
    "start_time": "2022-11-06T19:31:40.988Z"
   },
   {
    "duration": 0,
    "start_time": "2022-11-06T19:31:40.989Z"
   },
   {
    "duration": 0,
    "start_time": "2022-11-06T19:31:40.990Z"
   },
   {
    "duration": 0,
    "start_time": "2022-11-06T19:31:40.992Z"
   },
   {
    "duration": 0,
    "start_time": "2022-11-06T19:31:40.993Z"
   },
   {
    "duration": 0,
    "start_time": "2022-11-06T19:31:40.994Z"
   },
   {
    "duration": 0,
    "start_time": "2022-11-06T19:31:40.996Z"
   },
   {
    "duration": 0,
    "start_time": "2022-11-06T19:31:40.996Z"
   },
   {
    "duration": 0,
    "start_time": "2022-11-06T19:31:40.998Z"
   },
   {
    "duration": 0,
    "start_time": "2022-11-06T19:31:40.999Z"
   },
   {
    "duration": 0,
    "start_time": "2022-11-06T19:31:41.000Z"
   },
   {
    "duration": 0,
    "start_time": "2022-11-06T19:31:41.001Z"
   },
   {
    "duration": 0,
    "start_time": "2022-11-06T19:31:41.002Z"
   },
   {
    "duration": 0,
    "start_time": "2022-11-06T19:31:41.004Z"
   },
   {
    "duration": 0,
    "start_time": "2022-11-06T19:31:41.005Z"
   },
   {
    "duration": 0,
    "start_time": "2022-11-06T19:31:41.006Z"
   },
   {
    "duration": 0,
    "start_time": "2022-11-06T19:31:41.007Z"
   },
   {
    "duration": 4,
    "start_time": "2022-11-06T19:31:58.867Z"
   },
   {
    "duration": 12,
    "start_time": "2022-11-06T19:31:59.222Z"
   },
   {
    "duration": 7,
    "start_time": "2022-11-06T19:31:59.637Z"
   },
   {
    "duration": 312,
    "start_time": "2022-11-06T19:32:00.154Z"
   },
   {
    "duration": 4,
    "start_time": "2022-11-06T19:32:51.003Z"
   },
   {
    "duration": 15,
    "start_time": "2022-11-06T19:32:51.385Z"
   },
   {
    "duration": 8,
    "start_time": "2022-11-06T19:32:52.300Z"
   },
   {
    "duration": 1231,
    "start_time": "2022-11-06T19:32:53.807Z"
   },
   {
    "duration": 9,
    "start_time": "2022-11-06T19:33:58.704Z"
   },
   {
    "duration": 9,
    "start_time": "2022-11-06T19:34:03.428Z"
   },
   {
    "duration": 9,
    "start_time": "2022-11-06T19:34:09.513Z"
   },
   {
    "duration": 16,
    "start_time": "2022-11-06T19:34:15.298Z"
   },
   {
    "duration": 20,
    "start_time": "2022-11-06T19:34:17.766Z"
   },
   {
    "duration": 5,
    "start_time": "2022-11-06T19:34:18.514Z"
   },
   {
    "duration": 16,
    "start_time": "2022-11-06T19:34:18.976Z"
   },
   {
    "duration": 363,
    "start_time": "2022-11-06T19:34:20.124Z"
   },
   {
    "duration": 491,
    "start_time": "2022-11-06T19:34:21.014Z"
   },
   {
    "duration": 3,
    "start_time": "2022-11-06T19:34:22.640Z"
   },
   {
    "duration": 11,
    "start_time": "2022-11-06T19:34:22.999Z"
   },
   {
    "duration": 7,
    "start_time": "2022-11-06T19:34:23.577Z"
   },
   {
    "duration": 1327,
    "start_time": "2022-11-06T19:34:23.907Z"
   },
   {
    "duration": 0,
    "start_time": "2022-11-06T19:34:25.236Z"
   },
   {
    "duration": 12,
    "start_time": "2022-11-06T19:34:26.350Z"
   },
   {
    "duration": 124,
    "start_time": "2022-11-06T19:34:26.544Z"
   },
   {
    "duration": 13,
    "start_time": "2022-11-06T19:34:26.754Z"
   },
   {
    "duration": 11,
    "start_time": "2022-11-06T19:34:27.437Z"
   },
   {
    "duration": 136,
    "start_time": "2022-11-06T19:34:27.884Z"
   },
   {
    "duration": 135,
    "start_time": "2022-11-06T19:34:28.343Z"
   },
   {
    "duration": 213,
    "start_time": "2022-11-06T19:34:29.102Z"
   },
   {
    "duration": 440,
    "start_time": "2022-11-06T19:34:34.695Z"
   },
   {
    "duration": 35,
    "start_time": "2022-11-06T19:34:35.137Z"
   },
   {
    "duration": 3,
    "start_time": "2022-11-06T19:34:35.174Z"
   },
   {
    "duration": 30,
    "start_time": "2022-11-06T19:34:35.179Z"
   },
   {
    "duration": 14,
    "start_time": "2022-11-06T19:34:35.210Z"
   },
   {
    "duration": 14,
    "start_time": "2022-11-06T19:34:35.226Z"
   },
   {
    "duration": 10,
    "start_time": "2022-11-06T19:34:35.241Z"
   },
   {
    "duration": 34,
    "start_time": "2022-11-06T19:34:35.252Z"
   },
   {
    "duration": 9,
    "start_time": "2022-11-06T19:34:35.287Z"
   },
   {
    "duration": 17,
    "start_time": "2022-11-06T19:34:35.298Z"
   },
   {
    "duration": 515,
    "start_time": "2022-11-06T19:34:35.317Z"
   },
   {
    "duration": 488,
    "start_time": "2022-11-06T19:34:35.833Z"
   },
   {
    "duration": 4,
    "start_time": "2022-11-06T19:34:36.323Z"
   },
   {
    "duration": 14,
    "start_time": "2022-11-06T19:34:36.328Z"
   },
   {
    "duration": 7,
    "start_time": "2022-11-06T19:34:36.343Z"
   },
   {
    "duration": 1886,
    "start_time": "2022-11-06T19:34:36.351Z"
   },
   {
    "duration": 0,
    "start_time": "2022-11-06T19:34:38.240Z"
   },
   {
    "duration": 0,
    "start_time": "2022-11-06T19:34:38.241Z"
   },
   {
    "duration": 0,
    "start_time": "2022-11-06T19:34:38.242Z"
   },
   {
    "duration": 0,
    "start_time": "2022-11-06T19:34:38.243Z"
   },
   {
    "duration": 0,
    "start_time": "2022-11-06T19:34:38.244Z"
   },
   {
    "duration": 0,
    "start_time": "2022-11-06T19:34:38.245Z"
   },
   {
    "duration": 0,
    "start_time": "2022-11-06T19:34:38.246Z"
   },
   {
    "duration": 0,
    "start_time": "2022-11-06T19:34:38.247Z"
   },
   {
    "duration": 0,
    "start_time": "2022-11-06T19:34:38.247Z"
   },
   {
    "duration": 0,
    "start_time": "2022-11-06T19:34:38.248Z"
   },
   {
    "duration": 0,
    "start_time": "2022-11-06T19:34:38.249Z"
   },
   {
    "duration": 0,
    "start_time": "2022-11-06T19:34:38.250Z"
   },
   {
    "duration": 0,
    "start_time": "2022-11-06T19:34:38.251Z"
   },
   {
    "duration": 0,
    "start_time": "2022-11-06T19:34:38.252Z"
   },
   {
    "duration": 0,
    "start_time": "2022-11-06T19:34:38.277Z"
   },
   {
    "duration": 0,
    "start_time": "2022-11-06T19:34:38.279Z"
   },
   {
    "duration": 0,
    "start_time": "2022-11-06T19:34:38.280Z"
   },
   {
    "duration": 0,
    "start_time": "2022-11-06T19:34:38.280Z"
   },
   {
    "duration": 0,
    "start_time": "2022-11-06T19:34:38.282Z"
   },
   {
    "duration": 0,
    "start_time": "2022-11-06T19:34:38.283Z"
   },
   {
    "duration": 0,
    "start_time": "2022-11-06T19:34:38.284Z"
   },
   {
    "duration": 0,
    "start_time": "2022-11-06T19:34:38.285Z"
   },
   {
    "duration": 0,
    "start_time": "2022-11-06T19:34:38.286Z"
   },
   {
    "duration": 0,
    "start_time": "2022-11-06T19:34:38.287Z"
   },
   {
    "duration": 0,
    "start_time": "2022-11-06T19:34:38.288Z"
   },
   {
    "duration": 0,
    "start_time": "2022-11-06T19:34:38.289Z"
   },
   {
    "duration": 0,
    "start_time": "2022-11-06T19:34:38.289Z"
   },
   {
    "duration": 0,
    "start_time": "2022-11-06T19:34:38.290Z"
   },
   {
    "duration": 0,
    "start_time": "2022-11-06T19:34:38.291Z"
   },
   {
    "duration": 0,
    "start_time": "2022-11-06T19:34:38.292Z"
   },
   {
    "duration": 0,
    "start_time": "2022-11-06T19:34:38.294Z"
   },
   {
    "duration": 0,
    "start_time": "2022-11-06T19:34:38.295Z"
   },
   {
    "duration": 0,
    "start_time": "2022-11-06T19:34:38.295Z"
   },
   {
    "duration": 4,
    "start_time": "2022-11-06T19:34:46.624Z"
   },
   {
    "duration": 12,
    "start_time": "2022-11-06T19:34:47.072Z"
   },
   {
    "duration": 7,
    "start_time": "2022-11-06T19:34:47.464Z"
   },
   {
    "duration": 1275,
    "start_time": "2022-11-06T19:34:48.229Z"
   },
   {
    "duration": 2224,
    "start_time": "2022-11-06T19:35:28.455Z"
   },
   {
    "duration": 92,
    "start_time": "2022-11-06T19:36:26.820Z"
   },
   {
    "duration": 3,
    "start_time": "2022-11-06T19:37:38.290Z"
   },
   {
    "duration": 79,
    "start_time": "2022-11-06T19:37:38.781Z"
   },
   {
    "duration": 10,
    "start_time": "2022-11-06T19:37:51.749Z"
   },
   {
    "duration": 7,
    "start_time": "2022-11-06T19:37:54.523Z"
   },
   {
    "duration": 335,
    "start_time": "2022-11-06T19:37:55.052Z"
   },
   {
    "duration": 1143,
    "start_time": "2022-11-06T19:39:03.245Z"
   },
   {
    "duration": 4,
    "start_time": "2022-11-06T19:39:07.318Z"
   },
   {
    "duration": 15,
    "start_time": "2022-11-06T19:39:18.202Z"
   },
   {
    "duration": 15,
    "start_time": "2022-11-06T19:39:30.958Z"
   },
   {
    "duration": 69,
    "start_time": "2022-11-06T19:40:00.905Z"
   },
   {
    "duration": 401,
    "start_time": "2022-11-06T19:40:10.324Z"
   },
   {
    "duration": 32,
    "start_time": "2022-11-06T19:40:10.727Z"
   },
   {
    "duration": 2,
    "start_time": "2022-11-06T19:40:10.761Z"
   },
   {
    "duration": 28,
    "start_time": "2022-11-06T19:40:10.765Z"
   },
   {
    "duration": 13,
    "start_time": "2022-11-06T19:40:10.795Z"
   },
   {
    "duration": 15,
    "start_time": "2022-11-06T19:40:10.809Z"
   },
   {
    "duration": 8,
    "start_time": "2022-11-06T19:40:10.825Z"
   },
   {
    "duration": 17,
    "start_time": "2022-11-06T19:40:10.835Z"
   },
   {
    "duration": 5,
    "start_time": "2022-11-06T19:40:10.853Z"
   },
   {
    "duration": 16,
    "start_time": "2022-11-06T19:40:10.879Z"
   },
   {
    "duration": 505,
    "start_time": "2022-11-06T19:40:10.896Z"
   },
   {
    "duration": 484,
    "start_time": "2022-11-06T19:40:11.402Z"
   },
   {
    "duration": 3,
    "start_time": "2022-11-06T19:40:11.887Z"
   },
   {
    "duration": 15,
    "start_time": "2022-11-06T19:40:11.892Z"
   },
   {
    "duration": 6,
    "start_time": "2022-11-06T19:40:11.908Z"
   },
   {
    "duration": 764,
    "start_time": "2022-11-06T19:40:11.915Z"
   },
   {
    "duration": 87,
    "start_time": "2022-11-06T19:40:12.681Z"
   },
   {
    "duration": 0,
    "start_time": "2022-11-06T19:40:12.770Z"
   },
   {
    "duration": 0,
    "start_time": "2022-11-06T19:40:12.771Z"
   },
   {
    "duration": 0,
    "start_time": "2022-11-06T19:40:12.772Z"
   },
   {
    "duration": 0,
    "start_time": "2022-11-06T19:40:12.773Z"
   },
   {
    "duration": 0,
    "start_time": "2022-11-06T19:40:12.774Z"
   },
   {
    "duration": 0,
    "start_time": "2022-11-06T19:40:12.776Z"
   },
   {
    "duration": 0,
    "start_time": "2022-11-06T19:40:12.776Z"
   },
   {
    "duration": 1,
    "start_time": "2022-11-06T19:40:12.777Z"
   },
   {
    "duration": 0,
    "start_time": "2022-11-06T19:40:12.778Z"
   },
   {
    "duration": 0,
    "start_time": "2022-11-06T19:40:12.779Z"
   },
   {
    "duration": 0,
    "start_time": "2022-11-06T19:40:12.780Z"
   },
   {
    "duration": 0,
    "start_time": "2022-11-06T19:40:12.781Z"
   },
   {
    "duration": 0,
    "start_time": "2022-11-06T19:40:12.783Z"
   },
   {
    "duration": 0,
    "start_time": "2022-11-06T19:40:12.784Z"
   },
   {
    "duration": 0,
    "start_time": "2022-11-06T19:40:12.785Z"
   },
   {
    "duration": 0,
    "start_time": "2022-11-06T19:40:12.787Z"
   },
   {
    "duration": 0,
    "start_time": "2022-11-06T19:40:12.787Z"
   },
   {
    "duration": 0,
    "start_time": "2022-11-06T19:40:12.788Z"
   },
   {
    "duration": 0,
    "start_time": "2022-11-06T19:40:12.790Z"
   },
   {
    "duration": 0,
    "start_time": "2022-11-06T19:40:12.791Z"
   },
   {
    "duration": 0,
    "start_time": "2022-11-06T19:40:12.792Z"
   },
   {
    "duration": 0,
    "start_time": "2022-11-06T19:40:12.793Z"
   },
   {
    "duration": 0,
    "start_time": "2022-11-06T19:40:12.794Z"
   },
   {
    "duration": 0,
    "start_time": "2022-11-06T19:40:12.795Z"
   },
   {
    "duration": 0,
    "start_time": "2022-11-06T19:40:12.796Z"
   },
   {
    "duration": 0,
    "start_time": "2022-11-06T19:40:12.797Z"
   },
   {
    "duration": 0,
    "start_time": "2022-11-06T19:40:12.798Z"
   },
   {
    "duration": 0,
    "start_time": "2022-11-06T19:40:12.799Z"
   },
   {
    "duration": 0,
    "start_time": "2022-11-06T19:40:12.800Z"
   },
   {
    "duration": 1,
    "start_time": "2022-11-06T19:40:12.801Z"
   },
   {
    "duration": 0,
    "start_time": "2022-11-06T19:40:12.802Z"
   },
   {
    "duration": 0,
    "start_time": "2022-11-06T19:40:12.804Z"
   },
   {
    "duration": 0,
    "start_time": "2022-11-06T19:40:12.804Z"
   },
   {
    "duration": 98,
    "start_time": "2022-11-06T19:40:24.638Z"
   },
   {
    "duration": 19,
    "start_time": "2022-11-06T19:41:22.670Z"
   },
   {
    "duration": 465,
    "start_time": "2022-11-06T19:41:28.751Z"
   },
   {
    "duration": 35,
    "start_time": "2022-11-06T19:41:29.217Z"
   },
   {
    "duration": 3,
    "start_time": "2022-11-06T19:41:29.253Z"
   },
   {
    "duration": 42,
    "start_time": "2022-11-06T19:41:29.257Z"
   },
   {
    "duration": 14,
    "start_time": "2022-11-06T19:41:29.300Z"
   },
   {
    "duration": 14,
    "start_time": "2022-11-06T19:41:29.316Z"
   },
   {
    "duration": 8,
    "start_time": "2022-11-06T19:41:29.331Z"
   },
   {
    "duration": 20,
    "start_time": "2022-11-06T19:41:29.340Z"
   },
   {
    "duration": 22,
    "start_time": "2022-11-06T19:41:29.362Z"
   },
   {
    "duration": 23,
    "start_time": "2022-11-06T19:41:29.388Z"
   },
   {
    "duration": 508,
    "start_time": "2022-11-06T19:41:29.412Z"
   },
   {
    "duration": 484,
    "start_time": "2022-11-06T19:41:29.922Z"
   },
   {
    "duration": 3,
    "start_time": "2022-11-06T19:41:30.407Z"
   },
   {
    "duration": 86,
    "start_time": "2022-11-06T19:41:30.412Z"
   },
   {
    "duration": 18,
    "start_time": "2022-11-06T19:41:30.500Z"
   },
   {
    "duration": 792,
    "start_time": "2022-11-06T19:41:30.519Z"
   },
   {
    "duration": 107,
    "start_time": "2022-11-06T19:41:31.312Z"
   },
   {
    "duration": 0,
    "start_time": "2022-11-06T19:41:31.421Z"
   },
   {
    "duration": 0,
    "start_time": "2022-11-06T19:41:31.422Z"
   },
   {
    "duration": 0,
    "start_time": "2022-11-06T19:41:31.423Z"
   },
   {
    "duration": 0,
    "start_time": "2022-11-06T19:41:31.424Z"
   },
   {
    "duration": 0,
    "start_time": "2022-11-06T19:41:31.425Z"
   },
   {
    "duration": 0,
    "start_time": "2022-11-06T19:41:31.425Z"
   },
   {
    "duration": 0,
    "start_time": "2022-11-06T19:41:31.426Z"
   },
   {
    "duration": 0,
    "start_time": "2022-11-06T19:41:31.427Z"
   },
   {
    "duration": 0,
    "start_time": "2022-11-06T19:41:31.428Z"
   },
   {
    "duration": 0,
    "start_time": "2022-11-06T19:41:31.429Z"
   },
   {
    "duration": 0,
    "start_time": "2022-11-06T19:41:31.430Z"
   },
   {
    "duration": 0,
    "start_time": "2022-11-06T19:41:31.431Z"
   },
   {
    "duration": 0,
    "start_time": "2022-11-06T19:41:31.432Z"
   },
   {
    "duration": 0,
    "start_time": "2022-11-06T19:41:31.433Z"
   },
   {
    "duration": 0,
    "start_time": "2022-11-06T19:41:31.434Z"
   },
   {
    "duration": 0,
    "start_time": "2022-11-06T19:41:31.435Z"
   },
   {
    "duration": 0,
    "start_time": "2022-11-06T19:41:31.436Z"
   },
   {
    "duration": 0,
    "start_time": "2022-11-06T19:41:31.437Z"
   },
   {
    "duration": 0,
    "start_time": "2022-11-06T19:41:31.438Z"
   },
   {
    "duration": 0,
    "start_time": "2022-11-06T19:41:31.439Z"
   },
   {
    "duration": 0,
    "start_time": "2022-11-06T19:41:31.440Z"
   },
   {
    "duration": 0,
    "start_time": "2022-11-06T19:41:31.441Z"
   },
   {
    "duration": 0,
    "start_time": "2022-11-06T19:41:31.442Z"
   },
   {
    "duration": 0,
    "start_time": "2022-11-06T19:41:31.479Z"
   },
   {
    "duration": 0,
    "start_time": "2022-11-06T19:41:31.480Z"
   },
   {
    "duration": 0,
    "start_time": "2022-11-06T19:41:31.481Z"
   },
   {
    "duration": 0,
    "start_time": "2022-11-06T19:41:31.482Z"
   },
   {
    "duration": 0,
    "start_time": "2022-11-06T19:41:31.482Z"
   },
   {
    "duration": 0,
    "start_time": "2022-11-06T19:41:31.483Z"
   },
   {
    "duration": 0,
    "start_time": "2022-11-06T19:41:31.484Z"
   },
   {
    "duration": 0,
    "start_time": "2022-11-06T19:41:31.485Z"
   },
   {
    "duration": 0,
    "start_time": "2022-11-06T19:41:31.487Z"
   },
   {
    "duration": 0,
    "start_time": "2022-11-06T19:41:31.488Z"
   },
   {
    "duration": 13,
    "start_time": "2022-11-06T19:43:38.927Z"
   },
   {
    "duration": 10,
    "start_time": "2022-11-06T19:44:02.224Z"
   },
   {
    "duration": 171,
    "start_time": "2022-11-06T19:44:25.182Z"
   },
   {
    "duration": 12,
    "start_time": "2022-11-06T19:44:38.856Z"
   },
   {
    "duration": 227,
    "start_time": "2022-11-06T19:44:39.498Z"
   },
   {
    "duration": 13,
    "start_time": "2022-11-06T19:44:39.934Z"
   },
   {
    "duration": 8,
    "start_time": "2022-11-06T19:44:40.794Z"
   },
   {
    "duration": 127,
    "start_time": "2022-11-06T19:44:41.241Z"
   },
   {
    "duration": 162,
    "start_time": "2022-11-06T19:44:41.720Z"
   },
   {
    "duration": 140,
    "start_time": "2022-11-06T19:44:42.348Z"
   },
   {
    "duration": 443,
    "start_time": "2022-11-06T19:45:30.823Z"
   },
   {
    "duration": 48,
    "start_time": "2022-11-06T19:45:31.268Z"
   },
   {
    "duration": 4,
    "start_time": "2022-11-06T19:45:31.317Z"
   },
   {
    "duration": 43,
    "start_time": "2022-11-06T19:45:31.323Z"
   },
   {
    "duration": 18,
    "start_time": "2022-11-06T19:45:31.367Z"
   },
   {
    "duration": 22,
    "start_time": "2022-11-06T19:45:31.386Z"
   },
   {
    "duration": 16,
    "start_time": "2022-11-06T19:45:31.410Z"
   },
   {
    "duration": 21,
    "start_time": "2022-11-06T19:45:31.427Z"
   },
   {
    "duration": 6,
    "start_time": "2022-11-06T19:45:31.449Z"
   },
   {
    "duration": 21,
    "start_time": "2022-11-06T19:45:31.458Z"
   },
   {
    "duration": 531,
    "start_time": "2022-11-06T19:45:31.480Z"
   },
   {
    "duration": 492,
    "start_time": "2022-11-06T19:45:32.012Z"
   },
   {
    "duration": 3,
    "start_time": "2022-11-06T19:45:32.506Z"
   },
   {
    "duration": 29,
    "start_time": "2022-11-06T19:45:32.511Z"
   },
   {
    "duration": 7,
    "start_time": "2022-11-06T19:45:32.541Z"
   },
   {
    "duration": 789,
    "start_time": "2022-11-06T19:45:32.550Z"
   },
   {
    "duration": 97,
    "start_time": "2022-11-06T19:45:33.340Z"
   },
   {
    "duration": 0,
    "start_time": "2022-11-06T19:45:33.439Z"
   },
   {
    "duration": 0,
    "start_time": "2022-11-06T19:45:33.440Z"
   },
   {
    "duration": 0,
    "start_time": "2022-11-06T19:45:33.441Z"
   },
   {
    "duration": 0,
    "start_time": "2022-11-06T19:45:33.443Z"
   },
   {
    "duration": 0,
    "start_time": "2022-11-06T19:45:33.444Z"
   },
   {
    "duration": 0,
    "start_time": "2022-11-06T19:45:33.445Z"
   },
   {
    "duration": 0,
    "start_time": "2022-11-06T19:45:33.446Z"
   },
   {
    "duration": 0,
    "start_time": "2022-11-06T19:45:33.447Z"
   },
   {
    "duration": 0,
    "start_time": "2022-11-06T19:45:33.448Z"
   },
   {
    "duration": 0,
    "start_time": "2022-11-06T19:45:33.449Z"
   },
   {
    "duration": 0,
    "start_time": "2022-11-06T19:45:33.450Z"
   },
   {
    "duration": 0,
    "start_time": "2022-11-06T19:45:33.478Z"
   },
   {
    "duration": 0,
    "start_time": "2022-11-06T19:45:33.479Z"
   },
   {
    "duration": 0,
    "start_time": "2022-11-06T19:45:33.480Z"
   },
   {
    "duration": 0,
    "start_time": "2022-11-06T19:45:33.481Z"
   },
   {
    "duration": 0,
    "start_time": "2022-11-06T19:45:33.482Z"
   },
   {
    "duration": 0,
    "start_time": "2022-11-06T19:45:33.483Z"
   },
   {
    "duration": 0,
    "start_time": "2022-11-06T19:45:33.484Z"
   },
   {
    "duration": 0,
    "start_time": "2022-11-06T19:45:33.485Z"
   },
   {
    "duration": 0,
    "start_time": "2022-11-06T19:45:33.486Z"
   },
   {
    "duration": 0,
    "start_time": "2022-11-06T19:45:33.487Z"
   },
   {
    "duration": 0,
    "start_time": "2022-11-06T19:45:33.488Z"
   },
   {
    "duration": 0,
    "start_time": "2022-11-06T19:45:33.489Z"
   },
   {
    "duration": 0,
    "start_time": "2022-11-06T19:45:33.491Z"
   },
   {
    "duration": 0,
    "start_time": "2022-11-06T19:45:33.491Z"
   },
   {
    "duration": 0,
    "start_time": "2022-11-06T19:45:33.492Z"
   },
   {
    "duration": 0,
    "start_time": "2022-11-06T19:45:33.494Z"
   },
   {
    "duration": 0,
    "start_time": "2022-11-06T19:45:33.496Z"
   },
   {
    "duration": 0,
    "start_time": "2022-11-06T19:45:33.497Z"
   },
   {
    "duration": 0,
    "start_time": "2022-11-06T19:45:33.498Z"
   },
   {
    "duration": 0,
    "start_time": "2022-11-06T19:45:33.500Z"
   },
   {
    "duration": 0,
    "start_time": "2022-11-06T19:45:33.501Z"
   },
   {
    "duration": 0,
    "start_time": "2022-11-06T19:45:33.502Z"
   },
   {
    "duration": 12,
    "start_time": "2022-11-06T19:47:29.724Z"
   },
   {
    "duration": 16,
    "start_time": "2022-11-06T19:47:39.853Z"
   },
   {
    "duration": 220,
    "start_time": "2022-11-06T19:47:48.605Z"
   },
   {
    "duration": 5,
    "start_time": "2022-11-06T19:48:17.474Z"
   },
   {
    "duration": 14,
    "start_time": "2022-11-06T19:48:18.387Z"
   },
   {
    "duration": 122,
    "start_time": "2022-11-06T19:48:18.833Z"
   },
   {
    "duration": 13,
    "start_time": "2022-11-06T19:48:19.287Z"
   },
   {
    "duration": 9,
    "start_time": "2022-11-06T19:48:20.320Z"
   },
   {
    "duration": 127,
    "start_time": "2022-11-06T19:48:20.663Z"
   },
   {
    "duration": 128,
    "start_time": "2022-11-06T19:48:21.005Z"
   },
   {
    "duration": 131,
    "start_time": "2022-11-06T19:48:21.576Z"
   },
   {
    "duration": 185,
    "start_time": "2022-11-06T19:48:22.628Z"
   },
   {
    "duration": 23,
    "start_time": "2022-11-06T19:48:24.784Z"
   },
   {
    "duration": 169,
    "start_time": "2022-11-06T19:48:25.224Z"
   },
   {
    "duration": 9,
    "start_time": "2022-11-06T19:48:26.310Z"
   },
   {
    "duration": 6,
    "start_time": "2022-11-06T19:48:26.964Z"
   },
   {
    "duration": 134,
    "start_time": "2022-11-06T19:48:27.372Z"
   },
   {
    "duration": 6,
    "start_time": "2022-11-06T19:48:27.621Z"
   },
   {
    "duration": 130,
    "start_time": "2022-11-06T19:48:28.178Z"
   },
   {
    "duration": 5,
    "start_time": "2022-11-06T19:48:28.450Z"
   },
   {
    "duration": 671,
    "start_time": "2022-11-06T19:48:29.333Z"
   },
   {
    "duration": 4,
    "start_time": "2022-11-06T19:48:30.006Z"
   },
   {
    "duration": 311,
    "start_time": "2022-11-06T19:48:30.011Z"
   },
   {
    "duration": 1742,
    "start_time": "2022-11-06T19:48:30.801Z"
   },
   {
    "duration": 208,
    "start_time": "2022-11-06T19:48:32.545Z"
   },
   {
    "duration": 211,
    "start_time": "2022-11-06T19:48:32.755Z"
   },
   {
    "duration": 406,
    "start_time": "2022-11-06T19:48:33.424Z"
   },
   {
    "duration": 424,
    "start_time": "2022-11-06T19:48:34.707Z"
   },
   {
    "duration": 556,
    "start_time": "2022-11-06T19:48:35.544Z"
   },
   {
    "duration": 6,
    "start_time": "2022-11-06T19:48:36.653Z"
   },
   {
    "duration": 153,
    "start_time": "2022-11-06T19:48:36.864Z"
   },
   {
    "duration": 159,
    "start_time": "2022-11-06T19:48:37.124Z"
   },
   {
    "duration": 4,
    "start_time": "2022-11-06T19:48:37.330Z"
   },
   {
    "duration": 147,
    "start_time": "2022-11-06T19:48:38.059Z"
   },
   {
    "duration": 144,
    "start_time": "2022-11-06T19:48:38.289Z"
   },
   {
    "duration": 5,
    "start_time": "2022-11-06T19:48:38.504Z"
   },
   {
    "duration": 12,
    "start_time": "2022-11-06T19:49:01.545Z"
   },
   {
    "duration": 4,
    "start_time": "2022-11-06T19:49:03.856Z"
   },
   {
    "duration": 11,
    "start_time": "2022-11-06T19:49:04.424Z"
   },
   {
    "duration": 8,
    "start_time": "2022-11-06T19:49:04.848Z"
   },
   {
    "duration": 311,
    "start_time": "2022-11-06T19:49:05.450Z"
   },
   {
    "duration": 167,
    "start_time": "2022-11-06T19:49:08.294Z"
   },
   {
    "duration": 25,
    "start_time": "2022-11-06T19:49:11.405Z"
   },
   {
    "duration": 3,
    "start_time": "2022-11-06T19:49:12.303Z"
   },
   {
    "duration": 270,
    "start_time": "2022-11-06T19:49:13.184Z"
   },
   {
    "duration": 155,
    "start_time": "2022-11-06T19:49:13.630Z"
   },
   {
    "duration": 11,
    "start_time": "2022-11-06T19:49:13.974Z"
   },
   {
    "duration": 15,
    "start_time": "2022-11-06T19:49:15.828Z"
   },
   {
    "duration": 1343,
    "start_time": "2022-11-06T19:49:16.600Z"
   },
   {
    "duration": 0,
    "start_time": "2022-11-06T19:49:17.945Z"
   },
   {
    "duration": 0,
    "start_time": "2022-11-06T19:49:17.946Z"
   },
   {
    "duration": 51,
    "start_time": "2022-11-06T20:49:27.896Z"
   },
   {
    "duration": 7,
    "start_time": "2022-11-06T20:49:45.065Z"
   },
   {
    "duration": 8,
    "start_time": "2022-11-06T20:49:47.423Z"
   },
   {
    "duration": 50,
    "start_time": "2022-11-07T09:02:09.140Z"
   },
   {
    "duration": 608,
    "start_time": "2022-11-07T09:02:29.126Z"
   },
   {
    "duration": 45,
    "start_time": "2022-11-07T09:02:29.736Z"
   },
   {
    "duration": 3,
    "start_time": "2022-11-07T09:02:29.783Z"
   },
   {
    "duration": 46,
    "start_time": "2022-11-07T09:02:29.788Z"
   },
   {
    "duration": 35,
    "start_time": "2022-11-07T09:02:29.836Z"
   },
   {
    "duration": 26,
    "start_time": "2022-11-07T09:02:29.873Z"
   },
   {
    "duration": 6,
    "start_time": "2022-11-07T09:02:29.901Z"
   },
   {
    "duration": 23,
    "start_time": "2022-11-07T09:02:29.909Z"
   },
   {
    "duration": 163,
    "start_time": "2022-11-07T09:02:29.959Z"
   },
   {
    "duration": 0,
    "start_time": "2022-11-07T09:02:30.125Z"
   },
   {
    "duration": 0,
    "start_time": "2022-11-07T09:02:30.126Z"
   },
   {
    "duration": 0,
    "start_time": "2022-11-07T09:02:30.127Z"
   },
   {
    "duration": 0,
    "start_time": "2022-11-07T09:02:30.129Z"
   },
   {
    "duration": 0,
    "start_time": "2022-11-07T09:02:30.130Z"
   },
   {
    "duration": 0,
    "start_time": "2022-11-07T09:02:30.133Z"
   },
   {
    "duration": 0,
    "start_time": "2022-11-07T09:02:30.134Z"
   },
   {
    "duration": 0,
    "start_time": "2022-11-07T09:02:30.155Z"
   },
   {
    "duration": 0,
    "start_time": "2022-11-07T09:02:30.156Z"
   },
   {
    "duration": 0,
    "start_time": "2022-11-07T09:02:30.158Z"
   },
   {
    "duration": 0,
    "start_time": "2022-11-07T09:02:30.160Z"
   },
   {
    "duration": 0,
    "start_time": "2022-11-07T09:02:30.161Z"
   },
   {
    "duration": 0,
    "start_time": "2022-11-07T09:02:30.162Z"
   },
   {
    "duration": 0,
    "start_time": "2022-11-07T09:02:30.163Z"
   },
   {
    "duration": 0,
    "start_time": "2022-11-07T09:02:30.164Z"
   },
   {
    "duration": 0,
    "start_time": "2022-11-07T09:02:30.166Z"
   },
   {
    "duration": 0,
    "start_time": "2022-11-07T09:02:30.167Z"
   },
   {
    "duration": 0,
    "start_time": "2022-11-07T09:02:30.168Z"
   },
   {
    "duration": 0,
    "start_time": "2022-11-07T09:02:30.170Z"
   },
   {
    "duration": 0,
    "start_time": "2022-11-07T09:02:30.171Z"
   },
   {
    "duration": 0,
    "start_time": "2022-11-07T09:02:30.172Z"
   },
   {
    "duration": 0,
    "start_time": "2022-11-07T09:02:30.174Z"
   },
   {
    "duration": 0,
    "start_time": "2022-11-07T09:02:30.175Z"
   },
   {
    "duration": 0,
    "start_time": "2022-11-07T09:02:30.176Z"
   },
   {
    "duration": 0,
    "start_time": "2022-11-07T09:02:30.178Z"
   },
   {
    "duration": 0,
    "start_time": "2022-11-07T09:02:30.179Z"
   },
   {
    "duration": 0,
    "start_time": "2022-11-07T09:02:30.180Z"
   },
   {
    "duration": 0,
    "start_time": "2022-11-07T09:02:30.181Z"
   },
   {
    "duration": 0,
    "start_time": "2022-11-07T09:02:30.182Z"
   },
   {
    "duration": 0,
    "start_time": "2022-11-07T09:02:30.183Z"
   },
   {
    "duration": 0,
    "start_time": "2022-11-07T09:02:30.185Z"
   },
   {
    "duration": 0,
    "start_time": "2022-11-07T09:02:30.186Z"
   },
   {
    "duration": 0,
    "start_time": "2022-11-07T09:02:30.187Z"
   },
   {
    "duration": 51,
    "start_time": "2022-11-07T09:03:23.989Z"
   },
   {
    "duration": 655,
    "start_time": "2022-11-07T09:07:27.947Z"
   },
   {
    "duration": 322,
    "start_time": "2022-11-07T09:18:16.582Z"
   },
   {
    "duration": 595,
    "start_time": "2022-11-07T09:18:17.762Z"
   },
   {
    "duration": 22,
    "start_time": "2022-11-07T09:18:19.049Z"
   },
   {
    "duration": 7,
    "start_time": "2022-11-07T09:18:20.329Z"
   },
   {
    "duration": 11,
    "start_time": "2022-11-07T09:18:20.813Z"
   },
   {
    "duration": 9,
    "start_time": "2022-11-07T09:18:21.304Z"
   },
   {
    "duration": 671,
    "start_time": "2022-11-07T09:18:21.725Z"
   },
   {
    "duration": 4,
    "start_time": "2022-11-07T09:18:22.717Z"
   },
   {
    "duration": 14,
    "start_time": "2022-11-07T09:18:23.695Z"
   },
   {
    "duration": 537,
    "start_time": "2022-11-07T09:18:29.752Z"
   },
   {
    "duration": 44,
    "start_time": "2022-11-07T09:18:30.291Z"
   },
   {
    "duration": 18,
    "start_time": "2022-11-07T09:18:30.336Z"
   },
   {
    "duration": 81,
    "start_time": "2022-11-07T09:18:30.357Z"
   },
   {
    "duration": 58,
    "start_time": "2022-11-07T09:18:30.441Z"
   },
   {
    "duration": 57,
    "start_time": "2022-11-07T09:18:30.500Z"
   },
   {
    "duration": 46,
    "start_time": "2022-11-07T09:18:30.560Z"
   },
   {
    "duration": 88,
    "start_time": "2022-11-07T09:18:30.608Z"
   },
   {
    "duration": 525,
    "start_time": "2022-11-07T09:18:30.699Z"
   },
   {
    "duration": 8,
    "start_time": "2022-11-07T09:18:31.227Z"
   },
   {
    "duration": 56,
    "start_time": "2022-11-07T09:18:31.237Z"
   },
   {
    "duration": 372,
    "start_time": "2022-11-07T09:18:31.295Z"
   },
   {
    "duration": 703,
    "start_time": "2022-11-07T09:18:31.669Z"
   },
   {
    "duration": 21,
    "start_time": "2022-11-07T09:18:32.375Z"
   },
   {
    "duration": 5,
    "start_time": "2022-11-07T09:18:32.399Z"
   },
   {
    "duration": 30,
    "start_time": "2022-11-07T09:18:32.406Z"
   },
   {
    "duration": 20,
    "start_time": "2022-11-07T09:18:32.439Z"
   },
   {
    "duration": 823,
    "start_time": "2022-11-07T09:18:32.461Z"
   },
   {
    "duration": 6,
    "start_time": "2022-11-07T09:18:33.286Z"
   },
   {
    "duration": 127,
    "start_time": "2022-11-07T09:18:33.295Z"
   },
   {
    "duration": 0,
    "start_time": "2022-11-07T09:18:33.425Z"
   },
   {
    "duration": 0,
    "start_time": "2022-11-07T09:18:33.427Z"
   },
   {
    "duration": 0,
    "start_time": "2022-11-07T09:18:33.429Z"
   },
   {
    "duration": 0,
    "start_time": "2022-11-07T09:18:33.430Z"
   },
   {
    "duration": 0,
    "start_time": "2022-11-07T09:18:33.432Z"
   },
   {
    "duration": 0,
    "start_time": "2022-11-07T09:18:33.434Z"
   },
   {
    "duration": 0,
    "start_time": "2022-11-07T09:18:33.455Z"
   },
   {
    "duration": 0,
    "start_time": "2022-11-07T09:18:33.457Z"
   },
   {
    "duration": 0,
    "start_time": "2022-11-07T09:18:33.458Z"
   },
   {
    "duration": 0,
    "start_time": "2022-11-07T09:18:33.459Z"
   },
   {
    "duration": 0,
    "start_time": "2022-11-07T09:18:33.461Z"
   },
   {
    "duration": 0,
    "start_time": "2022-11-07T09:18:33.462Z"
   },
   {
    "duration": 0,
    "start_time": "2022-11-07T09:18:33.463Z"
   },
   {
    "duration": 0,
    "start_time": "2022-11-07T09:18:33.464Z"
   },
   {
    "duration": 0,
    "start_time": "2022-11-07T09:18:33.465Z"
   },
   {
    "duration": 0,
    "start_time": "2022-11-07T09:18:33.466Z"
   },
   {
    "duration": 0,
    "start_time": "2022-11-07T09:18:33.468Z"
   },
   {
    "duration": 0,
    "start_time": "2022-11-07T09:18:33.469Z"
   },
   {
    "duration": 0,
    "start_time": "2022-11-07T09:18:33.470Z"
   },
   {
    "duration": 0,
    "start_time": "2022-11-07T09:18:33.472Z"
   },
   {
    "duration": 0,
    "start_time": "2022-11-07T09:18:33.616Z"
   },
   {
    "duration": 0,
    "start_time": "2022-11-07T09:18:33.618Z"
   },
   {
    "duration": 4,
    "start_time": "2022-11-07T09:18:56.654Z"
   },
   {
    "duration": 13,
    "start_time": "2022-11-07T09:18:57.154Z"
   },
   {
    "duration": 9,
    "start_time": "2022-11-07T09:18:57.646Z"
   },
   {
    "duration": 378,
    "start_time": "2022-11-07T09:18:58.264Z"
   },
   {
    "duration": 4,
    "start_time": "2022-11-07T09:18:59.841Z"
   },
   {
    "duration": 15,
    "start_time": "2022-11-07T09:19:00.919Z"
   },
   {
    "duration": 13,
    "start_time": "2022-11-07T09:19:54.020Z"
   },
   {
    "duration": 535,
    "start_time": "2022-11-07T09:20:03.139Z"
   },
   {
    "duration": 44,
    "start_time": "2022-11-07T09:20:03.676Z"
   },
   {
    "duration": 4,
    "start_time": "2022-11-07T09:20:03.722Z"
   },
   {
    "duration": 51,
    "start_time": "2022-11-07T09:20:03.728Z"
   },
   {
    "duration": 31,
    "start_time": "2022-11-07T09:20:03.781Z"
   },
   {
    "duration": 18,
    "start_time": "2022-11-07T09:20:03.813Z"
   },
   {
    "duration": 12,
    "start_time": "2022-11-07T09:20:03.832Z"
   },
   {
    "duration": 21,
    "start_time": "2022-11-07T09:20:03.855Z"
   },
   {
    "duration": 405,
    "start_time": "2022-11-07T09:20:03.878Z"
   },
   {
    "duration": 7,
    "start_time": "2022-11-07T09:20:04.286Z"
   },
   {
    "duration": 29,
    "start_time": "2022-11-07T09:20:04.295Z"
   },
   {
    "duration": 349,
    "start_time": "2022-11-07T09:20:04.327Z"
   },
   {
    "duration": 628,
    "start_time": "2022-11-07T09:20:04.678Z"
   },
   {
    "duration": 16,
    "start_time": "2022-11-07T09:20:05.308Z"
   },
   {
    "duration": 6,
    "start_time": "2022-11-07T09:20:05.326Z"
   },
   {
    "duration": 31,
    "start_time": "2022-11-07T09:20:05.334Z"
   },
   {
    "duration": 8,
    "start_time": "2022-11-07T09:20:05.366Z"
   },
   {
    "duration": 799,
    "start_time": "2022-11-07T09:20:05.375Z"
   },
   {
    "duration": 3,
    "start_time": "2022-11-07T09:20:06.176Z"
   },
   {
    "duration": 130,
    "start_time": "2022-11-07T09:20:06.181Z"
   },
   {
    "duration": 0,
    "start_time": "2022-11-07T09:20:06.314Z"
   },
   {
    "duration": 0,
    "start_time": "2022-11-07T09:20:06.316Z"
   },
   {
    "duration": 0,
    "start_time": "2022-11-07T09:20:06.317Z"
   },
   {
    "duration": 0,
    "start_time": "2022-11-07T09:20:06.319Z"
   },
   {
    "duration": 0,
    "start_time": "2022-11-07T09:20:06.320Z"
   },
   {
    "duration": 0,
    "start_time": "2022-11-07T09:20:06.322Z"
   },
   {
    "duration": 0,
    "start_time": "2022-11-07T09:20:06.323Z"
   },
   {
    "duration": 0,
    "start_time": "2022-11-07T09:20:06.325Z"
   },
   {
    "duration": 0,
    "start_time": "2022-11-07T09:20:06.327Z"
   },
   {
    "duration": 0,
    "start_time": "2022-11-07T09:20:06.328Z"
   },
   {
    "duration": 0,
    "start_time": "2022-11-07T09:20:06.355Z"
   },
   {
    "duration": 0,
    "start_time": "2022-11-07T09:20:06.356Z"
   },
   {
    "duration": 0,
    "start_time": "2022-11-07T09:20:06.358Z"
   },
   {
    "duration": 0,
    "start_time": "2022-11-07T09:20:06.359Z"
   },
   {
    "duration": 0,
    "start_time": "2022-11-07T09:20:06.361Z"
   },
   {
    "duration": 0,
    "start_time": "2022-11-07T09:20:06.362Z"
   },
   {
    "duration": 0,
    "start_time": "2022-11-07T09:20:06.364Z"
   },
   {
    "duration": 0,
    "start_time": "2022-11-07T09:20:06.365Z"
   },
   {
    "duration": 0,
    "start_time": "2022-11-07T09:20:06.367Z"
   },
   {
    "duration": 0,
    "start_time": "2022-11-07T09:20:06.368Z"
   },
   {
    "duration": 0,
    "start_time": "2022-11-07T09:20:06.369Z"
   },
   {
    "duration": 0,
    "start_time": "2022-11-07T09:20:06.508Z"
   },
   {
    "duration": 60,
    "start_time": "2022-11-07T09:20:24.901Z"
   },
   {
    "duration": 55,
    "start_time": "2022-11-07T09:20:31.958Z"
   },
   {
    "duration": 50,
    "start_time": "2022-11-07T09:20:37.860Z"
   },
   {
    "duration": 44,
    "start_time": "2022-11-07T09:20:42.113Z"
   },
   {
    "duration": 66,
    "start_time": "2022-11-07T09:21:49.916Z"
   },
   {
    "duration": 321,
    "start_time": "2022-11-07T09:21:53.923Z"
   },
   {
    "duration": 3,
    "start_time": "2022-11-07T09:21:54.969Z"
   },
   {
    "duration": 49,
    "start_time": "2022-11-07T09:21:56.516Z"
   },
   {
    "duration": 311,
    "start_time": "2022-11-07T09:22:06.539Z"
   },
   {
    "duration": 3,
    "start_time": "2022-11-07T09:22:08.248Z"
   },
   {
    "duration": 56,
    "start_time": "2022-11-07T09:22:09.399Z"
   },
   {
    "duration": 485,
    "start_time": "2022-11-07T09:22:14.157Z"
   },
   {
    "duration": 47,
    "start_time": "2022-11-07T09:22:14.645Z"
   },
   {
    "duration": 4,
    "start_time": "2022-11-07T09:22:14.694Z"
   },
   {
    "duration": 57,
    "start_time": "2022-11-07T09:22:14.700Z"
   },
   {
    "duration": 18,
    "start_time": "2022-11-07T09:22:14.759Z"
   },
   {
    "duration": 19,
    "start_time": "2022-11-07T09:22:14.778Z"
   },
   {
    "duration": 6,
    "start_time": "2022-11-07T09:22:14.799Z"
   },
   {
    "duration": 49,
    "start_time": "2022-11-07T09:22:14.807Z"
   },
   {
    "duration": 378,
    "start_time": "2022-11-07T09:22:14.859Z"
   },
   {
    "duration": 13,
    "start_time": "2022-11-07T09:22:15.241Z"
   },
   {
    "duration": 18,
    "start_time": "2022-11-07T09:22:15.256Z"
   },
   {
    "duration": 333,
    "start_time": "2022-11-07T09:22:15.276Z"
   },
   {
    "duration": 613,
    "start_time": "2022-11-07T09:22:15.611Z"
   },
   {
    "duration": 16,
    "start_time": "2022-11-07T09:22:16.225Z"
   },
   {
    "duration": 4,
    "start_time": "2022-11-07T09:22:16.253Z"
   },
   {
    "duration": 35,
    "start_time": "2022-11-07T09:22:16.259Z"
   },
   {
    "duration": 13,
    "start_time": "2022-11-07T09:22:16.296Z"
   },
   {
    "duration": 808,
    "start_time": "2022-11-07T09:22:16.311Z"
   },
   {
    "duration": 3,
    "start_time": "2022-11-07T09:22:17.121Z"
   },
   {
    "duration": 68,
    "start_time": "2022-11-07T09:22:17.125Z"
   },
   {
    "duration": 0,
    "start_time": "2022-11-07T09:22:17.195Z"
   },
   {
    "duration": 1,
    "start_time": "2022-11-07T09:22:17.196Z"
   },
   {
    "duration": 0,
    "start_time": "2022-11-07T09:22:17.198Z"
   },
   {
    "duration": 0,
    "start_time": "2022-11-07T09:22:17.199Z"
   },
   {
    "duration": 0,
    "start_time": "2022-11-07T09:22:17.200Z"
   },
   {
    "duration": 0,
    "start_time": "2022-11-07T09:22:17.201Z"
   },
   {
    "duration": 0,
    "start_time": "2022-11-07T09:22:17.202Z"
   },
   {
    "duration": 0,
    "start_time": "2022-11-07T09:22:17.204Z"
   },
   {
    "duration": 0,
    "start_time": "2022-11-07T09:22:17.205Z"
   },
   {
    "duration": 0,
    "start_time": "2022-11-07T09:22:17.206Z"
   },
   {
    "duration": 0,
    "start_time": "2022-11-07T09:22:17.207Z"
   },
   {
    "duration": 0,
    "start_time": "2022-11-07T09:22:17.208Z"
   },
   {
    "duration": 0,
    "start_time": "2022-11-07T09:22:17.209Z"
   },
   {
    "duration": 0,
    "start_time": "2022-11-07T09:22:17.210Z"
   },
   {
    "duration": 0,
    "start_time": "2022-11-07T09:22:17.211Z"
   },
   {
    "duration": 1,
    "start_time": "2022-11-07T09:22:17.212Z"
   },
   {
    "duration": 0,
    "start_time": "2022-11-07T09:22:17.214Z"
   },
   {
    "duration": 0,
    "start_time": "2022-11-07T09:22:17.215Z"
   },
   {
    "duration": 0,
    "start_time": "2022-11-07T09:22:17.216Z"
   },
   {
    "duration": 0,
    "start_time": "2022-11-07T09:22:17.217Z"
   },
   {
    "duration": 0,
    "start_time": "2022-11-07T09:22:17.218Z"
   },
   {
    "duration": 0,
    "start_time": "2022-11-07T09:22:17.219Z"
   },
   {
    "duration": 2,
    "start_time": "2022-11-07T09:22:26.517Z"
   },
   {
    "duration": 53,
    "start_time": "2022-11-07T09:24:08.431Z"
   },
   {
    "duration": 109,
    "start_time": "2022-11-07T09:24:14.645Z"
   },
   {
    "duration": 106,
    "start_time": "2022-11-07T09:24:18.868Z"
   },
   {
    "duration": 165,
    "start_time": "2022-11-07T09:24:27.523Z"
   },
   {
    "duration": 4,
    "start_time": "2022-11-07T09:26:11.891Z"
   },
   {
    "duration": 5,
    "start_time": "2022-11-07T09:26:17.425Z"
   },
   {
    "duration": 11,
    "start_time": "2022-11-07T09:26:27.997Z"
   },
   {
    "duration": 7,
    "start_time": "2022-11-07T09:26:28.857Z"
   },
   {
    "duration": 154,
    "start_time": "2022-11-07T09:26:29.034Z"
   },
   {
    "duration": 7,
    "start_time": "2022-11-07T09:26:29.237Z"
   },
   {
    "duration": 239,
    "start_time": "2022-11-07T09:26:29.960Z"
   },
   {
    "duration": 5,
    "start_time": "2022-11-07T09:26:30.201Z"
   },
   {
    "duration": 736,
    "start_time": "2022-11-07T09:26:30.681Z"
   },
   {
    "duration": 4,
    "start_time": "2022-11-07T09:26:31.419Z"
   },
   {
    "duration": 307,
    "start_time": "2022-11-07T09:26:31.425Z"
   },
   {
    "duration": 1826,
    "start_time": "2022-11-07T09:26:31.821Z"
   },
   {
    "duration": 216,
    "start_time": "2022-11-07T09:26:33.649Z"
   },
   {
    "duration": 219,
    "start_time": "2022-11-07T09:26:33.867Z"
   },
   {
    "duration": 560,
    "start_time": "2022-11-07T09:26:34.807Z"
   },
   {
    "duration": 464,
    "start_time": "2022-11-07T09:26:36.118Z"
   },
   {
    "duration": 444,
    "start_time": "2022-11-07T09:26:37.159Z"
   },
   {
    "duration": 6,
    "start_time": "2022-11-07T09:26:38.611Z"
   },
   {
    "duration": 180,
    "start_time": "2022-11-07T09:26:39.126Z"
   },
   {
    "duration": 178,
    "start_time": "2022-11-07T09:26:39.341Z"
   },
   {
    "duration": 5,
    "start_time": "2022-11-07T09:26:39.540Z"
   },
   {
    "duration": 167,
    "start_time": "2022-11-07T09:26:40.486Z"
   },
   {
    "duration": 167,
    "start_time": "2022-11-07T09:26:40.705Z"
   },
   {
    "duration": 6,
    "start_time": "2022-11-07T09:26:40.906Z"
   },
   {
    "duration": 50,
    "start_time": "2022-11-07T09:26:55.637Z"
   },
   {
    "duration": 4,
    "start_time": "2022-11-07T09:27:02.847Z"
   },
   {
    "duration": 13,
    "start_time": "2022-11-07T09:27:04.314Z"
   },
   {
    "duration": 8,
    "start_time": "2022-11-07T09:27:04.894Z"
   },
   {
    "duration": 2174,
    "start_time": "2022-11-07T09:27:05.335Z"
   },
   {
    "duration": 2736,
    "start_time": "2022-11-07T09:27:07.982Z"
   },
   {
    "duration": 4,
    "start_time": "2022-11-07T09:27:14.248Z"
   },
   {
    "duration": 13,
    "start_time": "2022-11-07T09:27:14.601Z"
   },
   {
    "duration": 8,
    "start_time": "2022-11-07T09:27:14.884Z"
   },
   {
    "duration": 365,
    "start_time": "2022-11-07T09:27:15.343Z"
   },
   {
    "duration": 53,
    "start_time": "2022-11-07T09:27:17.283Z"
   },
   {
    "duration": 62,
    "start_time": "2022-11-07T09:27:21.306Z"
   },
   {
    "duration": 10,
    "start_time": "2022-11-07T09:29:06.193Z"
   },
   {
    "duration": 13,
    "start_time": "2022-11-07T09:29:32.822Z"
   },
   {
    "duration": 63,
    "start_time": "2022-11-07T09:31:03.441Z"
   },
   {
    "duration": 110,
    "start_time": "2022-11-07T09:31:07.285Z"
   },
   {
    "duration": 73,
    "start_time": "2022-11-07T09:31:09.652Z"
   },
   {
    "duration": 104,
    "start_time": "2022-11-07T09:31:12.398Z"
   },
   {
    "duration": 58,
    "start_time": "2022-11-07T09:31:14.802Z"
   },
   {
    "duration": 43,
    "start_time": "2022-11-07T09:31:22.213Z"
   },
   {
    "duration": 34,
    "start_time": "2022-11-07T09:31:55.906Z"
   },
   {
    "duration": 196,
    "start_time": "2022-11-07T09:32:08.296Z"
   },
   {
    "duration": 492,
    "start_time": "2022-11-07T09:32:22.560Z"
   },
   {
    "duration": 209,
    "start_time": "2022-11-07T09:32:25.536Z"
   },
   {
    "duration": 1295,
    "start_time": "2022-11-07T09:32:44.741Z"
   },
   {
    "duration": 369,
    "start_time": "2022-11-07T09:32:53.399Z"
   },
   {
    "duration": 490,
    "start_time": "2022-11-07T09:33:13.991Z"
   },
   {
    "duration": 41,
    "start_time": "2022-11-07T09:33:14.483Z"
   },
   {
    "duration": 3,
    "start_time": "2022-11-07T09:33:14.529Z"
   },
   {
    "duration": 44,
    "start_time": "2022-11-07T09:33:14.533Z"
   },
   {
    "duration": 30,
    "start_time": "2022-11-07T09:33:14.579Z"
   },
   {
    "duration": 21,
    "start_time": "2022-11-07T09:33:14.611Z"
   },
   {
    "duration": 7,
    "start_time": "2022-11-07T09:33:14.636Z"
   },
   {
    "duration": 22,
    "start_time": "2022-11-07T09:33:14.654Z"
   },
   {
    "duration": 420,
    "start_time": "2022-11-07T09:33:14.681Z"
   },
   {
    "duration": 7,
    "start_time": "2022-11-07T09:33:15.103Z"
   },
   {
    "duration": 26,
    "start_time": "2022-11-07T09:33:15.112Z"
   },
   {
    "duration": 330,
    "start_time": "2022-11-07T09:33:15.140Z"
   },
   {
    "duration": 606,
    "start_time": "2022-11-07T09:33:15.471Z"
   },
   {
    "duration": 15,
    "start_time": "2022-11-07T09:33:16.079Z"
   },
   {
    "duration": 4,
    "start_time": "2022-11-07T09:33:16.096Z"
   },
   {
    "duration": 18,
    "start_time": "2022-11-07T09:33:16.102Z"
   },
   {
    "duration": 7,
    "start_time": "2022-11-07T09:33:16.122Z"
   },
   {
    "duration": 844,
    "start_time": "2022-11-07T09:33:16.131Z"
   },
   {
    "duration": 200,
    "start_time": "2022-11-07T09:33:16.977Z"
   },
   {
    "duration": 104,
    "start_time": "2022-11-07T09:33:17.179Z"
   },
   {
    "duration": 23,
    "start_time": "2022-11-07T09:33:17.286Z"
   },
   {
    "duration": 183,
    "start_time": "2022-11-07T09:33:17.311Z"
   },
   {
    "duration": 7,
    "start_time": "2022-11-07T09:33:17.496Z"
   },
   {
    "duration": 160,
    "start_time": "2022-11-07T09:33:17.505Z"
   },
   {
    "duration": 6,
    "start_time": "2022-11-07T09:33:17.667Z"
   },
   {
    "duration": 750,
    "start_time": "2022-11-07T09:33:17.675Z"
   },
   {
    "duration": 4,
    "start_time": "2022-11-07T09:33:18.429Z"
   },
   {
    "duration": 289,
    "start_time": "2022-11-07T09:33:18.435Z"
   },
   {
    "duration": 1893,
    "start_time": "2022-11-07T09:33:18.726Z"
   },
   {
    "duration": 231,
    "start_time": "2022-11-07T09:33:20.621Z"
   },
   {
    "duration": 227,
    "start_time": "2022-11-07T09:33:20.854Z"
   },
   {
    "duration": 679,
    "start_time": "2022-11-07T09:33:21.083Z"
   },
   {
    "duration": 462,
    "start_time": "2022-11-07T09:33:21.765Z"
   },
   {
    "duration": 475,
    "start_time": "2022-11-07T09:33:22.229Z"
   },
   {
    "duration": 6,
    "start_time": "2022-11-07T09:33:22.706Z"
   },
   {
    "duration": 234,
    "start_time": "2022-11-07T09:33:22.714Z"
   },
   {
    "duration": 188,
    "start_time": "2022-11-07T09:33:22.949Z"
   },
   {
    "duration": 6,
    "start_time": "2022-11-07T09:33:23.138Z"
   },
   {
    "duration": 180,
    "start_time": "2022-11-07T09:33:23.154Z"
   },
   {
    "duration": 219,
    "start_time": "2022-11-07T09:33:23.335Z"
   },
   {
    "duration": 6,
    "start_time": "2022-11-07T09:33:23.556Z"
   },
   {
    "duration": 4,
    "start_time": "2022-11-07T09:34:13.417Z"
   },
   {
    "duration": 12,
    "start_time": "2022-11-07T09:34:13.885Z"
   },
   {
    "duration": 8,
    "start_time": "2022-11-07T09:34:14.316Z"
   },
   {
    "duration": 491,
    "start_time": "2022-11-07T09:34:14.872Z"
   },
   {
    "duration": 9,
    "start_time": "2022-11-07T09:34:38.270Z"
   },
   {
    "duration": 360,
    "start_time": "2022-11-07T09:34:38.869Z"
   },
   {
    "duration": 117,
    "start_time": "2022-11-07T09:34:51.348Z"
   },
   {
    "duration": 192,
    "start_time": "2022-11-07T09:34:58.337Z"
   },
   {
    "duration": 11,
    "start_time": "2022-11-07T09:36:28.204Z"
   },
   {
    "duration": 813,
    "start_time": "2022-11-07T09:36:37.728Z"
   },
   {
    "duration": 11,
    "start_time": "2022-11-07T09:36:48.161Z"
   },
   {
    "duration": 10,
    "start_time": "2022-11-07T09:37:00.467Z"
   },
   {
    "duration": 5,
    "start_time": "2022-11-07T09:37:18.303Z"
   },
   {
    "duration": 18,
    "start_time": "2022-11-07T09:37:31.385Z"
   },
   {
    "duration": 24,
    "start_time": "2022-11-07T09:37:41.659Z"
   },
   {
    "duration": 5,
    "start_time": "2022-11-07T09:37:48.173Z"
   },
   {
    "duration": 19,
    "start_time": "2022-11-07T09:37:48.767Z"
   },
   {
    "duration": 5,
    "start_time": "2022-11-07T09:38:04.564Z"
   },
   {
    "duration": 18,
    "start_time": "2022-11-07T09:38:05.239Z"
   },
   {
    "duration": 547,
    "start_time": "2022-11-07T09:38:11.154Z"
   },
   {
    "duration": 55,
    "start_time": "2022-11-07T09:38:11.703Z"
   },
   {
    "duration": 5,
    "start_time": "2022-11-07T09:38:11.760Z"
   },
   {
    "duration": 48,
    "start_time": "2022-11-07T09:38:11.770Z"
   },
   {
    "duration": 34,
    "start_time": "2022-11-07T09:38:11.820Z"
   },
   {
    "duration": 22,
    "start_time": "2022-11-07T09:38:11.857Z"
   },
   {
    "duration": 20,
    "start_time": "2022-11-07T09:38:11.881Z"
   },
   {
    "duration": 28,
    "start_time": "2022-11-07T09:38:11.903Z"
   },
   {
    "duration": 390,
    "start_time": "2022-11-07T09:38:11.933Z"
   },
   {
    "duration": 7,
    "start_time": "2022-11-07T09:38:12.326Z"
   },
   {
    "duration": 29,
    "start_time": "2022-11-07T09:38:12.334Z"
   },
   {
    "duration": 329,
    "start_time": "2022-11-07T09:38:12.365Z"
   },
   {
    "duration": 574,
    "start_time": "2022-11-07T09:38:12.696Z"
   },
   {
    "duration": 4,
    "start_time": "2022-11-07T09:38:13.272Z"
   },
   {
    "duration": 19,
    "start_time": "2022-11-07T09:38:13.277Z"
   },
   {
    "duration": 7,
    "start_time": "2022-11-07T09:38:13.298Z"
   },
   {
    "duration": 823,
    "start_time": "2022-11-07T09:38:13.307Z"
   },
   {
    "duration": 5,
    "start_time": "2022-11-07T09:38:14.132Z"
   },
   {
    "duration": 121,
    "start_time": "2022-11-07T09:38:14.138Z"
   },
   {
    "duration": 0,
    "start_time": "2022-11-07T09:38:14.262Z"
   },
   {
    "duration": 0,
    "start_time": "2022-11-07T09:38:14.263Z"
   },
   {
    "duration": 0,
    "start_time": "2022-11-07T09:38:14.264Z"
   },
   {
    "duration": 0,
    "start_time": "2022-11-07T09:38:14.265Z"
   },
   {
    "duration": 0,
    "start_time": "2022-11-07T09:38:14.267Z"
   },
   {
    "duration": 0,
    "start_time": "2022-11-07T09:38:14.268Z"
   },
   {
    "duration": 0,
    "start_time": "2022-11-07T09:38:14.269Z"
   },
   {
    "duration": 0,
    "start_time": "2022-11-07T09:38:14.270Z"
   },
   {
    "duration": 0,
    "start_time": "2022-11-07T09:38:14.271Z"
   },
   {
    "duration": 0,
    "start_time": "2022-11-07T09:38:14.273Z"
   },
   {
    "duration": 0,
    "start_time": "2022-11-07T09:38:14.274Z"
   },
   {
    "duration": 0,
    "start_time": "2022-11-07T09:38:14.275Z"
   },
   {
    "duration": 0,
    "start_time": "2022-11-07T09:38:14.276Z"
   },
   {
    "duration": 0,
    "start_time": "2022-11-07T09:38:14.277Z"
   },
   {
    "duration": 0,
    "start_time": "2022-11-07T09:38:14.278Z"
   },
   {
    "duration": 0,
    "start_time": "2022-11-07T09:38:14.279Z"
   },
   {
    "duration": 0,
    "start_time": "2022-11-07T09:38:14.280Z"
   },
   {
    "duration": 0,
    "start_time": "2022-11-07T09:38:14.281Z"
   },
   {
    "duration": 0,
    "start_time": "2022-11-07T09:38:14.282Z"
   },
   {
    "duration": 0,
    "start_time": "2022-11-07T09:38:14.425Z"
   },
   {
    "duration": 0,
    "start_time": "2022-11-07T09:38:14.426Z"
   },
   {
    "duration": 0,
    "start_time": "2022-11-07T09:38:14.426Z"
   },
   {
    "duration": 0,
    "start_time": "2022-11-07T09:38:14.427Z"
   },
   {
    "duration": 186,
    "start_time": "2022-11-07T09:38:37.575Z"
   },
   {
    "duration": 198,
    "start_time": "2022-11-07T09:38:44.925Z"
   },
   {
    "duration": 262,
    "start_time": "2022-11-07T09:38:47.412Z"
   },
   {
    "duration": 170,
    "start_time": "2022-11-07T09:38:50.236Z"
   },
   {
    "duration": 4,
    "start_time": "2022-11-07T09:39:32.415Z"
   },
   {
    "duration": 12,
    "start_time": "2022-11-07T09:39:32.821Z"
   },
   {
    "duration": 7,
    "start_time": "2022-11-07T09:39:33.281Z"
   },
   {
    "duration": 335,
    "start_time": "2022-11-07T09:39:33.730Z"
   },
   {
    "duration": 179,
    "start_time": "2022-11-07T09:39:35.863Z"
   },
   {
    "duration": 461,
    "start_time": "2022-11-07T09:39:47.185Z"
   },
   {
    "duration": 52,
    "start_time": "2022-11-07T09:39:47.648Z"
   },
   {
    "duration": 4,
    "start_time": "2022-11-07T09:39:47.701Z"
   },
   {
    "duration": 50,
    "start_time": "2022-11-07T09:39:47.708Z"
   },
   {
    "duration": 18,
    "start_time": "2022-11-07T09:39:47.760Z"
   },
   {
    "duration": 18,
    "start_time": "2022-11-07T09:39:47.780Z"
   },
   {
    "duration": 10,
    "start_time": "2022-11-07T09:39:47.799Z"
   },
   {
    "duration": 47,
    "start_time": "2022-11-07T09:39:47.811Z"
   },
   {
    "duration": 386,
    "start_time": "2022-11-07T09:39:47.860Z"
   },
   {
    "duration": 8,
    "start_time": "2022-11-07T09:39:48.249Z"
   },
   {
    "duration": 21,
    "start_time": "2022-11-07T09:39:48.259Z"
   },
   {
    "duration": 341,
    "start_time": "2022-11-07T09:39:48.282Z"
   },
   {
    "duration": 606,
    "start_time": "2022-11-07T09:39:48.624Z"
   },
   {
    "duration": 5,
    "start_time": "2022-11-07T09:39:49.232Z"
   },
   {
    "duration": 25,
    "start_time": "2022-11-07T09:39:49.239Z"
   },
   {
    "duration": 15,
    "start_time": "2022-11-07T09:39:49.266Z"
   },
   {
    "duration": 798,
    "start_time": "2022-11-07T09:39:49.283Z"
   },
   {
    "duration": 176,
    "start_time": "2022-11-07T09:39:50.083Z"
   },
   {
    "duration": 107,
    "start_time": "2022-11-07T09:39:50.261Z"
   },
   {
    "duration": 26,
    "start_time": "2022-11-07T09:39:50.369Z"
   },
   {
    "duration": 179,
    "start_time": "2022-11-07T09:39:50.397Z"
   },
   {
    "duration": 7,
    "start_time": "2022-11-07T09:39:50.577Z"
   },
   {
    "duration": 176,
    "start_time": "2022-11-07T09:39:50.586Z"
   },
   {
    "duration": 6,
    "start_time": "2022-11-07T09:39:50.765Z"
   },
   {
    "duration": 761,
    "start_time": "2022-11-07T09:39:50.773Z"
   },
   {
    "duration": 4,
    "start_time": "2022-11-07T09:39:51.536Z"
   },
   {
    "duration": 295,
    "start_time": "2022-11-07T09:39:51.543Z"
   },
   {
    "duration": 1887,
    "start_time": "2022-11-07T09:39:51.854Z"
   },
   {
    "duration": 213,
    "start_time": "2022-11-07T09:39:53.743Z"
   },
   {
    "duration": 227,
    "start_time": "2022-11-07T09:39:53.958Z"
   },
   {
    "duration": 589,
    "start_time": "2022-11-07T09:39:54.186Z"
   },
   {
    "duration": 447,
    "start_time": "2022-11-07T09:39:54.777Z"
   },
   {
    "duration": 482,
    "start_time": "2022-11-07T09:39:55.226Z"
   },
   {
    "duration": 5,
    "start_time": "2022-11-07T09:39:55.710Z"
   },
   {
    "duration": 193,
    "start_time": "2022-11-07T09:39:55.717Z"
   },
   {
    "duration": 184,
    "start_time": "2022-11-07T09:39:55.912Z"
   },
   {
    "duration": 5,
    "start_time": "2022-11-07T09:39:56.098Z"
   },
   {
    "duration": 176,
    "start_time": "2022-11-07T09:39:56.104Z"
   },
   {
    "duration": 167,
    "start_time": "2022-11-07T09:39:56.282Z"
   },
   {
    "duration": 8,
    "start_time": "2022-11-07T09:39:56.450Z"
   },
   {
    "duration": 17,
    "start_time": "2022-11-07T09:43:28.178Z"
   },
   {
    "duration": 257,
    "start_time": "2022-11-07T09:44:01.494Z"
   },
   {
    "duration": 6,
    "start_time": "2022-11-07T09:44:11.487Z"
   },
   {
    "duration": 1102,
    "start_time": "2022-11-07T09:44:25.516Z"
   },
   {
    "duration": 467,
    "start_time": "2022-11-07T09:44:36.467Z"
   },
   {
    "duration": 17,
    "start_time": "2022-11-07T09:45:05.365Z"
   },
   {
    "duration": 17,
    "start_time": "2022-11-07T09:45:15.063Z"
   },
   {
    "duration": 166,
    "start_time": "2022-11-07T09:45:41.244Z"
   },
   {
    "duration": 20,
    "start_time": "2022-11-07T09:49:04.010Z"
   },
   {
    "duration": 54,
    "start_time": "2022-11-08T08:46:53.676Z"
   },
   {
    "duration": 547,
    "start_time": "2022-11-08T08:48:00.517Z"
   },
   {
    "duration": 40,
    "start_time": "2022-11-08T08:48:01.066Z"
   },
   {
    "duration": 3,
    "start_time": "2022-11-08T08:48:01.109Z"
   },
   {
    "duration": 45,
    "start_time": "2022-11-08T08:48:01.114Z"
   },
   {
    "duration": 24,
    "start_time": "2022-11-08T08:48:01.161Z"
   },
   {
    "duration": 22,
    "start_time": "2022-11-08T08:48:01.187Z"
   },
   {
    "duration": 13,
    "start_time": "2022-11-08T08:48:01.211Z"
   },
   {
    "duration": 36,
    "start_time": "2022-11-08T08:48:01.226Z"
   },
   {
    "duration": 584,
    "start_time": "2022-11-08T08:48:01.264Z"
   },
   {
    "duration": 6,
    "start_time": "2022-11-08T08:48:01.851Z"
   },
   {
    "duration": 23,
    "start_time": "2022-11-08T08:48:01.859Z"
   },
   {
    "duration": 352,
    "start_time": "2022-11-08T08:48:01.883Z"
   },
   {
    "duration": 633,
    "start_time": "2022-11-08T08:48:02.237Z"
   },
   {
    "duration": 19,
    "start_time": "2022-11-08T08:48:02.872Z"
   },
   {
    "duration": 278,
    "start_time": "2022-11-08T08:48:02.894Z"
   },
   {
    "duration": 0,
    "start_time": "2022-11-08T08:48:03.174Z"
   },
   {
    "duration": 0,
    "start_time": "2022-11-08T08:48:03.175Z"
   },
   {
    "duration": 0,
    "start_time": "2022-11-08T08:48:03.177Z"
   },
   {
    "duration": 0,
    "start_time": "2022-11-08T08:48:03.178Z"
   },
   {
    "duration": 0,
    "start_time": "2022-11-08T08:48:03.179Z"
   },
   {
    "duration": 0,
    "start_time": "2022-11-08T08:48:03.180Z"
   },
   {
    "duration": 0,
    "start_time": "2022-11-08T08:48:03.181Z"
   },
   {
    "duration": 0,
    "start_time": "2022-11-08T08:48:03.183Z"
   },
   {
    "duration": 0,
    "start_time": "2022-11-08T08:48:03.184Z"
   },
   {
    "duration": 0,
    "start_time": "2022-11-08T08:48:03.186Z"
   },
   {
    "duration": 0,
    "start_time": "2022-11-08T08:48:03.187Z"
   },
   {
    "duration": 0,
    "start_time": "2022-11-08T08:48:03.213Z"
   },
   {
    "duration": 0,
    "start_time": "2022-11-08T08:48:03.214Z"
   },
   {
    "duration": 0,
    "start_time": "2022-11-08T08:48:03.215Z"
   },
   {
    "duration": 0,
    "start_time": "2022-11-08T08:48:03.216Z"
   },
   {
    "duration": 0,
    "start_time": "2022-11-08T08:48:03.217Z"
   },
   {
    "duration": 0,
    "start_time": "2022-11-08T08:48:03.218Z"
   },
   {
    "duration": 0,
    "start_time": "2022-11-08T08:48:03.219Z"
   },
   {
    "duration": 0,
    "start_time": "2022-11-08T08:48:03.220Z"
   },
   {
    "duration": 0,
    "start_time": "2022-11-08T08:48:03.221Z"
   },
   {
    "duration": 0,
    "start_time": "2022-11-08T08:48:03.222Z"
   },
   {
    "duration": 0,
    "start_time": "2022-11-08T08:48:03.225Z"
   },
   {
    "duration": 0,
    "start_time": "2022-11-08T08:48:03.226Z"
   },
   {
    "duration": 0,
    "start_time": "2022-11-08T08:48:03.228Z"
   },
   {
    "duration": 0,
    "start_time": "2022-11-08T08:48:03.229Z"
   },
   {
    "duration": 0,
    "start_time": "2022-11-08T08:48:03.230Z"
   },
   {
    "duration": 0,
    "start_time": "2022-11-08T08:48:03.231Z"
   },
   {
    "duration": 0,
    "start_time": "2022-11-08T08:48:03.232Z"
   },
   {
    "duration": 5,
    "start_time": "2022-11-08T08:48:17.452Z"
   },
   {
    "duration": 167,
    "start_time": "2022-11-08T08:48:18.057Z"
   },
   {
    "duration": 17,
    "start_time": "2022-11-08T08:48:21.673Z"
   },
   {
    "duration": 8,
    "start_time": "2022-11-08T08:48:23.687Z"
   },
   {
    "duration": 21,
    "start_time": "2022-11-08T08:48:24.313Z"
   },
   {
    "duration": 715,
    "start_time": "2022-11-08T08:49:15.447Z"
   },
   {
    "duration": 4,
    "start_time": "2022-11-08T08:49:16.249Z"
   },
   {
    "duration": 467,
    "start_time": "2022-11-08T08:49:16.861Z"
   },
   {
    "duration": 16,
    "start_time": "2022-11-08T08:49:18.225Z"
   },
   {
    "duration": 177,
    "start_time": "2022-11-08T08:49:20.017Z"
   },
   {
    "duration": 21,
    "start_time": "2022-11-08T08:49:21.694Z"
   },
   {
    "duration": 14,
    "start_time": "2022-11-08T08:49:25.264Z"
   },
   {
    "duration": 6,
    "start_time": "2022-11-08T08:49:26.146Z"
   },
   {
    "duration": 178,
    "start_time": "2022-11-08T08:49:26.538Z"
   },
   {
    "duration": 14,
    "start_time": "2022-11-08T08:49:26.959Z"
   },
   {
    "duration": 180,
    "start_time": "2022-11-08T08:49:27.983Z"
   },
   {
    "duration": 6,
    "start_time": "2022-11-08T08:49:28.295Z"
   },
   {
    "duration": 864,
    "start_time": "2022-11-08T08:49:29.382Z"
   },
   {
    "duration": 3,
    "start_time": "2022-11-08T08:49:30.248Z"
   },
   {
    "duration": 319,
    "start_time": "2022-11-08T08:49:30.253Z"
   },
   {
    "duration": 2249,
    "start_time": "2022-11-08T08:49:31.849Z"
   },
   {
    "duration": 241,
    "start_time": "2022-11-08T08:49:34.100Z"
   },
   {
    "duration": 279,
    "start_time": "2022-11-08T08:49:34.344Z"
   },
   {
    "duration": 272,
    "start_time": "2022-11-08T08:49:34.626Z"
   },
   {
    "duration": 44,
    "start_time": "2022-11-08T08:50:34.849Z"
   },
   {
    "duration": 19,
    "start_time": "2022-11-08T08:50:43.126Z"
   },
   {
    "duration": 238,
    "start_time": "2022-11-08T08:50:53.423Z"
   },
   {
    "duration": 587,
    "start_time": "2022-11-08T08:52:20.920Z"
   },
   {
    "duration": 587,
    "start_time": "2022-11-08T08:52:22.760Z"
   },
   {
    "duration": 685,
    "start_time": "2022-11-08T08:52:24.722Z"
   },
   {
    "duration": 6,
    "start_time": "2022-11-08T08:53:30.047Z"
   },
   {
    "duration": 212,
    "start_time": "2022-11-08T08:53:31.190Z"
   },
   {
    "duration": 208,
    "start_time": "2022-11-08T08:53:32.145Z"
   },
   {
    "duration": 6,
    "start_time": "2022-11-08T08:53:32.612Z"
   },
   {
    "duration": 220,
    "start_time": "2022-11-08T08:53:42.675Z"
   },
   {
    "duration": 197,
    "start_time": "2022-11-08T08:53:43.324Z"
   },
   {
    "duration": 5,
    "start_time": "2022-11-08T08:53:43.862Z"
   },
   {
    "duration": 12,
    "start_time": "2022-11-08T08:58:12.816Z"
   },
   {
    "duration": 5,
    "start_time": "2022-11-08T08:58:22.034Z"
   },
   {
    "duration": 5,
    "start_time": "2022-11-08T08:58:44.014Z"
   },
   {
    "duration": 5,
    "start_time": "2022-11-08T08:59:21.547Z"
   },
   {
    "duration": 12,
    "start_time": "2022-11-08T08:59:23.878Z"
   },
   {
    "duration": 7,
    "start_time": "2022-11-08T08:59:24.401Z"
   },
   {
    "duration": 490,
    "start_time": "2022-11-08T09:00:22.930Z"
   },
   {
    "duration": 40,
    "start_time": "2022-11-08T09:00:23.422Z"
   },
   {
    "duration": 3,
    "start_time": "2022-11-08T09:00:23.464Z"
   },
   {
    "duration": 45,
    "start_time": "2022-11-08T09:00:23.469Z"
   },
   {
    "duration": 18,
    "start_time": "2022-11-08T09:00:23.516Z"
   },
   {
    "duration": 18,
    "start_time": "2022-11-08T09:00:23.536Z"
   },
   {
    "duration": 13,
    "start_time": "2022-11-08T09:00:23.556Z"
   },
   {
    "duration": 22,
    "start_time": "2022-11-08T09:00:23.571Z"
   },
   {
    "duration": 413,
    "start_time": "2022-11-08T09:00:23.613Z"
   },
   {
    "duration": 5,
    "start_time": "2022-11-08T09:00:24.029Z"
   },
   {
    "duration": 25,
    "start_time": "2022-11-08T09:00:24.036Z"
   },
   {
    "duration": 368,
    "start_time": "2022-11-08T09:00:24.062Z"
   },
   {
    "duration": 618,
    "start_time": "2022-11-08T09:00:24.432Z"
   },
   {
    "duration": 16,
    "start_time": "2022-11-08T09:00:25.052Z"
   },
   {
    "duration": 688,
    "start_time": "2022-11-08T09:00:25.070Z"
   },
   {
    "duration": 5,
    "start_time": "2022-11-08T09:00:25.760Z"
   },
   {
    "duration": 576,
    "start_time": "2022-11-08T09:00:25.767Z"
   },
   {
    "duration": 18,
    "start_time": "2022-11-08T09:00:26.345Z"
   },
   {
    "duration": 198,
    "start_time": "2022-11-08T09:00:26.365Z"
   },
   {
    "duration": 21,
    "start_time": "2022-11-08T09:00:26.565Z"
   },
   {
    "duration": 25,
    "start_time": "2022-11-08T09:00:26.588Z"
   },
   {
    "duration": 16,
    "start_time": "2022-11-08T09:00:26.615Z"
   },
   {
    "duration": 206,
    "start_time": "2022-11-08T09:00:26.632Z"
   },
   {
    "duration": 6,
    "start_time": "2022-11-08T09:00:26.840Z"
   },
   {
    "duration": 205,
    "start_time": "2022-11-08T09:00:26.848Z"
   },
   {
    "duration": 5,
    "start_time": "2022-11-08T09:00:27.055Z"
   },
   {
    "duration": 852,
    "start_time": "2022-11-08T09:00:27.062Z"
   },
   {
    "duration": 4,
    "start_time": "2022-11-08T09:00:27.917Z"
   },
   {
    "duration": 261,
    "start_time": "2022-11-08T09:00:27.923Z"
   },
   {
    "duration": 2346,
    "start_time": "2022-11-08T09:00:28.185Z"
   },
   {
    "duration": 352,
    "start_time": "2022-11-08T09:00:30.533Z"
   },
   {
    "duration": 245,
    "start_time": "2022-11-08T09:00:30.887Z"
   },
   {
    "duration": 607,
    "start_time": "2022-11-08T09:00:31.134Z"
   },
   {
    "duration": 616,
    "start_time": "2022-11-08T09:00:31.743Z"
   },
   {
    "duration": 670,
    "start_time": "2022-11-08T09:00:32.360Z"
   },
   {
    "duration": 12,
    "start_time": "2022-11-08T09:00:33.032Z"
   },
   {
    "duration": 27,
    "start_time": "2022-11-08T09:00:33.046Z"
   },
   {
    "duration": 30,
    "start_time": "2022-11-08T09:00:33.075Z"
   },
   {
    "duration": 234,
    "start_time": "2022-11-08T09:00:33.107Z"
   },
   {
    "duration": 223,
    "start_time": "2022-11-08T09:00:33.343Z"
   },
   {
    "duration": 5,
    "start_time": "2022-11-08T09:00:33.567Z"
   },
   {
    "duration": 244,
    "start_time": "2022-11-08T09:00:33.574Z"
   },
   {
    "duration": 326,
    "start_time": "2022-11-08T09:00:33.820Z"
   },
   {
    "duration": 5,
    "start_time": "2022-11-08T09:00:34.148Z"
   },
   {
    "duration": 5,
    "start_time": "2022-11-08T09:00:54.486Z"
   },
   {
    "duration": 11,
    "start_time": "2022-11-08T09:00:56.432Z"
   },
   {
    "duration": 5,
    "start_time": "2022-11-08T09:00:57.375Z"
   },
   {
    "duration": 209,
    "start_time": "2022-11-08T09:03:26.458Z"
   },
   {
    "duration": 210,
    "start_time": "2022-11-08T09:03:31.257Z"
   },
   {
    "duration": 213,
    "start_time": "2022-11-08T09:03:43.347Z"
   },
   {
    "duration": 6,
    "start_time": "2022-11-08T09:03:48.379Z"
   },
   {
    "duration": 204,
    "start_time": "2022-11-08T09:03:58.031Z"
   },
   {
    "duration": 5,
    "start_time": "2022-11-08T09:04:01.211Z"
   },
   {
    "duration": 500,
    "start_time": "2022-11-08T09:06:11.511Z"
   },
   {
    "duration": 42,
    "start_time": "2022-11-08T09:06:12.013Z"
   },
   {
    "duration": 3,
    "start_time": "2022-11-08T09:06:12.057Z"
   },
   {
    "duration": 34,
    "start_time": "2022-11-08T09:06:12.062Z"
   },
   {
    "duration": 30,
    "start_time": "2022-11-08T09:06:12.098Z"
   },
   {
    "duration": 17,
    "start_time": "2022-11-08T09:06:12.130Z"
   },
   {
    "duration": 10,
    "start_time": "2022-11-08T09:06:12.149Z"
   },
   {
    "duration": 23,
    "start_time": "2022-11-08T09:06:12.161Z"
   },
   {
    "duration": 429,
    "start_time": "2022-11-08T09:06:12.186Z"
   },
   {
    "duration": 5,
    "start_time": "2022-11-08T09:06:12.617Z"
   },
   {
    "duration": 21,
    "start_time": "2022-11-08T09:06:12.624Z"
   },
   {
    "duration": 368,
    "start_time": "2022-11-08T09:06:12.648Z"
   },
   {
    "duration": 692,
    "start_time": "2022-11-08T09:06:13.018Z"
   },
   {
    "duration": 22,
    "start_time": "2022-11-08T09:06:13.716Z"
   },
   {
    "duration": 921,
    "start_time": "2022-11-08T09:06:13.741Z"
   },
   {
    "duration": 5,
    "start_time": "2022-11-08T09:06:14.664Z"
   },
   {
    "duration": 586,
    "start_time": "2022-11-08T09:06:14.671Z"
   },
   {
    "duration": 20,
    "start_time": "2022-11-08T09:06:15.259Z"
   },
   {
    "duration": 203,
    "start_time": "2022-11-08T09:06:15.281Z"
   },
   {
    "duration": 33,
    "start_time": "2022-11-08T09:06:15.486Z"
   },
   {
    "duration": 10,
    "start_time": "2022-11-08T09:06:15.520Z"
   },
   {
    "duration": 15,
    "start_time": "2022-11-08T09:06:15.531Z"
   },
   {
    "duration": 191,
    "start_time": "2022-11-08T09:06:15.547Z"
   },
   {
    "duration": 5,
    "start_time": "2022-11-08T09:06:15.740Z"
   },
   {
    "duration": 197,
    "start_time": "2022-11-08T09:06:15.747Z"
   },
   {
    "duration": 6,
    "start_time": "2022-11-08T09:06:15.946Z"
   },
   {
    "duration": 817,
    "start_time": "2022-11-08T09:06:15.953Z"
   },
   {
    "duration": 4,
    "start_time": "2022-11-08T09:06:16.772Z"
   },
   {
    "duration": 297,
    "start_time": "2022-11-08T09:06:16.777Z"
   },
   {
    "duration": 2405,
    "start_time": "2022-11-08T09:06:17.076Z"
   },
   {
    "duration": 352,
    "start_time": "2022-11-08T09:06:19.483Z"
   },
   {
    "duration": 248,
    "start_time": "2022-11-08T09:06:19.836Z"
   },
   {
    "duration": 630,
    "start_time": "2022-11-08T09:06:20.086Z"
   },
   {
    "duration": 637,
    "start_time": "2022-11-08T09:06:20.718Z"
   },
   {
    "duration": 627,
    "start_time": "2022-11-08T09:06:21.357Z"
   },
   {
    "duration": 121,
    "start_time": "2022-11-08T09:06:21.986Z"
   },
   {
    "duration": 0,
    "start_time": "2022-11-08T09:06:22.109Z"
   },
   {
    "duration": 0,
    "start_time": "2022-11-08T09:06:22.113Z"
   },
   {
    "duration": 0,
    "start_time": "2022-11-08T09:06:22.114Z"
   },
   {
    "duration": 0,
    "start_time": "2022-11-08T09:06:22.115Z"
   },
   {
    "duration": 0,
    "start_time": "2022-11-08T09:06:22.116Z"
   },
   {
    "duration": 14,
    "start_time": "2022-11-08T09:06:34.285Z"
   },
   {
    "duration": 13,
    "start_time": "2022-11-08T09:06:46.126Z"
   },
   {
    "duration": 14,
    "start_time": "2022-11-08T09:06:51.628Z"
   },
   {
    "duration": 13,
    "start_time": "2022-11-08T09:06:52.046Z"
   },
   {
    "duration": 5,
    "start_time": "2022-11-08T09:06:52.570Z"
   },
   {
    "duration": 12,
    "start_time": "2022-11-08T09:06:57.145Z"
   },
   {
    "duration": 13,
    "start_time": "2022-11-08T09:06:58.178Z"
   },
   {
    "duration": 7,
    "start_time": "2022-11-08T09:06:58.841Z"
   },
   {
    "duration": 12,
    "start_time": "2022-11-08T09:07:59.256Z"
   },
   {
    "duration": 5,
    "start_time": "2022-11-08T09:08:10.616Z"
   },
   {
    "duration": 5,
    "start_time": "2022-11-08T09:08:26.650Z"
   },
   {
    "duration": 6,
    "start_time": "2022-11-08T09:10:30.957Z"
   },
   {
    "duration": 12,
    "start_time": "2022-11-08T09:10:31.884Z"
   },
   {
    "duration": 214,
    "start_time": "2022-11-08T09:10:33.632Z"
   },
   {
    "duration": 219,
    "start_time": "2022-11-08T09:10:34.834Z"
   },
   {
    "duration": 6,
    "start_time": "2022-11-08T09:10:35.421Z"
   },
   {
    "duration": 219,
    "start_time": "2022-11-08T09:10:40.920Z"
   },
   {
    "duration": 319,
    "start_time": "2022-11-08T09:10:41.564Z"
   },
   {
    "duration": 6,
    "start_time": "2022-11-08T09:10:42.196Z"
   },
   {
    "duration": 192,
    "start_time": "2022-11-08T09:11:27.476Z"
   },
   {
    "duration": 6,
    "start_time": "2022-11-08T09:11:30.922Z"
   },
   {
    "duration": 465,
    "start_time": "2022-11-08T09:11:50.658Z"
   },
   {
    "duration": 46,
    "start_time": "2022-11-08T09:11:51.125Z"
   },
   {
    "duration": 3,
    "start_time": "2022-11-08T09:11:51.173Z"
   },
   {
    "duration": 53,
    "start_time": "2022-11-08T09:11:51.178Z"
   },
   {
    "duration": 20,
    "start_time": "2022-11-08T09:11:51.233Z"
   },
   {
    "duration": 27,
    "start_time": "2022-11-08T09:11:51.254Z"
   },
   {
    "duration": 10,
    "start_time": "2022-11-08T09:11:51.283Z"
   },
   {
    "duration": 31,
    "start_time": "2022-11-08T09:11:51.295Z"
   },
   {
    "duration": 416,
    "start_time": "2022-11-08T09:11:51.328Z"
   },
   {
    "duration": 6,
    "start_time": "2022-11-08T09:11:51.746Z"
   },
   {
    "duration": 31,
    "start_time": "2022-11-08T09:11:51.754Z"
   },
   {
    "duration": 340,
    "start_time": "2022-11-08T09:11:51.787Z"
   },
   {
    "duration": 622,
    "start_time": "2022-11-08T09:11:52.129Z"
   },
   {
    "duration": 18,
    "start_time": "2022-11-08T09:11:52.753Z"
   },
   {
    "duration": 689,
    "start_time": "2022-11-08T09:11:52.773Z"
   },
   {
    "duration": 5,
    "start_time": "2022-11-08T09:11:53.464Z"
   },
   {
    "duration": 588,
    "start_time": "2022-11-08T09:11:53.471Z"
   },
   {
    "duration": 18,
    "start_time": "2022-11-08T09:11:54.061Z"
   },
   {
    "duration": 197,
    "start_time": "2022-11-08T09:11:54.080Z"
   },
   {
    "duration": 21,
    "start_time": "2022-11-08T09:11:54.278Z"
   },
   {
    "duration": 9,
    "start_time": "2022-11-08T09:11:54.314Z"
   },
   {
    "duration": 11,
    "start_time": "2022-11-08T09:11:54.326Z"
   },
   {
    "duration": 218,
    "start_time": "2022-11-08T09:11:54.339Z"
   },
   {
    "duration": 6,
    "start_time": "2022-11-08T09:11:54.559Z"
   },
   {
    "duration": 193,
    "start_time": "2022-11-08T09:11:54.567Z"
   },
   {
    "duration": 6,
    "start_time": "2022-11-08T09:11:54.762Z"
   },
   {
    "duration": 824,
    "start_time": "2022-11-08T09:11:54.770Z"
   },
   {
    "duration": 4,
    "start_time": "2022-11-08T09:11:55.598Z"
   },
   {
    "duration": 276,
    "start_time": "2022-11-08T09:11:55.604Z"
   },
   {
    "duration": 2260,
    "start_time": "2022-11-08T09:11:55.882Z"
   },
   {
    "duration": 357,
    "start_time": "2022-11-08T09:11:58.144Z"
   },
   {
    "duration": 246,
    "start_time": "2022-11-08T09:11:58.503Z"
   },
   {
    "duration": 668,
    "start_time": "2022-11-08T09:11:58.751Z"
   },
   {
    "duration": 610,
    "start_time": "2022-11-08T09:11:59.420Z"
   },
   {
    "duration": 621,
    "start_time": "2022-11-08T09:12:00.032Z"
   },
   {
    "duration": 7,
    "start_time": "2022-11-08T09:12:00.654Z"
   },
   {
    "duration": 236,
    "start_time": "2022-11-08T09:12:00.662Z"
   },
   {
    "duration": 229,
    "start_time": "2022-11-08T09:12:00.900Z"
   },
   {
    "duration": 4,
    "start_time": "2022-11-08T09:12:01.131Z"
   },
   {
    "duration": 237,
    "start_time": "2022-11-08T09:12:01.137Z"
   },
   {
    "duration": 317,
    "start_time": "2022-11-08T09:12:01.376Z"
   },
   {
    "duration": 5,
    "start_time": "2022-11-08T09:12:01.695Z"
   }
  ],
  "kernelspec": {
   "display_name": "Python 3 (ipykernel)",
   "language": "python",
   "name": "python3"
  },
  "language_info": {
   "codemirror_mode": {
    "name": "ipython",
    "version": 3
   },
   "file_extension": ".py",
   "mimetype": "text/x-python",
   "name": "python",
   "nbconvert_exporter": "python",
   "pygments_lexer": "ipython3",
   "version": "3.9.5"
  },
  "toc": {
   "base_numbering": 1,
   "nav_menu": {},
   "number_sections": true,
   "sideBar": true,
   "skip_h1_title": true,
   "title_cell": "Table of Contents",
   "title_sidebar": "Contents",
   "toc_cell": false,
   "toc_position": {},
   "toc_section_display": true,
   "toc_window_display": false
  }
 },
 "nbformat": 4,
 "nbformat_minor": 2
}
